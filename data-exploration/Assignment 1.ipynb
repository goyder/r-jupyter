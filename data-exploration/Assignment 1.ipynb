{
 "cells": [
  {
   "cell_type": "markdown",
   "metadata": {},
   "source": [
    "# Assignment 1\n",
    "Link found here: https://www.coursera.org/learn/exploratory-data-analysis/peer/ylVFo/course-project-1"
   ]
  },
  {
   "cell_type": "markdown",
   "metadata": {},
   "source": [
    "## Pulling the data"
   ]
  },
  {
   "cell_type": "code",
   "execution_count": 1,
   "metadata": {},
   "outputs": [],
   "source": [
    "download.file(\"https://d396qusza40orc.cloudfront.net/exdata%2Fdata%2Fhousehold_power_consumption.zip\", \"household_power_consumption.zip\")"
   ]
  },
  {
   "cell_type": "code",
   "execution_count": 2,
   "metadata": {},
   "outputs": [],
   "source": [
    "unzip(\"household_power_consumption.zip\")"
   ]
  },
  {
   "cell_type": "markdown",
   "metadata": {},
   "source": [
    "The following descriptions of the 9 variables in the dataset are taken from the UCI web site:\n",
    "\n",
    "* Date: Date in format dd/mm/yyyy\n",
    "* Time: time in format hh:mm:ss\n",
    "* Global_active_power: household global minute-averaged active power (in kilowatt)\n",
    "* Global_reactive_power: household global minute-averaged reactive power (in kilowatt)\n",
    "* Voltage: minute-averaged voltage (in volt)\n",
    "* Global_intensity: household global minute-averaged current intensity (in ampere)\n",
    "* Sub_metering_1: energy sub-metering No. 1 (in watt-hour of active energy). It corresponds to the kitchen, containing mainly a dishwasher, an oven and a microwave (hot plates are not electric but gas powered).\n",
    "* Sub_metering_2: energy sub-metering No. 2 (in watt-hour of active energy). It corresponds to the laundry room, containing a washing-machine, a tumble-drier, a refrigerator and a light.\n",
    "* Sub_metering_3: energy sub-metering No. 3 (in watt-hour of active energy). It corresponds to an electric water-heater and an air-conditioner."
   ]
  },
  {
   "cell_type": "code",
   "execution_count": 5,
   "metadata": {},
   "outputs": [
    {
     "data": {
      "text/html": [
       "<ol class=list-inline>\n",
       "\t<li>'Assignment 1.ipynb'</li>\n",
       "\t<li>'Graphics.ipynb'</li>\n",
       "\t<li>'household_power_consumption.txt'</li>\n",
       "\t<li>'household_power_consumption.zip'</li>\n",
       "</ol>\n"
      ],
      "text/latex": [
       "\\begin{enumerate*}\n",
       "\\item 'Assignment 1.ipynb'\n",
       "\\item 'Graphics.ipynb'\n",
       "\\item 'household\\_power\\_consumption.txt'\n",
       "\\item 'household\\_power\\_consumption.zip'\n",
       "\\end{enumerate*}\n"
      ],
      "text/markdown": [
       "1. 'Assignment 1.ipynb'\n",
       "2. 'Graphics.ipynb'\n",
       "3. 'household_power_consumption.txt'\n",
       "4. 'household_power_consumption.zip'\n",
       "\n",
       "\n"
      ],
      "text/plain": [
       "[1] \"Assignment 1.ipynb\"              \"Graphics.ipynb\"                 \n",
       "[3] \"household_power_consumption.txt\" \"household_power_consumption.zip\""
      ]
     },
     "metadata": {},
     "output_type": "display_data"
    }
   ],
   "source": [
    "list.files()"
   ]
  },
  {
   "cell_type": "markdown",
   "metadata": {},
   "source": [
    "All of the data is held in the big chunky `household_power_consumption.txt`."
   ]
  },
  {
   "cell_type": "markdown",
   "metadata": {},
   "source": [
    "## Explore the data"
   ]
  },
  {
   "cell_type": "code",
   "execution_count": 8,
   "metadata": {},
   "outputs": [],
   "source": [
    "power_consumption <- read.table(\"household_power_consumption.txt\", header = TRUE, sep=';', nrows = 10)"
   ]
  },
  {
   "cell_type": "markdown",
   "metadata": {},
   "source": [
    "Note the use of semi-colon separators. Always pays to read the docs!\n",
    "https://archive.ics.uci.edu/ml/datasets/Individual+household+electric+power+consumption"
   ]
  },
  {
   "cell_type": "code",
   "execution_count": 9,
   "metadata": {},
   "outputs": [
    {
     "data": {
      "text/html": [
       "<table>\n",
       "<thead><tr><th scope=col>Date</th><th scope=col>Time</th><th scope=col>Global_active_power</th><th scope=col>Global_reactive_power</th><th scope=col>Voltage</th><th scope=col>Global_intensity</th><th scope=col>Sub_metering_1</th><th scope=col>Sub_metering_2</th><th scope=col>Sub_metering_3</th></tr></thead>\n",
       "<tbody>\n",
       "\t<tr><td>16/12/2006</td><td>17:24:00  </td><td>4.216     </td><td>0.418     </td><td>234.84    </td><td>18.4      </td><td>0         </td><td>1         </td><td>17        </td></tr>\n",
       "\t<tr><td>16/12/2006</td><td>17:25:00  </td><td>5.360     </td><td>0.436     </td><td>233.63    </td><td>23.0      </td><td>0         </td><td>1         </td><td>16        </td></tr>\n",
       "\t<tr><td>16/12/2006</td><td>17:26:00  </td><td>5.374     </td><td>0.498     </td><td>233.29    </td><td>23.0      </td><td>0         </td><td>2         </td><td>17        </td></tr>\n",
       "\t<tr><td>16/12/2006</td><td>17:27:00  </td><td>5.388     </td><td>0.502     </td><td>233.74    </td><td>23.0      </td><td>0         </td><td>1         </td><td>17        </td></tr>\n",
       "\t<tr><td>16/12/2006</td><td>17:28:00  </td><td>3.666     </td><td>0.528     </td><td>235.68    </td><td>15.8      </td><td>0         </td><td>1         </td><td>17        </td></tr>\n",
       "\t<tr><td>16/12/2006</td><td>17:29:00  </td><td>3.520     </td><td>0.522     </td><td>235.02    </td><td>15.0      </td><td>0         </td><td>2         </td><td>17        </td></tr>\n",
       "\t<tr><td>16/12/2006</td><td>17:30:00  </td><td>3.702     </td><td>0.520     </td><td>235.09    </td><td>15.8      </td><td>0         </td><td>1         </td><td>17        </td></tr>\n",
       "\t<tr><td>16/12/2006</td><td>17:31:00  </td><td>3.700     </td><td>0.520     </td><td>235.22    </td><td>15.8      </td><td>0         </td><td>1         </td><td>17        </td></tr>\n",
       "\t<tr><td>16/12/2006</td><td>17:32:00  </td><td>3.668     </td><td>0.510     </td><td>233.99    </td><td>15.8      </td><td>0         </td><td>1         </td><td>17        </td></tr>\n",
       "\t<tr><td>16/12/2006</td><td>17:33:00  </td><td>3.662     </td><td>0.510     </td><td>233.86    </td><td>15.8      </td><td>0         </td><td>2         </td><td>16        </td></tr>\n",
       "</tbody>\n",
       "</table>\n"
      ],
      "text/latex": [
       "\\begin{tabular}{r|lllllllll}\n",
       " Date & Time & Global\\_active\\_power & Global\\_reactive\\_power & Voltage & Global\\_intensity & Sub\\_metering\\_1 & Sub\\_metering\\_2 & Sub\\_metering\\_3\\\\\n",
       "\\hline\n",
       "\t 16/12/2006 & 17:24:00   & 4.216      & 0.418      & 234.84     & 18.4       & 0          & 1          & 17        \\\\\n",
       "\t 16/12/2006 & 17:25:00   & 5.360      & 0.436      & 233.63     & 23.0       & 0          & 1          & 16        \\\\\n",
       "\t 16/12/2006 & 17:26:00   & 5.374      & 0.498      & 233.29     & 23.0       & 0          & 2          & 17        \\\\\n",
       "\t 16/12/2006 & 17:27:00   & 5.388      & 0.502      & 233.74     & 23.0       & 0          & 1          & 17        \\\\\n",
       "\t 16/12/2006 & 17:28:00   & 3.666      & 0.528      & 235.68     & 15.8       & 0          & 1          & 17        \\\\\n",
       "\t 16/12/2006 & 17:29:00   & 3.520      & 0.522      & 235.02     & 15.0       & 0          & 2          & 17        \\\\\n",
       "\t 16/12/2006 & 17:30:00   & 3.702      & 0.520      & 235.09     & 15.8       & 0          & 1          & 17        \\\\\n",
       "\t 16/12/2006 & 17:31:00   & 3.700      & 0.520      & 235.22     & 15.8       & 0          & 1          & 17        \\\\\n",
       "\t 16/12/2006 & 17:32:00   & 3.668      & 0.510      & 233.99     & 15.8       & 0          & 1          & 17        \\\\\n",
       "\t 16/12/2006 & 17:33:00   & 3.662      & 0.510      & 233.86     & 15.8       & 0          & 2          & 16        \\\\\n",
       "\\end{tabular}\n"
      ],
      "text/markdown": [
       "\n",
       "Date | Time | Global_active_power | Global_reactive_power | Voltage | Global_intensity | Sub_metering_1 | Sub_metering_2 | Sub_metering_3 | \n",
       "|---|---|---|---|---|---|---|---|---|---|\n",
       "| 16/12/2006 | 17:24:00   | 4.216      | 0.418      | 234.84     | 18.4       | 0          | 1          | 17         | \n",
       "| 16/12/2006 | 17:25:00   | 5.360      | 0.436      | 233.63     | 23.0       | 0          | 1          | 16         | \n",
       "| 16/12/2006 | 17:26:00   | 5.374      | 0.498      | 233.29     | 23.0       | 0          | 2          | 17         | \n",
       "| 16/12/2006 | 17:27:00   | 5.388      | 0.502      | 233.74     | 23.0       | 0          | 1          | 17         | \n",
       "| 16/12/2006 | 17:28:00   | 3.666      | 0.528      | 235.68     | 15.8       | 0          | 1          | 17         | \n",
       "| 16/12/2006 | 17:29:00   | 3.520      | 0.522      | 235.02     | 15.0       | 0          | 2          | 17         | \n",
       "| 16/12/2006 | 17:30:00   | 3.702      | 0.520      | 235.09     | 15.8       | 0          | 1          | 17         | \n",
       "| 16/12/2006 | 17:31:00   | 3.700      | 0.520      | 235.22     | 15.8       | 0          | 1          | 17         | \n",
       "| 16/12/2006 | 17:32:00   | 3.668      | 0.510      | 233.99     | 15.8       | 0          | 1          | 17         | \n",
       "| 16/12/2006 | 17:33:00   | 3.662      | 0.510      | 233.86     | 15.8       | 0          | 2          | 16         | \n",
       "\n",
       "\n"
      ],
      "text/plain": [
       "   Date       Time     Global_active_power Global_reactive_power Voltage\n",
       "1  16/12/2006 17:24:00 4.216               0.418                 234.84 \n",
       "2  16/12/2006 17:25:00 5.360               0.436                 233.63 \n",
       "3  16/12/2006 17:26:00 5.374               0.498                 233.29 \n",
       "4  16/12/2006 17:27:00 5.388               0.502                 233.74 \n",
       "5  16/12/2006 17:28:00 3.666               0.528                 235.68 \n",
       "6  16/12/2006 17:29:00 3.520               0.522                 235.02 \n",
       "7  16/12/2006 17:30:00 3.702               0.520                 235.09 \n",
       "8  16/12/2006 17:31:00 3.700               0.520                 235.22 \n",
       "9  16/12/2006 17:32:00 3.668               0.510                 233.99 \n",
       "10 16/12/2006 17:33:00 3.662               0.510                 233.86 \n",
       "   Global_intensity Sub_metering_1 Sub_metering_2 Sub_metering_3\n",
       "1  18.4             0              1              17            \n",
       "2  23.0             0              1              16            \n",
       "3  23.0             0              2              17            \n",
       "4  23.0             0              1              17            \n",
       "5  15.8             0              1              17            \n",
       "6  15.0             0              2              17            \n",
       "7  15.8             0              1              17            \n",
       "8  15.8             0              1              17            \n",
       "9  15.8             0              1              17            \n",
       "10 15.8             0              2              16            "
      ]
     },
     "metadata": {},
     "output_type": "display_data"
    }
   ],
   "source": [
    "power_consumption"
   ]
  },
  {
   "cell_type": "code",
   "execution_count": null,
   "metadata": {},
   "outputs": [],
   "source": []
  }
 ],
 "metadata": {
  "kernelspec": {
   "display_name": "R",
   "language": "R",
   "name": "ir"
  },
  "language_info": {
   "codemirror_mode": "r",
   "file_extension": ".r",
   "mimetype": "text/x-r-source",
   "name": "R",
   "pygments_lexer": "r",
   "version": "3.3.2"
  }
 },
 "nbformat": 4,
 "nbformat_minor": 2
}
