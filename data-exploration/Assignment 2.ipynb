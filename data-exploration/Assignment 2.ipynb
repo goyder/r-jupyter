{
 "cells": [
  {
   "cell_type": "markdown",
   "metadata": {},
   "source": [
    "# Assignment 2\n",
    "___\n",
    "\n",
    "> Fine particulate matter (PM2.5) is an ambient air pollutant for which there is strong evidence that it is harmful to human health. In the United States, the Environmental Protection Agency (EPA) is tasked with setting national ambient air quality standards for fine PM and for tracking the emissions of this pollutant into the atmosphere. Approximatly every 3 years, the EPA releases its database on emissions of PM2.5. This database is known as the National Emissions Inventory (NEI). You can read more information about the NEI at the EPA National Emissions Inventory web site.\n",
    "> \n",
    "> For each year and for each type of PM source, the NEI records how many tons of PM2.5 were emitted from that source over the course of the entire year. The data that you will use for this assignment are for 1999, 2002, 2005, and 2008.\n",
    "___\n",
    "> ## Review criteria\n",
    ">\n",
    "> For each question\n",
    ">\n",
    "> * Does the plot appear to address the question being asked?\n",
    "> * Is the submitted R code appropriate for construction of the submitted plot?\n",
    "___\n",
    "> ## Data\n",
    ">\n",
    "> The data for this assignment are available from the course web site as a single zip file:\n",
    ">\n",
    ">[Data for Peer Assessment](https://d396qusza40orc.cloudfront.net/exdata%2Fdata%2FNEI_data.zip)\n",
    ">\n",
    ">The zip file contains two files:\n",
    ">\n",
    ">PM2.5 Emissions Data (𝚜𝚞𝚖𝚖𝚊𝚛𝚢𝚂𝙲𝙲_𝙿𝙼𝟸𝟻.𝚛𝚍𝚜): This file contains a data frame with all of the PM2.5 emissions data for 1999, 2002, 2005, and 2008. For each year, the table contains number of tons of PM2.5 emitted from a specific type of source for the entire year. Here are the first few rows.\n",
    ">\n",
    "```\n",
    "##     fips      SCC Pollutant Emissions  type year\n",
    "## 4  09001 10100401  PM25-PRI    15.714 POINT 1999\n",
    "## 8  09001 10100404  PM25-PRI   234.178 POINT 1999\n",
    "## 12 09001 10100501  PM25-PRI     0.128 POINT 1999\n",
    "## 16 09001 10200401  PM25-PRI     2.036 POINT 1999\n",
    "## 20 09001 10200504  PM25-PRI     0.388 POINT 1999\n",
    "## 24 09001 10200602  PM25-PRI     1.490 POINT 1999\n",
    "\n",
    "```\n",
    ">\n",
    ">* 𝚏𝚒𝚙𝚜: A five-digit number (represented as a string) indicating the U.S. county\n",
    ">* 𝚂𝙲𝙲: The name of the source as indicated by a digit string (see source code classification table)\n",
    ">* 𝙿𝚘𝚕𝚕𝚞𝚝𝚊𝚗𝚝: A string indicating the pollutant\n",
    ">* 𝙴𝚖𝚒𝚜𝚜𝚒𝚘𝚗𝚜: Amount of PM2.5 emitted, in tons\n",
    ">* 𝚝𝚢𝚙𝚎: The type of source (point, non-point, on-road, or non-road)\n",
    ">* 𝚢𝚎𝚊𝚛: The year of emissions recorded\n",
    ">* Source Classification Code Table (𝚂𝚘𝚞𝚛𝚌𝚎_𝙲𝚕𝚊𝚜𝚜𝚒𝚏𝚒𝚌𝚊𝚝𝚒𝚘𝚗_𝙲𝚘𝚍𝚎.𝚛𝚍𝚜): This table provides a mapping from the SCC digit strings in the Emissions table to the actual name of the PM2.5 source. The sources are categorized in a few different ways from more general to more specific and you may choose to explore whatever categories you think are most useful. For example, source “10100101” is known as “Ext Comb /Electric Gen /Anthracite Coal /Pulverized Coal”.\n",
    ">\n",
    "> You can read each of the two files using the 𝚛𝚎𝚊𝚍𝚁𝙳𝚂() function in R. For example, reading in each file can be done with the following code:\n",
    "\n",
    "```\n",
    "## This first line will likely take a few seconds. Be patient!\n",
    "NEI <- readRDS(\"summarySCC_PM25.rds\")\n",
    "SCC <- readRDS(\"Source_Classification_Code.rds\")\n",
    "```\n",
    "___\n",
    "> ## Assignment\n",
    ">The overall goal of this assignment is to explore the National Emissions Inventory database and see what it say about fine particulate matter pollution in the United states over the 10-year period 1999–2008. You may use any R package you want to support your analysis.\n",
    ">\n",
    ">**Questions**\n",
    ">\n",
    ">You must address the following questions and tasks in your exploratory analysis. For each question/task you will need to make a single plot. Unless specified, you can use any plotting system in R to make your plot.\n",
    ">\n",
    ">1. Have total emissions from PM2.5 decreased in the United States from 1999 to 2008? Using the base plotting system, make a plot showing the total PM2.5 emission from all sources for each of the years 1999, 2002, 2005, and 2008.\n",
    ">2. Have total emissions from PM2.5 decreased in the Baltimore City, Maryland (𝚏𝚒𝚙𝚜 == \"𝟸𝟺𝟻𝟷𝟶\") from 1999 to 2008? Use the base plotting system to make a plot answering this question.\n",
    ">3. Of the four types of sources indicated by the 𝚝𝚢𝚙𝚎 (point, nonpoint, onroad, nonroad) variable, which of these four sources have seen decreases in emissions from 1999–2008 for Baltimore City? Which have seen increases in emissions from 1999–2008? Use the ggplot2 plotting system to make a plot answer this question.\n",
    ">4. Across the United States, how have emissions from coal combustion-related sources changed from 1999–2008?\n",
    ">5. How have emissions from motor vehicle sources changed from 1999–2008 in Baltimore City?\n",
    ">6. Compare emissions from motor vehicle sources in Baltimore City with emissions from motor vehicle sources in Los Angeles County, California (𝚏𝚒𝚙𝚜 == \"𝟶𝟼𝟶𝟹𝟽\"). Which city has seen greater changes over time in motor vehicle emissions?\n",
    ">\n",
    ">**Making and Submitting Plots**\n",
    ">\n",
    "> For each plot you should\n",
    ">\n",
    ">1. Construct the plot and save it to a PNG file.\n",
    ">2. Create a separate R code file (𝚙𝚕𝚘𝚝𝟷.𝚁, 𝚙𝚕𝚘𝚝𝟸.𝚁, etc.) that constructs the corresponding plot, i.e. code in plot1.R constructs the plot1.png plot. Your code file should include code for reading the data so that the plot can be fully reproduced. You must also include the code that creates the PNG file. Only include the code for a single plot (i.e. 𝚙𝚕𝚘𝚝𝟷.𝚁 should only include code for producing 𝚙𝚕𝚘𝚝𝟷.𝚙𝚗𝚐)\n",
    ">3. Upload the PNG file on the Assignment submission page\n",
    ">4. Copy and paste the R code from the corresponding R file into the text box at the appropriate point in the peer assessment."
   ]
  },
  {
   "cell_type": "markdown",
   "metadata": {},
   "source": [
    "## Assignment 2 Code"
   ]
  },
  {
   "cell_type": "markdown",
   "metadata": {},
   "source": [
    "## Obtain and read-in data"
   ]
  },
  {
   "cell_type": "code",
   "execution_count": 1,
   "metadata": {},
   "outputs": [],
   "source": [
    "if (!file.exists(\"data\")) {\n",
    "    dir.create(\"data\")\n",
    "}\n",
    "\n",
    "if (!file.exists(\"data/pollution.zip\")) {\n",
    "    download.file(\"https://d396qusza40orc.cloudfront.net/exdata%2Fdata%2FNEI_data.zip\",\n",
    "                 \"data/pollution.zip\")\n",
    "}\n",
    "\n",
    "unzip(\"data/pollution.zip\", exdir=\"data\")"
   ]
  },
  {
   "cell_type": "code",
   "execution_count": 2,
   "metadata": {},
   "outputs": [],
   "source": [
    "NEI <- readRDS(\"data/summarySCC_PM25.rds\")\n",
    "SCC <- readRDS(\"data/Source_Classification_Code.rds\")"
   ]
  },
  {
   "cell_type": "code",
   "execution_count": 3,
   "metadata": {},
   "outputs": [
    {
     "name": "stdout",
     "output_type": "stream",
     "text": [
      "'data.frame':\t6497651 obs. of  6 variables:\n",
      " $ fips     : chr  \"09001\" \"09001\" \"09001\" \"09001\" ...\n",
      " $ SCC      : chr  \"10100401\" \"10100404\" \"10100501\" \"10200401\" ...\n",
      " $ Pollutant: chr  \"PM25-PRI\" \"PM25-PRI\" \"PM25-PRI\" \"PM25-PRI\" ...\n",
      " $ Emissions: num  15.714 234.178 0.128 2.036 0.388 ...\n",
      " $ type     : chr  \"POINT\" \"POINT\" \"POINT\" \"POINT\" ...\n",
      " $ year     : int  1999 1999 1999 1999 1999 1999 1999 1999 1999 1999 ...\n"
     ]
    }
   ],
   "source": [
    "str(NEI)"
   ]
  },
  {
   "cell_type": "code",
   "execution_count": 4,
   "metadata": {},
   "outputs": [
    {
     "name": "stdout",
     "output_type": "stream",
     "text": [
      "'data.frame':\t11717 obs. of  15 variables:\n",
      " $ SCC                : Factor w/ 11717 levels \"10100101\",\"10100102\",..: 1 2 3 4 5 6 7 8 9 10 ...\n",
      " $ Data.Category      : Factor w/ 6 levels \"Biogenic\",\"Event\",..: 6 6 6 6 6 6 6 6 6 6 ...\n",
      " $ Short.Name         : Factor w/ 11238 levels \"\",\"2,4-D Salts and Esters Prod /Process Vents, 2,4-D Recovery: Filtration\",..: 3283 3284 3293 3291 3290 3294 3295 3296 3292 3289 ...\n",
      " $ EI.Sector          : Factor w/ 59 levels \"Agriculture - Crops & Livestock Dust\",..: 18 18 18 18 18 18 18 18 18 18 ...\n",
      " $ Option.Group       : Factor w/ 25 levels \"\",\"C/I Kerosene\",..: 1 1 1 1 1 1 1 1 1 1 ...\n",
      " $ Option.Set         : Factor w/ 18 levels \"\",\"A\",\"B\",\"B1A\",..: 1 1 1 1 1 1 1 1 1 1 ...\n",
      " $ SCC.Level.One      : Factor w/ 17 levels \"Brick Kilns\",..: 3 3 3 3 3 3 3 3 3 3 ...\n",
      " $ SCC.Level.Two      : Factor w/ 146 levels \"\",\"Agricultural Chemicals Production\",..: 32 32 32 32 32 32 32 32 32 32 ...\n",
      " $ SCC.Level.Three    : Factor w/ 1061 levels \"\",\"100% Biosolids (e.g., sewage sludge, manure, mixtures of these matls)\",..: 88 88 156 156 156 156 156 156 156 156 ...\n",
      " $ SCC.Level.Four     : Factor w/ 6084 levels \"\",\"(NH4)2 SO4 Acid Bath System and Evaporator\",..: 4455 5583 4466 4458 1341 5246 5584 5983 4461 776 ...\n",
      " $ Map.To             : num  NA NA NA NA NA NA NA NA NA NA ...\n",
      " $ Last.Inventory.Year: int  NA NA NA NA NA NA NA NA NA NA ...\n",
      " $ Created_Date       : Factor w/ 57 levels \"\",\"1/27/2000 0:00:00\",..: 1 1 1 1 1 1 1 1 1 1 ...\n",
      " $ Revised_Date       : Factor w/ 44 levels \"\",\"1/27/2000 0:00:00\",..: 1 1 1 1 1 1 1 1 1 1 ...\n",
      " $ Usage.Notes        : Factor w/ 21 levels \"\",\" \",\"includes bleaching towers, washer hoods, filtrate tanks, vacuum pump exhausts\",..: 1 1 1 1 1 1 1 1 1 1 ...\n"
     ]
    }
   ],
   "source": [
    "str(SCC)"
   ]
  },
  {
   "cell_type": "markdown",
   "metadata": {},
   "source": [
    "## Question 1\n",
    "Have total emissions from PM2.5 decreased in the United States from 1999 to 2008? Using the base plotting system, make a plot showing the total PM2.5 emission from all sources for each of the years 1999, 2002, 2005, and 2008."
   ]
  },
  {
   "cell_type": "code",
   "execution_count": 5,
   "metadata": {},
   "outputs": [],
   "source": [
    "total.emissions <- tapply(NEI$Emissions, NEI$year, FUN=sum)"
   ]
  },
  {
   "cell_type": "code",
   "execution_count": 6,
   "metadata": {},
   "outputs": [
    {
     "data": {
      "text/html": [
       "<dl class=dl-horizontal>\n",
       "\t<dt>1999</dt>\n",
       "\t\t<dd>7332966.73700002</dd>\n",
       "\t<dt>2002</dt>\n",
       "\t\t<dd>5635780.49823926</dd>\n",
       "\t<dt>2005</dt>\n",
       "\t\t<dd>5454703.0771284</dd>\n",
       "\t<dt>2008</dt>\n",
       "\t\t<dd>3464205.83780584</dd>\n",
       "</dl>\n"
      ],
      "text/plain": [
       "   1999    2002    2005    2008 \n",
       "7332967 5635780 5454703 3464206 "
      ]
     },
     "metadata": {},
     "output_type": "display_data"
    }
   ],
   "source": [
    "total.emissions"
   ]
  },
  {
   "cell_type": "code",
   "execution_count": 7,
   "metadata": {},
   "outputs": [
    {
     "name": "stdout",
     "output_type": "stream",
     "text": [
      " num [1:4(1d)] 7332967 5635780 5454703 3464206\n",
      " - attr(*, \"dimnames\")=List of 1\n",
      "  ..$ : chr [1:4] \"1999\" \"2002\" \"2005\" \"2008\"\n"
     ]
    }
   ],
   "source": [
    "str(total.emissions)"
   ]
  },
  {
   "cell_type": "code",
   "execution_count": 8,
   "metadata": {},
   "outputs": [
    {
     "data": {
      "text/html": [
       "<ol class=list-inline>\n",
       "\t<li>'1999'</li>\n",
       "\t<li>'2002'</li>\n",
       "\t<li>'2005'</li>\n",
       "\t<li>'2008'</li>\n",
       "</ol>\n"
      ],
      "text/latex": [
       "\\begin{enumerate*}\n",
       "\\item '1999'\n",
       "\\item '2002'\n",
       "\\item '2005'\n",
       "\\item '2008'\n",
       "\\end{enumerate*}\n"
      ],
      "text/markdown": [
       "1. '1999'\n",
       "2. '2002'\n",
       "3. '2005'\n",
       "4. '2008'\n",
       "\n",
       "\n"
      ],
      "text/plain": [
       "[1] \"1999\" \"2002\" \"2005\" \"2008\""
      ]
     },
     "metadata": {},
     "output_type": "display_data"
    }
   ],
   "source": [
    "names(total.emissions)"
   ]
  },
  {
   "cell_type": "code",
   "execution_count": 9,
   "metadata": {},
   "outputs": [
    {
     "data": {
      "image/png": "[encoded data removed]",
      "text/plain": [
       "Plot with title “Total PM2.5 emissions”"
      ]
     },
     "metadata": {},
     "output_type": "display_data",
     "source": "R display func"
    }
   ],
   "source": [
    "barplot(total.emissions,\n",
    "       main=\"Total PM2.5 emissions\",\n",
    "       xlab=\"Year\",\n",
    "       ylab=\"Emissions (tons)\")"
   ]
  },
  {
   "cell_type": "markdown",
   "metadata": {},
   "source": [
    "## Question 2\n",
    "Have total emissions from PM2.5 decreased in the Baltimore City, Maryland (`𝚏𝚒𝚙𝚜 == \"𝟸𝟺𝟻𝟷𝟶\"`) from 1999 to 2008? Use the base plotting system to make a plot answering this question."
   ]
  },
  {
   "cell_type": "code",
   "execution_count": 70,
   "metadata": {},
   "outputs": [],
   "source": [
    "NEI.baltimore <- NEI[NEI$fips == \"24510\", ]"
   ]
  },
  {
   "cell_type": "code",
   "execution_count": 71,
   "metadata": {},
   "outputs": [],
   "source": [
    "total.emissions.baltimore <- tapply(NEI.baltimore$Emissions, NEI.baltimore$year, FUN=sum)"
   ]
  },
  {
   "cell_type": "code",
   "execution_count": 72,
   "metadata": {},
   "outputs": [
    {
     "data": {
      "image/png": "[encoded data removed]",
      "text/plain": [
       "Plot with title “Total PM2.5 emissions from Baltimore”"
      ]
     },
     "metadata": {},
     "output_type": "display_data",
     "source": "R display func"
    }
   ],
   "source": [
    "barplot(total.emissions.baltimore,\n",
    "       main=\"Total PM2.5 emissions from Baltimore\",\n",
    "       xlab=\"Year\",\n",
    "       ylab=\"Emissions (tons)\")"
   ]
  },
  {
   "cell_type": "markdown",
   "metadata": {},
   "source": [
    "## Question 3\n",
    "Of the four types of sources indicated by the `𝚝𝚢𝚙𝚎` (point, nonpoint, onroad, nonroad) variable, which of these four sources have seen decreases in emissions from 1999–2008 for Baltimore City? Which have seen increases in emissions from 1999–2008? Use the ggplot2 plotting system to make a plot answer this question."
   ]
  },
  {
   "cell_type": "code",
   "execution_count": 67,
   "metadata": {},
   "outputs": [
    {
     "name": "stderr",
     "output_type": "stream",
     "text": [
      "\n",
      "Attaching package: ‘reshape2’\n",
      "\n",
      "The following object is masked from ‘package:tidyr’:\n",
      "\n",
      "    smiths\n",
      "\n"
     ]
    }
   ],
   "source": [
    "library(ggplot2)\n",
    "library(reshape2)"
   ]
  },
  {
   "cell_type": "code",
   "execution_count": 73,
   "metadata": {},
   "outputs": [],
   "source": [
    "total.emissions.baltimore <- tapply(NEI.baltimore$Emissions, list(NEI.baltimore$year, NEI.baltimore$type), FUN=sum)"
   ]
  },
  {
   "cell_type": "code",
   "execution_count": 74,
   "metadata": {},
   "outputs": [
    {
     "data": {
      "text/html": [
       "<table>\n",
       "<thead><tr><th></th><th scope=col>NON-ROAD</th><th scope=col>NONPOINT</th><th scope=col>ON-ROAD</th><th scope=col>POINT</th></tr></thead>\n",
       "<tbody>\n",
       "\t<tr><th scope=row>1999</th><td>522.94000</td><td>2107.625 </td><td>346.82000</td><td> 296.7950</td></tr>\n",
       "\t<tr><th scope=row>2002</th><td>240.84692</td><td>1509.500 </td><td>134.30882</td><td> 569.2600</td></tr>\n",
       "\t<tr><th scope=row>2005</th><td>248.93369</td><td>1509.500 </td><td>130.43038</td><td>1202.4900</td></tr>\n",
       "\t<tr><th scope=row>2008</th><td> 55.82356</td><td>1373.207 </td><td> 88.27546</td><td> 344.9752</td></tr>\n",
       "</tbody>\n",
       "</table>\n"
      ],
      "text/latex": [
       "\\begin{tabular}{r|llll}\n",
       "  & NON-ROAD & NONPOINT & ON-ROAD & POINT\\\\\n",
       "\\hline\n",
       "\t1999 & 522.94000 & 2107.625  & 346.82000 &  296.7950\\\\\n",
       "\t2002 & 240.84692 & 1509.500  & 134.30882 &  569.2600\\\\\n",
       "\t2005 & 248.93369 & 1509.500  & 130.43038 & 1202.4900\\\\\n",
       "\t2008 &  55.82356 & 1373.207  &  88.27546 &  344.9752\\\\\n",
       "\\end{tabular}\n"
      ],
      "text/markdown": [
       "\n",
       "| <!--/--> | NON-ROAD | NONPOINT | ON-ROAD | POINT | \n",
       "|---|---|---|---|\n",
       "| 1999 | 522.94000 | 2107.625  | 346.82000 |  296.7950 | \n",
       "| 2002 | 240.84692 | 1509.500  | 134.30882 |  569.2600 | \n",
       "| 2005 | 248.93369 | 1509.500  | 130.43038 | 1202.4900 | \n",
       "| 2008 |  55.82356 | 1373.207  |  88.27546 |  344.9752 | \n",
       "\n",
       "\n"
      ],
      "text/plain": [
       "     NON-ROAD  NONPOINT ON-ROAD   POINT    \n",
       "1999 522.94000 2107.625 346.82000  296.7950\n",
       "2002 240.84692 1509.500 134.30882  569.2600\n",
       "2005 248.93369 1509.500 130.43038 1202.4900\n",
       "2008  55.82356 1373.207  88.27546  344.9752"
      ]
     },
     "metadata": {},
     "output_type": "display_data"
    }
   ],
   "source": [
    "total.emissions.baltimore"
   ]
  },
  {
   "cell_type": "code",
   "execution_count": 75,
   "metadata": {},
   "outputs": [],
   "source": [
    "total.emissions.baltimore.melt <- melt(total.emissions.baltimore, id.vars=\"type\")"
   ]
  },
  {
   "cell_type": "code",
   "execution_count": 76,
   "metadata": {},
   "outputs": [],
   "source": [
    "names(total.emissions.baltimore.melt) <- c(\"Year\", \"Type\", \"Emissions\")"
   ]
  },
  {
   "cell_type": "code",
   "execution_count": 77,
   "metadata": {},
   "outputs": [],
   "source": [
    "total.emissions.baltimore.melt$Year <- as.factor(total.emissions.baltimore.melt$Year)"
   ]
  },
  {
   "cell_type": "code",
   "execution_count": 78,
   "metadata": {},
   "outputs": [
    {
     "name": "stdout",
     "output_type": "stream",
     "text": [
      "'data.frame':\t16 obs. of  3 variables:\n",
      " $ Year     : Factor w/ 4 levels \"1999\",\"2002\",..: 1 2 3 4 1 2 3 4 1 2 ...\n",
      " $ Type     : Factor w/ 4 levels \"NON-ROAD\",\"NONPOINT\",..: 1 1 1 1 2 2 2 2 3 3 ...\n",
      " $ Emissions: num  522.9 240.8 248.9 55.8 2107.6 ...\n"
     ]
    }
   ],
   "source": [
    "str(total.emissions.baltimore.melt)"
   ]
  },
  {
   "cell_type": "code",
   "execution_count": 79,
   "metadata": {},
   "outputs": [
    {
     "data": {
      "text/html": [
       "<table>\n",
       "<thead><tr><th scope=col>Year</th><th scope=col>Type</th><th scope=col>Emissions</th></tr></thead>\n",
       "<tbody>\n",
       "\t<tr><td>1999      </td><td>NON-ROAD  </td><td> 522.94000</td></tr>\n",
       "\t<tr><td>2002      </td><td>NON-ROAD  </td><td> 240.84692</td></tr>\n",
       "\t<tr><td>2005      </td><td>NON-ROAD  </td><td> 248.93369</td></tr>\n",
       "\t<tr><td>2008      </td><td>NON-ROAD  </td><td>  55.82356</td></tr>\n",
       "\t<tr><td>1999      </td><td>NONPOINT  </td><td>2107.62500</td></tr>\n",
       "\t<tr><td>2002      </td><td>NONPOINT  </td><td>1509.50000</td></tr>\n",
       "\t<tr><td>2005      </td><td>NONPOINT  </td><td>1509.50000</td></tr>\n",
       "\t<tr><td>2008      </td><td>NONPOINT  </td><td>1373.20731</td></tr>\n",
       "\t<tr><td>1999      </td><td>ON-ROAD   </td><td> 346.82000</td></tr>\n",
       "\t<tr><td>2002      </td><td>ON-ROAD   </td><td> 134.30882</td></tr>\n",
       "\t<tr><td>2005      </td><td>ON-ROAD   </td><td> 130.43038</td></tr>\n",
       "\t<tr><td>2008      </td><td>ON-ROAD   </td><td>  88.27546</td></tr>\n",
       "\t<tr><td>1999      </td><td>POINT     </td><td> 296.79500</td></tr>\n",
       "\t<tr><td>2002      </td><td>POINT     </td><td> 569.26000</td></tr>\n",
       "\t<tr><td>2005      </td><td>POINT     </td><td>1202.49000</td></tr>\n",
       "\t<tr><td>2008      </td><td>POINT     </td><td> 344.97518</td></tr>\n",
       "</tbody>\n",
       "</table>\n"
      ],
      "text/latex": [
       "\\begin{tabular}{r|lll}\n",
       " Year & Type & Emissions\\\\\n",
       "\\hline\n",
       "\t 1999       & NON-ROAD   &  522.94000\\\\\n",
       "\t 2002       & NON-ROAD   &  240.84692\\\\\n",
       "\t 2005       & NON-ROAD   &  248.93369\\\\\n",
       "\t 2008       & NON-ROAD   &   55.82356\\\\\n",
       "\t 1999       & NONPOINT   & 2107.62500\\\\\n",
       "\t 2002       & NONPOINT   & 1509.50000\\\\\n",
       "\t 2005       & NONPOINT   & 1509.50000\\\\\n",
       "\t 2008       & NONPOINT   & 1373.20731\\\\\n",
       "\t 1999       & ON-ROAD    &  346.82000\\\\\n",
       "\t 2002       & ON-ROAD    &  134.30882\\\\\n",
       "\t 2005       & ON-ROAD    &  130.43038\\\\\n",
       "\t 2008       & ON-ROAD    &   88.27546\\\\\n",
       "\t 1999       & POINT      &  296.79500\\\\\n",
       "\t 2002       & POINT      &  569.26000\\\\\n",
       "\t 2005       & POINT      & 1202.49000\\\\\n",
       "\t 2008       & POINT      &  344.97518\\\\\n",
       "\\end{tabular}\n"
      ],
      "text/markdown": [
       "\n",
       "Year | Type | Emissions | \n",
       "|---|---|---|---|---|---|---|---|---|---|---|---|---|---|---|---|\n",
       "| 1999       | NON-ROAD   |  522.94000 | \n",
       "| 2002       | NON-ROAD   |  240.84692 | \n",
       "| 2005       | NON-ROAD   |  248.93369 | \n",
       "| 2008       | NON-ROAD   |   55.82356 | \n",
       "| 1999       | NONPOINT   | 2107.62500 | \n",
       "| 2002       | NONPOINT   | 1509.50000 | \n",
       "| 2005       | NONPOINT   | 1509.50000 | \n",
       "| 2008       | NONPOINT   | 1373.20731 | \n",
       "| 1999       | ON-ROAD    |  346.82000 | \n",
       "| 2002       | ON-ROAD    |  134.30882 | \n",
       "| 2005       | ON-ROAD    |  130.43038 | \n",
       "| 2008       | ON-ROAD    |   88.27546 | \n",
       "| 1999       | POINT      |  296.79500 | \n",
       "| 2002       | POINT      |  569.26000 | \n",
       "| 2005       | POINT      | 1202.49000 | \n",
       "| 2008       | POINT      |  344.97518 | \n",
       "\n",
       "\n"
      ],
      "text/plain": [
       "   Year Type     Emissions \n",
       "1  1999 NON-ROAD  522.94000\n",
       "2  2002 NON-ROAD  240.84692\n",
       "3  2005 NON-ROAD  248.93369\n",
       "4  2008 NON-ROAD   55.82356\n",
       "5  1999 NONPOINT 2107.62500\n",
       "6  2002 NONPOINT 1509.50000\n",
       "7  2005 NONPOINT 1509.50000\n",
       "8  2008 NONPOINT 1373.20731\n",
       "9  1999 ON-ROAD   346.82000\n",
       "10 2002 ON-ROAD   134.30882\n",
       "11 2005 ON-ROAD   130.43038\n",
       "12 2008 ON-ROAD    88.27546\n",
       "13 1999 POINT     296.79500\n",
       "14 2002 POINT     569.26000\n",
       "15 2005 POINT    1202.49000\n",
       "16 2008 POINT     344.97518"
      ]
     },
     "metadata": {},
     "output_type": "display_data"
    }
   ],
   "source": [
    "total.emissions.baltimore.melt"
   ]
  },
  {
   "cell_type": "code",
   "execution_count": 107,
   "metadata": {},
   "outputs": [],
   "source": [
    "q3.plot <- ggplot(data.frame(total.emissions.baltimore.melt), aes(x=Year, y=Emissions)) +\n",
    "    ylab(\"Emissions (tons)\") +\n",
    "    geom_bar(stat=\"identity\") +\n",
    "    facet_grid(Type ~.) "
   ]
  },
  {
   "cell_type": "code",
   "execution_count": 106,
   "metadata": {},
   "outputs": [
    {
     "data": {
      "image/png": "[encoded data removed]",
      "text/plain": [
       "plot without title"
      ]
     },
     "metadata": {},
     "output_type": "display_data",
     "source": "R display func"
    }
   ],
   "source": [
    "print(q3.plot)"
   ]
  },
  {
   "cell_type": "markdown",
   "metadata": {},
   "source": [
    "## Question 4\n",
    "Across the United States, how have emissions from coal combustion-related sources changed from 1999–2008?"
   ]
  },
  {
   "cell_type": "code",
   "execution_count": 38,
   "metadata": {},
   "outputs": [
    {
     "name": "stderr",
     "output_type": "stream",
     "text": [
      "\n",
      "Attaching package: ‘dplyr’\n",
      "\n",
      "The following objects are masked from ‘package:stats’:\n",
      "\n",
      "    filter, lag\n",
      "\n",
      "The following objects are masked from ‘package:base’:\n",
      "\n",
      "    intersect, setdiff, setequal, union\n",
      "\n"
     ]
    }
   ],
   "source": [
    "library(dplyr)"
   ]
  },
  {
   "cell_type": "code",
   "execution_count": 39,
   "metadata": {},
   "outputs": [
    {
     "name": "stdout",
     "output_type": "stream",
     "text": [
      "'data.frame':\t6497651 obs. of  6 variables:\n",
      " $ fips     : chr  \"09001\" \"09001\" \"09001\" \"09001\" ...\n",
      " $ SCC      : chr  \"10100401\" \"10100404\" \"10100501\" \"10200401\" ...\n",
      " $ Pollutant: chr  \"PM25-PRI\" \"PM25-PRI\" \"PM25-PRI\" \"PM25-PRI\" ...\n",
      " $ Emissions: num  15.714 234.178 0.128 2.036 0.388 ...\n",
      " $ type     : chr  \"POINT\" \"POINT\" \"POINT\" \"POINT\" ...\n",
      " $ year     : int  1999 1999 1999 1999 1999 1999 1999 1999 1999 1999 ...\n"
     ]
    }
   ],
   "source": [
    "str(NEI)"
   ]
  },
  {
   "cell_type": "code",
   "execution_count": 23,
   "metadata": {},
   "outputs": [
    {
     "name": "stdout",
     "output_type": "stream",
     "text": [
      "'data.frame':\t11717 obs. of  15 variables:\n",
      " $ SCC                : Factor w/ 11717 levels \"10100101\",\"10100102\",..: 1 2 3 4 5 6 7 8 9 10 ...\n",
      " $ Data.Category      : Factor w/ 6 levels \"Biogenic\",\"Event\",..: 6 6 6 6 6 6 6 6 6 6 ...\n",
      " $ Short.Name         : Factor w/ 11238 levels \"\",\"2,4-D Salts and Esters Prod /Process Vents, 2,4-D Recovery: Filtration\",..: 3283 3284 3293 3291 3290 3294 3295 3296 3292 3289 ...\n",
      " $ EI.Sector          : Factor w/ 59 levels \"Agriculture - Crops & Livestock Dust\",..: 18 18 18 18 18 18 18 18 18 18 ...\n",
      " $ Option.Group       : Factor w/ 25 levels \"\",\"C/I Kerosene\",..: 1 1 1 1 1 1 1 1 1 1 ...\n",
      " $ Option.Set         : Factor w/ 18 levels \"\",\"A\",\"B\",\"B1A\",..: 1 1 1 1 1 1 1 1 1 1 ...\n",
      " $ SCC.Level.One      : Factor w/ 17 levels \"Brick Kilns\",..: 3 3 3 3 3 3 3 3 3 3 ...\n",
      " $ SCC.Level.Two      : Factor w/ 146 levels \"\",\"Agricultural Chemicals Production\",..: 32 32 32 32 32 32 32 32 32 32 ...\n",
      " $ SCC.Level.Three    : Factor w/ 1061 levels \"\",\"100% Biosolids (e.g., sewage sludge, manure, mixtures of these matls)\",..: 88 88 156 156 156 156 156 156 156 156 ...\n",
      " $ SCC.Level.Four     : Factor w/ 6084 levels \"\",\"(NH4)2 SO4 Acid Bath System and Evaporator\",..: 4455 5583 4466 4458 1341 5246 5584 5983 4461 776 ...\n",
      " $ Map.To             : num  NA NA NA NA NA NA NA NA NA NA ...\n",
      " $ Last.Inventory.Year: int  NA NA NA NA NA NA NA NA NA NA ...\n",
      " $ Created_Date       : Factor w/ 57 levels \"\",\"1/27/2000 0:00:00\",..: 1 1 1 1 1 1 1 1 1 1 ...\n",
      " $ Revised_Date       : Factor w/ 44 levels \"\",\"1/27/2000 0:00:00\",..: 1 1 1 1 1 1 1 1 1 1 ...\n",
      " $ Usage.Notes        : Factor w/ 21 levels \"\",\" \",\"includes bleaching towers, washer hoods, filtrate tanks, vacuum pump exhausts\",..: 1 1 1 1 1 1 1 1 1 1 ...\n"
     ]
    }
   ],
   "source": [
    "str(SCC)"
   ]
  },
  {
   "cell_type": "code",
   "execution_count": 33,
   "metadata": {},
   "outputs": [],
   "source": [
    "coal <- grep(\"Coal\", unique(SCC$EI.Sector))"
   ]
  },
  {
   "cell_type": "code",
   "execution_count": 36,
   "metadata": {},
   "outputs": [],
   "source": [
    "coal.sectors <- unique(SCC$EI.Sector)[coal]"
   ]
  },
  {
   "cell_type": "code",
   "execution_count": 41,
   "metadata": {},
   "outputs": [],
   "source": [
    "SCC.coal <- filter(SCC, EI.Sector %in% coal.sectors)"
   ]
  },
  {
   "cell_type": "code",
   "execution_count": 43,
   "metadata": {},
   "outputs": [
    {
     "data": {
      "text/html": [
       "<table>\n",
       "<thead><tr><th scope=col>SCC</th><th scope=col>Data.Category</th><th scope=col>Short.Name</th><th scope=col>EI.Sector</th><th scope=col>Option.Group</th><th scope=col>Option.Set</th><th scope=col>SCC.Level.One</th><th scope=col>SCC.Level.Two</th><th scope=col>SCC.Level.Three</th><th scope=col>SCC.Level.Four</th><th scope=col>Map.To</th><th scope=col>Last.Inventory.Year</th><th scope=col>Created_Date</th><th scope=col>Revised_Date</th><th scope=col>Usage.Notes</th></tr></thead>\n",
       "<tbody>\n",
       "\t<tr><td>10100101                                                                                      </td><td>Point                                                                                         </td><td>Ext Comb /Electric Gen /Anthracite Coal /Pulverized Coal                                      </td><td>Fuel Comb - Electric Generation - Coal                                                        </td><td>                                                                                              </td><td>                                                                                              </td><td>External Combustion Boilers                                                                   </td><td>Electric Generation                                                                           </td><td>Anthracite Coal                                                                               </td><td>Pulverized Coal                                                                               </td><td>NA                                                                                            </td><td>NA                                                                                            </td><td>                                                                                              </td><td>                                                                                              </td><td>                                                                                              </td></tr>\n",
       "\t<tr><td>10100102                                                                                      </td><td>Point                                                                                         </td><td>Ext Comb /Electric Gen /Anthracite Coal /Traveling Grate (Overfeed) Stoker                    </td><td>Fuel Comb - Electric Generation - Coal                                                        </td><td>                                                                                              </td><td>                                                                                              </td><td>External Combustion Boilers                                                                   </td><td>Electric Generation                                                                           </td><td>Anthracite Coal                                                                               </td><td>Traveling Grate (Overfeed) Stoker                                                             </td><td>NA                                                                                            </td><td>NA                                                                                            </td><td>                                                                                              </td><td>                                                                                              </td><td>                                                                                              </td></tr>\n",
       "\t<tr><td>10100201                                                                                      </td><td>Point                                                                                         </td><td>Ext Comb /Electric Gen /Bituminous Coal /Pulverized Coal: Wet Bottom                          </td><td>Fuel Comb - Electric Generation - Coal                                                        </td><td>                                                                                              </td><td>                                                                                              </td><td>External Combustion Boilers                                                                   </td><td>Electric Generation                                                                           </td><td>Bituminous/Subbituminous Coal                                                                 </td><td>Pulverized Coal: Wet Bottom (Bituminous Coal)                                                 </td><td>NA                                                                                            </td><td>NA                                                                                            </td><td>                                                                                              </td><td>                                                                                              </td><td>                                                                                              </td></tr>\n",
       "\t<tr><td>10100202                                                                                      </td><td>Point                                                                                         </td><td>Ext Comb /Electric Gen /Bituminous Coal /Pulverized Coal: Dry Bottom                          </td><td>Fuel Comb - Electric Generation - Coal                                                        </td><td>                                                                                              </td><td>                                                                                              </td><td>External Combustion Boilers                                                                   </td><td>Electric Generation                                                                           </td><td>Bituminous/Subbituminous Coal                                                                 </td><td>Pulverized Coal: Dry Bottom (Bituminous Coal)                                                 </td><td>NA                                                                                            </td><td>NA                                                                                            </td><td>                                                                                              </td><td>                                                                                              </td><td>                                                                                              </td></tr>\n",
       "\t<tr><td>10100203                                                                                      </td><td>Point                                                                                         </td><td>Ext Comb /Electric Gen /Bituminous Coal /Cyclone Furnace                                      </td><td>Fuel Comb - Electric Generation - Coal                                                        </td><td>                                                                                              </td><td>                                                                                              </td><td>External Combustion Boilers                                                                   </td><td>Electric Generation                                                                           </td><td>Bituminous/Subbituminous Coal                                                                 </td><td>Cyclone Furnace (Bituminous Coal)                                                             </td><td>NA                                                                                            </td><td>NA                                                                                            </td><td>                                                                                              </td><td>                                                                                              </td><td>                                                                                              </td></tr>\n",
       "\t<tr><td>10100204                                                                                      </td><td>Point                                                                                         </td><td>Ext Comb /Electric Gen /Bituminous Coal /Spreader Stoker                                      </td><td>Fuel Comb - Electric Generation - Coal                                                        </td><td>                                                                                              </td><td>                                                                                              </td><td>External Combustion Boilers                                                                   </td><td>Electric Generation                                                                           </td><td>Bituminous/Subbituminous Coal                                                                 </td><td>Spreader Stoker (Bituminous Coal)                                                             </td><td>NA                                                                                            </td><td>NA                                                                                            </td><td>                                                                                              </td><td>                                                                                              </td><td>                                                                                              </td></tr>\n",
       "\t<tr><td>10100205                                                                                      </td><td>Point                                                                                         </td><td>Ext Comb /Electric Gen /Bituminous Coal /Traveling Grate (Overfeed) Stoker                    </td><td>Fuel Comb - Electric Generation - Coal                                                        </td><td>                                                                                              </td><td>                                                                                              </td><td>External Combustion Boilers                                                                   </td><td>Electric Generation                                                                           </td><td>Bituminous/Subbituminous Coal                                                                 </td><td>Traveling Grate (Overfeed) Stoker (Bituminous Coal)                                           </td><td>NA                                                                                            </td><td>NA                                                                                            </td><td>                                                                                              </td><td>                                                                                              </td><td>                                                                                              </td></tr>\n",
       "\t<tr><td>10100211                                                                                      </td><td>Point                                                                                         </td><td>Ext Comb /Electric Gen /Bituminous Coal /Wet Bottom (Tangential)                              </td><td>Fuel Comb - Electric Generation - Coal                                                        </td><td>                                                                                              </td><td>                                                                                              </td><td>External Combustion Boilers                                                                   </td><td>Electric Generation                                                                           </td><td>Bituminous/Subbituminous Coal                                                                 </td><td>Wet Bottom (Tangential) (Bituminous Coal)                                                     </td><td>NA                                                                                            </td><td>NA                                                                                            </td><td>                                                                                              </td><td>                                                                                              </td><td>                                                                                              </td></tr>\n",
       "\t<tr><td>10100212                                                                                      </td><td>Point                                                                                         </td><td>Ext Comb /Electric Gen /Bituminous Coal /Pulverized Coal: Dry Bottom (Tangential)             </td><td>Fuel Comb - Electric Generation - Coal                                                        </td><td>                                                                                              </td><td>                                                                                              </td><td>External Combustion Boilers                                                                   </td><td>Electric Generation                                                                           </td><td>Bituminous/Subbituminous Coal                                                                 </td><td>Pulverized Coal: Dry Bottom (Tangential) (Bituminous Coal)                                    </td><td>NA                                                                                            </td><td>NA                                                                                            </td><td>                                                                                              </td><td>                                                                                              </td><td>                                                                                              </td></tr>\n",
       "\t<tr><td>10100215                                                                                      </td><td>Point                                                                                         </td><td>Ext Comb /Electric Gen /Bituminous Coal /Cell Burner                                          </td><td>Fuel Comb - Electric Generation - Coal                                                        </td><td>                                                                                              </td><td>                                                                                              </td><td>External Combustion Boilers                                                                   </td><td>Electric Generation                                                                           </td><td>Bituminous/Subbituminous Coal                                                                 </td><td>Cell Burner (Bituminous Coal)                                                                 </td><td>NA                                                                                            </td><td>NA                                                                                            </td><td>                                                                                              </td><td>                                                                                              </td><td>                                                                                              </td></tr>\n",
       "\t<tr><td>10100217                                                                                      </td><td>Point                                                                                         </td><td>Ext Comb /Electric Gen /Bituminous Coal /Atmospheric Fluidized Bed Combustion: Bubbling Bed   </td><td>Fuel Comb - Electric Generation - Coal                                                        </td><td>                                                                                              </td><td>                                                                                              </td><td>External Combustion Boilers                                                                   </td><td>Electric Generation                                                                           </td><td>Bituminous/Subbituminous Coal                                                                 </td><td>Atmospheric Fluidized Bed Combustion: Bubbling Bed (Bituminous Coal)                          </td><td>NA                                                                                            </td><td>NA                                                                                            </td><td>                                                                                              </td><td>                                                                                              </td><td>                                                                                              </td></tr>\n",
       "\t<tr><td>10100218                                                                                      </td><td>Point                                                                                         </td><td>Ext Comb /Electric Gen /Bituminous Coal /Atmospheric Fluidized Bed Combustion: Circulating Bed</td><td>Fuel Comb - Electric Generation - Coal                                                        </td><td>                                                                                              </td><td>                                                                                              </td><td>External Combustion Boilers                                                                   </td><td>Electric Generation                                                                           </td><td>Bituminous/Subbituminous Coal                                                                 </td><td>Atmospheric Fluidized Bed Combustion: Circulating Bed (Bitum. Coal)                           </td><td>NA                                                                                            </td><td>NA                                                                                            </td><td>                                                                                              </td><td>                                                                                              </td><td>                                                                                              </td></tr>\n",
       "\t<tr><td>10100221                                                                                      </td><td>Point                                                                                         </td><td>Ext Comb /Electric Gen /Subbituminous Coal /Pulverized Coal: Wet Bottom                       </td><td>Fuel Comb - Electric Generation - Coal                                                        </td><td>                                                                                              </td><td>                                                                                              </td><td>External Combustion Boilers                                                                   </td><td>Electric Generation                                                                           </td><td>Bituminous/Subbituminous Coal                                                                 </td><td>Pulverized Coal: Wet Bottom (Subbituminous Coal)                                              </td><td>NA                                                                                            </td><td>NA                                                                                            </td><td>                                                                                              </td><td>                                                                                              </td><td>                                                                                              </td></tr>\n",
       "\t<tr><td>10100222                                                                                      </td><td>Point                                                                                         </td><td>Ext Comb /Electric Gen /Subbituminous Coal /Pulverized Coal: Dry Bottom                       </td><td>Fuel Comb - Electric Generation - Coal                                                        </td><td>                                                                                              </td><td>                                                                                              </td><td>External Combustion Boilers                                                                   </td><td>Electric Generation                                                                           </td><td>Bituminous/Subbituminous Coal                                                                 </td><td>Pulverized Coal: Dry Bottom (Subbituminous Coal)                                              </td><td>NA                                                                                            </td><td>NA                                                                                            </td><td>                                                                                              </td><td>                                                                                              </td><td>                                                                                              </td></tr>\n",
       "\t<tr><td>10100223                                                                                      </td><td>Point                                                                                         </td><td>Ext Comb /Electric Gen /Subbituminous Coal /Cyclone Furnace                                   </td><td>Fuel Comb - Electric Generation - Coal                                                        </td><td>                                                                                              </td><td>                                                                                              </td><td>External Combustion Boilers                                                                   </td><td>Electric Generation                                                                           </td><td>Bituminous/Subbituminous Coal                                                                 </td><td>Cyclone Furnace (Subbituminous Coal)                                                          </td><td>NA                                                                                            </td><td>NA                                                                                            </td><td>                                                                                              </td><td>                                                                                              </td><td>                                                                                              </td></tr>\n",
       "</tbody>\n",
       "</table>\n"
      ],
      "text/latex": [
       "\\begin{tabular}{r|lllllllllllllll}\n",
       " SCC & Data.Category & Short.Name & EI.Sector & Option.Group & Option.Set & SCC.Level.One & SCC.Level.Two & SCC.Level.Three & SCC.Level.Four & Map.To & Last.Inventory.Year & Created\\_Date & Revised\\_Date & Usage.Notes\\\\\n",
       "\\hline\n",
       "\t 10100101                                                                                       & Point                                                                                          & Ext Comb /Electric Gen /Anthracite Coal /Pulverized Coal                                       & Fuel Comb - Electric Generation - Coal                                                         &                                                                                                &                                                                                                & External Combustion Boilers                                                                    & Electric Generation                                                                            & Anthracite Coal                                                                                & Pulverized Coal                                                                                & NA                                                                                             & NA                                                                                             &                                                                                                &                                                                                                &                                                                                               \\\\\n",
       "\t 10100102                                                                                       & Point                                                                                          & Ext Comb /Electric Gen /Anthracite Coal /Traveling Grate (Overfeed) Stoker                     & Fuel Comb - Electric Generation - Coal                                                         &                                                                                                &                                                                                                & External Combustion Boilers                                                                    & Electric Generation                                                                            & Anthracite Coal                                                                                & Traveling Grate (Overfeed) Stoker                                                              & NA                                                                                             & NA                                                                                             &                                                                                                &                                                                                                &                                                                                               \\\\\n",
       "\t 10100201                                                                                       & Point                                                                                          & Ext Comb /Electric Gen /Bituminous Coal /Pulverized Coal: Wet Bottom                           & Fuel Comb - Electric Generation - Coal                                                         &                                                                                                &                                                                                                & External Combustion Boilers                                                                    & Electric Generation                                                                            & Bituminous/Subbituminous Coal                                                                  & Pulverized Coal: Wet Bottom (Bituminous Coal)                                                  & NA                                                                                             & NA                                                                                             &                                                                                                &                                                                                                &                                                                                               \\\\\n",
       "\t 10100202                                                                                       & Point                                                                                          & Ext Comb /Electric Gen /Bituminous Coal /Pulverized Coal: Dry Bottom                           & Fuel Comb - Electric Generation - Coal                                                         &                                                                                                &                                                                                                & External Combustion Boilers                                                                    & Electric Generation                                                                            & Bituminous/Subbituminous Coal                                                                  & Pulverized Coal: Dry Bottom (Bituminous Coal)                                                  & NA                                                                                             & NA                                                                                             &                                                                                                &                                                                                                &                                                                                               \\\\\n",
       "\t 10100203                                                                                       & Point                                                                                          & Ext Comb /Electric Gen /Bituminous Coal /Cyclone Furnace                                       & Fuel Comb - Electric Generation - Coal                                                         &                                                                                                &                                                                                                & External Combustion Boilers                                                                    & Electric Generation                                                                            & Bituminous/Subbituminous Coal                                                                  & Cyclone Furnace (Bituminous Coal)                                                              & NA                                                                                             & NA                                                                                             &                                                                                                &                                                                                                &                                                                                               \\\\\n",
       "\t 10100204                                                                                       & Point                                                                                          & Ext Comb /Electric Gen /Bituminous Coal /Spreader Stoker                                       & Fuel Comb - Electric Generation - Coal                                                         &                                                                                                &                                                                                                & External Combustion Boilers                                                                    & Electric Generation                                                                            & Bituminous/Subbituminous Coal                                                                  & Spreader Stoker (Bituminous Coal)                                                              & NA                                                                                             & NA                                                                                             &                                                                                                &                                                                                                &                                                                                               \\\\\n",
       "\t 10100205                                                                                       & Point                                                                                          & Ext Comb /Electric Gen /Bituminous Coal /Traveling Grate (Overfeed) Stoker                     & Fuel Comb - Electric Generation - Coal                                                         &                                                                                                &                                                                                                & External Combustion Boilers                                                                    & Electric Generation                                                                            & Bituminous/Subbituminous Coal                                                                  & Traveling Grate (Overfeed) Stoker (Bituminous Coal)                                            & NA                                                                                             & NA                                                                                             &                                                                                                &                                                                                                &                                                                                               \\\\\n",
       "\t 10100211                                                                                       & Point                                                                                          & Ext Comb /Electric Gen /Bituminous Coal /Wet Bottom (Tangential)                               & Fuel Comb - Electric Generation - Coal                                                         &                                                                                                &                                                                                                & External Combustion Boilers                                                                    & Electric Generation                                                                            & Bituminous/Subbituminous Coal                                                                  & Wet Bottom (Tangential) (Bituminous Coal)                                                      & NA                                                                                             & NA                                                                                             &                                                                                                &                                                                                                &                                                                                               \\\\\n",
       "\t 10100212                                                                                       & Point                                                                                          & Ext Comb /Electric Gen /Bituminous Coal /Pulverized Coal: Dry Bottom (Tangential)              & Fuel Comb - Electric Generation - Coal                                                         &                                                                                                &                                                                                                & External Combustion Boilers                                                                    & Electric Generation                                                                            & Bituminous/Subbituminous Coal                                                                  & Pulverized Coal: Dry Bottom (Tangential) (Bituminous Coal)                                     & NA                                                                                             & NA                                                                                             &                                                                                                &                                                                                                &                                                                                               \\\\\n",
       "\t 10100215                                                                                       & Point                                                                                          & Ext Comb /Electric Gen /Bituminous Coal /Cell Burner                                           & Fuel Comb - Electric Generation - Coal                                                         &                                                                                                &                                                                                                & External Combustion Boilers                                                                    & Electric Generation                                                                            & Bituminous/Subbituminous Coal                                                                  & Cell Burner (Bituminous Coal)                                                                  & NA                                                                                             & NA                                                                                             &                                                                                                &                                                                                                &                                                                                               \\\\\n",
       "\t 10100217                                                                                       & Point                                                                                          & Ext Comb /Electric Gen /Bituminous Coal /Atmospheric Fluidized Bed Combustion: Bubbling Bed    & Fuel Comb - Electric Generation - Coal                                                         &                                                                                                &                                                                                                & External Combustion Boilers                                                                    & Electric Generation                                                                            & Bituminous/Subbituminous Coal                                                                  & Atmospheric Fluidized Bed Combustion: Bubbling Bed (Bituminous Coal)                           & NA                                                                                             & NA                                                                                             &                                                                                                &                                                                                                &                                                                                               \\\\\n",
       "\t 10100218                                                                                       & Point                                                                                          & Ext Comb /Electric Gen /Bituminous Coal /Atmospheric Fluidized Bed Combustion: Circulating Bed & Fuel Comb - Electric Generation - Coal                                                         &                                                                                                &                                                                                                & External Combustion Boilers                                                                    & Electric Generation                                                                            & Bituminous/Subbituminous Coal                                                                  & Atmospheric Fluidized Bed Combustion: Circulating Bed (Bitum. Coal)                            & NA                                                                                             & NA                                                                                             &                                                                                                &                                                                                                &                                                                                               \\\\\n",
       "\t 10100221                                                                                       & Point                                                                                          & Ext Comb /Electric Gen /Subbituminous Coal /Pulverized Coal: Wet Bottom                        & Fuel Comb - Electric Generation - Coal                                                         &                                                                                                &                                                                                                & External Combustion Boilers                                                                    & Electric Generation                                                                            & Bituminous/Subbituminous Coal                                                                  & Pulverized Coal: Wet Bottom (Subbituminous Coal)                                               & NA                                                                                             & NA                                                                                             &                                                                                                &                                                                                                &                                                                                               \\\\\n",
       "\t 10100222                                                                                       & Point                                                                                          & Ext Comb /Electric Gen /Subbituminous Coal /Pulverized Coal: Dry Bottom                        & Fuel Comb - Electric Generation - Coal                                                         &                                                                                                &                                                                                                & External Combustion Boilers                                                                    & Electric Generation                                                                            & Bituminous/Subbituminous Coal                                                                  & Pulverized Coal: Dry Bottom (Subbituminous Coal)                                               & NA                                                                                             & NA                                                                                             &                                                                                                &                                                                                                &                                                                                               \\\\\n",
       "\t 10100223                                                                                       & Point                                                                                          & Ext Comb /Electric Gen /Subbituminous Coal /Cyclone Furnace                                    & Fuel Comb - Electric Generation - Coal                                                         &                                                                                                &                                                                                                & External Combustion Boilers                                                                    & Electric Generation                                                                            & Bituminous/Subbituminous Coal                                                                  & Cyclone Furnace (Subbituminous Coal)                                                           & NA                                                                                             & NA                                                                                             &                                                                                                &                                                                                                &                                                                                               \\\\\n",
       "\\end{tabular}\n"
      ],
      "text/markdown": [
       "\n",
       "SCC | Data.Category | Short.Name | EI.Sector | Option.Group | Option.Set | SCC.Level.One | SCC.Level.Two | SCC.Level.Three | SCC.Level.Four | Map.To | Last.Inventory.Year | Created_Date | Revised_Date | Usage.Notes | \n",
       "|---|---|---|---|---|---|---|---|---|---|---|---|---|---|---|\n",
       "| 10100101                                                                                       | Point                                                                                          | Ext Comb /Electric Gen /Anthracite Coal /Pulverized Coal                                       | Fuel Comb - Electric Generation - Coal                                                         |                                                                                                |                                                                                                | External Combustion Boilers                                                                    | Electric Generation                                                                            | Anthracite Coal                                                                                | Pulverized Coal                                                                                | NA                                                                                             | NA                                                                                             |                                                                                                |                                                                                                |                                                                                                | \n",
       "| 10100102                                                                                       | Point                                                                                          | Ext Comb /Electric Gen /Anthracite Coal /Traveling Grate (Overfeed) Stoker                     | Fuel Comb - Electric Generation - Coal                                                         |                                                                                                |                                                                                                | External Combustion Boilers                                                                    | Electric Generation                                                                            | Anthracite Coal                                                                                | Traveling Grate (Overfeed) Stoker                                                              | NA                                                                                             | NA                                                                                             |                                                                                                |                                                                                                |                                                                                                | \n",
       "| 10100201                                                                                       | Point                                                                                          | Ext Comb /Electric Gen /Bituminous Coal /Pulverized Coal: Wet Bottom                           | Fuel Comb - Electric Generation - Coal                                                         |                                                                                                |                                                                                                | External Combustion Boilers                                                                    | Electric Generation                                                                            | Bituminous/Subbituminous Coal                                                                  | Pulverized Coal: Wet Bottom (Bituminous Coal)                                                  | NA                                                                                             | NA                                                                                             |                                                                                                |                                                                                                |                                                                                                | \n",
       "| 10100202                                                                                       | Point                                                                                          | Ext Comb /Electric Gen /Bituminous Coal /Pulverized Coal: Dry Bottom                           | Fuel Comb - Electric Generation - Coal                                                         |                                                                                                |                                                                                                | External Combustion Boilers                                                                    | Electric Generation                                                                            | Bituminous/Subbituminous Coal                                                                  | Pulverized Coal: Dry Bottom (Bituminous Coal)                                                  | NA                                                                                             | NA                                                                                             |                                                                                                |                                                                                                |                                                                                                | \n",
       "| 10100203                                                                                       | Point                                                                                          | Ext Comb /Electric Gen /Bituminous Coal /Cyclone Furnace                                       | Fuel Comb - Electric Generation - Coal                                                         |                                                                                                |                                                                                                | External Combustion Boilers                                                                    | Electric Generation                                                                            | Bituminous/Subbituminous Coal                                                                  | Cyclone Furnace (Bituminous Coal)                                                              | NA                                                                                             | NA                                                                                             |                                                                                                |                                                                                                |                                                                                                | \n",
       "| 10100204                                                                                       | Point                                                                                          | Ext Comb /Electric Gen /Bituminous Coal /Spreader Stoker                                       | Fuel Comb - Electric Generation - Coal                                                         |                                                                                                |                                                                                                | External Combustion Boilers                                                                    | Electric Generation                                                                            | Bituminous/Subbituminous Coal                                                                  | Spreader Stoker (Bituminous Coal)                                                              | NA                                                                                             | NA                                                                                             |                                                                                                |                                                                                                |                                                                                                | \n",
       "| 10100205                                                                                       | Point                                                                                          | Ext Comb /Electric Gen /Bituminous Coal /Traveling Grate (Overfeed) Stoker                     | Fuel Comb - Electric Generation - Coal                                                         |                                                                                                |                                                                                                | External Combustion Boilers                                                                    | Electric Generation                                                                            | Bituminous/Subbituminous Coal                                                                  | Traveling Grate (Overfeed) Stoker (Bituminous Coal)                                            | NA                                                                                             | NA                                                                                             |                                                                                                |                                                                                                |                                                                                                | \n",
       "| 10100211                                                                                       | Point                                                                                          | Ext Comb /Electric Gen /Bituminous Coal /Wet Bottom (Tangential)                               | Fuel Comb - Electric Generation - Coal                                                         |                                                                                                |                                                                                                | External Combustion Boilers                                                                    | Electric Generation                                                                            | Bituminous/Subbituminous Coal                                                                  | Wet Bottom (Tangential) (Bituminous Coal)                                                      | NA                                                                                             | NA                                                                                             |                                                                                                |                                                                                                |                                                                                                | \n",
       "| 10100212                                                                                       | Point                                                                                          | Ext Comb /Electric Gen /Bituminous Coal /Pulverized Coal: Dry Bottom (Tangential)              | Fuel Comb - Electric Generation - Coal                                                         |                                                                                                |                                                                                                | External Combustion Boilers                                                                    | Electric Generation                                                                            | Bituminous/Subbituminous Coal                                                                  | Pulverized Coal: Dry Bottom (Tangential) (Bituminous Coal)                                     | NA                                                                                             | NA                                                                                             |                                                                                                |                                                                                                |                                                                                                | \n",
       "| 10100215                                                                                       | Point                                                                                          | Ext Comb /Electric Gen /Bituminous Coal /Cell Burner                                           | Fuel Comb - Electric Generation - Coal                                                         |                                                                                                |                                                                                                | External Combustion Boilers                                                                    | Electric Generation                                                                            | Bituminous/Subbituminous Coal                                                                  | Cell Burner (Bituminous Coal)                                                                  | NA                                                                                             | NA                                                                                             |                                                                                                |                                                                                                |                                                                                                | \n",
       "| 10100217                                                                                       | Point                                                                                          | Ext Comb /Electric Gen /Bituminous Coal /Atmospheric Fluidized Bed Combustion: Bubbling Bed    | Fuel Comb - Electric Generation - Coal                                                         |                                                                                                |                                                                                                | External Combustion Boilers                                                                    | Electric Generation                                                                            | Bituminous/Subbituminous Coal                                                                  | Atmospheric Fluidized Bed Combustion: Bubbling Bed (Bituminous Coal)                           | NA                                                                                             | NA                                                                                             |                                                                                                |                                                                                                |                                                                                                | \n",
       "| 10100218                                                                                       | Point                                                                                          | Ext Comb /Electric Gen /Bituminous Coal /Atmospheric Fluidized Bed Combustion: Circulating Bed | Fuel Comb - Electric Generation - Coal                                                         |                                                                                                |                                                                                                | External Combustion Boilers                                                                    | Electric Generation                                                                            | Bituminous/Subbituminous Coal                                                                  | Atmospheric Fluidized Bed Combustion: Circulating Bed (Bitum. Coal)                            | NA                                                                                             | NA                                                                                             |                                                                                                |                                                                                                |                                                                                                | \n",
       "| 10100221                                                                                       | Point                                                                                          | Ext Comb /Electric Gen /Subbituminous Coal /Pulverized Coal: Wet Bottom                        | Fuel Comb - Electric Generation - Coal                                                         |                                                                                                |                                                                                                | External Combustion Boilers                                                                    | Electric Generation                                                                            | Bituminous/Subbituminous Coal                                                                  | Pulverized Coal: Wet Bottom (Subbituminous Coal)                                               | NA                                                                                             | NA                                                                                             |                                                                                                |                                                                                                |                                                                                                | \n",
       "| 10100222                                                                                       | Point                                                                                          | Ext Comb /Electric Gen /Subbituminous Coal /Pulverized Coal: Dry Bottom                        | Fuel Comb - Electric Generation - Coal                                                         |                                                                                                |                                                                                                | External Combustion Boilers                                                                    | Electric Generation                                                                            | Bituminous/Subbituminous Coal                                                                  | Pulverized Coal: Dry Bottom (Subbituminous Coal)                                               | NA                                                                                             | NA                                                                                             |                                                                                                |                                                                                                |                                                                                                | \n",
       "| 10100223                                                                                       | Point                                                                                          | Ext Comb /Electric Gen /Subbituminous Coal /Cyclone Furnace                                    | Fuel Comb - Electric Generation - Coal                                                         |                                                                                                |                                                                                                | External Combustion Boilers                                                                    | Electric Generation                                                                            | Bituminous/Subbituminous Coal                                                                  | Cyclone Furnace (Subbituminous Coal)                                                           | NA                                                                                             | NA                                                                                             |                                                                                                |                                                                                                |                                                                                                | \n",
       "\n",
       "\n"
      ],
      "text/plain": [
       "   SCC      Data.Category\n",
       "1  10100101 Point        \n",
       "2  10100102 Point        \n",
       "3  10100201 Point        \n",
       "4  10100202 Point        \n",
       "5  10100203 Point        \n",
       "6  10100204 Point        \n",
       "7  10100205 Point        \n",
       "8  10100211 Point        \n",
       "9  10100212 Point        \n",
       "10 10100215 Point        \n",
       "11 10100217 Point        \n",
       "12 10100218 Point        \n",
       "13 10100221 Point        \n",
       "14 10100222 Point        \n",
       "15 10100223 Point        \n",
       "   Short.Name                                                                                    \n",
       "1  Ext Comb /Electric Gen /Anthracite Coal /Pulverized Coal                                      \n",
       "2  Ext Comb /Electric Gen /Anthracite Coal /Traveling Grate (Overfeed) Stoker                    \n",
       "3  Ext Comb /Electric Gen /Bituminous Coal /Pulverized Coal: Wet Bottom                          \n",
       "4  Ext Comb /Electric Gen /Bituminous Coal /Pulverized Coal: Dry Bottom                          \n",
       "5  Ext Comb /Electric Gen /Bituminous Coal /Cyclone Furnace                                      \n",
       "6  Ext Comb /Electric Gen /Bituminous Coal /Spreader Stoker                                      \n",
       "7  Ext Comb /Electric Gen /Bituminous Coal /Traveling Grate (Overfeed) Stoker                    \n",
       "8  Ext Comb /Electric Gen /Bituminous Coal /Wet Bottom (Tangential)                              \n",
       "9  Ext Comb /Electric Gen /Bituminous Coal /Pulverized Coal: Dry Bottom (Tangential)             \n",
       "10 Ext Comb /Electric Gen /Bituminous Coal /Cell Burner                                          \n",
       "11 Ext Comb /Electric Gen /Bituminous Coal /Atmospheric Fluidized Bed Combustion: Bubbling Bed   \n",
       "12 Ext Comb /Electric Gen /Bituminous Coal /Atmospheric Fluidized Bed Combustion: Circulating Bed\n",
       "13 Ext Comb /Electric Gen /Subbituminous Coal /Pulverized Coal: Wet Bottom                       \n",
       "14 Ext Comb /Electric Gen /Subbituminous Coal /Pulverized Coal: Dry Bottom                       \n",
       "15 Ext Comb /Electric Gen /Subbituminous Coal /Cyclone Furnace                                   \n",
       "   EI.Sector                              Option.Group Option.Set\n",
       "1  Fuel Comb - Electric Generation - Coal                        \n",
       "2  Fuel Comb - Electric Generation - Coal                        \n",
       "3  Fuel Comb - Electric Generation - Coal                        \n",
       "4  Fuel Comb - Electric Generation - Coal                        \n",
       "5  Fuel Comb - Electric Generation - Coal                        \n",
       "6  Fuel Comb - Electric Generation - Coal                        \n",
       "7  Fuel Comb - Electric Generation - Coal                        \n",
       "8  Fuel Comb - Electric Generation - Coal                        \n",
       "9  Fuel Comb - Electric Generation - Coal                        \n",
       "10 Fuel Comb - Electric Generation - Coal                        \n",
       "11 Fuel Comb - Electric Generation - Coal                        \n",
       "12 Fuel Comb - Electric Generation - Coal                        \n",
       "13 Fuel Comb - Electric Generation - Coal                        \n",
       "14 Fuel Comb - Electric Generation - Coal                        \n",
       "15 Fuel Comb - Electric Generation - Coal                        \n",
       "   SCC.Level.One               SCC.Level.Two      \n",
       "1  External Combustion Boilers Electric Generation\n",
       "2  External Combustion Boilers Electric Generation\n",
       "3  External Combustion Boilers Electric Generation\n",
       "4  External Combustion Boilers Electric Generation\n",
       "5  External Combustion Boilers Electric Generation\n",
       "6  External Combustion Boilers Electric Generation\n",
       "7  External Combustion Boilers Electric Generation\n",
       "8  External Combustion Boilers Electric Generation\n",
       "9  External Combustion Boilers Electric Generation\n",
       "10 External Combustion Boilers Electric Generation\n",
       "11 External Combustion Boilers Electric Generation\n",
       "12 External Combustion Boilers Electric Generation\n",
       "13 External Combustion Boilers Electric Generation\n",
       "14 External Combustion Boilers Electric Generation\n",
       "15 External Combustion Boilers Electric Generation\n",
       "   SCC.Level.Three              \n",
       "1  Anthracite Coal              \n",
       "2  Anthracite Coal              \n",
       "3  Bituminous/Subbituminous Coal\n",
       "4  Bituminous/Subbituminous Coal\n",
       "5  Bituminous/Subbituminous Coal\n",
       "6  Bituminous/Subbituminous Coal\n",
       "7  Bituminous/Subbituminous Coal\n",
       "8  Bituminous/Subbituminous Coal\n",
       "9  Bituminous/Subbituminous Coal\n",
       "10 Bituminous/Subbituminous Coal\n",
       "11 Bituminous/Subbituminous Coal\n",
       "12 Bituminous/Subbituminous Coal\n",
       "13 Bituminous/Subbituminous Coal\n",
       "14 Bituminous/Subbituminous Coal\n",
       "15 Bituminous/Subbituminous Coal\n",
       "   SCC.Level.Four                                                       Map.To\n",
       "1  Pulverized Coal                                                      NA    \n",
       "2  Traveling Grate (Overfeed) Stoker                                    NA    \n",
       "3  Pulverized Coal: Wet Bottom (Bituminous Coal)                        NA    \n",
       "4  Pulverized Coal: Dry Bottom (Bituminous Coal)                        NA    \n",
       "5  Cyclone Furnace (Bituminous Coal)                                    NA    \n",
       "6  Spreader Stoker (Bituminous Coal)                                    NA    \n",
       "7  Traveling Grate (Overfeed) Stoker (Bituminous Coal)                  NA    \n",
       "8  Wet Bottom (Tangential) (Bituminous Coal)                            NA    \n",
       "9  Pulverized Coal: Dry Bottom (Tangential) (Bituminous Coal)           NA    \n",
       "10 Cell Burner (Bituminous Coal)                                        NA    \n",
       "11 Atmospheric Fluidized Bed Combustion: Bubbling Bed (Bituminous Coal) NA    \n",
       "12 Atmospheric Fluidized Bed Combustion: Circulating Bed (Bitum. Coal)  NA    \n",
       "13 Pulverized Coal: Wet Bottom (Subbituminous Coal)                     NA    \n",
       "14 Pulverized Coal: Dry Bottom (Subbituminous Coal)                     NA    \n",
       "15 Cyclone Furnace (Subbituminous Coal)                                 NA    \n",
       "   Last.Inventory.Year Created_Date Revised_Date Usage.Notes\n",
       "1  NA                                                       \n",
       "2  NA                                                       \n",
       "3  NA                                                       \n",
       "4  NA                                                       \n",
       "5  NA                                                       \n",
       "6  NA                                                       \n",
       "7  NA                                                       \n",
       "8  NA                                                       \n",
       "9  NA                                                       \n",
       "10 NA                                                       \n",
       "11 NA                                                       \n",
       "12 NA                                                       \n",
       "13 NA                                                       \n",
       "14 NA                                                       \n",
       "15 NA                                                       "
      ]
     },
     "metadata": {},
     "output_type": "display_data"
    }
   ],
   "source": [
    "head(SCC.coal, 15)"
   ]
  },
  {
   "cell_type": "code",
   "execution_count": 44,
   "metadata": {},
   "outputs": [],
   "source": [
    "NEI.coal <- filter(NEI, SCC %in% SCC.coal$SCC)"
   ]
  },
  {
   "cell_type": "code",
   "execution_count": 45,
   "metadata": {},
   "outputs": [
    {
     "data": {
      "text/html": [
       "<table>\n",
       "<thead><tr><th scope=col>fips</th><th scope=col>SCC</th><th scope=col>Pollutant</th><th scope=col>Emissions</th><th scope=col>type</th><th scope=col>year</th></tr></thead>\n",
       "<tbody>\n",
       "\t<tr><td>09011     </td><td>10100217  </td><td>PM25-PRI  </td><td>479.907   </td><td>POINT     </td><td>1999      </td></tr>\n",
       "\t<tr><td>23001     </td><td>2102001000</td><td>PM25-PRI  </td><td>  0.054   </td><td>NONPOINT  </td><td>1999      </td></tr>\n",
       "\t<tr><td>23001     </td><td>2103002000</td><td>PM25-PRI  </td><td>  0.231   </td><td>NONPOINT  </td><td>1999      </td></tr>\n",
       "\t<tr><td>23003     </td><td>2102001000</td><td>PM25-PRI  </td><td>  0.032   </td><td>NONPOINT  </td><td>1999      </td></tr>\n",
       "\t<tr><td>23003     </td><td>2103002000</td><td>PM25-PRI  </td><td>  0.194   </td><td>NONPOINT  </td><td>1999      </td></tr>\n",
       "\t<tr><td>23005     </td><td>10200202  </td><td>PM25-PRI  </td><td>  0.119   </td><td>POINT     </td><td>1999      </td></tr>\n",
       "\t<tr><td>23005     </td><td>2102001000</td><td>PM25-PRI  </td><td>  0.065   </td><td>NONPOINT  </td><td>1999      </td></tr>\n",
       "\t<tr><td>23005     </td><td>2103002000</td><td>PM25-PRI  </td><td>  0.531   </td><td>NONPOINT  </td><td>1999      </td></tr>\n",
       "\t<tr><td>23007     </td><td>2102001000</td><td>PM25-PRI  </td><td>  0.010   </td><td>NONPOINT  </td><td>1999      </td></tr>\n",
       "\t<tr><td>23007     </td><td>2103002000</td><td>PM25-PRI  </td><td>  0.060   </td><td>NONPOINT  </td><td>1999      </td></tr>\n",
       "\t<tr><td>23009     </td><td>10200219  </td><td>PM25-PRI  </td><td>  3.419   </td><td>POINT     </td><td>1999      </td></tr>\n",
       "\t<tr><td>23009     </td><td>2102001000</td><td>PM25-PRI  </td><td>  0.003   </td><td>NONPOINT  </td><td>1999      </td></tr>\n",
       "\t<tr><td>23009     </td><td>2103002000</td><td>PM25-PRI  </td><td>  0.100   </td><td>NONPOINT  </td><td>1999      </td></tr>\n",
       "\t<tr><td>23011     </td><td>2102001000</td><td>PM25-PRI  </td><td>  0.003   </td><td>NONPOINT  </td><td>1999      </td></tr>\n",
       "\t<tr><td>23011     </td><td>2103002000</td><td>PM25-PRI  </td><td>  0.247   </td><td>NONPOINT  </td><td>1999      </td></tr>\n",
       "\t<tr><td>23013     </td><td>2102001000</td><td>PM25-PRI  </td><td>  0.011   </td><td>NONPOINT  </td><td>1999      </td></tr>\n",
       "\t<tr><td>23013     </td><td>2103002000</td><td>PM25-PRI  </td><td>  0.140   </td><td>NONPOINT  </td><td>1999      </td></tr>\n",
       "\t<tr><td>23015     </td><td>2103002000</td><td>PM25-PRI  </td><td>  0.060   </td><td>NONPOINT  </td><td>1999      </td></tr>\n",
       "\t<tr><td>23017     </td><td>10200219  </td><td>PM25-PRI  </td><td> 11.242   </td><td>POINT     </td><td>1999      </td></tr>\n",
       "\t<tr><td>23017     </td><td>2102001000</td><td>PM25-PRI  </td><td>  0.011   </td><td>NONPOINT  </td><td>1999      </td></tr>\n",
       "\t<tr><td>23017     </td><td>2103002000</td><td>PM25-PRI  </td><td>  0.107   </td><td>NONPOINT  </td><td>1999      </td></tr>\n",
       "\t<tr><td>23019     </td><td>2102001000</td><td>PM25-PRI  </td><td>  0.043   </td><td>NONPOINT  </td><td>1999      </td></tr>\n",
       "\t<tr><td>23019     </td><td>2103002000</td><td>PM25-PRI  </td><td>  0.314   </td><td>NONPOINT  </td><td>1999      </td></tr>\n",
       "\t<tr><td>23021     </td><td>2102001000</td><td>PM25-PRI  </td><td>  0.011   </td><td>NONPOINT  </td><td>1999      </td></tr>\n",
       "\t<tr><td>23021     </td><td>2103002000</td><td>PM25-PRI  </td><td>  0.030   </td><td>NONPOINT  </td><td>1999      </td></tr>\n",
       "\t<tr><td>23023     </td><td>2103002000</td><td>PM25-PRI  </td><td>  0.077   </td><td>NONPOINT  </td><td>1999      </td></tr>\n",
       "\t<tr><td>23025     </td><td>2102001000</td><td>PM25-PRI  </td><td>  0.022   </td><td>NONPOINT  </td><td>1999      </td></tr>\n",
       "\t<tr><td>23025     </td><td>2103002000</td><td>PM25-PRI  </td><td>  0.107   </td><td>NONPOINT  </td><td>1999      </td></tr>\n",
       "\t<tr><td>23027     </td><td>2102001000</td><td>PM25-PRI  </td><td>  0.011   </td><td>NONPOINT  </td><td>1999      </td></tr>\n",
       "\t<tr><td>23027     </td><td>2103002000</td><td>PM25-PRI  </td><td>  0.077   </td><td>NONPOINT  </td><td>1999      </td></tr>\n",
       "\t<tr><td>⋮</td><td>⋮</td><td>⋮</td><td>⋮</td><td>⋮</td><td>⋮</td></tr>\n",
       "\t<tr><td>13053      </td><td>2103001000 </td><td>PM25-PRI   </td><td>0.00000e+00</td><td>NONPOINT   </td><td>2008       </td></tr>\n",
       "\t<tr><td>13233      </td><td>2103002000 </td><td>PM25-PRI   </td><td>4.83393e-03</td><td>NONPOINT   </td><td>2008       </td></tr>\n",
       "\t<tr><td>13267      </td><td>2103001000 </td><td>PM25-PRI   </td><td>0.00000e+00</td><td>NONPOINT   </td><td>2008       </td></tr>\n",
       "\t<tr><td>20003      </td><td>2102001000 </td><td>PM25-PRI   </td><td>0.00000e+00</td><td>NONPOINT   </td><td>2008       </td></tr>\n",
       "\t<tr><td>17043      </td><td>2102002000 </td><td>PM25-PRI   </td><td>0.00000e+00</td><td>NONPOINT   </td><td>2008       </td></tr>\n",
       "\t<tr><td>51840      </td><td>2102002000 </td><td>PM25-PRI   </td><td>1.02243e+01</td><td>NONPOINT   </td><td>2008       </td></tr>\n",
       "\t<tr><td>46045      </td><td>2103001000 </td><td>PM25-PRI   </td><td>0.00000e+00</td><td>NONPOINT   </td><td>2008       </td></tr>\n",
       "\t<tr><td>51029      </td><td>2102002000 </td><td>PM25-PRI   </td><td>1.10290e+00</td><td>NONPOINT   </td><td>2008       </td></tr>\n",
       "\t<tr><td>13189      </td><td>2103002000 </td><td>PM25-PRI   </td><td>3.64052e-03</td><td>NONPOINT   </td><td>2008       </td></tr>\n",
       "\t<tr><td>34019      </td><td>2102001000 </td><td>PM25-PRI   </td><td>0.00000e+00</td><td>NONPOINT   </td><td>2008       </td></tr>\n",
       "\t<tr><td>13239      </td><td>2102002000 </td><td>PM25-PRI   </td><td>8.79895e-02</td><td>NONPOINT   </td><td>2008       </td></tr>\n",
       "\t<tr><td>17115      </td><td>2103001000 </td><td>PM25-PRI   </td><td>0.00000e+00</td><td>NONPOINT   </td><td>2008       </td></tr>\n",
       "\t<tr><td>40037      </td><td>2102002000 </td><td>PM25-PRI   </td><td>6.24123e-01</td><td>NONPOINT   </td><td>2008       </td></tr>\n",
       "\t<tr><td>34037      </td><td>2102002000 </td><td>PM25-PRI   </td><td>0.00000e+00</td><td>NONPOINT   </td><td>2008       </td></tr>\n",
       "\t<tr><td>47085      </td><td>2102002000 </td><td>PM25-PRI   </td><td>0.00000e+00</td><td>NONPOINT   </td><td>2008       </td></tr>\n",
       "\t<tr><td>46137      </td><td>2103002000 </td><td>PM25-PRI   </td><td>1.97605e-04</td><td>NONPOINT   </td><td>2008       </td></tr>\n",
       "\t<tr><td>13285      </td><td>2102002000 </td><td>PM25-PRI   </td><td>8.67004e+00</td><td>NONPOINT   </td><td>2008       </td></tr>\n",
       "\t<tr><td>47119      </td><td>2102002000 </td><td>PM25-PRI   </td><td>6.32940e+01</td><td>NONPOINT   </td><td>2008       </td></tr>\n",
       "\t<tr><td>01039      </td><td>2102002000 </td><td>PM25-PRI   </td><td>0.00000e+00</td><td>NONPOINT   </td><td>2008       </td></tr>\n",
       "\t<tr><td>01055      </td><td>2103002000 </td><td>PM25-PRI   </td><td>0.00000e+00</td><td>NONPOINT   </td><td>2008       </td></tr>\n",
       "\t<tr><td>51036      </td><td>2102002000 </td><td>PM25-PRI   </td><td>1.67520e+00</td><td>NONPOINT   </td><td>2008       </td></tr>\n",
       "\t<tr><td>54065      </td><td>2102002000 </td><td>PM25-PRI   </td><td>3.85200e-01</td><td>NONPOINT   </td><td>2008       </td></tr>\n",
       "\t<tr><td>13195      </td><td>2103001000 </td><td>PM25-PRI   </td><td>0.00000e+00</td><td>NONPOINT   </td><td>2008       </td></tr>\n",
       "\t<tr><td>04015      </td><td>2103002000 </td><td>PM25-PRI   </td><td>2.18025e-02</td><td>NONPOINT   </td><td>2008       </td></tr>\n",
       "\t<tr><td>TR182      </td><td>2103002000 </td><td>PM25-PRI   </td><td>5.76100e+00</td><td>NONPOINT   </td><td>2008       </td></tr>\n",
       "\t<tr><td>TR182      </td><td>2102002000 </td><td>PM25-PRI   </td><td>0.00000e+00</td><td>NONPOINT   </td><td>2008       </td></tr>\n",
       "\t<tr><td>TR183      </td><td>2102002000 </td><td>PM25-PRI   </td><td>0.00000e+00</td><td>NONPOINT   </td><td>2008       </td></tr>\n",
       "\t<tr><td>TR183      </td><td>2103002000 </td><td>PM25-PRI   </td><td>3.86100e-02</td><td>NONPOINT   </td><td>2008       </td></tr>\n",
       "\t<tr><td>TR180      </td><td>2103002000 </td><td>PM25-PRI   </td><td>1.80900e+00</td><td>NONPOINT   </td><td>2008       </td></tr>\n",
       "\t<tr><td>TR180      </td><td>2102002000 </td><td>PM25-PRI   </td><td>0.00000e+00</td><td>NONPOINT   </td><td>2008       </td></tr>\n",
       "</tbody>\n",
       "</table>\n"
      ],
      "text/latex": [
       "\\begin{tabular}{r|llllll}\n",
       " fips & SCC & Pollutant & Emissions & type & year\\\\\n",
       "\\hline\n",
       "\t 09011      & 10100217   & PM25-PRI   & 479.907    & POINT      & 1999      \\\\\n",
       "\t 23001      & 2102001000 & PM25-PRI   &   0.054    & NONPOINT   & 1999      \\\\\n",
       "\t 23001      & 2103002000 & PM25-PRI   &   0.231    & NONPOINT   & 1999      \\\\\n",
       "\t 23003      & 2102001000 & PM25-PRI   &   0.032    & NONPOINT   & 1999      \\\\\n",
       "\t 23003      & 2103002000 & PM25-PRI   &   0.194    & NONPOINT   & 1999      \\\\\n",
       "\t 23005      & 10200202   & PM25-PRI   &   0.119    & POINT      & 1999      \\\\\n",
       "\t 23005      & 2102001000 & PM25-PRI   &   0.065    & NONPOINT   & 1999      \\\\\n",
       "\t 23005      & 2103002000 & PM25-PRI   &   0.531    & NONPOINT   & 1999      \\\\\n",
       "\t 23007      & 2102001000 & PM25-PRI   &   0.010    & NONPOINT   & 1999      \\\\\n",
       "\t 23007      & 2103002000 & PM25-PRI   &   0.060    & NONPOINT   & 1999      \\\\\n",
       "\t 23009      & 10200219   & PM25-PRI   &   3.419    & POINT      & 1999      \\\\\n",
       "\t 23009      & 2102001000 & PM25-PRI   &   0.003    & NONPOINT   & 1999      \\\\\n",
       "\t 23009      & 2103002000 & PM25-PRI   &   0.100    & NONPOINT   & 1999      \\\\\n",
       "\t 23011      & 2102001000 & PM25-PRI   &   0.003    & NONPOINT   & 1999      \\\\\n",
       "\t 23011      & 2103002000 & PM25-PRI   &   0.247    & NONPOINT   & 1999      \\\\\n",
       "\t 23013      & 2102001000 & PM25-PRI   &   0.011    & NONPOINT   & 1999      \\\\\n",
       "\t 23013      & 2103002000 & PM25-PRI   &   0.140    & NONPOINT   & 1999      \\\\\n",
       "\t 23015      & 2103002000 & PM25-PRI   &   0.060    & NONPOINT   & 1999      \\\\\n",
       "\t 23017      & 10200219   & PM25-PRI   &  11.242    & POINT      & 1999      \\\\\n",
       "\t 23017      & 2102001000 & PM25-PRI   &   0.011    & NONPOINT   & 1999      \\\\\n",
       "\t 23017      & 2103002000 & PM25-PRI   &   0.107    & NONPOINT   & 1999      \\\\\n",
       "\t 23019      & 2102001000 & PM25-PRI   &   0.043    & NONPOINT   & 1999      \\\\\n",
       "\t 23019      & 2103002000 & PM25-PRI   &   0.314    & NONPOINT   & 1999      \\\\\n",
       "\t 23021      & 2102001000 & PM25-PRI   &   0.011    & NONPOINT   & 1999      \\\\\n",
       "\t 23021      & 2103002000 & PM25-PRI   &   0.030    & NONPOINT   & 1999      \\\\\n",
       "\t 23023      & 2103002000 & PM25-PRI   &   0.077    & NONPOINT   & 1999      \\\\\n",
       "\t 23025      & 2102001000 & PM25-PRI   &   0.022    & NONPOINT   & 1999      \\\\\n",
       "\t 23025      & 2103002000 & PM25-PRI   &   0.107    & NONPOINT   & 1999      \\\\\n",
       "\t 23027      & 2102001000 & PM25-PRI   &   0.011    & NONPOINT   & 1999      \\\\\n",
       "\t 23027      & 2103002000 & PM25-PRI   &   0.077    & NONPOINT   & 1999      \\\\\n",
       "\t ⋮ & ⋮ & ⋮ & ⋮ & ⋮ & ⋮\\\\\n",
       "\t 13053       & 2103001000  & PM25-PRI    & 0.00000e+00 & NONPOINT    & 2008       \\\\\n",
       "\t 13233       & 2103002000  & PM25-PRI    & 4.83393e-03 & NONPOINT    & 2008       \\\\\n",
       "\t 13267       & 2103001000  & PM25-PRI    & 0.00000e+00 & NONPOINT    & 2008       \\\\\n",
       "\t 20003       & 2102001000  & PM25-PRI    & 0.00000e+00 & NONPOINT    & 2008       \\\\\n",
       "\t 17043       & 2102002000  & PM25-PRI    & 0.00000e+00 & NONPOINT    & 2008       \\\\\n",
       "\t 51840       & 2102002000  & PM25-PRI    & 1.02243e+01 & NONPOINT    & 2008       \\\\\n",
       "\t 46045       & 2103001000  & PM25-PRI    & 0.00000e+00 & NONPOINT    & 2008       \\\\\n",
       "\t 51029       & 2102002000  & PM25-PRI    & 1.10290e+00 & NONPOINT    & 2008       \\\\\n",
       "\t 13189       & 2103002000  & PM25-PRI    & 3.64052e-03 & NONPOINT    & 2008       \\\\\n",
       "\t 34019       & 2102001000  & PM25-PRI    & 0.00000e+00 & NONPOINT    & 2008       \\\\\n",
       "\t 13239       & 2102002000  & PM25-PRI    & 8.79895e-02 & NONPOINT    & 2008       \\\\\n",
       "\t 17115       & 2103001000  & PM25-PRI    & 0.00000e+00 & NONPOINT    & 2008       \\\\\n",
       "\t 40037       & 2102002000  & PM25-PRI    & 6.24123e-01 & NONPOINT    & 2008       \\\\\n",
       "\t 34037       & 2102002000  & PM25-PRI    & 0.00000e+00 & NONPOINT    & 2008       \\\\\n",
       "\t 47085       & 2102002000  & PM25-PRI    & 0.00000e+00 & NONPOINT    & 2008       \\\\\n",
       "\t 46137       & 2103002000  & PM25-PRI    & 1.97605e-04 & NONPOINT    & 2008       \\\\\n",
       "\t 13285       & 2102002000  & PM25-PRI    & 8.67004e+00 & NONPOINT    & 2008       \\\\\n",
       "\t 47119       & 2102002000  & PM25-PRI    & 6.32940e+01 & NONPOINT    & 2008       \\\\\n",
       "\t 01039       & 2102002000  & PM25-PRI    & 0.00000e+00 & NONPOINT    & 2008       \\\\\n",
       "\t 01055       & 2103002000  & PM25-PRI    & 0.00000e+00 & NONPOINT    & 2008       \\\\\n",
       "\t 51036       & 2102002000  & PM25-PRI    & 1.67520e+00 & NONPOINT    & 2008       \\\\\n",
       "\t 54065       & 2102002000  & PM25-PRI    & 3.85200e-01 & NONPOINT    & 2008       \\\\\n",
       "\t 13195       & 2103001000  & PM25-PRI    & 0.00000e+00 & NONPOINT    & 2008       \\\\\n",
       "\t 04015       & 2103002000  & PM25-PRI    & 2.18025e-02 & NONPOINT    & 2008       \\\\\n",
       "\t TR182       & 2103002000  & PM25-PRI    & 5.76100e+00 & NONPOINT    & 2008       \\\\\n",
       "\t TR182       & 2102002000  & PM25-PRI    & 0.00000e+00 & NONPOINT    & 2008       \\\\\n",
       "\t TR183       & 2102002000  & PM25-PRI    & 0.00000e+00 & NONPOINT    & 2008       \\\\\n",
       "\t TR183       & 2103002000  & PM25-PRI    & 3.86100e-02 & NONPOINT    & 2008       \\\\\n",
       "\t TR180       & 2103002000  & PM25-PRI    & 1.80900e+00 & NONPOINT    & 2008       \\\\\n",
       "\t TR180       & 2102002000  & PM25-PRI    & 0.00000e+00 & NONPOINT    & 2008       \\\\\n",
       "\\end{tabular}\n"
      ],
      "text/markdown": [
       "\n",
       "fips | SCC | Pollutant | Emissions | type | year | \n",
       "|---|---|---|---|---|---|---|---|---|---|---|---|---|---|---|---|---|---|---|---|---|---|---|---|---|---|---|---|---|---|---|---|---|---|---|---|---|---|---|---|---|---|---|---|---|---|---|---|---|---|---|---|---|---|---|---|---|---|---|---|---|\n",
       "| 09011      | 10100217   | PM25-PRI   | 479.907    | POINT      | 1999       | \n",
       "| 23001      | 2102001000 | PM25-PRI   |   0.054    | NONPOINT   | 1999       | \n",
       "| 23001      | 2103002000 | PM25-PRI   |   0.231    | NONPOINT   | 1999       | \n",
       "| 23003      | 2102001000 | PM25-PRI   |   0.032    | NONPOINT   | 1999       | \n",
       "| 23003      | 2103002000 | PM25-PRI   |   0.194    | NONPOINT   | 1999       | \n",
       "| 23005      | 10200202   | PM25-PRI   |   0.119    | POINT      | 1999       | \n",
       "| 23005      | 2102001000 | PM25-PRI   |   0.065    | NONPOINT   | 1999       | \n",
       "| 23005      | 2103002000 | PM25-PRI   |   0.531    | NONPOINT   | 1999       | \n",
       "| 23007      | 2102001000 | PM25-PRI   |   0.010    | NONPOINT   | 1999       | \n",
       "| 23007      | 2103002000 | PM25-PRI   |   0.060    | NONPOINT   | 1999       | \n",
       "| 23009      | 10200219   | PM25-PRI   |   3.419    | POINT      | 1999       | \n",
       "| 23009      | 2102001000 | PM25-PRI   |   0.003    | NONPOINT   | 1999       | \n",
       "| 23009      | 2103002000 | PM25-PRI   |   0.100    | NONPOINT   | 1999       | \n",
       "| 23011      | 2102001000 | PM25-PRI   |   0.003    | NONPOINT   | 1999       | \n",
       "| 23011      | 2103002000 | PM25-PRI   |   0.247    | NONPOINT   | 1999       | \n",
       "| 23013      | 2102001000 | PM25-PRI   |   0.011    | NONPOINT   | 1999       | \n",
       "| 23013      | 2103002000 | PM25-PRI   |   0.140    | NONPOINT   | 1999       | \n",
       "| 23015      | 2103002000 | PM25-PRI   |   0.060    | NONPOINT   | 1999       | \n",
       "| 23017      | 10200219   | PM25-PRI   |  11.242    | POINT      | 1999       | \n",
       "| 23017      | 2102001000 | PM25-PRI   |   0.011    | NONPOINT   | 1999       | \n",
       "| 23017      | 2103002000 | PM25-PRI   |   0.107    | NONPOINT   | 1999       | \n",
       "| 23019      | 2102001000 | PM25-PRI   |   0.043    | NONPOINT   | 1999       | \n",
       "| 23019      | 2103002000 | PM25-PRI   |   0.314    | NONPOINT   | 1999       | \n",
       "| 23021      | 2102001000 | PM25-PRI   |   0.011    | NONPOINT   | 1999       | \n",
       "| 23021      | 2103002000 | PM25-PRI   |   0.030    | NONPOINT   | 1999       | \n",
       "| 23023      | 2103002000 | PM25-PRI   |   0.077    | NONPOINT   | 1999       | \n",
       "| 23025      | 2102001000 | PM25-PRI   |   0.022    | NONPOINT   | 1999       | \n",
       "| 23025      | 2103002000 | PM25-PRI   |   0.107    | NONPOINT   | 1999       | \n",
       "| 23027      | 2102001000 | PM25-PRI   |   0.011    | NONPOINT   | 1999       | \n",
       "| 23027      | 2103002000 | PM25-PRI   |   0.077    | NONPOINT   | 1999       | \n",
       "| ⋮ | ⋮ | ⋮ | ⋮ | ⋮ | ⋮ | \n",
       "| 13053       | 2103001000  | PM25-PRI    | 0.00000e+00 | NONPOINT    | 2008        | \n",
       "| 13233       | 2103002000  | PM25-PRI    | 4.83393e-03 | NONPOINT    | 2008        | \n",
       "| 13267       | 2103001000  | PM25-PRI    | 0.00000e+00 | NONPOINT    | 2008        | \n",
       "| 20003       | 2102001000  | PM25-PRI    | 0.00000e+00 | NONPOINT    | 2008        | \n",
       "| 17043       | 2102002000  | PM25-PRI    | 0.00000e+00 | NONPOINT    | 2008        | \n",
       "| 51840       | 2102002000  | PM25-PRI    | 1.02243e+01 | NONPOINT    | 2008        | \n",
       "| 46045       | 2103001000  | PM25-PRI    | 0.00000e+00 | NONPOINT    | 2008        | \n",
       "| 51029       | 2102002000  | PM25-PRI    | 1.10290e+00 | NONPOINT    | 2008        | \n",
       "| 13189       | 2103002000  | PM25-PRI    | 3.64052e-03 | NONPOINT    | 2008        | \n",
       "| 34019       | 2102001000  | PM25-PRI    | 0.00000e+00 | NONPOINT    | 2008        | \n",
       "| 13239       | 2102002000  | PM25-PRI    | 8.79895e-02 | NONPOINT    | 2008        | \n",
       "| 17115       | 2103001000  | PM25-PRI    | 0.00000e+00 | NONPOINT    | 2008        | \n",
       "| 40037       | 2102002000  | PM25-PRI    | 6.24123e-01 | NONPOINT    | 2008        | \n",
       "| 34037       | 2102002000  | PM25-PRI    | 0.00000e+00 | NONPOINT    | 2008        | \n",
       "| 47085       | 2102002000  | PM25-PRI    | 0.00000e+00 | NONPOINT    | 2008        | \n",
       "| 46137       | 2103002000  | PM25-PRI    | 1.97605e-04 | NONPOINT    | 2008        | \n",
       "| 13285       | 2102002000  | PM25-PRI    | 8.67004e+00 | NONPOINT    | 2008        | \n",
       "| 47119       | 2102002000  | PM25-PRI    | 6.32940e+01 | NONPOINT    | 2008        | \n",
       "| 01039       | 2102002000  | PM25-PRI    | 0.00000e+00 | NONPOINT    | 2008        | \n",
       "| 01055       | 2103002000  | PM25-PRI    | 0.00000e+00 | NONPOINT    | 2008        | \n",
       "| 51036       | 2102002000  | PM25-PRI    | 1.67520e+00 | NONPOINT    | 2008        | \n",
       "| 54065       | 2102002000  | PM25-PRI    | 3.85200e-01 | NONPOINT    | 2008        | \n",
       "| 13195       | 2103001000  | PM25-PRI    | 0.00000e+00 | NONPOINT    | 2008        | \n",
       "| 04015       | 2103002000  | PM25-PRI    | 2.18025e-02 | NONPOINT    | 2008        | \n",
       "| TR182       | 2103002000  | PM25-PRI    | 5.76100e+00 | NONPOINT    | 2008        | \n",
       "| TR182       | 2102002000  | PM25-PRI    | 0.00000e+00 | NONPOINT    | 2008        | \n",
       "| TR183       | 2102002000  | PM25-PRI    | 0.00000e+00 | NONPOINT    | 2008        | \n",
       "| TR183       | 2103002000  | PM25-PRI    | 3.86100e-02 | NONPOINT    | 2008        | \n",
       "| TR180       | 2103002000  | PM25-PRI    | 1.80900e+00 | NONPOINT    | 2008        | \n",
       "| TR180       | 2102002000  | PM25-PRI    | 0.00000e+00 | NONPOINT    | 2008        | \n",
       "\n",
       "\n"
      ],
      "text/plain": [
       "      fips  SCC        Pollutant Emissions   type     year\n",
       "1     09011 10100217   PM25-PRI  479.907     POINT    1999\n",
       "2     23001 2102001000 PM25-PRI    0.054     NONPOINT 1999\n",
       "3     23001 2103002000 PM25-PRI    0.231     NONPOINT 1999\n",
       "4     23003 2102001000 PM25-PRI    0.032     NONPOINT 1999\n",
       "5     23003 2103002000 PM25-PRI    0.194     NONPOINT 1999\n",
       "6     23005 10200202   PM25-PRI    0.119     POINT    1999\n",
       "7     23005 2102001000 PM25-PRI    0.065     NONPOINT 1999\n",
       "8     23005 2103002000 PM25-PRI    0.531     NONPOINT 1999\n",
       "9     23007 2102001000 PM25-PRI    0.010     NONPOINT 1999\n",
       "10    23007 2103002000 PM25-PRI    0.060     NONPOINT 1999\n",
       "11    23009 10200219   PM25-PRI    3.419     POINT    1999\n",
       "12    23009 2102001000 PM25-PRI    0.003     NONPOINT 1999\n",
       "13    23009 2103002000 PM25-PRI    0.100     NONPOINT 1999\n",
       "14    23011 2102001000 PM25-PRI    0.003     NONPOINT 1999\n",
       "15    23011 2103002000 PM25-PRI    0.247     NONPOINT 1999\n",
       "16    23013 2102001000 PM25-PRI    0.011     NONPOINT 1999\n",
       "17    23013 2103002000 PM25-PRI    0.140     NONPOINT 1999\n",
       "18    23015 2103002000 PM25-PRI    0.060     NONPOINT 1999\n",
       "19    23017 10200219   PM25-PRI   11.242     POINT    1999\n",
       "20    23017 2102001000 PM25-PRI    0.011     NONPOINT 1999\n",
       "21    23017 2103002000 PM25-PRI    0.107     NONPOINT 1999\n",
       "22    23019 2102001000 PM25-PRI    0.043     NONPOINT 1999\n",
       "23    23019 2103002000 PM25-PRI    0.314     NONPOINT 1999\n",
       "24    23021 2102001000 PM25-PRI    0.011     NONPOINT 1999\n",
       "25    23021 2103002000 PM25-PRI    0.030     NONPOINT 1999\n",
       "26    23023 2103002000 PM25-PRI    0.077     NONPOINT 1999\n",
       "27    23025 2102001000 PM25-PRI    0.022     NONPOINT 1999\n",
       "28    23025 2103002000 PM25-PRI    0.107     NONPOINT 1999\n",
       "29    23027 2102001000 PM25-PRI    0.011     NONPOINT 1999\n",
       "30    23027 2103002000 PM25-PRI    0.077     NONPOINT 1999\n",
       "⋮     ⋮     ⋮          ⋮         ⋮           ⋮        ⋮   \n",
       "28451 13053 2103001000 PM25-PRI  0.00000e+00 NONPOINT 2008\n",
       "28452 13233 2103002000 PM25-PRI  4.83393e-03 NONPOINT 2008\n",
       "28453 13267 2103001000 PM25-PRI  0.00000e+00 NONPOINT 2008\n",
       "28454 20003 2102001000 PM25-PRI  0.00000e+00 NONPOINT 2008\n",
       "28455 17043 2102002000 PM25-PRI  0.00000e+00 NONPOINT 2008\n",
       "28456 51840 2102002000 PM25-PRI  1.02243e+01 NONPOINT 2008\n",
       "28457 46045 2103001000 PM25-PRI  0.00000e+00 NONPOINT 2008\n",
       "28458 51029 2102002000 PM25-PRI  1.10290e+00 NONPOINT 2008\n",
       "28459 13189 2103002000 PM25-PRI  3.64052e-03 NONPOINT 2008\n",
       "28460 34019 2102001000 PM25-PRI  0.00000e+00 NONPOINT 2008\n",
       "28461 13239 2102002000 PM25-PRI  8.79895e-02 NONPOINT 2008\n",
       "28462 17115 2103001000 PM25-PRI  0.00000e+00 NONPOINT 2008\n",
       "28463 40037 2102002000 PM25-PRI  6.24123e-01 NONPOINT 2008\n",
       "28464 34037 2102002000 PM25-PRI  0.00000e+00 NONPOINT 2008\n",
       "28465 47085 2102002000 PM25-PRI  0.00000e+00 NONPOINT 2008\n",
       "28466 46137 2103002000 PM25-PRI  1.97605e-04 NONPOINT 2008\n",
       "28467 13285 2102002000 PM25-PRI  8.67004e+00 NONPOINT 2008\n",
       "28468 47119 2102002000 PM25-PRI  6.32940e+01 NONPOINT 2008\n",
       "28469 01039 2102002000 PM25-PRI  0.00000e+00 NONPOINT 2008\n",
       "28470 01055 2103002000 PM25-PRI  0.00000e+00 NONPOINT 2008\n",
       "28471 51036 2102002000 PM25-PRI  1.67520e+00 NONPOINT 2008\n",
       "28472 54065 2102002000 PM25-PRI  3.85200e-01 NONPOINT 2008\n",
       "28473 13195 2103001000 PM25-PRI  0.00000e+00 NONPOINT 2008\n",
       "28474 04015 2103002000 PM25-PRI  2.18025e-02 NONPOINT 2008\n",
       "28475 TR182 2103002000 PM25-PRI  5.76100e+00 NONPOINT 2008\n",
       "28476 TR182 2102002000 PM25-PRI  0.00000e+00 NONPOINT 2008\n",
       "28477 TR183 2102002000 PM25-PRI  0.00000e+00 NONPOINT 2008\n",
       "28478 TR183 2103002000 PM25-PRI  3.86100e-02 NONPOINT 2008\n",
       "28479 TR180 2103002000 PM25-PRI  1.80900e+00 NONPOINT 2008\n",
       "28480 TR180 2102002000 PM25-PRI  0.00000e+00 NONPOINT 2008"
      ]
     },
     "metadata": {},
     "output_type": "display_data"
    }
   ],
   "source": [
    "NEI.coal"
   ]
  },
  {
   "cell_type": "code",
   "execution_count": 64,
   "metadata": {},
   "outputs": [],
   "source": [
    "NEI.coal %>% group_by(Year=year) %>% summarise(Emissions=sum(Emissions)) -> NEI.coal"
   ]
  },
  {
   "cell_type": "code",
   "execution_count": 69,
   "metadata": {},
   "outputs": [],
   "source": [
    "NEI.coal$Year <- as.factor(NEI.coal$Year)"
   ]
  },
  {
   "cell_type": "code",
   "execution_count": 72,
   "metadata": {},
   "outputs": [],
   "source": [
    "coal.plot <- ggplot(NEI.coal, aes(x=Year, y=Emissions)) + geom_col() + ylab(\"P2.5 Emissions (tons)\") + ggtitle(\"P2.5 Emissions from Coal Sources\")"
   ]
  },
  {
   "cell_type": "code",
   "execution_count": 73,
   "metadata": {},
   "outputs": [
    {
     "data": {
      "image/png": "[encoded data removed]",
      "text/plain": [
       "plot without title"
      ]
     },
     "metadata": {},
     "output_type": "display_data",
     "source": "R display func"
    }
   ],
   "source": [
    "print(coal.plot)"
   ]
  },
  {
   "cell_type": "code",
   "execution_count": null,
   "metadata": {},
   "outputs": [],
   "source": [
    "ggsave(\"plot4.png\", width=5, height=5)"
   ]
  },
  {
   "cell_type": "markdown",
   "metadata": {},
   "source": [
    "## Question 5\n",
    "How have emissions from motor vehicle sources changed from 1999–2008 in Baltimore City?"
   ]
  },
  {
   "cell_type": "code",
   "execution_count": 34,
   "metadata": {},
   "outputs": [],
   "source": [
    "library(ggplot2)"
   ]
  },
  {
   "cell_type": "code",
   "execution_count": 35,
   "metadata": {},
   "outputs": [],
   "source": [
    "library(dplyr)"
   ]
  },
  {
   "cell_type": "code",
   "execution_count": 13,
   "metadata": {},
   "outputs": [],
   "source": [
    "SCC.vehicles <- unique(SCC$EI.Sector)[grep(\"Vehicle\", unique(SCC$EI.Sector))]"
   ]
  },
  {
   "cell_type": "code",
   "execution_count": 14,
   "metadata": {},
   "outputs": [
    {
     "data": {
      "text/html": [
       "<ol class=list-inline>\n",
       "\t<li>Mobile - On-Road Gasoline Light Duty Vehicles</li>\n",
       "\t<li>Mobile - On-Road Gasoline Heavy Duty Vehicles</li>\n",
       "\t<li>Mobile - On-Road Diesel Light Duty Vehicles</li>\n",
       "\t<li>Mobile - On-Road Diesel Heavy Duty Vehicles</li>\n",
       "</ol>\n"
      ],
      "text/latex": [
       "\\begin{enumerate*}\n",
       "\\item Mobile - On-Road Gasoline Light Duty Vehicles\n",
       "\\item Mobile - On-Road Gasoline Heavy Duty Vehicles\n",
       "\\item Mobile - On-Road Diesel Light Duty Vehicles\n",
       "\\item Mobile - On-Road Diesel Heavy Duty Vehicles\n",
       "\\end{enumerate*}\n"
      ],
      "text/markdown": [
       "1. Mobile - On-Road Gasoline Light Duty Vehicles\n",
       "2. Mobile - On-Road Gasoline Heavy Duty Vehicles\n",
       "3. Mobile - On-Road Diesel Light Duty Vehicles\n",
       "4. Mobile - On-Road Diesel Heavy Duty Vehicles\n",
       "\n",
       "\n"
      ],
      "text/plain": [
       "[1] Mobile - On-Road Gasoline Light Duty Vehicles\n",
       "[2] Mobile - On-Road Gasoline Heavy Duty Vehicles\n",
       "[3] Mobile - On-Road Diesel Light Duty Vehicles  \n",
       "[4] Mobile - On-Road Diesel Heavy Duty Vehicles  \n",
       "59 Levels: Agriculture - Crops & Livestock Dust ..."
      ]
     },
     "metadata": {},
     "output_type": "display_data"
    }
   ],
   "source": [
    "SCC.vehicles"
   ]
  },
  {
   "cell_type": "code",
   "execution_count": 23,
   "metadata": {},
   "outputs": [],
   "source": [
    "SCC.vehicles <- filter(SCC, EI.Sector %in% SCC.vehicles)"
   ]
  },
  {
   "cell_type": "code",
   "execution_count": 28,
   "metadata": {},
   "outputs": [],
   "source": [
    "NEI.baltimorevehicles <- filter(NEI, (SCC %in% SCC.vehicles$SCC) & fips %in% \"24510\")"
   ]
  },
  {
   "cell_type": "code",
   "execution_count": 30,
   "metadata": {},
   "outputs": [
    {
     "data": {
      "text/html": [
       "<table>\n",
       "<thead><tr><th scope=col>fips</th><th scope=col>SCC</th><th scope=col>Pollutant</th><th scope=col>Emissions</th><th scope=col>type</th><th scope=col>year</th></tr></thead>\n",
       "<tbody>\n",
       "\t<tr><td>24510     </td><td>220100123B</td><td>PM25-PRI  </td><td> 7.38     </td><td>ON-ROAD   </td><td>1999      </td></tr>\n",
       "\t<tr><td>24510     </td><td>220100123T</td><td>PM25-PRI  </td><td> 2.78     </td><td>ON-ROAD   </td><td>1999      </td></tr>\n",
       "\t<tr><td>24510     </td><td>220100123X</td><td>PM25-PRI  </td><td>11.76     </td><td>ON-ROAD   </td><td>1999      </td></tr>\n",
       "\t<tr><td>24510     </td><td>220100125B</td><td>PM25-PRI  </td><td> 3.50     </td><td>ON-ROAD   </td><td>1999      </td></tr>\n",
       "\t<tr><td>24510     </td><td>220100125T</td><td>PM25-PRI  </td><td> 1.32     </td><td>ON-ROAD   </td><td>1999      </td></tr>\n",
       "\t<tr><td>24510     </td><td>220100125X</td><td>PM25-PRI  </td><td> 5.58     </td><td>ON-ROAD   </td><td>1999      </td></tr>\n",
       "\t<tr><td>24510     </td><td>220100127B</td><td>PM25-PRI  </td><td> 4.43     </td><td>ON-ROAD   </td><td>1999      </td></tr>\n",
       "\t<tr><td>24510     </td><td>220100127T</td><td>PM25-PRI  </td><td> 1.67     </td><td>ON-ROAD   </td><td>1999      </td></tr>\n",
       "\t<tr><td>24510     </td><td>220100127X</td><td>PM25-PRI  </td><td> 8.41     </td><td>ON-ROAD   </td><td>1999      </td></tr>\n",
       "\t<tr><td>24510     </td><td>220100129B</td><td>PM25-PRI  </td><td> 3.66     </td><td>ON-ROAD   </td><td>1999      </td></tr>\n",
       "\t<tr><td>24510     </td><td>220100129T</td><td>PM25-PRI  </td><td> 1.38     </td><td>ON-ROAD   </td><td>1999      </td></tr>\n",
       "\t<tr><td>24510     </td><td>220100129X</td><td>PM25-PRI  </td><td> 6.94     </td><td>ON-ROAD   </td><td>1999      </td></tr>\n",
       "\t<tr><td>24510     </td><td>220100131B</td><td>PM25-PRI  </td><td> 1.64     </td><td>ON-ROAD   </td><td>1999      </td></tr>\n",
       "\t<tr><td>24510     </td><td>220100131T</td><td>PM25-PRI  </td><td> 0.62     </td><td>ON-ROAD   </td><td>1999      </td></tr>\n",
       "\t<tr><td>24510     </td><td>220100131X</td><td>PM25-PRI  </td><td> 3.11     </td><td>ON-ROAD   </td><td>1999      </td></tr>\n",
       "\t<tr><td>24510     </td><td>220100133B</td><td>PM25-PRI  </td><td> 1.53     </td><td>ON-ROAD   </td><td>1999      </td></tr>\n",
       "\t<tr><td>24510     </td><td>220100133T</td><td>PM25-PRI  </td><td> 0.58     </td><td>ON-ROAD   </td><td>1999      </td></tr>\n",
       "\t<tr><td>24510     </td><td>220100133X</td><td>PM25-PRI  </td><td> 2.89     </td><td>ON-ROAD   </td><td>1999      </td></tr>\n",
       "\t<tr><td>24510     </td><td>220102023B</td><td>PM25-PRI  </td><td> 2.77     </td><td>ON-ROAD   </td><td>1999      </td></tr>\n",
       "\t<tr><td>24510     </td><td>220102023T</td><td>PM25-PRI  </td><td> 1.05     </td><td>ON-ROAD   </td><td>1999      </td></tr>\n",
       "</tbody>\n",
       "</table>\n"
      ],
      "text/latex": [
       "\\begin{tabular}{r|llllll}\n",
       " fips & SCC & Pollutant & Emissions & type & year\\\\\n",
       "\\hline\n",
       "\t 24510      & 220100123B & PM25-PRI   &  7.38      & ON-ROAD    & 1999      \\\\\n",
       "\t 24510      & 220100123T & PM25-PRI   &  2.78      & ON-ROAD    & 1999      \\\\\n",
       "\t 24510      & 220100123X & PM25-PRI   & 11.76      & ON-ROAD    & 1999      \\\\\n",
       "\t 24510      & 220100125B & PM25-PRI   &  3.50      & ON-ROAD    & 1999      \\\\\n",
       "\t 24510      & 220100125T & PM25-PRI   &  1.32      & ON-ROAD    & 1999      \\\\\n",
       "\t 24510      & 220100125X & PM25-PRI   &  5.58      & ON-ROAD    & 1999      \\\\\n",
       "\t 24510      & 220100127B & PM25-PRI   &  4.43      & ON-ROAD    & 1999      \\\\\n",
       "\t 24510      & 220100127T & PM25-PRI   &  1.67      & ON-ROAD    & 1999      \\\\\n",
       "\t 24510      & 220100127X & PM25-PRI   &  8.41      & ON-ROAD    & 1999      \\\\\n",
       "\t 24510      & 220100129B & PM25-PRI   &  3.66      & ON-ROAD    & 1999      \\\\\n",
       "\t 24510      & 220100129T & PM25-PRI   &  1.38      & ON-ROAD    & 1999      \\\\\n",
       "\t 24510      & 220100129X & PM25-PRI   &  6.94      & ON-ROAD    & 1999      \\\\\n",
       "\t 24510      & 220100131B & PM25-PRI   &  1.64      & ON-ROAD    & 1999      \\\\\n",
       "\t 24510      & 220100131T & PM25-PRI   &  0.62      & ON-ROAD    & 1999      \\\\\n",
       "\t 24510      & 220100131X & PM25-PRI   &  3.11      & ON-ROAD    & 1999      \\\\\n",
       "\t 24510      & 220100133B & PM25-PRI   &  1.53      & ON-ROAD    & 1999      \\\\\n",
       "\t 24510      & 220100133T & PM25-PRI   &  0.58      & ON-ROAD    & 1999      \\\\\n",
       "\t 24510      & 220100133X & PM25-PRI   &  2.89      & ON-ROAD    & 1999      \\\\\n",
       "\t 24510      & 220102023B & PM25-PRI   &  2.77      & ON-ROAD    & 1999      \\\\\n",
       "\t 24510      & 220102023T & PM25-PRI   &  1.05      & ON-ROAD    & 1999      \\\\\n",
       "\\end{tabular}\n"
      ],
      "text/markdown": [
       "\n",
       "fips | SCC | Pollutant | Emissions | type | year | \n",
       "|---|---|---|---|---|---|---|---|---|---|---|---|---|---|---|---|---|---|---|---|\n",
       "| 24510      | 220100123B | PM25-PRI   |  7.38      | ON-ROAD    | 1999       | \n",
       "| 24510      | 220100123T | PM25-PRI   |  2.78      | ON-ROAD    | 1999       | \n",
       "| 24510      | 220100123X | PM25-PRI   | 11.76      | ON-ROAD    | 1999       | \n",
       "| 24510      | 220100125B | PM25-PRI   |  3.50      | ON-ROAD    | 1999       | \n",
       "| 24510      | 220100125T | PM25-PRI   |  1.32      | ON-ROAD    | 1999       | \n",
       "| 24510      | 220100125X | PM25-PRI   |  5.58      | ON-ROAD    | 1999       | \n",
       "| 24510      | 220100127B | PM25-PRI   |  4.43      | ON-ROAD    | 1999       | \n",
       "| 24510      | 220100127T | PM25-PRI   |  1.67      | ON-ROAD    | 1999       | \n",
       "| 24510      | 220100127X | PM25-PRI   |  8.41      | ON-ROAD    | 1999       | \n",
       "| 24510      | 220100129B | PM25-PRI   |  3.66      | ON-ROAD    | 1999       | \n",
       "| 24510      | 220100129T | PM25-PRI   |  1.38      | ON-ROAD    | 1999       | \n",
       "| 24510      | 220100129X | PM25-PRI   |  6.94      | ON-ROAD    | 1999       | \n",
       "| 24510      | 220100131B | PM25-PRI   |  1.64      | ON-ROAD    | 1999       | \n",
       "| 24510      | 220100131T | PM25-PRI   |  0.62      | ON-ROAD    | 1999       | \n",
       "| 24510      | 220100131X | PM25-PRI   |  3.11      | ON-ROAD    | 1999       | \n",
       "| 24510      | 220100133B | PM25-PRI   |  1.53      | ON-ROAD    | 1999       | \n",
       "| 24510      | 220100133T | PM25-PRI   |  0.58      | ON-ROAD    | 1999       | \n",
       "| 24510      | 220100133X | PM25-PRI   |  2.89      | ON-ROAD    | 1999       | \n",
       "| 24510      | 220102023B | PM25-PRI   |  2.77      | ON-ROAD    | 1999       | \n",
       "| 24510      | 220102023T | PM25-PRI   |  1.05      | ON-ROAD    | 1999       | \n",
       "\n",
       "\n"
      ],
      "text/plain": [
       "   fips  SCC        Pollutant Emissions type    year\n",
       "1  24510 220100123B PM25-PRI   7.38     ON-ROAD 1999\n",
       "2  24510 220100123T PM25-PRI   2.78     ON-ROAD 1999\n",
       "3  24510 220100123X PM25-PRI  11.76     ON-ROAD 1999\n",
       "4  24510 220100125B PM25-PRI   3.50     ON-ROAD 1999\n",
       "5  24510 220100125T PM25-PRI   1.32     ON-ROAD 1999\n",
       "6  24510 220100125X PM25-PRI   5.58     ON-ROAD 1999\n",
       "7  24510 220100127B PM25-PRI   4.43     ON-ROAD 1999\n",
       "8  24510 220100127T PM25-PRI   1.67     ON-ROAD 1999\n",
       "9  24510 220100127X PM25-PRI   8.41     ON-ROAD 1999\n",
       "10 24510 220100129B PM25-PRI   3.66     ON-ROAD 1999\n",
       "11 24510 220100129T PM25-PRI   1.38     ON-ROAD 1999\n",
       "12 24510 220100129X PM25-PRI   6.94     ON-ROAD 1999\n",
       "13 24510 220100131B PM25-PRI   1.64     ON-ROAD 1999\n",
       "14 24510 220100131T PM25-PRI   0.62     ON-ROAD 1999\n",
       "15 24510 220100131X PM25-PRI   3.11     ON-ROAD 1999\n",
       "16 24510 220100133B PM25-PRI   1.53     ON-ROAD 1999\n",
       "17 24510 220100133T PM25-PRI   0.58     ON-ROAD 1999\n",
       "18 24510 220100133X PM25-PRI   2.89     ON-ROAD 1999\n",
       "19 24510 220102023B PM25-PRI   2.77     ON-ROAD 1999\n",
       "20 24510 220102023T PM25-PRI   1.05     ON-ROAD 1999"
      ]
     },
     "metadata": {},
     "output_type": "display_data"
    }
   ],
   "source": [
    "head(NEI.baltimorevehicles, 20)"
   ]
  },
  {
   "cell_type": "code",
   "execution_count": 31,
   "metadata": {},
   "outputs": [],
   "source": [
    "NEI.baltimorevehicles %>% group_by(Year=year) %>% summarise(Emissions=sum(Emissions)) -> NEI.baltimorevehicles.summary"
   ]
  },
  {
   "cell_type": "code",
   "execution_count": 32,
   "metadata": {},
   "outputs": [
    {
     "data": {
      "text/html": [
       "<table>\n",
       "<thead><tr><th scope=col>Year</th><th scope=col>Emissions</th></tr></thead>\n",
       "<tbody>\n",
       "\t<tr><td>1999     </td><td>346.82000</td></tr>\n",
       "\t<tr><td>2002     </td><td>134.30882</td></tr>\n",
       "\t<tr><td>2005     </td><td>130.43038</td></tr>\n",
       "\t<tr><td>2008     </td><td> 88.27546</td></tr>\n",
       "</tbody>\n",
       "</table>\n"
      ],
      "text/latex": [
       "\\begin{tabular}{r|ll}\n",
       " Year & Emissions\\\\\n",
       "\\hline\n",
       "\t 1999      & 346.82000\\\\\n",
       "\t 2002      & 134.30882\\\\\n",
       "\t 2005      & 130.43038\\\\\n",
       "\t 2008      &  88.27546\\\\\n",
       "\\end{tabular}\n"
      ],
      "text/markdown": [
       "\n",
       "Year | Emissions | \n",
       "|---|---|---|---|\n",
       "| 1999      | 346.82000 | \n",
       "| 2002      | 134.30882 | \n",
       "| 2005      | 130.43038 | \n",
       "| 2008      |  88.27546 | \n",
       "\n",
       "\n"
      ],
      "text/plain": [
       "  Year Emissions\n",
       "1 1999 346.82000\n",
       "2 2002 134.30882\n",
       "3 2005 130.43038\n",
       "4 2008  88.27546"
      ]
     },
     "metadata": {},
     "output_type": "display_data"
    }
   ],
   "source": [
    "NEI.baltimorevehicles.summary"
   ]
  },
  {
   "cell_type": "code",
   "execution_count": 39,
   "metadata": {},
   "outputs": [],
   "source": [
    "vehicles.plot <- ggplot(NEI.baltimorevehicles.summary, aes(x=Year, y=Emissions)) + geom_col() + ylab(\"P2.5 Emissions (tons)\") + ggtitle(\"P2.5 Emissions from Vehicles in Baltimore\")"
   ]
  },
  {
   "cell_type": "code",
   "execution_count": 40,
   "metadata": {},
   "outputs": [
    {
     "data": {
      "image/png": "[encoded data removed]",
      "text/plain": [
       "plot without title"
      ]
     },
     "metadata": {},
     "output_type": "display_data",
     "source": "R display func"
    }
   ],
   "source": [
    "print(vehicles.plot)"
   ]
  },
  {
   "cell_type": "code",
   "execution_count": null,
   "metadata": {},
   "outputs": [],
   "source": [
    "ggsave(\"plot5.png\", width=5, height=5)"
   ]
  },
  {
   "cell_type": "markdown",
   "metadata": {},
   "source": [
    "## Question 6\n",
    "Compare emissions from motor vehicle sources in Baltimore City with emissions from motor vehicle sources in Los Angeles County, California (𝚏𝚒𝚙𝚜 == \"𝟶𝟼𝟶𝟹𝟽\"). Which city has seen greater changes over time in motor vehicle emissions?"
   ]
  },
  {
   "cell_type": "code",
   "execution_count": 34,
   "metadata": {},
   "outputs": [],
   "source": [
    "library(ggplot2)"
   ]
  },
  {
   "cell_type": "code",
   "execution_count": 35,
   "metadata": {},
   "outputs": [],
   "source": [
    "library(dplyr)"
   ]
  },
  {
   "cell_type": "code",
   "execution_count": 60,
   "metadata": {},
   "outputs": [],
   "source": [
    "library(tidyr)"
   ]
  },
  {
   "cell_type": "code",
   "execution_count": 13,
   "metadata": {},
   "outputs": [],
   "source": [
    "SCC.vehicles <- unique(SCC$EI.Sector)[grep(\"Vehicle\", unique(SCC$EI.Sector))]"
   ]
  },
  {
   "cell_type": "code",
   "execution_count": 14,
   "metadata": {},
   "outputs": [
    {
     "data": {
      "text/html": [
       "<ol class=list-inline>\n",
       "\t<li>Mobile - On-Road Gasoline Light Duty Vehicles</li>\n",
       "\t<li>Mobile - On-Road Gasoline Heavy Duty Vehicles</li>\n",
       "\t<li>Mobile - On-Road Diesel Light Duty Vehicles</li>\n",
       "\t<li>Mobile - On-Road Diesel Heavy Duty Vehicles</li>\n",
       "</ol>\n"
      ],
      "text/latex": [
       "\\begin{enumerate*}\n",
       "\\item Mobile - On-Road Gasoline Light Duty Vehicles\n",
       "\\item Mobile - On-Road Gasoline Heavy Duty Vehicles\n",
       "\\item Mobile - On-Road Diesel Light Duty Vehicles\n",
       "\\item Mobile - On-Road Diesel Heavy Duty Vehicles\n",
       "\\end{enumerate*}\n"
      ],
      "text/markdown": [
       "1. Mobile - On-Road Gasoline Light Duty Vehicles\n",
       "2. Mobile - On-Road Gasoline Heavy Duty Vehicles\n",
       "3. Mobile - On-Road Diesel Light Duty Vehicles\n",
       "4. Mobile - On-Road Diesel Heavy Duty Vehicles\n",
       "\n",
       "\n"
      ],
      "text/plain": [
       "[1] Mobile - On-Road Gasoline Light Duty Vehicles\n",
       "[2] Mobile - On-Road Gasoline Heavy Duty Vehicles\n",
       "[3] Mobile - On-Road Diesel Light Duty Vehicles  \n",
       "[4] Mobile - On-Road Diesel Heavy Duty Vehicles  \n",
       "59 Levels: Agriculture - Crops & Livestock Dust ..."
      ]
     },
     "metadata": {},
     "output_type": "display_data"
    }
   ],
   "source": [
    "SCC.vehicles"
   ]
  },
  {
   "cell_type": "code",
   "execution_count": 23,
   "metadata": {},
   "outputs": [],
   "source": [
    "SCC.vehicles <- filter(SCC, EI.Sector %in% SCC.vehicles)"
   ]
  },
  {
   "cell_type": "code",
   "execution_count": 45,
   "metadata": {},
   "outputs": [],
   "source": [
    "NEI.vehicles <- filter(NEI, (SCC %in% SCC.vehicles$SCC) & fips %in% c(\"24510\", \"06037\"))"
   ]
  },
  {
   "cell_type": "code",
   "execution_count": 46,
   "metadata": {},
   "outputs": [
    {
     "data": {
      "text/html": [
       "<table>\n",
       "<thead><tr><th scope=col>fips</th><th scope=col>SCC</th><th scope=col>Pollutant</th><th scope=col>Emissions</th><th scope=col>type</th><th scope=col>year</th></tr></thead>\n",
       "<tbody>\n",
       "\t<tr><td>24510     </td><td>220100123B</td><td>PM25-PRI  </td><td> 7.38     </td><td>ON-ROAD   </td><td>1999      </td></tr>\n",
       "\t<tr><td>24510     </td><td>220100123T</td><td>PM25-PRI  </td><td> 2.78     </td><td>ON-ROAD   </td><td>1999      </td></tr>\n",
       "\t<tr><td>24510     </td><td>220100123X</td><td>PM25-PRI  </td><td>11.76     </td><td>ON-ROAD   </td><td>1999      </td></tr>\n",
       "\t<tr><td>24510     </td><td>220100125B</td><td>PM25-PRI  </td><td> 3.50     </td><td>ON-ROAD   </td><td>1999      </td></tr>\n",
       "\t<tr><td>24510     </td><td>220100125T</td><td>PM25-PRI  </td><td> 1.32     </td><td>ON-ROAD   </td><td>1999      </td></tr>\n",
       "\t<tr><td>24510     </td><td>220100125X</td><td>PM25-PRI  </td><td> 5.58     </td><td>ON-ROAD   </td><td>1999      </td></tr>\n",
       "\t<tr><td>24510     </td><td>220100127B</td><td>PM25-PRI  </td><td> 4.43     </td><td>ON-ROAD   </td><td>1999      </td></tr>\n",
       "\t<tr><td>24510     </td><td>220100127T</td><td>PM25-PRI  </td><td> 1.67     </td><td>ON-ROAD   </td><td>1999      </td></tr>\n",
       "\t<tr><td>24510     </td><td>220100127X</td><td>PM25-PRI  </td><td> 8.41     </td><td>ON-ROAD   </td><td>1999      </td></tr>\n",
       "\t<tr><td>24510     </td><td>220100129B</td><td>PM25-PRI  </td><td> 3.66     </td><td>ON-ROAD   </td><td>1999      </td></tr>\n",
       "</tbody>\n",
       "</table>\n"
      ],
      "text/latex": [
       "\\begin{tabular}{r|llllll}\n",
       " fips & SCC & Pollutant & Emissions & type & year\\\\\n",
       "\\hline\n",
       "\t 24510      & 220100123B & PM25-PRI   &  7.38      & ON-ROAD    & 1999      \\\\\n",
       "\t 24510      & 220100123T & PM25-PRI   &  2.78      & ON-ROAD    & 1999      \\\\\n",
       "\t 24510      & 220100123X & PM25-PRI   & 11.76      & ON-ROAD    & 1999      \\\\\n",
       "\t 24510      & 220100125B & PM25-PRI   &  3.50      & ON-ROAD    & 1999      \\\\\n",
       "\t 24510      & 220100125T & PM25-PRI   &  1.32      & ON-ROAD    & 1999      \\\\\n",
       "\t 24510      & 220100125X & PM25-PRI   &  5.58      & ON-ROAD    & 1999      \\\\\n",
       "\t 24510      & 220100127B & PM25-PRI   &  4.43      & ON-ROAD    & 1999      \\\\\n",
       "\t 24510      & 220100127T & PM25-PRI   &  1.67      & ON-ROAD    & 1999      \\\\\n",
       "\t 24510      & 220100127X & PM25-PRI   &  8.41      & ON-ROAD    & 1999      \\\\\n",
       "\t 24510      & 220100129B & PM25-PRI   &  3.66      & ON-ROAD    & 1999      \\\\\n",
       "\\end{tabular}\n"
      ],
      "text/markdown": [
       "\n",
       "fips | SCC | Pollutant | Emissions | type | year | \n",
       "|---|---|---|---|---|---|---|---|---|---|\n",
       "| 24510      | 220100123B | PM25-PRI   |  7.38      | ON-ROAD    | 1999       | \n",
       "| 24510      | 220100123T | PM25-PRI   |  2.78      | ON-ROAD    | 1999       | \n",
       "| 24510      | 220100123X | PM25-PRI   | 11.76      | ON-ROAD    | 1999       | \n",
       "| 24510      | 220100125B | PM25-PRI   |  3.50      | ON-ROAD    | 1999       | \n",
       "| 24510      | 220100125T | PM25-PRI   |  1.32      | ON-ROAD    | 1999       | \n",
       "| 24510      | 220100125X | PM25-PRI   |  5.58      | ON-ROAD    | 1999       | \n",
       "| 24510      | 220100127B | PM25-PRI   |  4.43      | ON-ROAD    | 1999       | \n",
       "| 24510      | 220100127T | PM25-PRI   |  1.67      | ON-ROAD    | 1999       | \n",
       "| 24510      | 220100127X | PM25-PRI   |  8.41      | ON-ROAD    | 1999       | \n",
       "| 24510      | 220100129B | PM25-PRI   |  3.66      | ON-ROAD    | 1999       | \n",
       "\n",
       "\n"
      ],
      "text/plain": [
       "   fips  SCC        Pollutant Emissions type    year\n",
       "1  24510 220100123B PM25-PRI   7.38     ON-ROAD 1999\n",
       "2  24510 220100123T PM25-PRI   2.78     ON-ROAD 1999\n",
       "3  24510 220100123X PM25-PRI  11.76     ON-ROAD 1999\n",
       "4  24510 220100125B PM25-PRI   3.50     ON-ROAD 1999\n",
       "5  24510 220100125T PM25-PRI   1.32     ON-ROAD 1999\n",
       "6  24510 220100125X PM25-PRI   5.58     ON-ROAD 1999\n",
       "7  24510 220100127B PM25-PRI   4.43     ON-ROAD 1999\n",
       "8  24510 220100127T PM25-PRI   1.67     ON-ROAD 1999\n",
       "9  24510 220100127X PM25-PRI   8.41     ON-ROAD 1999\n",
       "10 24510 220100129B PM25-PRI   3.66     ON-ROAD 1999"
      ]
     },
     "metadata": {},
     "output_type": "display_data"
    }
   ],
   "source": [
    "head(NEI.vehicles, 10)"
   ]
  },
  {
   "cell_type": "code",
   "execution_count": 47,
   "metadata": {},
   "outputs": [
    {
     "data": {
      "text/html": [
       "<table>\n",
       "<thead><tr><th></th><th scope=col>fips</th><th scope=col>SCC</th><th scope=col>Pollutant</th><th scope=col>Emissions</th><th scope=col>type</th><th scope=col>year</th></tr></thead>\n",
       "<tbody>\n",
       "\t<tr><th scope=row>2094</th><td>06037     </td><td>2201020110</td><td>PM25-PRI  </td><td>139.4660  </td><td>ON-ROAD   </td><td>2008      </td></tr>\n",
       "\t<tr><th scope=row>2095</th><td>06037     </td><td>2201070110</td><td>PM25-PRI  </td><td>  6.1685  </td><td>ON-ROAD   </td><td>2008      </td></tr>\n",
       "\t<tr><th scope=row>2096</th><td>06037     </td><td>2230072110</td><td>PM25-PRI  </td><td>269.5160  </td><td>ON-ROAD   </td><td>2008      </td></tr>\n",
       "\t<tr><th scope=row>2097</th><td>06037     </td><td>2201070230</td><td>PM25-PRI  </td><td>  0.7300  </td><td>ON-ROAD   </td><td>2008      </td></tr>\n",
       "\t<tr><th scope=row>2098</th><td>06037     </td><td>2201070110</td><td>PM25-PRI  </td><td> 24.9295  </td><td>ON-ROAD   </td><td>2008      </td></tr>\n",
       "\t<tr><th scope=row>2099</th><td>06037     </td><td>2201070110</td><td>PM25-PRI  </td><td> 11.8260  </td><td>ON-ROAD   </td><td>2008      </td></tr>\n",
       "</tbody>\n",
       "</table>\n"
      ],
      "text/latex": [
       "\\begin{tabular}{r|llllll}\n",
       "  & fips & SCC & Pollutant & Emissions & type & year\\\\\n",
       "\\hline\n",
       "\t2094 & 06037      & 2201020110 & PM25-PRI   & 139.4660   & ON-ROAD    & 2008      \\\\\n",
       "\t2095 & 06037      & 2201070110 & PM25-PRI   &   6.1685   & ON-ROAD    & 2008      \\\\\n",
       "\t2096 & 06037      & 2230072110 & PM25-PRI   & 269.5160   & ON-ROAD    & 2008      \\\\\n",
       "\t2097 & 06037      & 2201070230 & PM25-PRI   &   0.7300   & ON-ROAD    & 2008      \\\\\n",
       "\t2098 & 06037      & 2201070110 & PM25-PRI   &  24.9295   & ON-ROAD    & 2008      \\\\\n",
       "\t2099 & 06037      & 2201070110 & PM25-PRI   &  11.8260   & ON-ROAD    & 2008      \\\\\n",
       "\\end{tabular}\n"
      ],
      "text/markdown": [
       "\n",
       "| <!--/--> | fips | SCC | Pollutant | Emissions | type | year | \n",
       "|---|---|---|---|---|---|\n",
       "| 2094 | 06037      | 2201020110 | PM25-PRI   | 139.4660   | ON-ROAD    | 2008       | \n",
       "| 2095 | 06037      | 2201070110 | PM25-PRI   |   6.1685   | ON-ROAD    | 2008       | \n",
       "| 2096 | 06037      | 2230072110 | PM25-PRI   | 269.5160   | ON-ROAD    | 2008       | \n",
       "| 2097 | 06037      | 2201070230 | PM25-PRI   |   0.7300   | ON-ROAD    | 2008       | \n",
       "| 2098 | 06037      | 2201070110 | PM25-PRI   |  24.9295   | ON-ROAD    | 2008       | \n",
       "| 2099 | 06037      | 2201070110 | PM25-PRI   |  11.8260   | ON-ROAD    | 2008       | \n",
       "\n",
       "\n"
      ],
      "text/plain": [
       "     fips  SCC        Pollutant Emissions type    year\n",
       "2094 06037 2201020110 PM25-PRI  139.4660  ON-ROAD 2008\n",
       "2095 06037 2201070110 PM25-PRI    6.1685  ON-ROAD 2008\n",
       "2096 06037 2230072110 PM25-PRI  269.5160  ON-ROAD 2008\n",
       "2097 06037 2201070230 PM25-PRI    0.7300  ON-ROAD 2008\n",
       "2098 06037 2201070110 PM25-PRI   24.9295  ON-ROAD 2008\n",
       "2099 06037 2201070110 PM25-PRI   11.8260  ON-ROAD 2008"
      ]
     },
     "metadata": {},
     "output_type": "display_data"
    }
   ],
   "source": [
    "tail(NEI.vehicles)"
   ]
  },
  {
   "cell_type": "code",
   "execution_count": 98,
   "metadata": {},
   "outputs": [],
   "source": [
    "NEI.vehicles %>% group_by(Year=year, City=fips) %>% summarise(Emissions=sum(Emissions)) %>% mutate(City=if_else(City==\"06037\", \"LA\", \"Baltimore\")) -> NEI.vehicles.summary"
   ]
  },
  {
   "cell_type": "code",
   "execution_count": 99,
   "metadata": {},
   "outputs": [
    {
     "data": {
      "text/html": [
       "<table>\n",
       "<thead><tr><th scope=col>Year</th><th scope=col>City</th><th scope=col>Emissions</th></tr></thead>\n",
       "<tbody>\n",
       "\t<tr><td>1999      </td><td>LA        </td><td>3931.12000</td></tr>\n",
       "\t<tr><td>1999      </td><td>Baltimore </td><td> 346.82000</td></tr>\n",
       "\t<tr><td>2002      </td><td>LA        </td><td>4274.03020</td></tr>\n",
       "\t<tr><td>2002      </td><td>Baltimore </td><td> 134.30882</td></tr>\n",
       "\t<tr><td>2005      </td><td>LA        </td><td>4601.41493</td></tr>\n",
       "\t<tr><td>2005      </td><td>Baltimore </td><td> 130.43038</td></tr>\n",
       "\t<tr><td>2008      </td><td>LA        </td><td>4101.32100</td></tr>\n",
       "\t<tr><td>2008      </td><td>Baltimore </td><td>  88.27546</td></tr>\n",
       "</tbody>\n",
       "</table>\n"
      ],
      "text/latex": [
       "\\begin{tabular}{r|lll}\n",
       " Year & City & Emissions\\\\\n",
       "\\hline\n",
       "\t 1999       & LA         & 3931.12000\\\\\n",
       "\t 1999       & Baltimore  &  346.82000\\\\\n",
       "\t 2002       & LA         & 4274.03020\\\\\n",
       "\t 2002       & Baltimore  &  134.30882\\\\\n",
       "\t 2005       & LA         & 4601.41493\\\\\n",
       "\t 2005       & Baltimore  &  130.43038\\\\\n",
       "\t 2008       & LA         & 4101.32100\\\\\n",
       "\t 2008       & Baltimore  &   88.27546\\\\\n",
       "\\end{tabular}\n"
      ],
      "text/markdown": [
       "\n",
       "Year | City | Emissions | \n",
       "|---|---|---|---|---|---|---|---|\n",
       "| 1999       | LA         | 3931.12000 | \n",
       "| 1999       | Baltimore  |  346.82000 | \n",
       "| 2002       | LA         | 4274.03020 | \n",
       "| 2002       | Baltimore  |  134.30882 | \n",
       "| 2005       | LA         | 4601.41493 | \n",
       "| 2005       | Baltimore  |  130.43038 | \n",
       "| 2008       | LA         | 4101.32100 | \n",
       "| 2008       | Baltimore  |   88.27546 | \n",
       "\n",
       "\n"
      ],
      "text/plain": [
       "  Year City      Emissions \n",
       "1 1999 LA        3931.12000\n",
       "2 1999 Baltimore  346.82000\n",
       "3 2002 LA        4274.03020\n",
       "4 2002 Baltimore  134.30882\n",
       "5 2005 LA        4601.41493\n",
       "6 2005 Baltimore  130.43038\n",
       "7 2008 LA        4101.32100\n",
       "8 2008 Baltimore   88.27546"
      ]
     },
     "metadata": {},
     "output_type": "display_data"
    }
   ],
   "source": [
    "NEI.vehicles.summary"
   ]
  },
  {
   "cell_type": "code",
   "execution_count": 100,
   "metadata": {},
   "outputs": [],
   "source": [
    "vehicles.plot <- ggplot(NEI.vehicles.summary, aes(x=Year, y=Emissions)) + \n",
    "geom_col() + ylab(\"P2.5 Emissions (tons)\") + \n",
    "facet_grid(City ~., scales=\"free_y\") + \n",
    "ggtitle(\"P2.5 Emissions from Vehicles\")"
   ]
  },
  {
   "cell_type": "code",
   "execution_count": 101,
   "metadata": {},
   "outputs": [
    {
     "data": {
      "image/png": "[encoded data removed]",
      "text/plain": [
       "plot without title"
      ]
     },
     "metadata": {},
     "output_type": "display_data",
     "source": "R display func"
    }
   ],
   "source": [
    "print(vehicles.plot)"
   ]
  },
  {
   "cell_type": "code",
   "execution_count": 102,
   "metadata": {},
   "outputs": [],
   "source": [
    "ggsave(\"plot6.png\", width=5, height=5)"
   ]
  },
  {
   "cell_type": "code",
   "execution_count": null,
   "metadata": {},
   "outputs": [],
   "source": []
  }
 ],
 "metadata": {
  "kernelspec": {
   "display_name": "R",
   "language": "R",
   "name": "ir"
  },
  "language_info": {
   "codemirror_mode": "r",
   "file_extension": ".r",
   "mimetype": "text/x-r-source",
   "name": "R",
   "pygments_lexer": "r",
   "version": "3.3.2"
  }
 },
 "nbformat": 4,
 "nbformat_minor": 2
}
