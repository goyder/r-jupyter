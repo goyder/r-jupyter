{
 "cells": [
  {
   "cell_type": "markdown",
   "metadata": {},
   "source": [
    "# Text and Regex\n",
    "___\n",
    "\n",
    "General principles re: text in datasets:\n",
    "* All lower case when possible.\n",
    "* Be descriptive!\n",
    "* Not duplicated - be distinct.\n",
    "* Not have underscores or dots or white spaces.\n",
    "\n",
    "Useful links:\n",
    "* [A friendly and simply explanation to RegEx.](https://www.lunametrics.com/regex-book/Regular-Expressions-Google-Analytics.pdf)\n",
    "* [A cheeky cheat-sheet.](http://www.rexegg.com/regex-quickstart.html)"
   ]
  },
  {
   "cell_type": "markdown",
   "metadata": {},
   "source": [
    "## Data gathering\n",
    "The Baltimore City data website no longer seems to accept download requests; it must be downloaded from the page. Download the dataset [here](https://data.baltimorecity.gov/Transportation/Baltimore-Fixed-Speed-Cameras/dz54-2aru)."
   ]
  },
  {
   "cell_type": "code",
   "execution_count": 3,
   "metadata": {},
   "outputs": [],
   "source": [
    "camera.data <- read.csv(\"data/Baltimore_Fixed_Speed_Cameras.csv\")"
   ]
  },
  {
   "cell_type": "code",
   "execution_count": 17,
   "metadata": {},
   "outputs": [],
   "source": [
    "file.URL1 <- \"https://raw.githubusercontent.com/jtleek/dataanalysis/master/week2/007summarizingData/data/reviews.csv\"\n",
    "file.URL2 <- \"https://raw.githubusercontent.com/jtleek/dataanalysis/master/week2/007summarizingData/data/solutions.csv\"\n",
    "\n",
    "if (!file.exists(\"data/reviews.csv\")) {\n",
    "    download.file(file.URL1, \"data/reviews.csv\", method=\"curl\", extra = \"-L\")\n",
    "}\n",
    "\n",
    "if (!file.exists(\"data/solutions.csv\")) {\n",
    "    download.file(file.URL2, \"data/solutions.csv\", method=\"curl\", extra = \"-L\")\n",
    "}\n",
    "\n",
    "reviews <- read.csv(\"data/reviews.csv\")\n",
    "solutions <- read.csv(\"data/solutions.csv\")"
   ]
  },
  {
   "cell_type": "markdown",
   "metadata": {},
   "source": [
    "## Extracting Names"
   ]
  },
  {
   "cell_type": "code",
   "execution_count": 4,
   "metadata": {},
   "outputs": [
    {
     "data": {
      "text/html": [
       "<ol class=list-inline>\n",
       "\t<li>'address'</li>\n",
       "\t<li>'direction'</li>\n",
       "\t<li>'street'</li>\n",
       "\t<li>'crossStreet'</li>\n",
       "\t<li>'intersection'</li>\n",
       "\t<li>'Location.1'</li>\n",
       "</ol>\n"
      ],
      "text/latex": [
       "\\begin{enumerate*}\n",
       "\\item 'address'\n",
       "\\item 'direction'\n",
       "\\item 'street'\n",
       "\\item 'crossStreet'\n",
       "\\item 'intersection'\n",
       "\\item 'Location.1'\n",
       "\\end{enumerate*}\n"
      ],
      "text/markdown": [
       "1. 'address'\n",
       "2. 'direction'\n",
       "3. 'street'\n",
       "4. 'crossStreet'\n",
       "5. 'intersection'\n",
       "6. 'Location.1'\n",
       "\n",
       "\n"
      ],
      "text/plain": [
       "[1] \"address\"      \"direction\"    \"street\"       \"crossStreet\"  \"intersection\"\n",
       "[6] \"Location.1\"  "
      ]
     },
     "metadata": {},
     "output_type": "display_data"
    }
   ],
   "source": [
    "names(camera.data)"
   ]
  },
  {
   "cell_type": "code",
   "execution_count": 5,
   "metadata": {},
   "outputs": [
    {
     "name": "stdout",
     "output_type": "stream",
     "text": [
      "'data.frame':\t80 obs. of  6 variables:\n",
      " $ address     : Factor w/ 71 levels \"E 33RD ST & THE ALAMEDA\",..: 49 49 70 57 1 14 14 31 5 35 ...\n",
      " $ direction   : Factor w/ 4 levels \"E/B\",\"N/B\",\"S/B\",..: 2 3 1 3 1 1 4 3 4 1 ...\n",
      " $ street      : Factor w/ 61 levels \"\\nPulaski Hwy \\n\",..: 2 2 60 56 6 11 11 3 30 38 ...\n",
      " $ crossStreet : Factor w/ 66 levels \"33rd St\",\"4th St\",..: 6 6 49 1 58 40 40 36 7 38 ...\n",
      " $ intersection: Factor w/ 74 levels \"\\nPulaski Hwy \\n & Moravia Park Drive\",..: 3 3 73 69 8 14 14 4 36 48 ...\n",
      " $ Location.1  : Factor w/ 76 levels \"(39.1999130165, -76.5559766825)\",..: 7 6 8 49 48 35 36 74 32 29 ...\n"
     ]
    }
   ],
   "source": [
    "str(camera.data)"
   ]
  },
  {
   "cell_type": "code",
   "execution_count": 6,
   "metadata": {},
   "outputs": [
    {
     "data": {
      "text/html": [
       "<ol class=list-inline>\n",
       "\t<li>'address'</li>\n",
       "\t<li>'direction'</li>\n",
       "\t<li>'street'</li>\n",
       "\t<li>'crossstreet'</li>\n",
       "\t<li>'intersection'</li>\n",
       "\t<li>'location.1'</li>\n",
       "</ol>\n"
      ],
      "text/latex": [
       "\\begin{enumerate*}\n",
       "\\item 'address'\n",
       "\\item 'direction'\n",
       "\\item 'street'\n",
       "\\item 'crossstreet'\n",
       "\\item 'intersection'\n",
       "\\item 'location.1'\n",
       "\\end{enumerate*}\n"
      ],
      "text/markdown": [
       "1. 'address'\n",
       "2. 'direction'\n",
       "3. 'street'\n",
       "4. 'crossstreet'\n",
       "5. 'intersection'\n",
       "6. 'location.1'\n",
       "\n",
       "\n"
      ],
      "text/plain": [
       "[1] \"address\"      \"direction\"    \"street\"       \"crossstreet\"  \"intersection\"\n",
       "[6] \"location.1\"  "
      ]
     },
     "metadata": {},
     "output_type": "display_data"
    }
   ],
   "source": [
    "tolower(names(camera.data))"
   ]
  },
  {
   "cell_type": "markdown",
   "metadata": {},
   "source": [
    "## Extract first element from a list"
   ]
  },
  {
   "cell_type": "code",
   "execution_count": 9,
   "metadata": {},
   "outputs": [],
   "source": [
    "splitNames <- strsplit(names(camera.data), \"\\\\.\")"
   ]
  },
  {
   "cell_type": "code",
   "execution_count": 10,
   "metadata": {},
   "outputs": [
    {
     "data": {
      "text/html": [
       "<ol>\n",
       "\t<li>'address'</li>\n",
       "\t<li>'direction'</li>\n",
       "\t<li>'street'</li>\n",
       "\t<li>'crossStreet'</li>\n",
       "\t<li>'intersection'</li>\n",
       "\t<li><ol class=list-inline>\n",
       "\t<li>'Location'</li>\n",
       "\t<li>'1'</li>\n",
       "</ol>\n",
       "</li>\n",
       "</ol>\n"
      ],
      "text/latex": [
       "\\begin{enumerate}\n",
       "\\item 'address'\n",
       "\\item 'direction'\n",
       "\\item 'street'\n",
       "\\item 'crossStreet'\n",
       "\\item 'intersection'\n",
       "\\item \\begin{enumerate*}\n",
       "\\item 'Location'\n",
       "\\item '1'\n",
       "\\end{enumerate*}\n",
       "\n",
       "\\end{enumerate}\n"
      ],
      "text/markdown": [
       "1. 'address'\n",
       "2. 'direction'\n",
       "3. 'street'\n",
       "4. 'crossStreet'\n",
       "5. 'intersection'\n",
       "6. 1. 'Location'\n",
       "2. '1'\n",
       "\n",
       "\n",
       "\n",
       "\n",
       "\n"
      ],
      "text/plain": [
       "[[1]]\n",
       "[1] \"address\"\n",
       "\n",
       "[[2]]\n",
       "[1] \"direction\"\n",
       "\n",
       "[[3]]\n",
       "[1] \"street\"\n",
       "\n",
       "[[4]]\n",
       "[1] \"crossStreet\"\n",
       "\n",
       "[[5]]\n",
       "[1] \"intersection\"\n",
       "\n",
       "[[6]]\n",
       "[1] \"Location\" \"1\"       \n"
      ]
     },
     "metadata": {},
     "output_type": "display_data"
    }
   ],
   "source": [
    "splitNames"
   ]
  },
  {
   "cell_type": "code",
   "execution_count": 15,
   "metadata": {},
   "outputs": [],
   "source": [
    "firstElement <- function(x){x[1]}"
   ]
  },
  {
   "cell_type": "code",
   "execution_count": 16,
   "metadata": {},
   "outputs": [
    {
     "data": {
      "text/html": [
       "<ol class=list-inline>\n",
       "\t<li>'address'</li>\n",
       "\t<li>'direction'</li>\n",
       "\t<li>'street'</li>\n",
       "\t<li>'crossStreet'</li>\n",
       "\t<li>'intersection'</li>\n",
       "\t<li>'Location'</li>\n",
       "</ol>\n"
      ],
      "text/latex": [
       "\\begin{enumerate*}\n",
       "\\item 'address'\n",
       "\\item 'direction'\n",
       "\\item 'street'\n",
       "\\item 'crossStreet'\n",
       "\\item 'intersection'\n",
       "\\item 'Location'\n",
       "\\end{enumerate*}\n"
      ],
      "text/markdown": [
       "1. 'address'\n",
       "2. 'direction'\n",
       "3. 'street'\n",
       "4. 'crossStreet'\n",
       "5. 'intersection'\n",
       "6. 'Location'\n",
       "\n",
       "\n"
      ],
      "text/plain": [
       "[1] \"address\"      \"direction\"    \"street\"       \"crossStreet\"  \"intersection\"\n",
       "[6] \"Location\"    "
      ]
     },
     "metadata": {},
     "output_type": "display_data"
    }
   ],
   "source": [
    "sapply(splitNames, firstElement)"
   ]
  },
  {
   "cell_type": "markdown",
   "metadata": {},
   "source": [
    "## Remove character vectors"
   ]
  },
  {
   "cell_type": "markdown",
   "metadata": {},
   "source": [
    "This can be accomplished with `sub` or `gsub`. `sub` will replace only the first instance encountered; `gsub` will replace them all."
   ]
  },
  {
   "cell_type": "code",
   "execution_count": 18,
   "metadata": {},
   "outputs": [
    {
     "data": {
      "text/html": [
       "<ol class=list-inline>\n",
       "\t<li>'id'</li>\n",
       "\t<li>'solution_id'</li>\n",
       "\t<li>'reviewer_id'</li>\n",
       "\t<li>'start'</li>\n",
       "\t<li>'stop'</li>\n",
       "\t<li>'time_left'</li>\n",
       "\t<li>'accept'</li>\n",
       "</ol>\n"
      ],
      "text/latex": [
       "\\begin{enumerate*}\n",
       "\\item 'id'\n",
       "\\item 'solution\\_id'\n",
       "\\item 'reviewer\\_id'\n",
       "\\item 'start'\n",
       "\\item 'stop'\n",
       "\\item 'time\\_left'\n",
       "\\item 'accept'\n",
       "\\end{enumerate*}\n"
      ],
      "text/markdown": [
       "1. 'id'\n",
       "2. 'solution_id'\n",
       "3. 'reviewer_id'\n",
       "4. 'start'\n",
       "5. 'stop'\n",
       "6. 'time_left'\n",
       "7. 'accept'\n",
       "\n",
       "\n"
      ],
      "text/plain": [
       "[1] \"id\"          \"solution_id\" \"reviewer_id\" \"start\"       \"stop\"       \n",
       "[6] \"time_left\"   \"accept\"     "
      ]
     },
     "metadata": {},
     "output_type": "display_data"
    }
   ],
   "source": [
    "names(reviews)"
   ]
  },
  {
   "cell_type": "code",
   "execution_count": 20,
   "metadata": {},
   "outputs": [
    {
     "data": {
      "text/html": [
       "<ol class=list-inline>\n",
       "\t<li>'id'</li>\n",
       "\t<li>'solutionid'</li>\n",
       "\t<li>'reviewerid'</li>\n",
       "\t<li>'start'</li>\n",
       "\t<li>'stop'</li>\n",
       "\t<li>'timeleft'</li>\n",
       "\t<li>'accept'</li>\n",
       "</ol>\n"
      ],
      "text/latex": [
       "\\begin{enumerate*}\n",
       "\\item 'id'\n",
       "\\item 'solutionid'\n",
       "\\item 'reviewerid'\n",
       "\\item 'start'\n",
       "\\item 'stop'\n",
       "\\item 'timeleft'\n",
       "\\item 'accept'\n",
       "\\end{enumerate*}\n"
      ],
      "text/markdown": [
       "1. 'id'\n",
       "2. 'solutionid'\n",
       "3. 'reviewerid'\n",
       "4. 'start'\n",
       "5. 'stop'\n",
       "6. 'timeleft'\n",
       "7. 'accept'\n",
       "\n",
       "\n"
      ],
      "text/plain": [
       "[1] \"id\"         \"solutionid\" \"reviewerid\" \"start\"      \"stop\"      \n",
       "[6] \"timeleft\"   \"accept\"    "
      ]
     },
     "metadata": {},
     "output_type": "display_data"
    }
   ],
   "source": [
    "sub(\"_\", \"\", names(reviews),)"
   ]
  },
  {
   "cell_type": "markdown",
   "metadata": {},
   "source": [
    "## Finding values\n",
    "We might like to use `grep` or `grepl`."
   ]
  },
  {
   "cell_type": "code",
   "execution_count": null,
   "metadata": {},
   "outputs": [],
   "source": [
    "?grep"
   ]
  },
  {
   "cell_type": "code",
   "execution_count": 22,
   "metadata": {},
   "outputs": [
    {
     "data": {
      "text/html": [
       "<ol class=list-inline>\n",
       "\t<li>4</li>\n",
       "\t<li>5</li>\n",
       "\t<li>36</li>\n",
       "</ol>\n"
      ],
      "text/latex": [
       "\\begin{enumerate*}\n",
       "\\item 4\n",
       "\\item 5\n",
       "\\item 36\n",
       "\\end{enumerate*}\n"
      ],
      "text/markdown": [
       "1. 4\n",
       "2. 5\n",
       "3. 36\n",
       "\n",
       "\n"
      ],
      "text/plain": [
       "[1]  4  5 36"
      ]
     },
     "metadata": {},
     "output_type": "display_data"
    }
   ],
   "source": [
    "grep(\"Alameda\", camera.data$intersection)"
   ]
  },
  {
   "cell_type": "code",
   "execution_count": 29,
   "metadata": {},
   "outputs": [
    {
     "data": {
      "text/html": [
       "<ol class=list-inline>\n",
       "\t<li><span style=white-space:pre-wrap>'The Alameda  &amp; 33rd St'</span></li>\n",
       "\t<li><span style=white-space:pre-wrap>'E 33rd  &amp; The Alameda'</span></li>\n",
       "\t<li>'Harford \\n &amp; The Alameda'</li>\n",
       "</ol>\n"
      ],
      "text/latex": [
       "\\begin{enumerate*}\n",
       "\\item 'The Alameda  \\& 33rd St'\n",
       "\\item 'E 33rd  \\& The Alameda'\n",
       "\\item 'Harford \\textbackslash{}n \\& The Alameda'\n",
       "\\end{enumerate*}\n"
      ],
      "text/markdown": [
       "1. <span style=white-space:pre-wrap>'The Alameda  &amp; 33rd St'</span>\n",
       "2. <span style=white-space:pre-wrap>'E 33rd  &amp; The Alameda'</span>\n",
       "3. 'Harford \\n &amp; The Alameda'\n",
       "\n",
       "\n"
      ],
      "text/plain": [
       "[1] \"The Alameda  & 33rd St\"   \"E 33rd  & The Alameda\"   \n",
       "[3] \"Harford \\n & The Alameda\""
      ]
     },
     "metadata": {},
     "output_type": "display_data"
    }
   ],
   "source": [
    "grep(\"Alameda\", camera.data$intersection, value=TRUE)"
   ]
  },
  {
   "cell_type": "code",
   "execution_count": 30,
   "metadata": {},
   "outputs": [
    {
     "data": {
      "text/html": [],
      "text/latex": [],
      "text/markdown": [],
      "text/plain": [
       "integer(0)"
      ]
     },
     "metadata": {},
     "output_type": "display_data"
    }
   ],
   "source": [
    "grep(\"GoyderTown\", camera.data$intersection)"
   ]
  },
  {
   "cell_type": "code",
   "execution_count": 31,
   "metadata": {},
   "outputs": [
    {
     "data": {
      "text/html": [
       "0"
      ],
      "text/latex": [
       "0"
      ],
      "text/markdown": [
       "0"
      ],
      "text/plain": [
       "[1] 0"
      ]
     },
     "metadata": {},
     "output_type": "display_data"
    }
   ],
   "source": [
    "length(grep(\"GoyderTown\", camera.data$intersection))"
   ]
  },
  {
   "cell_type": "code",
   "execution_count": 23,
   "metadata": {},
   "outputs": [
    {
     "data": {
      "text/plain": [
       "\n",
       "FALSE  TRUE \n",
       "   77     3 "
      ]
     },
     "metadata": {},
     "output_type": "display_data"
    }
   ],
   "source": [
    "table(grepl(\"Alameda\", camera.data$intersection))"
   ]
  },
  {
   "cell_type": "markdown",
   "metadata": {},
   "source": [
    "Give me everything BUT Alameda."
   ]
  },
  {
   "cell_type": "code",
   "execution_count": 25,
   "metadata": {},
   "outputs": [],
   "source": [
    "camera.data.2 <- camera.data[!grepl(\"Alameda\", camera.data$intersection), ]"
   ]
  },
  {
   "cell_type": "markdown",
   "metadata": {},
   "source": [
    "## stringr package\n",
    "The `stringr` package contains a wealth of string manipulation functions."
   ]
  },
  {
   "cell_type": "code",
   "execution_count": 32,
   "metadata": {},
   "outputs": [],
   "source": [
    "library(stringr)"
   ]
  },
  {
   "cell_type": "code",
   "execution_count": 34,
   "metadata": {},
   "outputs": [
    {
     "data": {
      "text/html": [
       "12"
      ],
      "text/latex": [
       "12"
      ],
      "text/markdown": [
       "12"
      ],
      "text/plain": [
       "[1] 12"
      ]
     },
     "metadata": {},
     "output_type": "display_data"
    }
   ],
   "source": [
    "nchar(\"Hello, world\")"
   ]
  },
  {
   "cell_type": "code",
   "execution_count": 36,
   "metadata": {},
   "outputs": [
    {
     "data": {
      "text/html": [
       "'Joshua'"
      ],
      "text/latex": [
       "'Joshua'"
      ],
      "text/markdown": [
       "'Joshua'"
      ],
      "text/plain": [
       "[1] \"Joshua\""
      ]
     },
     "metadata": {},
     "output_type": "display_data"
    }
   ],
   "source": [
    "substr(\"Joshua Goyder\", 1, 6)"
   ]
  },
  {
   "cell_type": "code",
   "execution_count": 37,
   "metadata": {},
   "outputs": [
    {
     "data": {
      "text/html": [
       "'Joshua Goyder'"
      ],
      "text/latex": [
       "'Joshua Goyder'"
      ],
      "text/markdown": [
       "'Joshua Goyder'"
      ],
      "text/plain": [
       "[1] \"Joshua Goyder\""
      ]
     },
     "metadata": {},
     "output_type": "display_data"
    }
   ],
   "source": [
    "paste(\"Joshua\", \"Goyder\")"
   ]
  },
  {
   "cell_type": "code",
   "execution_count": 38,
   "metadata": {},
   "outputs": [
    {
     "data": {
      "text/html": [
       "'Joshua is truly amazing and unrelated to the nice man known only as Goyder'"
      ],
      "text/latex": [
       "'Joshua is truly amazing and unrelated to the nice man known only as Goyder'"
      ],
      "text/markdown": [
       "'Joshua is truly amazing and unrelated to the nice man known only as Goyder'"
      ],
      "text/plain": [
       "[1] \"Joshua is truly amazing and unrelated to the nice man known only as Goyder\""
      ]
     },
     "metadata": {},
     "output_type": "display_data"
    }
   ],
   "source": [
    "paste(\"Joshua\", \"Goyder\", sep = \" is truly amazing and unrelated to the nice man known only as \")"
   ]
  },
  {
   "cell_type": "code",
   "execution_count": 39,
   "metadata": {},
   "outputs": [
    {
     "data": {
      "text/html": [
       "'whatwhat'"
      ],
      "text/latex": [
       "'whatwhat'"
      ],
      "text/markdown": [
       "'whatwhat'"
      ],
      "text/plain": [
       "[1] \"whatwhat\""
      ]
     },
     "metadata": {},
     "output_type": "display_data"
    }
   ],
   "source": [
    "paste0(\"what\", \"what\")"
   ]
  },
  {
   "cell_type": "code",
   "execution_count": 40,
   "metadata": {},
   "outputs": [
    {
     "data": {
      "text/html": [
       "'Whaaaaaat'"
      ],
      "text/latex": [
       "'Whaaaaaat'"
      ],
      "text/markdown": [
       "'Whaaaaaat'"
      ],
      "text/plain": [
       "[1] \"Whaaaaaat\""
      ]
     },
     "metadata": {},
     "output_type": "display_data"
    }
   ],
   "source": [
    "str_trim(\"    Whaaaaaat        \")"
   ]
  },
  {
   "cell_type": "code",
   "execution_count": null,
   "metadata": {},
   "outputs": [],
   "source": []
  }
 ],
 "metadata": {
  "kernelspec": {
   "display_name": "R",
   "language": "R",
   "name": "ir"
  },
  "language_info": {
   "codemirror_mode": "r",
   "file_extension": ".r",
   "mimetype": "text/x-r-source",
   "name": "R",
   "pygments_lexer": "r",
   "version": "3.3.2"
  }
 },
 "nbformat": 4,
 "nbformat_minor": 2
}
