{
 "cells": [
  {
   "cell_type": "markdown",
   "metadata": {},
   "source": [
    "# The tidyverse family\n",
    "___\n",
    "\n",
    "Code to explain the workings of the `tidyverse` packages.\n",
    "\n",
    "> The tidyverse is a set of packages that work in harmony because they share common data representations and API design.\n",
    "\n",
    "Useful links:\n",
    "* [Github for tidyverse](https://github.com/tidyverse/tidyverse)"
   ]
  },
  {
   "cell_type": "markdown",
   "metadata": {},
   "source": [
    "## Generate reference data"
   ]
  },
  {
   "cell_type": "code",
   "execution_count": 2,
   "metadata": {},
   "outputs": [
    {
     "data": {
      "text/html": [
       "<table>\n",
       "<thead><tr><th></th><th scope=col>var1</th><th scope=col>var2</th><th scope=col>var3</th></tr></thead>\n",
       "<tbody>\n",
       "\t<tr><th scope=row>4</th><td>1 </td><td>NA</td><td>13</td></tr>\n",
       "\t<tr><th scope=row>5</th><td>5 </td><td> 6</td><td>11</td></tr>\n",
       "\t<tr><th scope=row>2</th><td>3 </td><td>NA</td><td>12</td></tr>\n",
       "\t<tr><th scope=row>3</th><td>4 </td><td>10</td><td>15</td></tr>\n",
       "\t<tr><th scope=row>1</th><td>2 </td><td> 9</td><td>14</td></tr>\n",
       "</tbody>\n",
       "</table>\n"
      ],
      "text/latex": [
       "\\begin{tabular}{r|lll}\n",
       "  & var1 & var2 & var3\\\\\n",
       "\\hline\n",
       "\t4 & 1  & NA & 13\\\\\n",
       "\t5 & 5  &  6 & 11\\\\\n",
       "\t2 & 3  & NA & 12\\\\\n",
       "\t3 & 4  & 10 & 15\\\\\n",
       "\t1 & 2  &  9 & 14\\\\\n",
       "\\end{tabular}\n"
      ],
      "text/markdown": [
       "\n",
       "| <!--/--> | var1 | var2 | var3 | \n",
       "|---|---|---|---|---|\n",
       "| 4 | 1  | NA | 13 | \n",
       "| 5 | 5  |  6 | 11 | \n",
       "| 2 | 3  | NA | 12 | \n",
       "| 3 | 4  | 10 | 15 | \n",
       "| 1 | 2  |  9 | 14 | \n",
       "\n",
       "\n"
      ],
      "text/plain": [
       "  var1 var2 var3\n",
       "4 1    NA   13  \n",
       "5 5     6   11  \n",
       "2 3    NA   12  \n",
       "3 4    10   15  \n",
       "1 2     9   14  "
      ]
     },
     "metadata": {},
     "output_type": "display_data"
    }
   ],
   "source": [
    "X <- data.frame(\"var1\"=sample(1:5),\"var2\"=sample(6:10),\"var3\"=sample(11:15))\n",
    "X <- X[sample(1:5),]\n",
    "X$var2[c(1,3)] = NA\n",
    "X"
   ]
  },
  {
   "cell_type": "markdown",
   "metadata": {},
   "source": [
    "## plyr"
   ]
  },
  {
   "cell_type": "code",
   "execution_count": 1,
   "metadata": {},
   "outputs": [],
   "source": [
    "library(plyr)"
   ]
  },
  {
   "cell_type": "markdown",
   "metadata": {},
   "source": [
    "To carry out classic ordering:"
   ]
  },
  {
   "cell_type": "code",
   "execution_count": 3,
   "metadata": {},
   "outputs": [
    {
     "data": {
      "text/html": [
       "<table>\n",
       "<thead><tr><th scope=col>var1</th><th scope=col>var2</th><th scope=col>var3</th></tr></thead>\n",
       "<tbody>\n",
       "\t<tr><td>1 </td><td>NA</td><td>13</td></tr>\n",
       "\t<tr><td>2 </td><td> 9</td><td>14</td></tr>\n",
       "\t<tr><td>3 </td><td>NA</td><td>12</td></tr>\n",
       "\t<tr><td>4 </td><td>10</td><td>15</td></tr>\n",
       "\t<tr><td>5 </td><td> 6</td><td>11</td></tr>\n",
       "</tbody>\n",
       "</table>\n"
      ],
      "text/latex": [
       "\\begin{tabular}{r|lll}\n",
       " var1 & var2 & var3\\\\\n",
       "\\hline\n",
       "\t 1  & NA & 13\\\\\n",
       "\t 2  &  9 & 14\\\\\n",
       "\t 3  & NA & 12\\\\\n",
       "\t 4  & 10 & 15\\\\\n",
       "\t 5  &  6 & 11\\\\\n",
       "\\end{tabular}\n"
      ],
      "text/markdown": [
       "\n",
       "var1 | var2 | var3 | \n",
       "|---|---|---|---|---|\n",
       "| 1  | NA | 13 | \n",
       "| 2  |  9 | 14 | \n",
       "| 3  | NA | 12 | \n",
       "| 4  | 10 | 15 | \n",
       "| 5  |  6 | 11 | \n",
       "\n",
       "\n"
      ],
      "text/plain": [
       "  var1 var2 var3\n",
       "1 1    NA   13  \n",
       "2 2     9   14  \n",
       "3 3    NA   12  \n",
       "4 4    10   15  \n",
       "5 5     6   11  "
      ]
     },
     "metadata": {},
     "output_type": "display_data"
    }
   ],
   "source": [
    "arrange(X, var1)"
   ]
  },
  {
   "cell_type": "code",
   "execution_count": 4,
   "metadata": {},
   "outputs": [
    {
     "data": {
      "text/html": [
       "<table>\n",
       "<thead><tr><th scope=col>var1</th><th scope=col>var2</th><th scope=col>var3</th></tr></thead>\n",
       "<tbody>\n",
       "\t<tr><td>5 </td><td> 6</td><td>11</td></tr>\n",
       "\t<tr><td>4 </td><td>10</td><td>15</td></tr>\n",
       "\t<tr><td>3 </td><td>NA</td><td>12</td></tr>\n",
       "\t<tr><td>2 </td><td> 9</td><td>14</td></tr>\n",
       "\t<tr><td>1 </td><td>NA</td><td>13</td></tr>\n",
       "</tbody>\n",
       "</table>\n"
      ],
      "text/latex": [
       "\\begin{tabular}{r|lll}\n",
       " var1 & var2 & var3\\\\\n",
       "\\hline\n",
       "\t 5  &  6 & 11\\\\\n",
       "\t 4  & 10 & 15\\\\\n",
       "\t 3  & NA & 12\\\\\n",
       "\t 2  &  9 & 14\\\\\n",
       "\t 1  & NA & 13\\\\\n",
       "\\end{tabular}\n"
      ],
      "text/markdown": [
       "\n",
       "var1 | var2 | var3 | \n",
       "|---|---|---|---|---|\n",
       "| 5  |  6 | 11 | \n",
       "| 4  | 10 | 15 | \n",
       "| 3  | NA | 12 | \n",
       "| 2  |  9 | 14 | \n",
       "| 1  | NA | 13 | \n",
       "\n",
       "\n"
      ],
      "text/plain": [
       "  var1 var2 var3\n",
       "1 5     6   11  \n",
       "2 4    10   15  \n",
       "3 3    NA   12  \n",
       "4 2     9   14  \n",
       "5 1    NA   13  "
      ]
     },
     "metadata": {},
     "output_type": "display_data"
    }
   ],
   "source": [
    "arrange(X, desc(var1))"
   ]
  },
  {
   "cell_type": "code",
   "execution_count": null,
   "metadata": {},
   "outputs": [],
   "source": [
    "kk"
   ]
  }
 ],
 "metadata": {
  "kernelspec": {
   "display_name": "R",
   "language": "R",
   "name": "ir"
  },
  "language_info": {
   "codemirror_mode": "r",
   "file_extension": ".r",
   "mimetype": "text/x-r-source",
   "name": "R",
   "pygments_lexer": "r",
   "version": "3.3.2"
  }
 },
 "nbformat": 4,
 "nbformat_minor": 2
}
