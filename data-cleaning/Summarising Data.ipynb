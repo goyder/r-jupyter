{
 "cells": [
  {
   "cell_type": "markdown",
   "metadata": {},
   "source": [
    "# Summarising Data\n",
    "___\n"
   ]
  },
  {
   "cell_type": "markdown",
   "metadata": {},
   "source": [
    "## Generating datasets"
   ]
  },
  {
   "cell_type": "markdown",
   "metadata": {},
   "source": [
    "The dataset used here - the *Baltimore Restaurants* dataset - can be downloaded [here](https://data.baltimorecity.gov/Culture-Arts/Restaurants/k5ry-ef3g)."
   ]
  },
  {
   "cell_type": "code",
   "execution_count": 3,
   "metadata": {},
   "outputs": [],
   "source": [
    "rest.data <- read.csv(\"Restaurants.csv\")"
   ]
  },
  {
   "cell_type": "code",
   "execution_count": 25,
   "metadata": {},
   "outputs": [],
   "source": [
    "data(UCBAdmissions)\n",
    "df <- as.data.frame(UCBAdmissions)"
   ]
  },
  {
   "cell_type": "markdown",
   "metadata": {},
   "source": [
    "## Basic Exploration"
   ]
  },
  {
   "cell_type": "code",
   "execution_count": 38,
   "metadata": {},
   "outputs": [
    {
     "data": {
      "text/plain": [
       "242752 bytes"
      ]
     },
     "metadata": {},
     "output_type": "display_data"
    }
   ],
   "source": [
    "object.size(rest.data)"
   ]
  },
  {
   "cell_type": "code",
   "execution_count": 39,
   "metadata": {},
   "outputs": [
    {
     "name": "stdout",
     "output_type": "stream",
     "text": [
      "0.2 Mb\n"
     ]
    }
   ],
   "source": [
    "print(object.size(rest.data), units=\"Mb\")"
   ]
  },
  {
   "cell_type": "code",
   "execution_count": 4,
   "metadata": {},
   "outputs": [
    {
     "data": {
      "text/html": [
       "<table>\n",
       "<thead><tr><th scope=col>name</th><th scope=col>zipCode</th><th scope=col>neighborhood</th><th scope=col>councilDistrict</th><th scope=col>policeDistrict</th><th scope=col>Location.1</th></tr></thead>\n",
       "<tbody>\n",
       "\t<tr><td>410                                </td><td>21206                              </td><td>Frankford                          </td><td> 2                                 </td><td>NORTHEASTERN                       </td><td>4509 BELAIR ROAD\n",
       "Baltimore, MD\n",
       "  </td></tr>\n",
       "\t<tr><td>1919                               </td><td>21231                              </td><td>Fells Point                        </td><td> 1                                 </td><td>SOUTHEASTERN                       </td><td>1919 FLEET ST\n",
       "Baltimore, MD\n",
       "     </td></tr>\n",
       "\t<tr><td>SAUTE                              </td><td>21224                              </td><td>Canton                             </td><td> 1                                 </td><td>SOUTHEASTERN                       </td><td>2844 HUDSON ST\n",
       "Baltimore, MD\n",
       "    </td></tr>\n",
       "\t<tr><td>#1 CHINESE KITCHEN                 </td><td>21211                              </td><td>Hampden                            </td><td>14                                 </td><td>NORTHERN                           </td><td>3998 ROLAND AVE\n",
       "Baltimore, MD\n",
       "   </td></tr>\n",
       "\t<tr><td>#1 chinese restaurant              </td><td>21223                              </td><td>Millhill                           </td><td> 9                                 </td><td>SOUTHWESTERN                       </td><td>2481 frederick ave\n",
       "Baltimore, MD\n",
       "</td></tr>\n",
       "</tbody>\n",
       "</table>\n"
      ],
      "text/latex": [
       "\\begin{tabular}{r|llllll}\n",
       " name & zipCode & neighborhood & councilDistrict & policeDistrict & Location.1\\\\\n",
       "\\hline\n",
       "\t 410                                 & 21206                               & Frankford                           &  2                                  & NORTHEASTERN                        & 4509 BELAIR ROAD\n",
       "Baltimore, MD\n",
       "  \\\\\n",
       "\t 1919                                & 21231                               & Fells Point                         &  1                                  & SOUTHEASTERN                        & 1919 FLEET ST\n",
       "Baltimore, MD\n",
       "     \\\\\n",
       "\t SAUTE                               & 21224                               & Canton                              &  1                                  & SOUTHEASTERN                        & 2844 HUDSON ST\n",
       "Baltimore, MD\n",
       "    \\\\\n",
       "\t \\#1 CHINESE KITCHEN                & 21211                               & Hampden                             & 14                                  & NORTHERN                            & 3998 ROLAND AVE\n",
       "Baltimore, MD\n",
       "   \\\\\n",
       "\t \\#1 chinese restaurant             & 21223                               & Millhill                            &  9                                  & SOUTHWESTERN                        & 2481 frederick ave\n",
       "Baltimore, MD\n",
       "\\\\\n",
       "\\end{tabular}\n"
      ],
      "text/markdown": [
       "\n",
       "name | zipCode | neighborhood | councilDistrict | policeDistrict | Location.1 | \n",
       "|---|---|---|---|---|\n",
       "| 410                                 | 21206                               | Frankford                           |  2                                  | NORTHEASTERN                        | 4509 BELAIR ROAD\n",
       "Baltimore, MD\n",
       "   | \n",
       "| 1919                                | 21231                               | Fells Point                         |  1                                  | SOUTHEASTERN                        | 1919 FLEET ST\n",
       "Baltimore, MD\n",
       "      | \n",
       "| SAUTE                               | 21224                               | Canton                              |  1                                  | SOUTHEASTERN                        | 2844 HUDSON ST\n",
       "Baltimore, MD\n",
       "     | \n",
       "| #1 CHINESE KITCHEN                  | 21211                               | Hampden                             | 14                                  | NORTHERN                            | 3998 ROLAND AVE\n",
       "Baltimore, MD\n",
       "    | \n",
       "| #1 chinese restaurant               | 21223                               | Millhill                            |  9                                  | SOUTHWESTERN                        | 2481 frederick ave\n",
       "Baltimore, MD\n",
       " | \n",
       "\n",
       "\n"
      ],
      "text/plain": [
       "  name                  zipCode neighborhood councilDistrict policeDistrict\n",
       "1 410                   21206   Frankford     2              NORTHEASTERN  \n",
       "2 1919                  21231   Fells Point   1              SOUTHEASTERN  \n",
       "3 SAUTE                 21224   Canton        1              SOUTHEASTERN  \n",
       "4 #1 CHINESE KITCHEN    21211   Hampden      14              NORTHERN      \n",
       "5 #1 chinese restaurant 21223   Millhill      9              SOUTHWESTERN  \n",
       "  Location.1                         \n",
       "1 4509 BELAIR ROAD\\nBaltimore, MD\\n  \n",
       "2 1919 FLEET ST\\nBaltimore, MD\\n     \n",
       "3 2844 HUDSON ST\\nBaltimore, MD\\n    \n",
       "4 3998 ROLAND AVE\\nBaltimore, MD\\n   \n",
       "5 2481 frederick ave\\nBaltimore, MD\\n"
      ]
     },
     "metadata": {},
     "output_type": "display_data"
    }
   ],
   "source": [
    "head(rest.data, n=5)"
   ]
  },
  {
   "cell_type": "code",
   "execution_count": 5,
   "metadata": {},
   "outputs": [
    {
     "data": {
      "text/html": [
       "<table>\n",
       "<thead><tr><th></th><th scope=col>name</th><th scope=col>zipCode</th><th scope=col>neighborhood</th><th scope=col>councilDistrict</th><th scope=col>policeDistrict</th><th scope=col>Location.1</th></tr></thead>\n",
       "<tbody>\n",
       "\t<tr><th scope=row>1323</th><td>ZEN WEST ROADSIDE CANTINA         </td><td>21212                             </td><td>Rosebank                          </td><td> 4                                </td><td>NORTHERN                          </td><td>5916 YORK RD\n",
       "Baltimore, MD\n",
       "     </td></tr>\n",
       "\t<tr><th scope=row>1324</th><td>ZIASCOS                           </td><td>21231                             </td><td>Washington Hill                   </td><td> 1                                </td><td>SOUTHEASTERN                      </td><td>1313 PRATT ST\n",
       "Baltimore, MD\n",
       "    </td></tr>\n",
       "\t<tr><th scope=row>1325</th><td>ZINK'S CAF                  </td><td>21213                             </td><td>Belair-Edison                     </td><td>13                                </td><td>NORTHEASTERN                      </td><td>3300 LAWNVIEW AVE\n",
       "Baltimore, MD\n",
       "</td></tr>\n",
       "\t<tr><th scope=row>1326</th><td>ZISSIMOS BAR                      </td><td>21211                             </td><td>Hampden                           </td><td> 7                                </td><td>NORTHERN                          </td><td>1023 36TH ST\n",
       "Baltimore, MD\n",
       "     </td></tr>\n",
       "\t<tr><th scope=row>1327</th><td>ZORBAS                            </td><td>21224                             </td><td>Greektown                         </td><td> 2                                </td><td>SOUTHEASTERN                      </td><td>4710 EASTERN Ave\n",
       "Baltimore, MD\n",
       " </td></tr>\n",
       "</tbody>\n",
       "</table>\n"
      ],
      "text/latex": [
       "\\begin{tabular}{r|llllll}\n",
       "  & name & zipCode & neighborhood & councilDistrict & policeDistrict & Location.1\\\\\n",
       "\\hline\n",
       "\t1323 & ZEN WEST ROADSIDE CANTINA          & 21212                              & Rosebank                           &  4                                 & NORTHERN                           & 5916 YORK RD\n",
       "Baltimore, MD\n",
       "     \\\\\n",
       "\t1324 & ZIASCOS                            & 21231                              & Washington Hill                    &  1                                 & SOUTHEASTERN                       & 1313 PRATT ST\n",
       "Baltimore, MD\n",
       "    \\\\\n",
       "\t1325 & ZINK'S CAF                   & 21213                              & Belair-Edison                      & 13                                 & NORTHEASTERN                       & 3300 LAWNVIEW AVE\n",
       "Baltimore, MD\n",
       "\\\\\n",
       "\t1326 & ZISSIMOS BAR                       & 21211                              & Hampden                            &  7                                 & NORTHERN                           & 1023 36TH ST\n",
       "Baltimore, MD\n",
       "     \\\\\n",
       "\t1327 & ZORBAS                             & 21224                              & Greektown                          &  2                                 & SOUTHEASTERN                       & 4710 EASTERN Ave\n",
       "Baltimore, MD\n",
       " \\\\\n",
       "\\end{tabular}\n"
      ],
      "text/markdown": [
       "\n",
       "| <!--/--> | name | zipCode | neighborhood | councilDistrict | policeDistrict | Location.1 | \n",
       "|---|---|---|---|---|\n",
       "| 1323 | ZEN WEST ROADSIDE CANTINA          | 21212                              | Rosebank                           |  4                                 | NORTHERN                           | 5916 YORK RD\n",
       "Baltimore, MD\n",
       "      | \n",
       "| 1324 | ZIASCOS                            | 21231                              | Washington Hill                    |  1                                 | SOUTHEASTERN                       | 1313 PRATT ST\n",
       "Baltimore, MD\n",
       "     | \n",
       "| 1325 | ZINK'S CAF                   | 21213                              | Belair-Edison                      | 13                                 | NORTHEASTERN                       | 3300 LAWNVIEW AVE\n",
       "Baltimore, MD\n",
       " | \n",
       "| 1326 | ZISSIMOS BAR                       | 21211                              | Hampden                            |  7                                 | NORTHERN                           | 1023 36TH ST\n",
       "Baltimore, MD\n",
       "      | \n",
       "| 1327 | ZORBAS                             | 21224                              | Greektown                          |  2                                 | SOUTHEASTERN                       | 4710 EASTERN Ave\n",
       "Baltimore, MD\n",
       "  | \n",
       "\n",
       "\n"
      ],
      "text/plain": [
       "     name                      zipCode neighborhood    councilDistrict\n",
       "1323 ZEN WEST ROADSIDE CANTINA 21212   Rosebank         4             \n",
       "1324 ZIASCOS                   21231   Washington Hill  1             \n",
       "1325 ZINK'S CAF\\u0090          21213   Belair-Edison   13             \n",
       "1326 ZISSIMOS BAR              21211   Hampden          7             \n",
       "1327 ZORBAS                    21224   Greektown        2             \n",
       "     policeDistrict Location.1                        \n",
       "1323 NORTHERN       5916 YORK RD\\nBaltimore, MD\\n     \n",
       "1324 SOUTHEASTERN   1313 PRATT ST\\nBaltimore, MD\\n    \n",
       "1325 NORTHEASTERN   3300 LAWNVIEW AVE\\nBaltimore, MD\\n\n",
       "1326 NORTHERN       1023 36TH ST\\nBaltimore, MD\\n     \n",
       "1327 SOUTHEASTERN   4710 EASTERN Ave\\nBaltimore, MD\\n "
      ]
     },
     "metadata": {},
     "output_type": "display_data"
    }
   ],
   "source": [
    "tail(rest.data, n=5)"
   ]
  },
  {
   "cell_type": "code",
   "execution_count": 6,
   "metadata": {},
   "outputs": [
    {
     "name": "stdout",
     "output_type": "stream",
     "text": [
      "'data.frame':\t1327 obs. of  6 variables:\n",
      " $ name           : Factor w/ 1277 levels \"#1 CHINESE KITCHEN\",..: 9 3 992 1 2 4 5 6 7 8 ...\n",
      " $ zipCode        : int  21206 21231 21224 21211 21223 21218 21205 21211 21205 21231 ...\n",
      " $ neighborhood   : Factor w/ 173 levels \"Abell\",\"Arlington\",..: 53 52 18 66 104 33 98 133 98 157 ...\n",
      " $ councilDistrict: int  2 1 1 14 9 14 13 7 13 1 ...\n",
      " $ policeDistrict : Factor w/ 9 levels \"CENTRAL\",\"EASTERN\",..: 3 6 6 4 8 3 6 4 6 6 ...\n",
      " $ Location.1     : Factor w/ 1210 levels \"1 BIDDLE ST\\nBaltimore, MD\\n\",..: 835 334 554 755 492 537 505 530 507 569 ...\n"
     ]
    }
   ],
   "source": [
    "str(rest.data)"
   ]
  },
  {
   "cell_type": "code",
   "execution_count": 7,
   "metadata": {},
   "outputs": [
    {
     "data": {
      "text/plain": [
       "                           name         zipCode             neighborhood\n",
       " MCDONALD'S                  :   8   Min.   :-21226   Downtown    :128  \n",
       " POPEYES FAMOUS FRIED CHICKEN:   7   1st Qu.: 21202   Fells Point : 91  \n",
       " SUBWAY                      :   6   Median : 21218   Inner Harbor: 89  \n",
       " KENTUCKY FRIED CHICKEN      :   5   Mean   : 21185   Canton      : 81  \n",
       " BURGER KING                 :   4   3rd Qu.: 21226   Federal Hill: 42  \n",
       " DUNKIN DONUTS               :   4   Max.   : 21287   Mount Vernon: 33  \n",
       " (Other)                     :1293                    (Other)     :863  \n",
       " councilDistrict       policeDistrict                          Location.1    \n",
       " Min.   : 1.000   SOUTHEASTERN:385    1101 RUSSELL ST\\nBaltimore, MD\\n:   9  \n",
       " 1st Qu.: 2.000   CENTRAL     :288    201 PRATT ST\\nBaltimore, MD\\n   :   8  \n",
       " Median : 9.000   SOUTHERN    :213    2400 BOSTON ST\\nBaltimore, MD\\n :   8  \n",
       " Mean   : 7.191   NORTHERN    :157    300 LIGHT ST\\nBaltimore, MD\\n   :   5  \n",
       " 3rd Qu.:11.000   NORTHEASTERN: 72    300 CHARLES ST\\nBaltimore, MD\\n :   4  \n",
       " Max.   :14.000   EASTERN     : 67    301 LIGHT ST\\nBaltimore, MD\\n   :   4  \n",
       "                  (Other)     :145    (Other)                         :1289  "
      ]
     },
     "metadata": {},
     "output_type": "display_data"
    }
   ],
   "source": [
    "summary(rest.data)"
   ]
  },
  {
   "cell_type": "code",
   "execution_count": 8,
   "metadata": {},
   "outputs": [
    {
     "data": {
      "text/html": [
       "<dl class=dl-horizontal>\n",
       "\t<dt>0%</dt>\n",
       "\t\t<dd>1</dd>\n",
       "\t<dt>25%</dt>\n",
       "\t\t<dd>2</dd>\n",
       "\t<dt>50%</dt>\n",
       "\t\t<dd>9</dd>\n",
       "\t<dt>75%</dt>\n",
       "\t\t<dd>11</dd>\n",
       "\t<dt>100%</dt>\n",
       "\t\t<dd>14</dd>\n",
       "</dl>\n"
      ],
      "text/latex": [
       "\\begin{description*}\n",
       "\\item[0\\textbackslash{}\\%] 1\n",
       "\\item[25\\textbackslash{}\\%] 2\n",
       "\\item[50\\textbackslash{}\\%] 9\n",
       "\\item[75\\textbackslash{}\\%] 11\n",
       "\\item[100\\textbackslash{}\\%] 14\n",
       "\\end{description*}\n"
      ],
      "text/markdown": [
       "0%\n",
       ":   125%\n",
       ":   250%\n",
       ":   975%\n",
       ":   11100%\n",
       ":   14\n",
       "\n"
      ],
      "text/plain": [
       "  0%  25%  50%  75% 100% \n",
       "   1    2    9   11   14 "
      ]
     },
     "metadata": {},
     "output_type": "display_data"
    }
   ],
   "source": [
    "quantile(rest.data$councilDistrict, na.rm=TRUE)"
   ]
  },
  {
   "cell_type": "code",
   "execution_count": 10,
   "metadata": {},
   "outputs": [
    {
     "data": {
      "text/html": [
       "<dl class=dl-horizontal>\n",
       "\t<dt>0%</dt>\n",
       "\t\t<dd>1</dd>\n",
       "\t<dt>25%</dt>\n",
       "\t\t<dd>2</dd>\n",
       "\t<dt>50%</dt>\n",
       "\t\t<dd>9</dd>\n",
       "\t<dt>75%</dt>\n",
       "\t\t<dd>11</dd>\n",
       "\t<dt>90%</dt>\n",
       "\t\t<dd>12</dd>\n",
       "\t<dt>100%</dt>\n",
       "\t\t<dd>14</dd>\n",
       "</dl>\n"
      ],
      "text/latex": [
       "\\begin{description*}\n",
       "\\item[0\\textbackslash{}\\%] 1\n",
       "\\item[25\\textbackslash{}\\%] 2\n",
       "\\item[50\\textbackslash{}\\%] 9\n",
       "\\item[75\\textbackslash{}\\%] 11\n",
       "\\item[90\\textbackslash{}\\%] 12\n",
       "\\item[100\\textbackslash{}\\%] 14\n",
       "\\end{description*}\n"
      ],
      "text/markdown": [
       "0%\n",
       ":   125%\n",
       ":   250%\n",
       ":   975%\n",
       ":   1190%\n",
       ":   12100%\n",
       ":   14\n",
       "\n"
      ],
      "text/plain": [
       "  0%  25%  50%  75%  90% 100% \n",
       "   1    2    9   11   12   14 "
      ]
     },
     "metadata": {},
     "output_type": "display_data"
    }
   ],
   "source": [
    "quantile(rest.data$councilDistrict, probs=c(0, 0.25, 0.5, 0.75, 0.9, 1))"
   ]
  },
  {
   "cell_type": "code",
   "execution_count": 11,
   "metadata": {},
   "outputs": [
    {
     "data": {
      "text/plain": [
       "\n",
       "-21226  21201  21202  21205  21206  21207  21208  21209  21210  21211  21212 \n",
       "     1    136    201     27     30      4      1      8     23     41     28 \n",
       " 21213  21214  21215  21216  21217  21218  21220  21222  21223  21224  21225 \n",
       "    31     17     54     10     32     69      1      7     56    199     19 \n",
       " 21226  21227  21229  21230  21231  21234  21237  21239  21251  21287 \n",
       "    18      4     13    156    127      7      1      3      2      1 "
      ]
     },
     "metadata": {},
     "output_type": "display_data"
    }
   ],
   "source": [
    "table(rest.data$zipCode, useNA=\"ifany\")  # List the number of NAs"
   ]
  },
  {
   "cell_type": "code",
   "execution_count": 12,
   "metadata": {},
   "outputs": [
    {
     "data": {
      "text/plain": [
       "        \n",
       "           1   2   3   4   5   6   7   8   9  10  11  12  13  14\n",
       "  -21226   0   0   0   0   0   0   0   0   0   1   0   0   0   0\n",
       "  21201    0   0   0   0   0   0   0   0   1   0 115  20   0   0\n",
       "  21202   37   0   0   0   0   0   0   0   0   1 139  24   0   0\n",
       "  21205    0   3   0   0   0   0   0   0   0   0   0   4  20   0\n",
       "  21206    0  27   0   0   0   0   0   0   0   0   0   0   3   0\n",
       "  21207    0   0   0   0   3   0   0   1   0   0   0   0   0   0\n",
       "  21208    0   0   0   0   0   0   0   0   0   0   1   0   0   0\n",
       "  21209    0   0   0   0   6   1   1   0   0   0   0   0   0   0\n",
       "  21210    0   0   0   0   0  19   0   0   0   0   0   0   0   4\n",
       "  21211    0   0   0   0   0   0  27   0   0   0   0   0   0  14\n",
       "  21212    0   0   0  27   0   0   0   0   0   0   1   0   0   0\n",
       "  21213    2   0   2   0   0   0   0   0   0   0   0  13  13   1\n",
       "  21214    0   0  17   0   0   0   0   0   0   0   0   0   0   0\n",
       "  21215    0   0   0   0  31  15   6   0   0   0   0   0   1   1\n",
       "  21216    0   0   0   0   0   1   7   0   2   0   0   0   0   0\n",
       "  21217    0   0   0   0   0   0  15   0   8   0   9   0   0   0\n",
       "  21218    0   0   3   0   0   0   6   0   0   0   0  26   0  34\n",
       "  21220    0   0   0   0   0   0   0   0   0   1   0   0   0   0\n",
       "  21222    7   0   0   0   0   0   0   0   0   0   0   0   0   0\n",
       "  21223    0   0   0   0   0   0   0   2  53   0   1   0   0   0\n",
       "  21224  140  54   0   0   0   0   0   0   0   0   0   0   5   0\n",
       "  21225    1   0   0   0   0   0   0   0   0  18   0   0   0   0\n",
       "  21226    0   0   0   0   0   0   0   0   0  18   0   0   0   0\n",
       "  21227    0   0   1   0   0   0   0   2   0   0   0   0   1   0\n",
       "  21229    0   0   0   0   0   0   0  13   0   0   0   0   0   0\n",
       "  21230    1   0   0   0   0   0   0   0  11 133  11   0   0   0\n",
       "  21231  124   0   0   0   0   0   0   0   0   0   0   2   1   0\n",
       "  21234    0   0   7   0   0   0   0   0   0   0   0   0   0   0\n",
       "  21237    0   1   0   0   0   0   0   0   0   0   0   0   0   0\n",
       "  21239    0   0   0   3   0   0   0   0   0   0   0   0   0   0\n",
       "  21251    0   0   2   0   0   0   0   0   0   0   0   0   0   0\n",
       "  21287    0   0   0   0   0   0   0   0   0   0   0   0   1   0"
      ]
     },
     "metadata": {},
     "output_type": "display_data"
    }
   ],
   "source": [
    "table(rest.data$zipCode, rest.data$councilDistrict)"
   ]
  },
  {
   "cell_type": "markdown",
   "metadata": {},
   "source": [
    "## Checking for NAs"
   ]
  },
  {
   "cell_type": "code",
   "execution_count": 13,
   "metadata": {},
   "outputs": [
    {
     "data": {
      "text/html": [
       "0"
      ],
      "text/latex": [
       "0"
      ],
      "text/markdown": [
       "0"
      ],
      "text/plain": [
       "[1] 0"
      ]
     },
     "metadata": {},
     "output_type": "display_data"
    }
   ],
   "source": [
    "sum(is.na(rest.data$councilDistrict))"
   ]
  },
  {
   "cell_type": "code",
   "execution_count": 15,
   "metadata": {},
   "outputs": [
    {
     "data": {
      "text/html": [
       "FALSE"
      ],
      "text/latex": [
       "FALSE"
      ],
      "text/markdown": [
       "FALSE"
      ],
      "text/plain": [
       "[1] FALSE"
      ]
     },
     "metadata": {},
     "output_type": "display_data"
    }
   ],
   "source": [
    "any(is.na(rest.data$councilDistrict))"
   ]
  },
  {
   "cell_type": "code",
   "execution_count": 16,
   "metadata": {},
   "outputs": [
    {
     "data": {
      "text/html": [
       "FALSE"
      ],
      "text/latex": [
       "FALSE"
      ],
      "text/markdown": [
       "FALSE"
      ],
      "text/plain": [
       "[1] FALSE"
      ]
     },
     "metadata": {},
     "output_type": "display_data"
    }
   ],
   "source": [
    "all(rest.data$zipCode > 0)"
   ]
  },
  {
   "cell_type": "code",
   "execution_count": 17,
   "metadata": {},
   "outputs": [
    {
     "data": {
      "text/html": [
       "<dl class=dl-horizontal>\n",
       "\t<dt>name</dt>\n",
       "\t\t<dd>0</dd>\n",
       "\t<dt>zipCode</dt>\n",
       "\t\t<dd>0</dd>\n",
       "\t<dt>neighborhood</dt>\n",
       "\t\t<dd>0</dd>\n",
       "\t<dt>councilDistrict</dt>\n",
       "\t\t<dd>0</dd>\n",
       "\t<dt>policeDistrict</dt>\n",
       "\t\t<dd>0</dd>\n",
       "\t<dt>Location.1</dt>\n",
       "\t\t<dd>0</dd>\n",
       "</dl>\n"
      ],
      "text/latex": [
       "\\begin{description*}\n",
       "\\item[name] 0\n",
       "\\item[zipCode] 0\n",
       "\\item[neighborhood] 0\n",
       "\\item[councilDistrict] 0\n",
       "\\item[policeDistrict] 0\n",
       "\\item[Location.1] 0\n",
       "\\end{description*}\n"
      ],
      "text/markdown": [
       "name\n",
       ":   0zipCode\n",
       ":   0neighborhood\n",
       ":   0councilDistrict\n",
       ":   0policeDistrict\n",
       ":   0Location.1\n",
       ":   0\n",
       "\n"
      ],
      "text/plain": [
       "           name         zipCode    neighborhood councilDistrict  policeDistrict \n",
       "              0               0               0               0               0 \n",
       "     Location.1 \n",
       "              0 "
      ]
     },
     "metadata": {},
     "output_type": "display_data"
    }
   ],
   "source": [
    "colSums(is.na(rest.data))"
   ]
  },
  {
   "cell_type": "markdown",
   "metadata": {},
   "source": [
    "## Looking for specific characteristics\n",
    "\n",
    "Quick note - in the below, the `%in%` can be taken as a good example of a non-standard binary operator. In brief:\n",
    "```\n",
    "all(element.1 %fun% element.2 == `%fun%`(element.1, element.2))  # TRUE\n",
    "```"
   ]
  },
  {
   "cell_type": "code",
   "execution_count": 23,
   "metadata": {},
   "outputs": [
    {
     "data": {
      "text/html": [
       "TRUE"
      ],
      "text/latex": [
       "TRUE"
      ],
      "text/markdown": [
       "TRUE"
      ],
      "text/plain": [
       "[1] TRUE"
      ]
     },
     "metadata": {},
     "output_type": "display_data"
    }
   ],
   "source": [
    "all(rest.data$zipCode %in% c(\"21212\") == `%in%` (rest.data$zipCode, c(\"21212\")))"
   ]
  },
  {
   "cell_type": "markdown",
   "metadata": {},
   "source": [
    "But anyway:"
   ]
  },
  {
   "cell_type": "code",
   "execution_count": 19,
   "metadata": {},
   "outputs": [
    {
     "data": {
      "text/plain": [
       "\n",
       "FALSE  TRUE \n",
       " 1299    28 "
      ]
     },
     "metadata": {},
     "output_type": "display_data"
    }
   ],
   "source": [
    "table(rest.data$zipCode %in% c(\"21212\"))"
   ]
  },
  {
   "cell_type": "code",
   "execution_count": 18,
   "metadata": {},
   "outputs": [
    {
     "data": {
      "text/plain": [
       "\n",
       "FALSE  TRUE \n",
       " 1268    59 "
      ]
     },
     "metadata": {},
     "output_type": "display_data"
    }
   ],
   "source": [
    "table(rest.data$zipCode %in% c(\"21212\", \"21213\"))"
   ]
  },
  {
   "cell_type": "markdown",
   "metadata": {},
   "source": [
    "## Cross tabs"
   ]
  },
  {
   "cell_type": "code",
   "execution_count": 29,
   "metadata": {},
   "outputs": [
    {
     "name": "stdout",
     "output_type": "stream",
     "text": [
      "'data.frame':\t24 obs. of  4 variables:\n",
      " $ Admit : Factor w/ 2 levels \"Admitted\",\"Rejected\": 1 2 1 2 1 2 1 2 1 2 ...\n",
      " $ Gender: Factor w/ 2 levels \"Male\",\"Female\": 1 1 2 2 1 1 2 2 1 1 ...\n",
      " $ Dept  : Factor w/ 6 levels \"A\",\"B\",\"C\",\"D\",..: 1 1 1 1 2 2 2 2 3 3 ...\n",
      " $ Freq  : num  512 313 89 19 353 207 17 8 120 205 ...\n"
     ]
    }
   ],
   "source": [
    "str(df)"
   ]
  },
  {
   "cell_type": "code",
   "execution_count": 30,
   "metadata": {},
   "outputs": [
    {
     "data": {
      "text/plain": [
       "      Admit       Gender   Dept       Freq      \n",
       " Admitted:12   Male  :12   A:4   Min.   :  8.0  \n",
       " Rejected:12   Female:12   B:4   1st Qu.: 80.0  \n",
       "                           C:4   Median :170.0  \n",
       "                           D:4   Mean   :188.6  \n",
       "                           E:4   3rd Qu.:302.5  \n",
       "                           F:4   Max.   :512.0  "
      ]
     },
     "metadata": {},
     "output_type": "display_data"
    }
   ],
   "source": [
    "summary(df)"
   ]
  },
  {
   "cell_type": "code",
   "execution_count": 34,
   "metadata": {},
   "outputs": [
    {
     "data": {
      "text/plain": [
       "        Admit\n",
       "Gender   Admitted Rejected\n",
       "  Male       1198     1493\n",
       "  Female      557     1278"
      ]
     },
     "metadata": {},
     "output_type": "display_data"
    }
   ],
   "source": [
    "xt <- xtabs(Freq ~ Gender + Admit, data=df)\n",
    "xt"
   ]
  },
  {
   "cell_type": "markdown",
   "metadata": {},
   "source": [
    "We can put in more values here, but it gets complicated quickly! Instead, let's use `ftable`."
   ]
  },
  {
   "cell_type": "code",
   "execution_count": 35,
   "metadata": {},
   "outputs": [
    {
     "data": {
      "text/plain": [
       "                Dept   A   B   C   D   E   F\n",
       "Gender Admit                                \n",
       "Male   Admitted      512 353 120 138  53  22\n",
       "       Rejected      313 207 205 279 138 351\n",
       "Female Admitted       89  17 202 131  94  24\n",
       "       Rejected       19   8 391 244 299 317"
      ]
     },
     "metadata": {},
     "output_type": "display_data"
    }
   ],
   "source": [
    "ftable(xtabs(Freq ~ Gender + Admit + Dept, data=df))\n"
   ]
  },
  {
   "cell_type": "code",
   "execution_count": null,
   "metadata": {},
   "outputs": [],
   "source": []
  }
 ],
 "metadata": {
  "kernelspec": {
   "display_name": "R",
   "language": "R",
   "name": "ir"
  },
  "language_info": {
   "codemirror_mode": "r",
   "file_extension": ".r",
   "mimetype": "text/x-r-source",
   "name": "R",
   "pygments_lexer": "r",
   "version": "3.3.2"
  }
 },
 "nbformat": 4,
 "nbformat_minor": 2
}
