{
 "cells": [
  {
   "cell_type": "markdown",
   "metadata": {},
   "source": [
    "# Manipulating Data\n",
    "___"
   ]
  },
  {
   "cell_type": "markdown",
   "metadata": {},
   "source": [
    "## Dataset generation"
   ]
  },
  {
   "cell_type": "markdown",
   "metadata": {},
   "source": [
    "### A data.frame for basic manipulation"
   ]
  },
  {
   "cell_type": "code",
   "execution_count": 61,
   "metadata": {},
   "outputs": [],
   "source": [
    "set.seed(13435)"
   ]
  },
  {
   "cell_type": "code",
   "execution_count": 62,
   "metadata": {},
   "outputs": [
    {
     "data": {
      "text/html": [
       "<table>\n",
       "<thead><tr><th></th><th scope=col>var1</th><th scope=col>var2</th><th scope=col>var3</th></tr></thead>\n",
       "<tbody>\n",
       "\t<tr><th scope=row>1</th><td>2 </td><td>NA</td><td>15</td></tr>\n",
       "\t<tr><th scope=row>4</th><td>1 </td><td>10</td><td>11</td></tr>\n",
       "\t<tr><th scope=row>2</th><td>3 </td><td>NA</td><td>12</td></tr>\n",
       "\t<tr><th scope=row>3</th><td>5 </td><td> 6</td><td>14</td></tr>\n",
       "\t<tr><th scope=row>5</th><td>4 </td><td> 9</td><td>13</td></tr>\n",
       "</tbody>\n",
       "</table>\n"
      ],
      "text/latex": [
       "\\begin{tabular}{r|lll}\n",
       "  & var1 & var2 & var3\\\\\n",
       "\\hline\n",
       "\t1 & 2  & NA & 15\\\\\n",
       "\t4 & 1  & 10 & 11\\\\\n",
       "\t2 & 3  & NA & 12\\\\\n",
       "\t3 & 5  &  6 & 14\\\\\n",
       "\t5 & 4  &  9 & 13\\\\\n",
       "\\end{tabular}\n"
      ],
      "text/markdown": [
       "\n",
       "| <!--/--> | var1 | var2 | var3 | \n",
       "|---|---|---|---|---|\n",
       "| 1 | 2  | NA | 15 | \n",
       "| 4 | 1  | 10 | 11 | \n",
       "| 2 | 3  | NA | 12 | \n",
       "| 3 | 5  |  6 | 14 | \n",
       "| 5 | 4  |  9 | 13 | \n",
       "\n",
       "\n"
      ],
      "text/plain": [
       "  var1 var2 var3\n",
       "1 2    NA   15  \n",
       "4 1    10   11  \n",
       "2 3    NA   12  \n",
       "3 5     6   14  \n",
       "5 4     9   13  "
      ]
     },
     "metadata": {},
     "output_type": "display_data"
    }
   ],
   "source": [
    "X <- data.frame(\"var1\"=sample(1:5),\"var2\"=sample(6:10),\"var3\"=sample(11:15))\n",
    "X <- X[sample(1:5),]\n",
    "X$var2[c(1,3)] = NA\n",
    "X"
   ]
  },
  {
   "cell_type": "markdown",
   "metadata": {},
   "source": [
    "## Subsetting"
   ]
  },
  {
   "cell_type": "markdown",
   "metadata": {},
   "source": [
    "Generate a dataset *without order*, and with *missing values*."
   ]
  },
  {
   "cell_type": "code",
   "execution_count": 6,
   "metadata": {},
   "outputs": [
    {
     "data": {
      "text/html": [
       "<ol class=list-inline>\n",
       "\t<li>2</li>\n",
       "\t<li>1</li>\n",
       "\t<li>3</li>\n",
       "\t<li>5</li>\n",
       "\t<li>4</li>\n",
       "</ol>\n"
      ],
      "text/latex": [
       "\\begin{enumerate*}\n",
       "\\item 2\n",
       "\\item 1\n",
       "\\item 3\n",
       "\\item 5\n",
       "\\item 4\n",
       "\\end{enumerate*}\n"
      ],
      "text/markdown": [
       "1. 2\n",
       "2. 1\n",
       "3. 3\n",
       "4. 5\n",
       "5. 4\n",
       "\n",
       "\n"
      ],
      "text/plain": [
       "[1] 2 1 3 5 4"
      ]
     },
     "metadata": {},
     "output_type": "display_data"
    }
   ],
   "source": [
    "X[,1] # call the first column"
   ]
  },
  {
   "cell_type": "code",
   "execution_count": 7,
   "metadata": {},
   "outputs": [
    {
     "data": {
      "text/html": [
       "<ol class=list-inline>\n",
       "\t<li>2</li>\n",
       "\t<li>1</li>\n",
       "\t<li>3</li>\n",
       "\t<li>5</li>\n",
       "\t<li>4</li>\n",
       "</ol>\n"
      ],
      "text/latex": [
       "\\begin{enumerate*}\n",
       "\\item 2\n",
       "\\item 1\n",
       "\\item 3\n",
       "\\item 5\n",
       "\\item 4\n",
       "\\end{enumerate*}\n"
      ],
      "text/markdown": [
       "1. 2\n",
       "2. 1\n",
       "3. 3\n",
       "4. 5\n",
       "5. 4\n",
       "\n",
       "\n"
      ],
      "text/plain": [
       "[1] 2 1 3 5 4"
      ]
     },
     "metadata": {},
     "output_type": "display_data"
    }
   ],
   "source": [
    "X[,\"var1\"] # call the first column"
   ]
  },
  {
   "cell_type": "code",
   "execution_count": 8,
   "metadata": {},
   "outputs": [
    {
     "data": {
      "text/html": [
       "<ol class=list-inline>\n",
       "\t<li>&lt;NA&gt;</li>\n",
       "\t<li>10</li>\n",
       "</ol>\n"
      ],
      "text/latex": [
       "\\begin{enumerate*}\n",
       "\\item <NA>\n",
       "\\item 10\n",
       "\\end{enumerate*}\n"
      ],
      "text/markdown": [
       "1. &lt;NA&gt;\n",
       "2. 10\n",
       "\n",
       "\n"
      ],
      "text/plain": [
       "[1] NA 10"
      ]
     },
     "metadata": {},
     "output_type": "display_data"
    }
   ],
   "source": [
    "X[1:2, \"var2\"] # subset by rows and columns"
   ]
  },
  {
   "cell_type": "code",
   "execution_count": 11,
   "metadata": {},
   "outputs": [
    {
     "data": {
      "text/html": [
       "<table>\n",
       "<thead><tr><th scope=col>var1</th><th scope=col>var2</th><th scope=col>var3</th></tr></thead>\n",
       "<tbody>\n",
       "\t<tr><td>2 </td><td>NA</td><td>15</td></tr>\n",
       "\t<tr><td>3 </td><td>NA</td><td>12</td></tr>\n",
       "</tbody>\n",
       "</table>\n"
      ],
      "text/latex": [
       "\\begin{tabular}{r|lll}\n",
       " var1 & var2 & var3\\\\\n",
       "\\hline\n",
       "\t 2  & NA & 15\\\\\n",
       "\t 3  & NA & 12\\\\\n",
       "\\end{tabular}\n"
      ],
      "text/markdown": [
       "\n",
       "var1 | var2 | var3 | \n",
       "|---|---|\n",
       "| 2  | NA | 15 | \n",
       "| 3  | NA | 12 | \n",
       "\n",
       "\n"
      ],
      "text/plain": [
       "  var1 var2 var3\n",
       "1 2    NA   15  \n",
       "2 3    NA   12  "
      ]
     },
     "metadata": {},
     "output_type": "display_data"
    }
   ],
   "source": [
    "X[(X$var1 <= 3 & X$var3 > 11),]  # filter by conditions."
   ]
  },
  {
   "cell_type": "markdown",
   "metadata": {},
   "source": [
    "Note that the above filter by conditional is really a filter aginst a list of booleans for the rows. Taking the internal value:"
   ]
  },
  {
   "cell_type": "code",
   "execution_count": 12,
   "metadata": {},
   "outputs": [
    {
     "data": {
      "text/html": [
       "<ol class=list-inline>\n",
       "\t<li>TRUE</li>\n",
       "\t<li>FALSE</li>\n",
       "\t<li>TRUE</li>\n",
       "\t<li>FALSE</li>\n",
       "\t<li>FALSE</li>\n",
       "</ol>\n"
      ],
      "text/latex": [
       "\\begin{enumerate*}\n",
       "\\item TRUE\n",
       "\\item FALSE\n",
       "\\item TRUE\n",
       "\\item FALSE\n",
       "\\item FALSE\n",
       "\\end{enumerate*}\n"
      ],
      "text/markdown": [
       "1. TRUE\n",
       "2. FALSE\n",
       "3. TRUE\n",
       "4. FALSE\n",
       "5. FALSE\n",
       "\n",
       "\n"
      ],
      "text/plain": [
       "[1]  TRUE FALSE  TRUE FALSE FALSE"
      ]
     },
     "metadata": {},
     "output_type": "display_data"
    }
   ],
   "source": [
    "X$var1 <= 3 & X$var3 > 11"
   ]
  },
  {
   "cell_type": "markdown",
   "metadata": {},
   "source": [
    "In other words, we've just put the above array into the 'rows' filter."
   ]
  },
  {
   "cell_type": "code",
   "execution_count": 17,
   "metadata": {},
   "outputs": [
    {
     "data": {
      "text/html": [
       "<table>\n",
       "<thead><tr><th scope=col>var1</th><th scope=col>var2</th><th scope=col>var3</th></tr></thead>\n",
       "<tbody>\n",
       "\t<tr><td>2 </td><td>NA</td><td>15</td></tr>\n",
       "\t<tr><td>3 </td><td>NA</td><td>12</td></tr>\n",
       "</tbody>\n",
       "</table>\n"
      ],
      "text/latex": [
       "\\begin{tabular}{r|lll}\n",
       " var1 & var2 & var3\\\\\n",
       "\\hline\n",
       "\t 2  & NA & 15\\\\\n",
       "\t 3  & NA & 12\\\\\n",
       "\\end{tabular}\n"
      ],
      "text/markdown": [
       "\n",
       "var1 | var2 | var3 | \n",
       "|---|---|\n",
       "| 2  | NA | 15 | \n",
       "| 3  | NA | 12 | \n",
       "\n",
       "\n"
      ],
      "text/plain": [
       "  var1 var2 var3\n",
       "1 2    NA   15  \n",
       "2 3    NA   12  "
      ]
     },
     "metadata": {},
     "output_type": "display_data"
    }
   ],
   "source": [
    "X[c(TRUE, FALSE, TRUE, FALSE, FALSE),]"
   ]
  },
  {
   "cell_type": "code",
   "execution_count": 21,
   "metadata": {},
   "outputs": [
    {
     "data": {
      "text/html": [
       "<table>\n",
       "<thead><tr><th></th><th scope=col>var2</th><th scope=col>var3</th></tr></thead>\n",
       "<tbody>\n",
       "\t<tr><th scope=row>1</th><td>NA</td><td>15</td></tr>\n",
       "\t<tr><th scope=row>4</th><td>10</td><td>11</td></tr>\n",
       "\t<tr><th scope=row>2</th><td>NA</td><td>12</td></tr>\n",
       "</tbody>\n",
       "</table>\n"
      ],
      "text/latex": [
       "\\begin{tabular}{r|ll}\n",
       "  & var2 & var3\\\\\n",
       "\\hline\n",
       "\t1 & NA & 15\\\\\n",
       "\t4 & 10 & 11\\\\\n",
       "\t2 & NA & 12\\\\\n",
       "\\end{tabular}\n"
      ],
      "text/markdown": [
       "\n",
       "| <!--/--> | var2 | var3 | \n",
       "|---|---|---|\n",
       "| 1 | NA | 15 | \n",
       "| 4 | 10 | 11 | \n",
       "| 2 | NA | 12 | \n",
       "\n",
       "\n"
      ],
      "text/plain": [
       "  var2 var3\n",
       "1 NA   15  \n",
       "4 10   11  \n",
       "2 NA   12  "
      ]
     },
     "metadata": {},
     "output_type": "display_data"
    }
   ],
   "source": [
    "X[(X$var1 <= 3 | X$var3 <= 12), 2:3]"
   ]
  },
  {
   "cell_type": "markdown",
   "metadata": {},
   "source": [
    " We can return a vector of the indices at which the condition is true..."
   ]
  },
  {
   "cell_type": "markdown",
   "metadata": {},
   "source": [
    "And use that to filter the dataframe."
   ]
  },
  {
   "cell_type": "code",
   "execution_count": 31,
   "metadata": {},
   "outputs": [
    {
     "data": {
      "text/html": [
       "<ol class=list-inline>\n",
       "\t<li>2</li>\n",
       "\t<li>5</li>\n",
       "</ol>\n"
      ],
      "text/latex": [
       "\\begin{enumerate*}\n",
       "\\item 2\n",
       "\\item 5\n",
       "\\end{enumerate*}\n"
      ],
      "text/markdown": [
       "1. 2\n",
       "2. 5\n",
       "\n",
       "\n"
      ],
      "text/plain": [
       "[1] 2 5"
      ]
     },
     "metadata": {},
     "output_type": "display_data"
    }
   ],
   "source": [
    "which(X$var2 > 8)"
   ]
  },
  {
   "cell_type": "code",
   "execution_count": 23,
   "metadata": {},
   "outputs": [
    {
     "data": {
      "text/html": [
       "<table>\n",
       "<thead><tr><th></th><th scope=col>var1</th><th scope=col>var2</th><th scope=col>var3</th></tr></thead>\n",
       "<tbody>\n",
       "\t<tr><th scope=row>4</th><td>1 </td><td>10</td><td>11</td></tr>\n",
       "\t<tr><th scope=row>5</th><td>4 </td><td> 9</td><td>13</td></tr>\n",
       "</tbody>\n",
       "</table>\n"
      ],
      "text/latex": [
       "\\begin{tabular}{r|lll}\n",
       "  & var1 & var2 & var3\\\\\n",
       "\\hline\n",
       "\t4 & 1  & 10 & 11\\\\\n",
       "\t5 & 4  &  9 & 13\\\\\n",
       "\\end{tabular}\n"
      ],
      "text/markdown": [
       "\n",
       "| <!--/--> | var1 | var2 | var3 | \n",
       "|---|---|\n",
       "| 4 | 1  | 10 | 11 | \n",
       "| 5 | 4  |  9 | 13 | \n",
       "\n",
       "\n"
      ],
      "text/plain": [
       "  var1 var2 var3\n",
       "4 1    10   11  \n",
       "5 4     9   13  "
      ]
     },
     "metadata": {},
     "output_type": "display_data"
    }
   ],
   "source": [
    "X[which(X$var2 > 8),]"
   ]
  },
  {
   "cell_type": "markdown",
   "metadata": {},
   "source": [
    "Which begs the question - how does this filtering deal with NAs?"
   ]
  },
  {
   "cell_type": "code",
   "execution_count": 25,
   "metadata": {},
   "outputs": [
    {
     "data": {
      "text/html": [
       "<ol class=list-inline>\n",
       "\t<li>&lt;NA&gt;</li>\n",
       "\t<li>TRUE</li>\n",
       "\t<li>&lt;NA&gt;</li>\n",
       "\t<li>FALSE</li>\n",
       "\t<li>TRUE</li>\n",
       "</ol>\n"
      ],
      "text/latex": [
       "\\begin{enumerate*}\n",
       "\\item <NA>\n",
       "\\item TRUE\n",
       "\\item <NA>\n",
       "\\item FALSE\n",
       "\\item TRUE\n",
       "\\end{enumerate*}\n"
      ],
      "text/markdown": [
       "1. &lt;NA&gt;\n",
       "2. TRUE\n",
       "3. &lt;NA&gt;\n",
       "4. FALSE\n",
       "5. TRUE\n",
       "\n",
       "\n"
      ],
      "text/plain": [
       "[1]    NA  TRUE    NA FALSE  TRUE"
      ]
     },
     "metadata": {},
     "output_type": "display_data"
    }
   ],
   "source": [
    "X$var2 > 8"
   ]
  },
  {
   "cell_type": "code",
   "execution_count": 32,
   "metadata": {},
   "outputs": [
    {
     "data": {
      "text/html": [
       "<table>\n",
       "<thead><tr><th></th><th scope=col>var1</th><th scope=col>var2</th><th scope=col>var3</th></tr></thead>\n",
       "<tbody>\n",
       "\t<tr><th scope=row>1</th><td>2 </td><td>NA</td><td>15</td></tr>\n",
       "\t<tr><th scope=row>4</th><td>1 </td><td>10</td><td>11</td></tr>\n",
       "\t<tr><th scope=row>2</th><td>3 </td><td>NA</td><td>12</td></tr>\n",
       "\t<tr><th scope=row>3</th><td>5 </td><td> 6</td><td>14</td></tr>\n",
       "\t<tr><th scope=row>5</th><td>4 </td><td> 9</td><td>13</td></tr>\n",
       "</tbody>\n",
       "</table>\n"
      ],
      "text/latex": [
       "\\begin{tabular}{r|lll}\n",
       "  & var1 & var2 & var3\\\\\n",
       "\\hline\n",
       "\t1 & 2  & NA & 15\\\\\n",
       "\t4 & 1  & 10 & 11\\\\\n",
       "\t2 & 3  & NA & 12\\\\\n",
       "\t3 & 5  &  6 & 14\\\\\n",
       "\t5 & 4  &  9 & 13\\\\\n",
       "\\end{tabular}\n"
      ],
      "text/markdown": [
       "\n",
       "| <!--/--> | var1 | var2 | var3 | \n",
       "|---|---|---|---|---|\n",
       "| 1 | 2  | NA | 15 | \n",
       "| 4 | 1  | 10 | 11 | \n",
       "| 2 | 3  | NA | 12 | \n",
       "| 3 | 5  |  6 | 14 | \n",
       "| 5 | 4  |  9 | 13 | \n",
       "\n",
       "\n"
      ],
      "text/plain": [
       "  var1 var2 var3\n",
       "1 2    NA   15  \n",
       "4 1    10   11  \n",
       "2 3    NA   12  \n",
       "3 5     6   14  \n",
       "5 4     9   13  "
      ]
     },
     "metadata": {},
     "output_type": "display_data"
    }
   ],
   "source": [
    "X"
   ]
  },
  {
   "cell_type": "markdown",
   "metadata": {},
   "source": [
    "### Subsetting where the filter vectors mis-match data.frame dimensions"
   ]
  },
  {
   "cell_type": "code",
   "execution_count": 33,
   "metadata": {},
   "outputs": [
    {
     "data": {
      "text/html": [
       "<table>\n",
       "<thead><tr><th></th><th scope=col>var1</th><th scope=col>var2</th><th scope=col>var3</th></tr></thead>\n",
       "<tbody>\n",
       "\t<tr><th scope=row>NA</th><td>NA</td><td>NA</td><td>NA</td></tr>\n",
       "\t<tr><th scope=row>4</th><td> 1</td><td>10</td><td>11</td></tr>\n",
       "\t<tr><th scope=row>NA.1</th><td>NA</td><td>NA</td><td>NA</td></tr>\n",
       "\t<tr><th scope=row>5</th><td> 4</td><td> 9</td><td>13</td></tr>\n",
       "</tbody>\n",
       "</table>\n"
      ],
      "text/latex": [
       "\\begin{tabular}{r|lll}\n",
       "  & var1 & var2 & var3\\\\\n",
       "\\hline\n",
       "\tNA & NA & NA & NA\\\\\n",
       "\t4 &  1 & 10 & 11\\\\\n",
       "\tNA.1 & NA & NA & NA\\\\\n",
       "\t5 &  4 &  9 & 13\\\\\n",
       "\\end{tabular}\n"
      ],
      "text/markdown": [
       "\n",
       "| <!--/--> | var1 | var2 | var3 | \n",
       "|---|---|---|---|\n",
       "| NA | NA | NA | NA | \n",
       "| 4 |  1 | 10 | 11 | \n",
       "| NA.1 | NA | NA | NA | \n",
       "| 5 |  4 |  9 | 13 | \n",
       "\n",
       "\n"
      ],
      "text/plain": [
       "     var1 var2 var3\n",
       "NA   NA   NA   NA  \n",
       "4     1   10   11  \n",
       "NA.1 NA   NA   NA  \n",
       "5     4    9   13  "
      ]
     },
     "metadata": {},
     "output_type": "display_data"
    }
   ],
   "source": [
    "X[X$var2 > 8,]"
   ]
  },
  {
   "cell_type": "markdown",
   "metadata": {},
   "source": [
    "The logic above seems to be that **because the length of the filtering vector matches the length of the dataframe**, it goes through item by item of the filter. If `TRUE`, return that row. If `FALSE`, return nothing. If `NA`, then return a row of `NA`s."
   ]
  },
  {
   "cell_type": "code",
   "execution_count": 34,
   "metadata": {},
   "outputs": [
    {
     "data": {
      "text/html": [
       "<table>\n",
       "<thead><tr><th></th><th scope=col>var1</th><th scope=col>var2</th><th scope=col>var3</th></tr></thead>\n",
       "<tbody>\n",
       "\t<tr><th scope=row>NA</th><td>NA</td><td>NA</td><td>NA</td></tr>\n",
       "\t<tr><th scope=row>4</th><td> 1</td><td>10</td><td>11</td></tr>\n",
       "\t<tr><th scope=row>NA.1</th><td>NA</td><td>NA</td><td>NA</td></tr>\n",
       "\t<tr><th scope=row>NA.2</th><td>NA</td><td>NA</td><td>NA</td></tr>\n",
       "</tbody>\n",
       "</table>\n"
      ],
      "text/latex": [
       "\\begin{tabular}{r|lll}\n",
       "  & var1 & var2 & var3\\\\\n",
       "\\hline\n",
       "\tNA & NA & NA & NA\\\\\n",
       "\t4 &  1 & 10 & 11\\\\\n",
       "\tNA.1 & NA & NA & NA\\\\\n",
       "\tNA.2 & NA & NA & NA\\\\\n",
       "\\end{tabular}\n"
      ],
      "text/markdown": [
       "\n",
       "| <!--/--> | var1 | var2 | var3 | \n",
       "|---|---|---|---|\n",
       "| NA | NA | NA | NA | \n",
       "| 4 |  1 | 10 | 11 | \n",
       "| NA.1 | NA | NA | NA | \n",
       "| NA.2 | NA | NA | NA | \n",
       "\n",
       "\n"
      ],
      "text/plain": [
       "     var1 var2 var3\n",
       "NA   NA   NA   NA  \n",
       "4     1   10   11  \n",
       "NA.1 NA   NA   NA  \n",
       "NA.2 NA   NA   NA  "
      ]
     },
     "metadata": {},
     "output_type": "display_data"
    }
   ],
   "source": [
    "X[(X$var2 > 8)[1:4],]"
   ]
  },
  {
   "cell_type": "markdown",
   "metadata": {},
   "source": [
    "But here, because **the length of the filtering vector does NOT match the length of the dataframe**, we take a different approach. If `TRUE`, return that row. If `FALSE`, return `NA`s. If `NA`, return a row of `NA`."
   ]
  },
  {
   "cell_type": "code",
   "execution_count": 40,
   "metadata": {},
   "outputs": [
    {
     "data": {
      "text/html": [
       "<table>\n",
       "<thead><tr><th></th><th scope=col>var1</th><th scope=col>var2</th><th scope=col>var3</th></tr></thead>\n",
       "<tbody>\n",
       "\t<tr><th scope=row>NA</th><td>NA</td><td>NA</td><td>NA</td></tr>\n",
       "\t<tr><th scope=row>NA.1</th><td>NA</td><td>NA</td><td>NA</td></tr>\n",
       "\t<tr><th scope=row>3</th><td> 5</td><td> 6</td><td>14</td></tr>\n",
       "\t<tr><th scope=row>NA.2</th><td>NA</td><td>NA</td><td>NA</td></tr>\n",
       "</tbody>\n",
       "</table>\n"
      ],
      "text/latex": [
       "\\begin{tabular}{r|lll}\n",
       "  & var1 & var2 & var3\\\\\n",
       "\\hline\n",
       "\tNA & NA & NA & NA\\\\\n",
       "\tNA.1 & NA & NA & NA\\\\\n",
       "\t3 &  5 &  6 & 14\\\\\n",
       "\tNA.2 & NA & NA & NA\\\\\n",
       "\\end{tabular}\n"
      ],
      "text/markdown": [
       "\n",
       "| <!--/--> | var1 | var2 | var3 | \n",
       "|---|---|---|---|\n",
       "| NA | NA | NA | NA | \n",
       "| NA.1 | NA | NA | NA | \n",
       "| 3 |  5 |  6 | 14 | \n",
       "| NA.2 | NA | NA | NA | \n",
       "\n",
       "\n"
      ],
      "text/plain": [
       "     var1 var2 var3\n",
       "NA   NA   NA   NA  \n",
       "NA.1 NA   NA   NA  \n",
       "3     5    6   14  \n",
       "NA.2 NA   NA   NA  "
      ]
     },
     "metadata": {},
     "output_type": "display_data"
    }
   ],
   "source": [
    "X[c(NA, NA, FALSE, TRUE, NA),]"
   ]
  },
  {
   "cell_type": "markdown",
   "metadata": {},
   "source": [
    "So by our logic - `NA`, `NA`, `FALSE` - skip that row, return nothing!, `TRUE` - return row 4!, `NA`."
   ]
  },
  {
   "cell_type": "code",
   "execution_count": 42,
   "metadata": {},
   "outputs": [
    {
     "data": {
      "text/html": [
       "<table>\n",
       "<thead><tr><th></th><th scope=col>var1</th><th scope=col>var2</th><th scope=col>var3</th></tr></thead>\n",
       "<tbody>\n",
       "\t<tr><th scope=row>1</th><td>2 </td><td>NA</td><td>15</td></tr>\n",
       "\t<tr><th scope=row>2</th><td>3 </td><td>NA</td><td>12</td></tr>\n",
       "\t<tr><th scope=row>5</th><td>4 </td><td> 9</td><td>13</td></tr>\n",
       "</tbody>\n",
       "</table>\n"
      ],
      "text/latex": [
       "\\begin{tabular}{r|lll}\n",
       "  & var1 & var2 & var3\\\\\n",
       "\\hline\n",
       "\t1 & 2  & NA & 15\\\\\n",
       "\t2 & 3  & NA & 12\\\\\n",
       "\t5 & 4  &  9 & 13\\\\\n",
       "\\end{tabular}\n"
      ],
      "text/markdown": [
       "\n",
       "| <!--/--> | var1 | var2 | var3 | \n",
       "|---|---|---|\n",
       "| 1 | 2  | NA | 15 | \n",
       "| 2 | 3  | NA | 12 | \n",
       "| 5 | 4  |  9 | 13 | \n",
       "\n",
       "\n"
      ],
      "text/plain": [
       "  var1 var2 var3\n",
       "1 2    NA   15  \n",
       "2 3    NA   12  \n",
       "5 4     9   13  "
      ]
     },
     "metadata": {},
     "output_type": "display_data"
    }
   ],
   "source": [
    "X[c(TRUE, FALSE),]"
   ]
  },
  {
   "cell_type": "markdown",
   "metadata": {},
   "source": [
    "And if we don't supply enough variables, R starts looping the filter vector. So in the above example, we get every second value, starting `TRUE`.\n",
    "\n",
    "And by this logic, if we input `c(NA, FALSE, TRUE)` this should be equivalent to `c(NA, FALSE, TRUE, NA, FALSE)` - i.e. three rows consisting of row 3 wrapped by `NA`s."
   ]
  },
  {
   "cell_type": "code",
   "execution_count": 44,
   "metadata": {},
   "outputs": [
    {
     "data": {
      "text/html": [
       "<table>\n",
       "<thead><tr><th></th><th scope=col>var1</th><th scope=col>var2</th><th scope=col>var3</th></tr></thead>\n",
       "<tbody>\n",
       "\t<tr><th scope=row>NA</th><td>NA</td><td>NA</td><td>NA</td></tr>\n",
       "\t<tr><th scope=row>2</th><td> 3</td><td>NA</td><td>12</td></tr>\n",
       "\t<tr><th scope=row>NA.1</th><td>NA</td><td>NA</td><td>NA</td></tr>\n",
       "</tbody>\n",
       "</table>\n"
      ],
      "text/latex": [
       "\\begin{tabular}{r|lll}\n",
       "  & var1 & var2 & var3\\\\\n",
       "\\hline\n",
       "\tNA & NA & NA & NA\\\\\n",
       "\t2 &  3 & NA & 12\\\\\n",
       "\tNA.1 & NA & NA & NA\\\\\n",
       "\\end{tabular}\n"
      ],
      "text/markdown": [
       "\n",
       "| <!--/--> | var1 | var2 | var3 | \n",
       "|---|---|---|\n",
       "| NA | NA | NA | NA | \n",
       "| 2 |  3 | NA | 12 | \n",
       "| NA.1 | NA | NA | NA | \n",
       "\n",
       "\n"
      ],
      "text/plain": [
       "     var1 var2 var3\n",
       "NA   NA   NA   NA  \n",
       "2     3   NA   12  \n",
       "NA.1 NA   NA   NA  "
      ]
     },
     "metadata": {},
     "output_type": "display_data"
    }
   ],
   "source": [
    "X[c(NA, FALSE, TRUE),]"
   ]
  },
  {
   "cell_type": "markdown",
   "metadata": {},
   "source": [
    "Gotcha."
   ]
  },
  {
   "cell_type": "markdown",
   "metadata": {},
   "source": [
    "## Sorting"
   ]
  },
  {
   "cell_type": "code",
   "execution_count": 49,
   "metadata": {},
   "outputs": [
    {
     "data": {
      "text/html": [
       "<table>\n",
       "<thead><tr><th></th><th scope=col>var1</th><th scope=col>var2</th><th scope=col>var3</th></tr></thead>\n",
       "<tbody>\n",
       "\t<tr><th scope=row>1</th><td>2 </td><td>NA</td><td>15</td></tr>\n",
       "\t<tr><th scope=row>4</th><td>1 </td><td>10</td><td>11</td></tr>\n",
       "\t<tr><th scope=row>2</th><td>3 </td><td>NA</td><td>12</td></tr>\n",
       "\t<tr><th scope=row>3</th><td>5 </td><td> 6</td><td>14</td></tr>\n",
       "\t<tr><th scope=row>5</th><td>4 </td><td> 9</td><td>13</td></tr>\n",
       "</tbody>\n",
       "</table>\n"
      ],
      "text/latex": [
       "\\begin{tabular}{r|lll}\n",
       "  & var1 & var2 & var3\\\\\n",
       "\\hline\n",
       "\t1 & 2  & NA & 15\\\\\n",
       "\t4 & 1  & 10 & 11\\\\\n",
       "\t2 & 3  & NA & 12\\\\\n",
       "\t3 & 5  &  6 & 14\\\\\n",
       "\t5 & 4  &  9 & 13\\\\\n",
       "\\end{tabular}\n"
      ],
      "text/markdown": [
       "\n",
       "| <!--/--> | var1 | var2 | var3 | \n",
       "|---|---|---|---|---|\n",
       "| 1 | 2  | NA | 15 | \n",
       "| 4 | 1  | 10 | 11 | \n",
       "| 2 | 3  | NA | 12 | \n",
       "| 3 | 5  |  6 | 14 | \n",
       "| 5 | 4  |  9 | 13 | \n",
       "\n",
       "\n"
      ],
      "text/plain": [
       "  var1 var2 var3\n",
       "1 2    NA   15  \n",
       "4 1    10   11  \n",
       "2 3    NA   12  \n",
       "3 5     6   14  \n",
       "5 4     9   13  "
      ]
     },
     "metadata": {},
     "output_type": "display_data"
    }
   ],
   "source": [
    "X"
   ]
  },
  {
   "cell_type": "code",
   "execution_count": 45,
   "metadata": {},
   "outputs": [
    {
     "data": {
      "text/html": [
       "<ol class=list-inline>\n",
       "\t<li>1</li>\n",
       "\t<li>2</li>\n",
       "\t<li>3</li>\n",
       "\t<li>4</li>\n",
       "\t<li>5</li>\n",
       "</ol>\n"
      ],
      "text/latex": [
       "\\begin{enumerate*}\n",
       "\\item 1\n",
       "\\item 2\n",
       "\\item 3\n",
       "\\item 4\n",
       "\\item 5\n",
       "\\end{enumerate*}\n"
      ],
      "text/markdown": [
       "1. 1\n",
       "2. 2\n",
       "3. 3\n",
       "4. 4\n",
       "5. 5\n",
       "\n",
       "\n"
      ],
      "text/plain": [
       "[1] 1 2 3 4 5"
      ]
     },
     "metadata": {},
     "output_type": "display_data"
    }
   ],
   "source": [
    "sort(X$var1)"
   ]
  },
  {
   "cell_type": "code",
   "execution_count": 46,
   "metadata": {},
   "outputs": [
    {
     "data": {
      "text/html": [
       "<ol class=list-inline>\n",
       "\t<li>5</li>\n",
       "\t<li>4</li>\n",
       "\t<li>3</li>\n",
       "\t<li>2</li>\n",
       "\t<li>1</li>\n",
       "</ol>\n"
      ],
      "text/latex": [
       "\\begin{enumerate*}\n",
       "\\item 5\n",
       "\\item 4\n",
       "\\item 3\n",
       "\\item 2\n",
       "\\item 1\n",
       "\\end{enumerate*}\n"
      ],
      "text/markdown": [
       "1. 5\n",
       "2. 4\n",
       "3. 3\n",
       "4. 2\n",
       "5. 1\n",
       "\n",
       "\n"
      ],
      "text/plain": [
       "[1] 5 4 3 2 1"
      ]
     },
     "metadata": {},
     "output_type": "display_data"
    }
   ],
   "source": [
    "sort(X$var1, decreasing=TRUE)"
   ]
  },
  {
   "cell_type": "code",
   "execution_count": 47,
   "metadata": {},
   "outputs": [
    {
     "data": {
      "text/html": [
       "<ol class=list-inline>\n",
       "\t<li>10</li>\n",
       "\t<li>9</li>\n",
       "\t<li>6</li>\n",
       "\t<li>&lt;NA&gt;</li>\n",
       "\t<li>&lt;NA&gt;</li>\n",
       "</ol>\n"
      ],
      "text/latex": [
       "\\begin{enumerate*}\n",
       "\\item 10\n",
       "\\item 9\n",
       "\\item 6\n",
       "\\item <NA>\n",
       "\\item <NA>\n",
       "\\end{enumerate*}\n"
      ],
      "text/markdown": [
       "1. 10\n",
       "2. 9\n",
       "3. 6\n",
       "4. &lt;NA&gt;\n",
       "5. &lt;NA&gt;\n",
       "\n",
       "\n"
      ],
      "text/plain": [
       "[1] 10  9  6 NA NA"
      ]
     },
     "metadata": {},
     "output_type": "display_data"
    }
   ],
   "source": [
    "sort(X$var2, decreasing=TRUE, na.last=TRUE)"
   ]
  },
  {
   "cell_type": "markdown",
   "metadata": {},
   "source": [
    "For clarity: `sort` actually carries out the sorting; `order` just returns the order in which they should be."
   ]
  },
  {
   "cell_type": "code",
   "execution_count": 48,
   "metadata": {},
   "outputs": [
    {
     "data": {
      "text/html": [
       "<ol class=list-inline>\n",
       "\t<li>2</li>\n",
       "\t<li>1</li>\n",
       "\t<li>3</li>\n",
       "\t<li>5</li>\n",
       "\t<li>4</li>\n",
       "</ol>\n"
      ],
      "text/latex": [
       "\\begin{enumerate*}\n",
       "\\item 2\n",
       "\\item 1\n",
       "\\item 3\n",
       "\\item 5\n",
       "\\item 4\n",
       "\\end{enumerate*}\n"
      ],
      "text/markdown": [
       "1. 2\n",
       "2. 1\n",
       "3. 3\n",
       "4. 5\n",
       "5. 4\n",
       "\n",
       "\n"
      ],
      "text/plain": [
       "[1] 2 1 3 5 4"
      ]
     },
     "metadata": {},
     "output_type": "display_data"
    }
   ],
   "source": [
    "order(X$var1)"
   ]
  },
  {
   "cell_type": "code",
   "execution_count": 50,
   "metadata": {},
   "outputs": [
    {
     "data": {
      "text/html": [
       "<table>\n",
       "<thead><tr><th></th><th scope=col>var1</th><th scope=col>var2</th><th scope=col>var3</th></tr></thead>\n",
       "<tbody>\n",
       "\t<tr><th scope=row>4</th><td>1 </td><td>10</td><td>11</td></tr>\n",
       "\t<tr><th scope=row>1</th><td>2 </td><td>NA</td><td>15</td></tr>\n",
       "\t<tr><th scope=row>2</th><td>3 </td><td>NA</td><td>12</td></tr>\n",
       "\t<tr><th scope=row>5</th><td>4 </td><td> 9</td><td>13</td></tr>\n",
       "\t<tr><th scope=row>3</th><td>5 </td><td> 6</td><td>14</td></tr>\n",
       "</tbody>\n",
       "</table>\n"
      ],
      "text/latex": [
       "\\begin{tabular}{r|lll}\n",
       "  & var1 & var2 & var3\\\\\n",
       "\\hline\n",
       "\t4 & 1  & 10 & 11\\\\\n",
       "\t1 & 2  & NA & 15\\\\\n",
       "\t2 & 3  & NA & 12\\\\\n",
       "\t5 & 4  &  9 & 13\\\\\n",
       "\t3 & 5  &  6 & 14\\\\\n",
       "\\end{tabular}\n"
      ],
      "text/markdown": [
       "\n",
       "| <!--/--> | var1 | var2 | var3 | \n",
       "|---|---|---|---|---|\n",
       "| 4 | 1  | 10 | 11 | \n",
       "| 1 | 2  | NA | 15 | \n",
       "| 2 | 3  | NA | 12 | \n",
       "| 5 | 4  |  9 | 13 | \n",
       "| 3 | 5  |  6 | 14 | \n",
       "\n",
       "\n"
      ],
      "text/plain": [
       "  var1 var2 var3\n",
       "4 1    10   11  \n",
       "1 2    NA   15  \n",
       "2 3    NA   12  \n",
       "5 4     9   13  \n",
       "3 5     6   14  "
      ]
     },
     "metadata": {},
     "output_type": "display_data"
    }
   ],
   "source": [
    "X[order(X$var1),]"
   ]
  },
  {
   "cell_type": "code",
   "execution_count": 54,
   "metadata": {},
   "outputs": [
    {
     "data": {
      "text/html": [
       "<table>\n",
       "<thead><tr><th></th><th scope=col>var1</th><th scope=col>var2</th><th scope=col>var3</th></tr></thead>\n",
       "<tbody>\n",
       "\t<tr><th scope=row>1</th><td>2 </td><td>NA</td><td>15</td></tr>\n",
       "\t<tr><th scope=row>2</th><td>3 </td><td>NA</td><td>12</td></tr>\n",
       "\t<tr><th scope=row>3</th><td>5 </td><td> 6</td><td>14</td></tr>\n",
       "\t<tr><th scope=row>5</th><td>4 </td><td> 9</td><td>13</td></tr>\n",
       "\t<tr><th scope=row>4</th><td>1 </td><td>10</td><td>11</td></tr>\n",
       "</tbody>\n",
       "</table>\n"
      ],
      "text/latex": [
       "\\begin{tabular}{r|lll}\n",
       "  & var1 & var2 & var3\\\\\n",
       "\\hline\n",
       "\t1 & 2  & NA & 15\\\\\n",
       "\t2 & 3  & NA & 12\\\\\n",
       "\t3 & 5  &  6 & 14\\\\\n",
       "\t5 & 4  &  9 & 13\\\\\n",
       "\t4 & 1  & 10 & 11\\\\\n",
       "\\end{tabular}\n"
      ],
      "text/markdown": [
       "\n",
       "| <!--/--> | var1 | var2 | var3 | \n",
       "|---|---|---|---|---|\n",
       "| 1 | 2  | NA | 15 | \n",
       "| 2 | 3  | NA | 12 | \n",
       "| 3 | 5  |  6 | 14 | \n",
       "| 5 | 4  |  9 | 13 | \n",
       "| 4 | 1  | 10 | 11 | \n",
       "\n",
       "\n"
      ],
      "text/plain": [
       "  var1 var2 var3\n",
       "1 2    NA   15  \n",
       "2 3    NA   12  \n",
       "3 5     6   14  \n",
       "5 4     9   13  \n",
       "4 1    10   11  "
      ]
     },
     "metadata": {},
     "output_type": "display_data"
    }
   ],
   "source": [
    "X[order(X$var2, na.last = FALSE),]"
   ]
  },
  {
   "cell_type": "markdown",
   "metadata": {},
   "source": [
    "And although we can't really do anything here, we can sort by multiple variables..."
   ]
  },
  {
   "cell_type": "code",
   "execution_count": 56,
   "metadata": {},
   "outputs": [
    {
     "data": {
      "text/html": [
       "<table>\n",
       "<thead><tr><th></th><th scope=col>var1</th><th scope=col>var2</th><th scope=col>var3</th></tr></thead>\n",
       "<tbody>\n",
       "\t<tr><th scope=row>4</th><td>1 </td><td>10</td><td>11</td></tr>\n",
       "\t<tr><th scope=row>1</th><td>2 </td><td>NA</td><td>15</td></tr>\n",
       "\t<tr><th scope=row>2</th><td>3 </td><td>NA</td><td>12</td></tr>\n",
       "\t<tr><th scope=row>5</th><td>4 </td><td> 9</td><td>13</td></tr>\n",
       "\t<tr><th scope=row>3</th><td>5 </td><td> 6</td><td>14</td></tr>\n",
       "</tbody>\n",
       "</table>\n"
      ],
      "text/latex": [
       "\\begin{tabular}{r|lll}\n",
       "  & var1 & var2 & var3\\\\\n",
       "\\hline\n",
       "\t4 & 1  & 10 & 11\\\\\n",
       "\t1 & 2  & NA & 15\\\\\n",
       "\t2 & 3  & NA & 12\\\\\n",
       "\t5 & 4  &  9 & 13\\\\\n",
       "\t3 & 5  &  6 & 14\\\\\n",
       "\\end{tabular}\n"
      ],
      "text/markdown": [
       "\n",
       "| <!--/--> | var1 | var2 | var3 | \n",
       "|---|---|---|---|---|\n",
       "| 4 | 1  | 10 | 11 | \n",
       "| 1 | 2  | NA | 15 | \n",
       "| 2 | 3  | NA | 12 | \n",
       "| 5 | 4  |  9 | 13 | \n",
       "| 3 | 5  |  6 | 14 | \n",
       "\n",
       "\n"
      ],
      "text/plain": [
       "  var1 var2 var3\n",
       "4 1    10   11  \n",
       "1 2    NA   15  \n",
       "2 3    NA   12  \n",
       "5 4     9   13  \n",
       "3 5     6   14  "
      ]
     },
     "metadata": {},
     "output_type": "display_data"
    }
   ],
   "source": [
    "X[order(X$var1, X$var3),]"
   ]
  },
  {
   "cell_type": "markdown",
   "metadata": {},
   "source": [
    "## Adding rows and columns"
   ]
  },
  {
   "cell_type": "code",
   "execution_count": 57,
   "metadata": {},
   "outputs": [
    {
     "data": {
      "text/html": [
       "<table>\n",
       "<thead><tr><th></th><th scope=col>var1</th><th scope=col>var2</th><th scope=col>var3</th><th scope=col>var4</th></tr></thead>\n",
       "<tbody>\n",
       "\t<tr><th scope=row>1</th><td>2         </td><td>NA        </td><td>15        </td><td> 0.1875960</td></tr>\n",
       "\t<tr><th scope=row>4</th><td>1         </td><td>10        </td><td>11        </td><td> 1.7869764</td></tr>\n",
       "\t<tr><th scope=row>2</th><td>3         </td><td>NA        </td><td>12        </td><td> 0.4966936</td></tr>\n",
       "\t<tr><th scope=row>3</th><td>5         </td><td> 6        </td><td>14        </td><td> 0.0631830</td></tr>\n",
       "\t<tr><th scope=row>5</th><td>4         </td><td> 9        </td><td>13        </td><td>-0.5361329</td></tr>\n",
       "</tbody>\n",
       "</table>\n"
      ],
      "text/latex": [
       "\\begin{tabular}{r|llll}\n",
       "  & var1 & var2 & var3 & var4\\\\\n",
       "\\hline\n",
       "\t1 & 2          & NA         & 15         &  0.1875960\\\\\n",
       "\t4 & 1          & 10         & 11         &  1.7869764\\\\\n",
       "\t2 & 3          & NA         & 12         &  0.4966936\\\\\n",
       "\t3 & 5          &  6         & 14         &  0.0631830\\\\\n",
       "\t5 & 4          &  9         & 13         & -0.5361329\\\\\n",
       "\\end{tabular}\n"
      ],
      "text/markdown": [
       "\n",
       "| <!--/--> | var1 | var2 | var3 | var4 | \n",
       "|---|---|---|---|---|\n",
       "| 1 | 2          | NA         | 15         |  0.1875960 | \n",
       "| 4 | 1          | 10         | 11         |  1.7869764 | \n",
       "| 2 | 3          | NA         | 12         |  0.4966936 | \n",
       "| 3 | 5          |  6         | 14         |  0.0631830 | \n",
       "| 5 | 4          |  9         | 13         | -0.5361329 | \n",
       "\n",
       "\n"
      ],
      "text/plain": [
       "  var1 var2 var3 var4      \n",
       "1 2    NA   15    0.1875960\n",
       "4 1    10   11    1.7869764\n",
       "2 3    NA   12    0.4966936\n",
       "3 5     6   14    0.0631830\n",
       "5 4     9   13   -0.5361329"
      ]
     },
     "metadata": {},
     "output_type": "display_data"
    }
   ],
   "source": [
    "X$var4 <- rnorm(5)\n",
    "X"
   ]
  },
  {
   "cell_type": "code",
   "execution_count": 58,
   "metadata": {},
   "outputs": [
    {
     "data": {
      "text/html": [
       "<table>\n",
       "<thead><tr><th></th><th scope=col>var1</th><th scope=col>var2</th><th scope=col>var3</th><th scope=col>var4</th><th scope=col>rnorm(5)</th></tr></thead>\n",
       "<tbody>\n",
       "\t<tr><th scope=row>1</th><td>2          </td><td>NA         </td><td>15         </td><td> 0.1875960 </td><td> 0.62578490</td></tr>\n",
       "\t<tr><th scope=row>4</th><td>1          </td><td>10         </td><td>11         </td><td> 1.7869764 </td><td>-2.45083750</td></tr>\n",
       "\t<tr><th scope=row>2</th><td>3          </td><td>NA         </td><td>12         </td><td> 0.4966936 </td><td> 0.08909424</td></tr>\n",
       "\t<tr><th scope=row>3</th><td>5          </td><td> 6         </td><td>14         </td><td> 0.0631830 </td><td> 0.47838570</td></tr>\n",
       "\t<tr><th scope=row>5</th><td>4          </td><td> 9         </td><td>13         </td><td>-0.5361329 </td><td> 1.00053336</td></tr>\n",
       "</tbody>\n",
       "</table>\n"
      ],
      "text/latex": [
       "\\begin{tabular}{r|lllll}\n",
       "  & var1 & var2 & var3 & var4 & rnorm(5)\\\\\n",
       "\\hline\n",
       "\t1 & 2           & NA          & 15          &  0.1875960  &  0.62578490\\\\\n",
       "\t4 & 1           & 10          & 11          &  1.7869764  & -2.45083750\\\\\n",
       "\t2 & 3           & NA          & 12          &  0.4966936  &  0.08909424\\\\\n",
       "\t3 & 5           &  6          & 14          &  0.0631830  &  0.47838570\\\\\n",
       "\t5 & 4           &  9          & 13          & -0.5361329  &  1.00053336\\\\\n",
       "\\end{tabular}\n"
      ],
      "text/markdown": [
       "\n",
       "| <!--/--> | var1 | var2 | var3 | var4 | rnorm(5) | \n",
       "|---|---|---|---|---|\n",
       "| 1 | 2           | NA          | 15          |  0.1875960  |  0.62578490 | \n",
       "| 4 | 1           | 10          | 11          |  1.7869764  | -2.45083750 | \n",
       "| 2 | 3           | NA          | 12          |  0.4966936  |  0.08909424 | \n",
       "| 3 | 5           |  6          | 14          |  0.0631830  |  0.47838570 | \n",
       "| 5 | 4           |  9          | 13          | -0.5361329  |  1.00053336 | \n",
       "\n",
       "\n"
      ],
      "text/plain": [
       "  var1 var2 var3 var4       rnorm(5)   \n",
       "1 2    NA   15    0.1875960  0.62578490\n",
       "4 1    10   11    1.7869764 -2.45083750\n",
       "2 3    NA   12    0.4966936  0.08909424\n",
       "3 5     6   14    0.0631830  0.47838570\n",
       "5 4     9   13   -0.5361329  1.00053336"
      ]
     },
     "metadata": {},
     "output_type": "display_data"
    }
   ],
   "source": [
    "Y <- cbind(X, rnorm(5))\n",
    "Y"
   ]
  },
  {
   "cell_type": "markdown",
   "metadata": {},
   "source": [
    "What if you try to add a differing number of rows?"
   ]
  },
  {
   "cell_type": "code",
   "execution_count": 59,
   "metadata": {},
   "outputs": [
    {
     "ename": "ERROR",
     "evalue": "Error in data.frame(..., check.names = FALSE): arguments imply differing number of rows: 5, 4\n",
     "execution_count": 59,
     "output_type": "error",
     "traceback": [
      "Error in data.frame(..., check.names = FALSE): arguments imply differing number of rows: 5, 4\nTraceback:\n",
      "1. cbind(X, rnorm(4))",
      "2. cbind(deparse.level, ...)",
      "3. data.frame(..., check.names = FALSE)",
      "4. stop(gettextf(\"arguments imply differing number of rows: %s\", \n .     paste(unique(nrows), collapse = \", \")), domain = NA)"
     ]
    }
   ],
   "source": [
    "Y <- cbind(X, rnorm(4))"
   ]
  }
 ],
 "metadata": {
  "kernelspec": {
   "display_name": "R",
   "language": "R",
   "name": "ir"
  },
  "language_info": {
   "codemirror_mode": "r",
   "file_extension": ".r",
   "mimetype": "text/x-r-source",
   "name": "R",
   "pygments_lexer": "r",
   "version": "3.3.2"
  }
 },
 "nbformat": 4,
 "nbformat_minor": 2
}
