{
 "cells": [
  {
   "cell_type": "markdown",
   "metadata": {},
   "source": [
    "# Creating New Variables\n",
    "___\n",
    "\n",
    "Some common reasons to create new varibles:\n",
    "* Missingness indicators - is this observation fully intact?\n",
    "* \"Cutting up\" quantitative variables - turn them into factors\n",
    "* Applying transforms\n",
    "\n",
    "Useful links:\n",
    "\n",
    "* [Biostat lecture 2](http://www.biostat.jhsph.edu/~ajaffe/lec_winterR/Lecture%202.pdf)\n",
    "* [StatMethods transforms](http://statmethods.net/management/functions.html)\n",
    "* [Plyr tutorial](http://plyr.had.co.nz/09-user/)"
   ]
  },
  {
   "cell_type": "markdown",
   "metadata": {},
   "source": [
    "## Dataset to be used"
   ]
  },
  {
   "cell_type": "markdown",
   "metadata": {},
   "source": [
    "The dataset used here - the *Baltimore Restaurants* dataset - can be downloaded [here](https://data.baltimorecity.gov/Culture-Arts/Restaurants/k5ry-ef3g)."
   ]
  },
  {
   "cell_type": "code",
   "execution_count": 3,
   "metadata": {},
   "outputs": [],
   "source": [
    "rest.data <- read.csv(\"data/Restaurants.csv\")"
   ]
  },
  {
   "cell_type": "markdown",
   "metadata": {},
   "source": [
    "## Creating sequences\n",
    "Sequences can be particularly useful for generating indices for the dataset. Some basic use is covered here."
   ]
  },
  {
   "cell_type": "code",
   "execution_count": 4,
   "metadata": {},
   "outputs": [
    {
     "data": {
      "text/html": [
       "<ol class=list-inline>\n",
       "\t<li>1</li>\n",
       "\t<li>3</li>\n",
       "\t<li>5</li>\n",
       "\t<li>7</li>\n",
       "\t<li>9</li>\n",
       "</ol>\n"
      ],
      "text/latex": [
       "\\begin{enumerate*}\n",
       "\\item 1\n",
       "\\item 3\n",
       "\\item 5\n",
       "\\item 7\n",
       "\\item 9\n",
       "\\end{enumerate*}\n"
      ],
      "text/markdown": [
       "1. 1\n",
       "2. 3\n",
       "3. 5\n",
       "4. 7\n",
       "5. 9\n",
       "\n",
       "\n"
      ],
      "text/plain": [
       "[1] 1 3 5 7 9"
      ]
     },
     "metadata": {},
     "output_type": "display_data"
    }
   ],
   "source": [
    "s1 <- seq(1, 10, by=2)\n",
    "s1"
   ]
  },
  {
   "cell_type": "code",
   "execution_count": 5,
   "metadata": {},
   "outputs": [
    {
     "data": {
      "text/html": [
       "<ol class=list-inline>\n",
       "\t<li>1</li>\n",
       "\t<li>5.5</li>\n",
       "\t<li>10</li>\n",
       "</ol>\n"
      ],
      "text/latex": [
       "\\begin{enumerate*}\n",
       "\\item 1\n",
       "\\item 5.5\n",
       "\\item 10\n",
       "\\end{enumerate*}\n"
      ],
      "text/markdown": [
       "1. 1\n",
       "2. 5.5\n",
       "3. 10\n",
       "\n",
       "\n"
      ],
      "text/plain": [
       "[1]  1.0  5.5 10.0"
      ]
     },
     "metadata": {},
     "output_type": "display_data"
    }
   ],
   "source": [
    "s2 <- seq(1, 10, length=3)\n",
    "s2"
   ]
  },
  {
   "cell_type": "code",
   "execution_count": 6,
   "metadata": {},
   "outputs": [
    {
     "data": {
      "text/html": [
       "<ol class=list-inline>\n",
       "\t<li>1</li>\n",
       "\t<li>2</li>\n",
       "\t<li>3</li>\n",
       "\t<li>4</li>\n",
       "\t<li>5</li>\n",
       "</ol>\n"
      ],
      "text/latex": [
       "\\begin{enumerate*}\n",
       "\\item 1\n",
       "\\item 2\n",
       "\\item 3\n",
       "\\item 4\n",
       "\\item 5\n",
       "\\end{enumerate*}\n"
      ],
      "text/markdown": [
       "1. 1\n",
       "2. 2\n",
       "3. 3\n",
       "4. 4\n",
       "5. 5\n",
       "\n",
       "\n"
      ],
      "text/plain": [
       "[1] 1 2 3 4 5"
      ]
     },
     "metadata": {},
     "output_type": "display_data"
    }
   ],
   "source": [
    "x <- c(1, 3, 8, 25, 100)\n",
    "seq(along = x)"
   ]
  },
  {
   "cell_type": "markdown",
   "metadata": {},
   "source": [
    "## Adding new columns"
   ]
  },
  {
   "cell_type": "code",
   "execution_count": 7,
   "metadata": {},
   "outputs": [
    {
     "data": {
      "text/plain": [
       "\n",
       "FALSE  TRUE \n",
       " 1314    13 "
      ]
     },
     "metadata": {},
     "output_type": "display_data"
    }
   ],
   "source": [
    "rest.data$nearMe = rest.data$neighborhood %in% c(\"Roland Park\", \"Homeland\")\n",
    "table(rest.data$nearMe)"
   ]
  },
  {
   "cell_type": "code",
   "execution_count": 8,
   "metadata": {},
   "outputs": [
    {
     "data": {
      "text/plain": [
       "\n",
       "FALSE  TRUE \n",
       " 1326     1 "
      ]
     },
     "metadata": {},
     "output_type": "display_data"
    }
   ],
   "source": [
    "rest.data$zipWrong = ifelse(rest.data$zipCode < 0, TRUE, FALSE)  # Where is the zipcode <0 (and thus invalid?)\n",
    "table(rest.data$zipWrong)"
   ]
  },
  {
   "cell_type": "markdown",
   "metadata": {},
   "source": [
    "## Quantitative into Qualitative"
   ]
  },
  {
   "cell_type": "markdown",
   "metadata": {},
   "source": [
    "Grouping by ranges with `cut`."
   ]
  },
  {
   "cell_type": "code",
   "execution_count": 9,
   "metadata": {},
   "outputs": [],
   "source": [
    "rest.data$zipGroups <- cut(rest.data$zipCode, breaks=quantile(rest.data$zipCode))"
   ]
  },
  {
   "cell_type": "code",
   "execution_count": 10,
   "metadata": {},
   "outputs": [
    {
     "data": {
      "text/plain": [
       "\n",
       "(-2.123e+04,2.12e+04]  (2.12e+04,2.122e+04] (2.122e+04,2.123e+04] \n",
       "                  337                   375                   282 \n",
       "(2.123e+04,2.129e+04] \n",
       "                  332 "
      ]
     },
     "metadata": {},
     "output_type": "display_data"
    }
   ],
   "source": [
    "table(rest.data$zipGroups)"
   ]
  },
  {
   "cell_type": "code",
   "execution_count": 11,
   "metadata": {},
   "outputs": [
    {
     "data": {
      "text/plain": [
       "                       \n",
       "                        -21226 21201 21202 21205 21206 21207 21208 21209 21210\n",
       "  (-2.123e+04,2.12e+04]      0   136   201     0     0     0     0     0     0\n",
       "  (2.12e+04,2.122e+04]       0     0     0    27    30     4     1     8    23\n",
       "  (2.122e+04,2.123e+04]      0     0     0     0     0     0     0     0     0\n",
       "  (2.123e+04,2.129e+04]      0     0     0     0     0     0     0     0     0\n",
       "                       \n",
       "                        21211 21212 21213 21214 21215 21216 21217 21218 21220\n",
       "  (-2.123e+04,2.12e+04]     0     0     0     0     0     0     0     0     0\n",
       "  (2.12e+04,2.122e+04]     41    28    31    17    54    10    32    69     0\n",
       "  (2.122e+04,2.123e+04]     0     0     0     0     0     0     0     0     1\n",
       "  (2.123e+04,2.129e+04]     0     0     0     0     0     0     0     0     0\n",
       "                       \n",
       "                        21222 21223 21224 21225 21226 21227 21229 21230 21231\n",
       "  (-2.123e+04,2.12e+04]     0     0     0     0     0     0     0     0     0\n",
       "  (2.12e+04,2.122e+04]      0     0     0     0     0     0     0     0     0\n",
       "  (2.122e+04,2.123e+04]     7    56   199    19     0     0     0     0     0\n",
       "  (2.123e+04,2.129e+04]     0     0     0     0    18     4    13   156   127\n",
       "                       \n",
       "                        21234 21237 21239 21251 21287\n",
       "  (-2.123e+04,2.12e+04]     0     0     0     0     0\n",
       "  (2.12e+04,2.122e+04]      0     0     0     0     0\n",
       "  (2.122e+04,2.123e+04]     0     0     0     0     0\n",
       "  (2.123e+04,2.129e+04]     7     1     3     2     1"
      ]
     },
     "metadata": {},
     "output_type": "display_data"
    }
   ],
   "source": [
    "table(rest.data$zipGroups, rest.data$zipCode)"
   ]
  },
  {
   "cell_type": "code",
   "execution_count": 12,
   "metadata": {},
   "outputs": [],
   "source": [
    "library(Hmisc)"
   ]
  },
  {
   "cell_type": "code",
   "execution_count": 13,
   "metadata": {},
   "outputs": [],
   "source": [
    "rest.data$zipGroups2 <- cut2(rest.data$zipCode, g=5)"
   ]
  },
  {
   "cell_type": "markdown",
   "metadata": {},
   "source": [
    "Transmute straight into a factor with `factor`."
   ]
  },
  {
   "cell_type": "code",
   "execution_count": 15,
   "metadata": {},
   "outputs": [
    {
     "data": {
      "text/plain": [
       "\n",
       "[-21226,21205) [ 21205,21214) [ 21214,21225) [ 21225,21231) [ 21231,21287] \n",
       "           338            193            445            210            141 "
      ]
     },
     "metadata": {},
     "output_type": "display_data"
    }
   ],
   "source": [
    "table(rest.data$zipGroups2)"
   ]
  },
  {
   "cell_type": "code",
   "execution_count": 14,
   "metadata": {},
   "outputs": [
    {
     "data": {
      "text/html": [
       "<ol class=list-inline>\n",
       "\t<li>21206</li>\n",
       "\t<li>21231</li>\n",
       "\t<li>21224</li>\n",
       "\t<li>21211</li>\n",
       "\t<li>21223</li>\n",
       "\t<li>21218</li>\n",
       "\t<li>21205</li>\n",
       "\t<li>21211</li>\n",
       "\t<li>21205</li>\n",
       "\t<li>21231</li>\n",
       "</ol>\n"
      ],
      "text/latex": [
       "\\begin{enumerate*}\n",
       "\\item 21206\n",
       "\\item 21231\n",
       "\\item 21224\n",
       "\\item 21211\n",
       "\\item 21223\n",
       "\\item 21218\n",
       "\\item 21205\n",
       "\\item 21211\n",
       "\\item 21205\n",
       "\\item 21231\n",
       "\\end{enumerate*}\n"
      ],
      "text/markdown": [
       "1. 21206\n",
       "2. 21231\n",
       "3. 21224\n",
       "4. 21211\n",
       "5. 21223\n",
       "6. 21218\n",
       "7. 21205\n",
       "8. 21211\n",
       "9. 21205\n",
       "10. 21231\n",
       "\n",
       "\n"
      ],
      "text/plain": [
       " [1] 21206 21231 21224 21211 21223 21218 21205 21211 21205 21231\n",
       "32 Levels: -21226 21201 21202 21205 21206 21207 21208 21209 21210 ... 21287"
      ]
     },
     "metadata": {},
     "output_type": "display_data"
    }
   ],
   "source": [
    "rest.data$zipcodefactor <- factor(rest.data$zipCode)\n",
    "rest.data$zipcodefactor[1:10]"
   ]
  },
  {
   "cell_type": "code",
   "execution_count": null,
   "metadata": {},
   "outputs": [],
   "source": [
    "k"
   ]
  }
 ],
 "metadata": {
  "kernelspec": {
   "display_name": "R",
   "language": "R",
   "name": "ir"
  },
  "language_info": {
   "codemirror_mode": "r",
   "file_extension": ".r",
   "mimetype": "text/x-r-source",
   "name": "R",
   "pygments_lexer": "r",
   "version": "3.3.2"
  }
 },
 "nbformat": 4,
 "nbformat_minor": 2
}
