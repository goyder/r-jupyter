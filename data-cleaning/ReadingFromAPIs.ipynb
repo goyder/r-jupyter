{
 "cells": [
  {
   "cell_type": "markdown",
   "metadata": {},
   "source": [
    "# Reading from APIs\n",
    "___\n",
    "\n",
    "Useful links:\n",
    "\n",
    "* [Twitter API documentation](https://developer.twitter.com/en/docs)"
   ]
  },
  {
   "cell_type": "markdown",
   "metadata": {},
   "source": [
    "## Accessing Twitter from R"
   ]
  },
  {
   "cell_type": "code",
   "execution_count": 1,
   "metadata": {},
   "outputs": [],
   "source": [
    "library(jsonlite)\n",
    "library(httr)"
   ]
  },
  {
   "cell_type": "code",
   "execution_count": 2,
   "metadata": {},
   "outputs": [],
   "source": [
    "# Credentials held in twitter_credentials.json\n",
    "credentials <- fromJSON(\"twitter_credentials.json\")  \n",
    "# And don't forget to .gitignore the file"
   ]
  },
  {
   "cell_type": "code",
   "execution_count": 3,
   "metadata": {},
   "outputs": [],
   "source": [
    "myapp <- oauth_app(\"twitter\",\n",
    "                  key=credentials$consumer_key,\n",
    "                  secret=credentials$consumer_secret)\n",
    "sig <- sign_oauth1.0(myapp,\n",
    "                    token=credentials$access_token,\n",
    "                    token_secret=credentials$access_token_secret)\n",
    "homeTL = GET(\"https://api.twitter.com/1.1/statuses/home_timeline.json\", sig)"
   ]
  },
  {
   "cell_type": "code",
   "execution_count": 4,
   "metadata": {},
   "outputs": [
    {
     "data": {
      "text/html": [
       "'raw'"
      ],
      "text/latex": [
       "'raw'"
      ],
      "text/markdown": [
       "'raw'"
      ],
      "text/plain": [
       "[1] \"raw\""
      ]
     },
     "metadata": {},
     "output_type": "display_data"
    }
   ],
   "source": [
    "class(homeTL$content)"
   ]
  },
  {
   "cell_type": "markdown",
   "metadata": {},
   "source": [
    "Not quite the ideal content we were chasing... - this just spits out a huge amount of raw binary code. let's try that again."
   ]
  },
  {
   "cell_type": "code",
   "execution_count": 38,
   "metadata": {},
   "outputs": [],
   "source": [
    "response = fromJSON(content(homeTL, as=\"text\"))"
   ]
  },
  {
   "cell_type": "code",
   "execution_count": 39,
   "metadata": {},
   "outputs": [
    {
     "data": {
      "text/html": [
       "<ol class=list-inline>\n",
       "\t<li>'AAAAAAAAAAAAAAAAAAHHHHHHHHHHHHHH'</li>\n",
       "\t<li>'AAAAAAAAAAAAAAAAAAAHHHHHHHHH'</li>\n",
       "\t<li>'https://t.co/5MSt2i4i68'</li>\n",
       "\t<li>'Ultra Seven / Super Famicom / Bandai / 1993 https://t.co/25HUtOefoL'</li>\n",
       "\t<li>'RT @YeslekReklaw: What kind of passive aggressive bullshit.... https://t.co/WHUCA57GSN'</li>\n",
       "\t<li>'AAAAAAAAAAAAAAAAAAAAAAAHH'</li>\n",
       "\t<li>'AAAAAAAAAHHHHHHHHH \\nhttps://t.co/aofN6lUDJJ'</li>\n",
       "\t<li>'Takes Notes on Everything\\n{ author: @Maxwell_Dev }\\nhttps://t.co/q21rEXI5pQ'</li>\n",
       "\t<li>'The Lost Vikings: Viking no Daimeiwaku / Super Famicom / T&amp;amp;E Soft / 1993 https://t.co/zXaZPBldWI'</li>\n",
       "\t<li>'AAAAAAAAAAAAAAAAHHH'</li>\n",
       "\t<li>'https://t.co/ueT7PhJ26x'</li>\n",
       "\t<li>'AAAAAAAAAAAHH'</li>\n",
       "\t<li>'the moon is cool\\nspring thaw\\nrest break\\nspring finally begins'</li>\n",
       "\t<li>'AAAAAHHHHHHHHHHHH'</li>\n",
       "\t<li>'IT\\'S KERMIT \"THE FROG\"\\n\\nIS HIS LAST NAME \"THE FROG\"\\n\\nIS THAT NECESSARY\\n\\nI THINK IT\\'S INCREDIBLY CLEAR HE IS A FROGG… https://t.co/hn2MYIfhDS'</li>\n",
       "\t<li>'AAAAAAAAAAAHHHHHHHHHH'</li>\n",
       "\t<li>'https://t.co/DI5pwLZekS'</li>\n",
       "\t<li>'AAAAAAAHHHHH'</li>\n",
       "\t<li>'AAAAAAAAAAAAAAAAAAAH'</li>\n",
       "\t<li>'AAAAAAAAAAAAAAAHHHHHHHHHHH'</li>\n",
       "</ol>\n"
      ],
      "text/latex": [
       "\\begin{enumerate*}\n",
       "\\item 'AAAAAAAAAAAAAAAAAAHHHHHHHHHHHHHH'\n",
       "\\item 'AAAAAAAAAAAAAAAAAAAHHHHHHHHH'\n",
       "\\item 'https://t.co/5MSt2i4i68'\n",
       "\\item 'Ultra Seven / Super Famicom / Bandai / 1993 https://t.co/25HUtOefoL'\n",
       "\\item 'RT @YeslekReklaw: What kind of passive aggressive bullshit.... https://t.co/WHUCA57GSN'\n",
       "\\item 'AAAAAAAAAAAAAAAAAAAAAAAHH'\n",
       "\\item 'AAAAAAAAAHHHHHHHHH \\textbackslash{}nhttps://t.co/aofN6lUDJJ'\n",
       "\\item 'Takes Notes on Everything\\textbackslash{}n\\{ author: @Maxwell\\_Dev \\}\\textbackslash{}nhttps://t.co/q21rEXI5pQ'\n",
       "\\item 'The Lost Vikings: Viking no Daimeiwaku / Super Famicom / T\\&amp;E Soft / 1993 https://t.co/zXaZPBldWI'\n",
       "\\item 'AAAAAAAAAAAAAAAAHHH'\n",
       "\\item 'https://t.co/ueT7PhJ26x'\n",
       "\\item 'AAAAAAAAAAAHH'\n",
       "\\item 'the moon is cool\\textbackslash{}nspring thaw\\textbackslash{}nrest break\\textbackslash{}nspring finally begins'\n",
       "\\item 'AAAAAHHHHHHHHHHHH'\n",
       "\\item 'IT\\textbackslash{}'S KERMIT \"THE FROG\"\\textbackslash{}n\\textbackslash{}nIS HIS LAST NAME \"THE FROG\"\\textbackslash{}n\\textbackslash{}nIS THAT NECESSARY\\textbackslash{}n\\textbackslash{}nI THINK IT\\textbackslash{}'S INCREDIBLY CLEAR HE IS A FROGG… https://t.co/hn2MYIfhDS'\n",
       "\\item 'AAAAAAAAAAAHHHHHHHHHH'\n",
       "\\item 'https://t.co/DI5pwLZekS'\n",
       "\\item 'AAAAAAAHHHHH'\n",
       "\\item 'AAAAAAAAAAAAAAAAAAAH'\n",
       "\\item 'AAAAAAAAAAAAAAAHHHHHHHHHHH'\n",
       "\\end{enumerate*}\n"
      ],
      "text/markdown": [
       "1. 'AAAAAAAAAAAAAAAAAAHHHHHHHHHHHHHH'\n",
       "2. 'AAAAAAAAAAAAAAAAAAAHHHHHHHHH'\n",
       "3. 'https://t.co/5MSt2i4i68'\n",
       "4. 'Ultra Seven / Super Famicom / Bandai / 1993 https://t.co/25HUtOefoL'\n",
       "5. 'RT @YeslekReklaw: What kind of passive aggressive bullshit.... https://t.co/WHUCA57GSN'\n",
       "6. 'AAAAAAAAAAAAAAAAAAAAAAAHH'\n",
       "7. 'AAAAAAAAAHHHHHHHHH \\nhttps://t.co/aofN6lUDJJ'\n",
       "8. 'Takes Notes on Everything\\n{ author: @Maxwell_Dev }\\nhttps://t.co/q21rEXI5pQ'\n",
       "9. 'The Lost Vikings: Viking no Daimeiwaku / Super Famicom / T&amp;amp;E Soft / 1993 https://t.co/zXaZPBldWI'\n",
       "10. 'AAAAAAAAAAAAAAAAHHH'\n",
       "11. 'https://t.co/ueT7PhJ26x'\n",
       "12. 'AAAAAAAAAAAHH'\n",
       "13. 'the moon is cool\\nspring thaw\\nrest break\\nspring finally begins'\n",
       "14. 'AAAAAHHHHHHHHHHHH'\n",
       "15. 'IT\\'S KERMIT \"THE FROG\"\\n\\nIS HIS LAST NAME \"THE FROG\"\\n\\nIS THAT NECESSARY\\n\\nI THINK IT\\'S INCREDIBLY CLEAR HE IS A FROGG… https://t.co/hn2MYIfhDS'\n",
       "16. 'AAAAAAAAAAAHHHHHHHHHH'\n",
       "17. 'https://t.co/DI5pwLZekS'\n",
       "18. 'AAAAAAAHHHHH'\n",
       "19. 'AAAAAAAAAAAAAAAAAAAH'\n",
       "20. 'AAAAAAAAAAAAAAAHHHHHHHHHHH'\n",
       "\n",
       "\n"
      ],
      "text/plain": [
       " [1] \"AAAAAAAAAAAAAAAAAAHHHHHHHHHHHHHH\"                                                                                                                      \n",
       " [2] \"AAAAAAAAAAAAAAAAAAAHHHHHHHHH\"                                                                                                                          \n",
       " [3] \"https://t.co/5MSt2i4i68\"                                                                                                                               \n",
       " [4] \"Ultra Seven / Super Famicom / Bandai / 1993 https://t.co/25HUtOefoL\"                                                                                   \n",
       " [5] \"RT @YeslekReklaw: What kind of passive aggressive bullshit.... https://t.co/WHUCA57GSN\"                                                                \n",
       " [6] \"AAAAAAAAAAAAAAAAAAAAAAAHH\"                                                                                                                             \n",
       " [7] \"AAAAAAAAAHHHHHHHHH \\nhttps://t.co/aofN6lUDJJ\"                                                                                                          \n",
       " [8] \"Takes Notes on Everything\\n{ author: @Maxwell_Dev }\\nhttps://t.co/q21rEXI5pQ\"                                                                          \n",
       " [9] \"The Lost Vikings: Viking no Daimeiwaku / Super Famicom / T&amp;E Soft / 1993 https://t.co/zXaZPBldWI\"                                                  \n",
       "[10] \"AAAAAAAAAAAAAAAAHHH\"                                                                                                                                   \n",
       "[11] \"https://t.co/ueT7PhJ26x\"                                                                                                                               \n",
       "[12] \"AAAAAAAAAAAHH\"                                                                                                                                         \n",
       "[13] \"the moon is cool\\nspring thaw\\nrest break\\nspring finally begins\"                                                                                      \n",
       "[14] \"AAAAAHHHHHHHHHHHH\"                                                                                                                                     \n",
       "[15] \"IT'S KERMIT \\\"THE FROG\\\"\\n\\nIS HIS LAST NAME \\\"THE FROG\\\"\\n\\nIS THAT NECESSARY\\n\\nI THINK IT'S INCREDIBLY CLEAR HE IS A FROGG… https://t.co/hn2MYIfhDS\"\n",
       "[16] \"AAAAAAAAAAAHHHHHHHHHH\"                                                                                                                                 \n",
       "[17] \"https://t.co/DI5pwLZekS\"                                                                                                                               \n",
       "[18] \"AAAAAAAHHHHH\"                                                                                                                                          \n",
       "[19] \"AAAAAAAAAAAAAAAAAAAH\"                                                                                                                                  \n",
       "[20] \"AAAAAAAAAAAAAAAHHHHHHHHHHH\"                                                                                                                            "
      ]
     },
     "metadata": {},
     "output_type": "display_data"
    }
   ],
   "source": [
    "response$text"
   ]
  },
  {
   "cell_type": "markdown",
   "metadata": {},
   "source": [
    "From the above, we can clearly see that Twitter is of... interesting value."
   ]
  },
  {
   "cell_type": "code",
   "execution_count": null,
   "metadata": {},
   "outputs": [],
   "source": [
    "k"
   ]
  }
 ],
 "metadata": {
  "kernelspec": {
   "display_name": "R",
   "language": "R",
   "name": "ir"
  },
  "language_info": {
   "codemirror_mode": "r",
   "file_extension": ".r",
   "mimetype": "text/x-r-source",
   "name": "R",
   "pygments_lexer": "r",
   "version": "3.3.2"
  }
 },
 "nbformat": 4,
 "nbformat_minor": 2
}
