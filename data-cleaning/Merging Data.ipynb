{
 "cells": [
  {
   "cell_type": "markdown",
   "metadata": {},
   "source": [
    "## Merging Data\n",
    "___\n",
    "\n",
    "Useful links:\n",
    "* [Quick R data merging page](http://www.statmethods.net/management/merging.html)\n",
    "* [plyr information](http://plyr.had.co.nz/)\n",
    "* [Types of joins](http://en.wikipedia.org/wiki/join_(SQL\\))"
   ]
  },
  {
   "cell_type": "markdown",
   "metadata": {},
   "source": [
    "## Obtain the datasets"
   ]
  },
  {
   "cell_type": "code",
   "execution_count": 8,
   "metadata": {},
   "outputs": [],
   "source": [
    "file.URL1 <- \"https://raw.githubusercontent.com/jtleek/dataanalysis/master/week2/007summarizingData/data/reviews.csv\"\n",
    "file.URL2 <- \"https://raw.githubusercontent.com/jtleek/dataanalysis/master/week2/007summarizingData/data/solutions.csv\"\n",
    "\n",
    "if (!file.exists(\"data/reviews.csv\")) {\n",
    "    download.file(file.URL1, \"data/reviews.csv\", method=\"curl\", extra = \"-L\")\n",
    "}\n",
    "\n",
    "if (!file.exists(\"data/solutions.csv\")) {\n",
    "    download.file(file.URL2, \"data/solutions.csv\", method=\"curl\", extra = \"-L\")\n",
    "}\n",
    "\n",
    "reviews <- read.csv(\"data/reviews.csv\")\n",
    "solutions <- read.csv(\"data/solutions.csv\")"
   ]
  },
  {
   "cell_type": "code",
   "execution_count": 12,
   "metadata": {},
   "outputs": [
    {
     "data": {
      "text/html": [
       "<table>\n",
       "<thead><tr><th scope=col>id</th><th scope=col>solution_id</th><th scope=col>reviewer_id</th><th scope=col>start</th><th scope=col>stop</th><th scope=col>time_left</th><th scope=col>accept</th></tr></thead>\n",
       "<tbody>\n",
       "\t<tr><td> 1        </td><td> 3        </td><td>27        </td><td>1304095698</td><td>1304095758</td><td>1754      </td><td> 1        </td></tr>\n",
       "\t<tr><td> 2        </td><td> 4        </td><td>22        </td><td>1304095188</td><td>1304095206</td><td>2306      </td><td> 1        </td></tr>\n",
       "\t<tr><td> 3        </td><td> 5        </td><td>28        </td><td>1304095276</td><td>1304095320</td><td>2192      </td><td> 1        </td></tr>\n",
       "\t<tr><td> 4        </td><td> 1        </td><td>26        </td><td>1304095267</td><td>1304095423</td><td>2089      </td><td> 1        </td></tr>\n",
       "\t<tr><td> 5        </td><td>10        </td><td>29        </td><td>1304095456</td><td>1304095469</td><td>2043      </td><td> 1        </td></tr>\n",
       "\t<tr><td> 6        </td><td> 2        </td><td>29        </td><td>1304095471</td><td>1304095513</td><td>1999      </td><td> 1        </td></tr>\n",
       "\t<tr><td> 7        </td><td> 9        </td><td>25        </td><td>1304095343</td><td>1304095382</td><td>2130      </td><td> 1        </td></tr>\n",
       "\t<tr><td> 8        </td><td> 8        </td><td>23        </td><td>        NA</td><td>        NA</td><td>  NA      </td><td>NA        </td></tr>\n",
       "\t<tr><td> 9        </td><td> 7        </td><td>29        </td><td>1304095520</td><td>1304095613</td><td>1899      </td><td> 1        </td></tr>\n",
       "\t<tr><td>10        </td><td>11        </td><td>26        </td><td>1304095428</td><td>1304095488</td><td>2024      </td><td> 1        </td></tr>\n",
       "</tbody>\n",
       "</table>\n"
      ],
      "text/latex": [
       "\\begin{tabular}{r|lllllll}\n",
       " id & solution\\_id & reviewer\\_id & start & stop & time\\_left & accept\\\\\n",
       "\\hline\n",
       "\t  1         &  3         & 27         & 1304095698 & 1304095758 & 1754       &  1        \\\\\n",
       "\t  2         &  4         & 22         & 1304095188 & 1304095206 & 2306       &  1        \\\\\n",
       "\t  3         &  5         & 28         & 1304095276 & 1304095320 & 2192       &  1        \\\\\n",
       "\t  4         &  1         & 26         & 1304095267 & 1304095423 & 2089       &  1        \\\\\n",
       "\t  5         & 10         & 29         & 1304095456 & 1304095469 & 2043       &  1        \\\\\n",
       "\t  6         &  2         & 29         & 1304095471 & 1304095513 & 1999       &  1        \\\\\n",
       "\t  7         &  9         & 25         & 1304095343 & 1304095382 & 2130       &  1        \\\\\n",
       "\t  8         &  8         & 23         &         NA &         NA &   NA       & NA        \\\\\n",
       "\t  9         &  7         & 29         & 1304095520 & 1304095613 & 1899       &  1        \\\\\n",
       "\t 10         & 11         & 26         & 1304095428 & 1304095488 & 2024       &  1        \\\\\n",
       "\\end{tabular}\n"
      ],
      "text/markdown": [
       "\n",
       "id | solution_id | reviewer_id | start | stop | time_left | accept | \n",
       "|---|---|---|---|---|---|---|---|---|---|\n",
       "|  1         |  3         | 27         | 1304095698 | 1304095758 | 1754       |  1         | \n",
       "|  2         |  4         | 22         | 1304095188 | 1304095206 | 2306       |  1         | \n",
       "|  3         |  5         | 28         | 1304095276 | 1304095320 | 2192       |  1         | \n",
       "|  4         |  1         | 26         | 1304095267 | 1304095423 | 2089       |  1         | \n",
       "|  5         | 10         | 29         | 1304095456 | 1304095469 | 2043       |  1         | \n",
       "|  6         |  2         | 29         | 1304095471 | 1304095513 | 1999       |  1         | \n",
       "|  7         |  9         | 25         | 1304095343 | 1304095382 | 2130       |  1         | \n",
       "|  8         |  8         | 23         |         NA |         NA |   NA       | NA         | \n",
       "|  9         |  7         | 29         | 1304095520 | 1304095613 | 1899       |  1         | \n",
       "| 10         | 11         | 26         | 1304095428 | 1304095488 | 2024       |  1         | \n",
       "\n",
       "\n"
      ],
      "text/plain": [
       "   id solution_id reviewer_id start      stop       time_left accept\n",
       "1   1  3          27          1304095698 1304095758 1754       1    \n",
       "2   2  4          22          1304095188 1304095206 2306       1    \n",
       "3   3  5          28          1304095276 1304095320 2192       1    \n",
       "4   4  1          26          1304095267 1304095423 2089       1    \n",
       "5   5 10          29          1304095456 1304095469 2043       1    \n",
       "6   6  2          29          1304095471 1304095513 1999       1    \n",
       "7   7  9          25          1304095343 1304095382 2130       1    \n",
       "8   8  8          23                  NA         NA   NA      NA    \n",
       "9   9  7          29          1304095520 1304095613 1899       1    \n",
       "10 10 11          26          1304095428 1304095488 2024       1    "
      ]
     },
     "metadata": {},
     "output_type": "display_data"
    }
   ],
   "source": [
    "head(reviews, n=10)"
   ]
  },
  {
   "cell_type": "code",
   "execution_count": 13,
   "metadata": {},
   "outputs": [
    {
     "data": {
      "text/html": [
       "<table>\n",
       "<thead><tr><th scope=col>id</th><th scope=col>problem_id</th><th scope=col>subject_id</th><th scope=col>start</th><th scope=col>stop</th><th scope=col>time_left</th><th scope=col>answer</th></tr></thead>\n",
       "<tbody>\n",
       "\t<tr><td> 1        </td><td>156       </td><td>29        </td><td>1304095119</td><td>1304095169</td><td>2343      </td><td>B         </td></tr>\n",
       "\t<tr><td> 2        </td><td>269       </td><td>25        </td><td>1304095119</td><td>1304095183</td><td>2329      </td><td>C         </td></tr>\n",
       "\t<tr><td> 3        </td><td> 34       </td><td>22        </td><td>1304095127</td><td>1304095146</td><td>2366      </td><td>C         </td></tr>\n",
       "\t<tr><td> 4        </td><td> 19       </td><td>23        </td><td>1304095127</td><td>1304095150</td><td>2362      </td><td>D         </td></tr>\n",
       "\t<tr><td> 5        </td><td>605       </td><td>26        </td><td>1304095127</td><td>1304095167</td><td>2345      </td><td>A         </td></tr>\n",
       "\t<tr><td> 6        </td><td>384       </td><td>27        </td><td>1304095131</td><td>1304095270</td><td>2242      </td><td>C         </td></tr>\n",
       "\t<tr><td> 7        </td><td>538       </td><td>28        </td><td>1304095133</td><td>1304095201</td><td>2311      </td><td>C         </td></tr>\n",
       "\t<tr><td> 8        </td><td>312       </td><td>24        </td><td>1304095134</td><td>1304095198</td><td>2314      </td><td>D         </td></tr>\n",
       "\t<tr><td> 9        </td><td>327       </td><td>22        </td><td>1304095151</td><td>1304095184</td><td>2328      </td><td>E         </td></tr>\n",
       "\t<tr><td>10        </td><td>194       </td><td>23        </td><td>1304095152</td><td>1304095175</td><td>2337      </td><td>A         </td></tr>\n",
       "</tbody>\n",
       "</table>\n"
      ],
      "text/latex": [
       "\\begin{tabular}{r|lllllll}\n",
       " id & problem\\_id & subject\\_id & start & stop & time\\_left & answer\\\\\n",
       "\\hline\n",
       "\t  1         & 156        & 29         & 1304095119 & 1304095169 & 2343       & B         \\\\\n",
       "\t  2         & 269        & 25         & 1304095119 & 1304095183 & 2329       & C         \\\\\n",
       "\t  3         &  34        & 22         & 1304095127 & 1304095146 & 2366       & C         \\\\\n",
       "\t  4         &  19        & 23         & 1304095127 & 1304095150 & 2362       & D         \\\\\n",
       "\t  5         & 605        & 26         & 1304095127 & 1304095167 & 2345       & A         \\\\\n",
       "\t  6         & 384        & 27         & 1304095131 & 1304095270 & 2242       & C         \\\\\n",
       "\t  7         & 538        & 28         & 1304095133 & 1304095201 & 2311       & C         \\\\\n",
       "\t  8         & 312        & 24         & 1304095134 & 1304095198 & 2314       & D         \\\\\n",
       "\t  9         & 327        & 22         & 1304095151 & 1304095184 & 2328       & E         \\\\\n",
       "\t 10         & 194        & 23         & 1304095152 & 1304095175 & 2337       & A         \\\\\n",
       "\\end{tabular}\n"
      ],
      "text/markdown": [
       "\n",
       "id | problem_id | subject_id | start | stop | time_left | answer | \n",
       "|---|---|---|---|---|---|---|---|---|---|\n",
       "|  1         | 156        | 29         | 1304095119 | 1304095169 | 2343       | B          | \n",
       "|  2         | 269        | 25         | 1304095119 | 1304095183 | 2329       | C          | \n",
       "|  3         |  34        | 22         | 1304095127 | 1304095146 | 2366       | C          | \n",
       "|  4         |  19        | 23         | 1304095127 | 1304095150 | 2362       | D          | \n",
       "|  5         | 605        | 26         | 1304095127 | 1304095167 | 2345       | A          | \n",
       "|  6         | 384        | 27         | 1304095131 | 1304095270 | 2242       | C          | \n",
       "|  7         | 538        | 28         | 1304095133 | 1304095201 | 2311       | C          | \n",
       "|  8         | 312        | 24         | 1304095134 | 1304095198 | 2314       | D          | \n",
       "|  9         | 327        | 22         | 1304095151 | 1304095184 | 2328       | E          | \n",
       "| 10         | 194        | 23         | 1304095152 | 1304095175 | 2337       | A          | \n",
       "\n",
       "\n"
      ],
      "text/plain": [
       "   id problem_id subject_id start      stop       time_left answer\n",
       "1   1 156        29         1304095119 1304095169 2343      B     \n",
       "2   2 269        25         1304095119 1304095183 2329      C     \n",
       "3   3  34        22         1304095127 1304095146 2366      C     \n",
       "4   4  19        23         1304095127 1304095150 2362      D     \n",
       "5   5 605        26         1304095127 1304095167 2345      A     \n",
       "6   6 384        27         1304095131 1304095270 2242      C     \n",
       "7   7 538        28         1304095133 1304095201 2311      C     \n",
       "8   8 312        24         1304095134 1304095198 2314      D     \n",
       "9   9 327        22         1304095151 1304095184 2328      E     \n",
       "10 10 194        23         1304095152 1304095175 2337      A     "
      ]
     },
     "metadata": {},
     "output_type": "display_data"
    }
   ],
   "source": [
    "head(solutions, n=10)"
   ]
  },
  {
   "cell_type": "markdown",
   "metadata": {},
   "source": [
    "Note the match between `solution_id` and the `id` in `solutions`."
   ]
  },
  {
   "cell_type": "markdown",
   "metadata": {},
   "source": [
    "## Using the Merge command\n",
    "`join` in the `plyr` package can be used, which is faster, but less fully-featured.\n",
    "\n",
    "The important parameters are:\n",
    "`x, y, by, by.x, by.y, all`"
   ]
  },
  {
   "cell_type": "code",
   "execution_count": 9,
   "metadata": {},
   "outputs": [
    {
     "data": {
      "text/html": [
       "<ol class=list-inline>\n",
       "\t<li>'id'</li>\n",
       "\t<li>'solution_id'</li>\n",
       "\t<li>'reviewer_id'</li>\n",
       "\t<li>'start'</li>\n",
       "\t<li>'stop'</li>\n",
       "\t<li>'time_left'</li>\n",
       "\t<li>'accept'</li>\n",
       "</ol>\n"
      ],
      "text/latex": [
       "\\begin{enumerate*}\n",
       "\\item 'id'\n",
       "\\item 'solution\\_id'\n",
       "\\item 'reviewer\\_id'\n",
       "\\item 'start'\n",
       "\\item 'stop'\n",
       "\\item 'time\\_left'\n",
       "\\item 'accept'\n",
       "\\end{enumerate*}\n"
      ],
      "text/markdown": [
       "1. 'id'\n",
       "2. 'solution_id'\n",
       "3. 'reviewer_id'\n",
       "4. 'start'\n",
       "5. 'stop'\n",
       "6. 'time_left'\n",
       "7. 'accept'\n",
       "\n",
       "\n"
      ],
      "text/plain": [
       "[1] \"id\"          \"solution_id\" \"reviewer_id\" \"start\"       \"stop\"       \n",
       "[6] \"time_left\"   \"accept\"     "
      ]
     },
     "metadata": {},
     "output_type": "display_data"
    }
   ],
   "source": [
    "names(reviews)"
   ]
  },
  {
   "cell_type": "code",
   "execution_count": 10,
   "metadata": {},
   "outputs": [
    {
     "data": {
      "text/html": [
       "<ol class=list-inline>\n",
       "\t<li>'id'</li>\n",
       "\t<li>'problem_id'</li>\n",
       "\t<li>'subject_id'</li>\n",
       "\t<li>'start'</li>\n",
       "\t<li>'stop'</li>\n",
       "\t<li>'time_left'</li>\n",
       "\t<li>'answer'</li>\n",
       "</ol>\n"
      ],
      "text/latex": [
       "\\begin{enumerate*}\n",
       "\\item 'id'\n",
       "\\item 'problem\\_id'\n",
       "\\item 'subject\\_id'\n",
       "\\item 'start'\n",
       "\\item 'stop'\n",
       "\\item 'time\\_left'\n",
       "\\item 'answer'\n",
       "\\end{enumerate*}\n"
      ],
      "text/markdown": [
       "1. 'id'\n",
       "2. 'problem_id'\n",
       "3. 'subject_id'\n",
       "4. 'start'\n",
       "5. 'stop'\n",
       "6. 'time_left'\n",
       "7. 'answer'\n",
       "\n",
       "\n"
      ],
      "text/plain": [
       "[1] \"id\"         \"problem_id\" \"subject_id\" \"start\"      \"stop\"      \n",
       "[6] \"time_left\"  \"answer\"    "
      ]
     },
     "metadata": {},
     "output_type": "display_data"
    }
   ],
   "source": [
    "names(solutions)"
   ]
  },
  {
   "cell_type": "code",
   "execution_count": 11,
   "metadata": {},
   "outputs": [
    {
     "data": {
      "text/html": [
       "<table>\n",
       "<thead><tr><th scope=col>solution_id</th><th scope=col>id</th><th scope=col>reviewer_id</th><th scope=col>start.x</th><th scope=col>stop.x</th><th scope=col>time_left.x</th><th scope=col>accept</th><th scope=col>problem_id</th><th scope=col>subject_id</th><th scope=col>start.y</th><th scope=col>stop.y</th><th scope=col>time_left.y</th><th scope=col>answer</th></tr></thead>\n",
       "<tbody>\n",
       "\t<tr><td>1         </td><td> 4        </td><td>26        </td><td>1304095267</td><td>1304095423</td><td>2089      </td><td>1         </td><td>156       </td><td>29        </td><td>1304095119</td><td>1304095169</td><td>2343      </td><td>B         </td></tr>\n",
       "\t<tr><td>2         </td><td> 6        </td><td>29        </td><td>1304095471</td><td>1304095513</td><td>1999      </td><td>1         </td><td>269       </td><td>25        </td><td>1304095119</td><td>1304095183</td><td>2329      </td><td>C         </td></tr>\n",
       "\t<tr><td>3         </td><td> 1        </td><td>27        </td><td>1304095698</td><td>1304095758</td><td>1754      </td><td>1         </td><td> 34       </td><td>22        </td><td>1304095127</td><td>1304095146</td><td>2366      </td><td>C         </td></tr>\n",
       "\t<tr><td>4         </td><td> 2        </td><td>22        </td><td>1304095188</td><td>1304095206</td><td>2306      </td><td>1         </td><td> 19       </td><td>23        </td><td>1304095127</td><td>1304095150</td><td>2362      </td><td>D         </td></tr>\n",
       "\t<tr><td>5         </td><td> 3        </td><td>28        </td><td>1304095276</td><td>1304095320</td><td>2192      </td><td>1         </td><td>605       </td><td>26        </td><td>1304095127</td><td>1304095167</td><td>2345      </td><td>A         </td></tr>\n",
       "\t<tr><td>6         </td><td>16        </td><td>22        </td><td>1304095303</td><td>1304095471</td><td>2041      </td><td>1         </td><td>384       </td><td>27        </td><td>1304095131</td><td>1304095270</td><td>2242      </td><td>C         </td></tr>\n",
       "</tbody>\n",
       "</table>\n"
      ],
      "text/latex": [
       "\\begin{tabular}{r|lllllllllllll}\n",
       " solution\\_id & id & reviewer\\_id & start.x & stop.x & time\\_left.x & accept & problem\\_id & subject\\_id & start.y & stop.y & time\\_left.y & answer\\\\\n",
       "\\hline\n",
       "\t 1          &  4         & 26         & 1304095267 & 1304095423 & 2089       & 1          & 156        & 29         & 1304095119 & 1304095169 & 2343       & B         \\\\\n",
       "\t 2          &  6         & 29         & 1304095471 & 1304095513 & 1999       & 1          & 269        & 25         & 1304095119 & 1304095183 & 2329       & C         \\\\\n",
       "\t 3          &  1         & 27         & 1304095698 & 1304095758 & 1754       & 1          &  34        & 22         & 1304095127 & 1304095146 & 2366       & C         \\\\\n",
       "\t 4          &  2         & 22         & 1304095188 & 1304095206 & 2306       & 1          &  19        & 23         & 1304095127 & 1304095150 & 2362       & D         \\\\\n",
       "\t 5          &  3         & 28         & 1304095276 & 1304095320 & 2192       & 1          & 605        & 26         & 1304095127 & 1304095167 & 2345       & A         \\\\\n",
       "\t 6          & 16         & 22         & 1304095303 & 1304095471 & 2041       & 1          & 384        & 27         & 1304095131 & 1304095270 & 2242       & C         \\\\\n",
       "\\end{tabular}\n"
      ],
      "text/markdown": [
       "\n",
       "solution_id | id | reviewer_id | start.x | stop.x | time_left.x | accept | problem_id | subject_id | start.y | stop.y | time_left.y | answer | \n",
       "|---|---|---|---|---|---|\n",
       "| 1          |  4         | 26         | 1304095267 | 1304095423 | 2089       | 1          | 156        | 29         | 1304095119 | 1304095169 | 2343       | B          | \n",
       "| 2          |  6         | 29         | 1304095471 | 1304095513 | 1999       | 1          | 269        | 25         | 1304095119 | 1304095183 | 2329       | C          | \n",
       "| 3          |  1         | 27         | 1304095698 | 1304095758 | 1754       | 1          |  34        | 22         | 1304095127 | 1304095146 | 2366       | C          | \n",
       "| 4          |  2         | 22         | 1304095188 | 1304095206 | 2306       | 1          |  19        | 23         | 1304095127 | 1304095150 | 2362       | D          | \n",
       "| 5          |  3         | 28         | 1304095276 | 1304095320 | 2192       | 1          | 605        | 26         | 1304095127 | 1304095167 | 2345       | A          | \n",
       "| 6          | 16         | 22         | 1304095303 | 1304095471 | 2041       | 1          | 384        | 27         | 1304095131 | 1304095270 | 2242       | C          | \n",
       "\n",
       "\n"
      ],
      "text/plain": [
       "  solution_id id reviewer_id start.x    stop.x     time_left.x accept\n",
       "1 1            4 26          1304095267 1304095423 2089        1     \n",
       "2 2            6 29          1304095471 1304095513 1999        1     \n",
       "3 3            1 27          1304095698 1304095758 1754        1     \n",
       "4 4            2 22          1304095188 1304095206 2306        1     \n",
       "5 5            3 28          1304095276 1304095320 2192        1     \n",
       "6 6           16 22          1304095303 1304095471 2041        1     \n",
       "  problem_id subject_id start.y    stop.y     time_left.y answer\n",
       "1 156        29         1304095119 1304095169 2343        B     \n",
       "2 269        25         1304095119 1304095183 2329        C     \n",
       "3  34        22         1304095127 1304095146 2366        C     \n",
       "4  19        23         1304095127 1304095150 2362        D     \n",
       "5 605        26         1304095127 1304095167 2345        A     \n",
       "6 384        27         1304095131 1304095270 2242        C     "
      ]
     },
     "metadata": {},
     "output_type": "display_data"
    }
   ],
   "source": [
    "mergedData <- merge(reviews, solutions, by.x=\"solution_id\", by.y=\"id\", all=TRUE)\n",
    "head(mergedData)"
   ]
  },
  {
   "cell_type": "markdown",
   "metadata": {},
   "source": [
    "By default, `merge` will merge on all column names."
   ]
  },
  {
   "cell_type": "code",
   "execution_count": 15,
   "metadata": {},
   "outputs": [
    {
     "data": {
      "text/html": [
       "<ol class=list-inline>\n",
       "\t<li>'id'</li>\n",
       "\t<li>'start'</li>\n",
       "\t<li>'stop'</li>\n",
       "\t<li>'time_left'</li>\n",
       "</ol>\n"
      ],
      "text/latex": [
       "\\begin{enumerate*}\n",
       "\\item 'id'\n",
       "\\item 'start'\n",
       "\\item 'stop'\n",
       "\\item 'time\\_left'\n",
       "\\end{enumerate*}\n"
      ],
      "text/markdown": [
       "1. 'id'\n",
       "2. 'start'\n",
       "3. 'stop'\n",
       "4. 'time_left'\n",
       "\n",
       "\n"
      ],
      "text/plain": [
       "[1] \"id\"        \"start\"     \"stop\"      \"time_left\""
      ]
     },
     "metadata": {},
     "output_type": "display_data"
    }
   ],
   "source": [
    "intersect(names(solutions), names(reviews))"
   ]
  },
  {
   "cell_type": "code",
   "execution_count": 16,
   "metadata": {},
   "outputs": [
    {
     "data": {
      "text/html": [
       "<table>\n",
       "<thead><tr><th scope=col>id</th><th scope=col>start</th><th scope=col>stop</th><th scope=col>time_left</th><th scope=col>solution_id</th><th scope=col>reviewer_id</th><th scope=col>accept</th><th scope=col>problem_id</th><th scope=col>subject_id</th><th scope=col>answer</th></tr></thead>\n",
       "<tbody>\n",
       "\t<tr><td>1         </td><td>1304095119</td><td>1304095169</td><td>2343      </td><td>NA        </td><td>NA        </td><td>NA        </td><td>156       </td><td>29        </td><td>B         </td></tr>\n",
       "\t<tr><td>1         </td><td>1304095698</td><td>1304095758</td><td>1754      </td><td> 3        </td><td>27        </td><td> 1        </td><td> NA       </td><td>NA        </td><td>NA        </td></tr>\n",
       "\t<tr><td>2         </td><td>1304095119</td><td>1304095183</td><td>2329      </td><td>NA        </td><td>NA        </td><td>NA        </td><td>269       </td><td>25        </td><td>C         </td></tr>\n",
       "\t<tr><td>2         </td><td>1304095188</td><td>1304095206</td><td>2306      </td><td> 4        </td><td>22        </td><td> 1        </td><td> NA       </td><td>NA        </td><td>NA        </td></tr>\n",
       "\t<tr><td>3         </td><td>1304095127</td><td>1304095146</td><td>2366      </td><td>NA        </td><td>NA        </td><td>NA        </td><td> 34       </td><td>22        </td><td>C         </td></tr>\n",
       "\t<tr><td>3         </td><td>1304095276</td><td>1304095320</td><td>2192      </td><td> 5        </td><td>28        </td><td> 1        </td><td> NA       </td><td>NA        </td><td>NA        </td></tr>\n",
       "</tbody>\n",
       "</table>\n"
      ],
      "text/latex": [
       "\\begin{tabular}{r|llllllllll}\n",
       " id & start & stop & time\\_left & solution\\_id & reviewer\\_id & accept & problem\\_id & subject\\_id & answer\\\\\n",
       "\\hline\n",
       "\t 1          & 1304095119 & 1304095169 & 2343       & NA         & NA         & NA         & 156        & 29         & B         \\\\\n",
       "\t 1          & 1304095698 & 1304095758 & 1754       &  3         & 27         &  1         &  NA        & NA         & NA        \\\\\n",
       "\t 2          & 1304095119 & 1304095183 & 2329       & NA         & NA         & NA         & 269        & 25         & C         \\\\\n",
       "\t 2          & 1304095188 & 1304095206 & 2306       &  4         & 22         &  1         &  NA        & NA         & NA        \\\\\n",
       "\t 3          & 1304095127 & 1304095146 & 2366       & NA         & NA         & NA         &  34        & 22         & C         \\\\\n",
       "\t 3          & 1304095276 & 1304095320 & 2192       &  5         & 28         &  1         &  NA        & NA         & NA        \\\\\n",
       "\\end{tabular}\n"
      ],
      "text/markdown": [
       "\n",
       "id | start | stop | time_left | solution_id | reviewer_id | accept | problem_id | subject_id | answer | \n",
       "|---|---|---|---|---|---|\n",
       "| 1          | 1304095119 | 1304095169 | 2343       | NA         | NA         | NA         | 156        | 29         | B          | \n",
       "| 1          | 1304095698 | 1304095758 | 1754       |  3         | 27         |  1         |  NA        | NA         | NA         | \n",
       "| 2          | 1304095119 | 1304095183 | 2329       | NA         | NA         | NA         | 269        | 25         | C          | \n",
       "| 2          | 1304095188 | 1304095206 | 2306       |  4         | 22         |  1         |  NA        | NA         | NA         | \n",
       "| 3          | 1304095127 | 1304095146 | 2366       | NA         | NA         | NA         |  34        | 22         | C          | \n",
       "| 3          | 1304095276 | 1304095320 | 2192       |  5         | 28         |  1         |  NA        | NA         | NA         | \n",
       "\n",
       "\n"
      ],
      "text/plain": [
       "  id start      stop       time_left solution_id reviewer_id accept problem_id\n",
       "1 1  1304095119 1304095169 2343      NA          NA          NA     156       \n",
       "2 1  1304095698 1304095758 1754       3          27           1      NA       \n",
       "3 2  1304095119 1304095183 2329      NA          NA          NA     269       \n",
       "4 2  1304095188 1304095206 2306       4          22           1      NA       \n",
       "5 3  1304095127 1304095146 2366      NA          NA          NA      34       \n",
       "6 3  1304095276 1304095320 2192       5          28           1      NA       \n",
       "  subject_id answer\n",
       "1 29         B     \n",
       "2 NA         NA    \n",
       "3 25         C     \n",
       "4 NA         NA    \n",
       "5 22         C     \n",
       "6 NA         NA    "
      ]
     },
     "metadata": {},
     "output_type": "display_data"
    }
   ],
   "source": [
    "mergedData2 <- merge(reviews, solutions, all=TRUE)\n",
    "head(mergedData2)"
   ]
  },
  {
   "cell_type": "code",
   "execution_count": null,
   "metadata": {},
   "outputs": [],
   "source": []
  }
 ],
 "metadata": {
  "kernelspec": {
   "display_name": "R",
   "language": "R",
   "name": "ir"
  },
  "language_info": {
   "codemirror_mode": "r",
   "file_extension": ".r",
   "mimetype": "text/x-r-source",
   "name": "R",
   "pygments_lexer": "r",
   "version": "3.3.2"
  }
 },
 "nbformat": 4,
 "nbformat_minor": 2
}
