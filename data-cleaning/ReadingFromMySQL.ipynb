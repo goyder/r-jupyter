{
 "cells": [
  {
   "cell_type": "markdown",
   "metadata": {},
   "source": [
    "# Reading from MySQL\n",
    "\n",
    "As part of Week 2 of JHU's Learning Data Science course.\n",
    "___"
   ]
  },
  {
   "cell_type": "markdown",
   "metadata": {},
   "source": [
    "Useful high-level links:\n",
    "\n",
    "* [Wikipedia](http://en.wikipedia.org/wiki/MySQL)\n",
    "* [The MySQL website](http://www.mysql.com/)\n",
    "* [RMySQL Vignette](http://cran.r-project.org/web/packages/RMySQL/RMySQL.pdf)\n",
    "* [MySQL and R](http://www.r-bloggers.com/mysql-and-r/)\n",
    "\n",
    "An alternative to the package used for database access below is RODBC. This provides an interface to all kinds of databases, including PostgreQL, MySQL, MS Access, and SQLite.\n",
    "\n",
    "**Tutorial**: http://cran.r-project.org/web/packages/RODBC/vignettes/RODBC.pdf\n",
    "\n",
    "**Help file**: http://cran.r-project.org/web/packages/RODBC/RODBC.pdf"
   ]
  },
  {
   "cell_type": "code",
   "execution_count": null,
   "metadata": {},
   "outputs": [],
   "source": []
  },
  {
   "cell_type": "code",
   "execution_count": 1,
   "metadata": {},
   "outputs": [
    {
     "name": "stderr",
     "output_type": "stream",
     "text": [
      "Loading required package: DBI\n"
     ]
    }
   ],
   "source": [
    "library(RMySQL)"
   ]
  },
  {
   "cell_type": "markdown",
   "metadata": {},
   "source": [
    "(Apparently if you're running this on Windows this is modestly painful. [A Windows guide.](http://www.ahschulz.de/2013/07/23/installing-rmysql-under-windows/))"
   ]
  },
  {
   "cell_type": "markdown",
   "metadata": {},
   "source": [
    "## A reference database\n",
    "We will pull from and make use of the [UCSC Genome Database.](http://genome.ucsc.edu/goldenPath/help/mysql.html)\n",
    "\n",
    "From the website:\n",
    "\n",
    "> You can connect to the US MySQL server using the command:\n",
    ">\n",
    "> `mysql --user=genome --host=genome-mysql.soe.ucsc.edu -A -P 3306`\n"
   ]
  },
  {
   "cell_type": "markdown",
   "metadata": {},
   "source": [
    "## Connecting to and Listing Databases\n",
    "\n",
    "We will use the `dbConnect` tool to make a connection to the MySQL server. The `dbConnect` function can be used for a number of DBMS tools - we specify which one with the `drv` argument."
   ]
  },
  {
   "cell_type": "code",
   "execution_count": 3,
   "metadata": {},
   "outputs": [
    {
     "data": {
      "text/html": [
       "\n",
       "<table width=\"100%\" summary=\"page for dbConnect {DBI}\"><tr><td>dbConnect {DBI}</td><td style=\"text-align: right;\">R Documentation</td></tr></table>\n",
       "\n",
       "<h2>Create a connection to a DBMS</h2>\n",
       "\n",
       "<h3>Description</h3>\n",
       "\n",
       "<p>Connect to a DBMS going through the appropriate authentication procedure.\n",
       "Some implementations may allow you to have multiple connections open, so you\n",
       "may invoke this function repeatedly assigning its output to different\n",
       "objects.\n",
       "The authentication mechanism is left unspecified, so check the\n",
       "documentation of individual drivers for details.\n",
       "</p>\n",
       "\n",
       "\n",
       "<h4>Methods in other packages</h4>\n",
       "\n",
       "\n",
       "<ul>\n",
       "<li> <p><code>RMySQL::dbConnect(&quot;MySQLConnection&quot;)</code>\n",
       "</p>\n",
       "</li>\n",
       "<li> <p><code>RMySQL::dbConnect(&quot;MySQLDriver&quot;)</code>\n",
       "</p>\n",
       "</li></ul>\n",
       "\n",
       "\n",
       "\n",
       "\n",
       "<h3>Usage</h3>\n",
       "\n",
       "<pre>\n",
       "dbConnect(drv, ...)\n",
       "</pre>\n",
       "\n",
       "\n",
       "<h3>Arguments</h3>\n",
       "\n",
       "<table summary=\"R argblock\">\n",
       "<tr valign=\"top\"><td><code>drv</code></td>\n",
       "<td>\n",
       "<p>an object that inherits from DBIDriver,\n",
       "or an existing DBIConnection\n",
       "object (in order to clone an existing connection).</p>\n",
       "</td></tr>\n",
       "<tr valign=\"top\"><td><code>...</code></td>\n",
       "<td>\n",
       "<p>authentication arguments needed by the DBMS instance; these\n",
       "typically include <code>user</code>, <code>password</code>, <code>host</code>, <code>port</code>, <code>dbname</code>, etc.\n",
       "For details see the appropriate <code>DBIDriver</code>.</p>\n",
       "</td></tr>\n",
       "</table>\n",
       "\n",
       "\n",
       "<h3>Value</h3>\n",
       "\n",
       "<p><code>dbConnect()</code> returns an S4 object that inherits from DBIConnection.\n",
       "This object is used to communicate with the database engine.\n",
       "</p>\n",
       "\n",
       "\n",
       "<h3>Specification</h3>\n",
       "\n",
       "<p>DBI recommends using the following argument names for authentication\n",
       "parameters, with <code>NULL</code> default:\n",
       "</p>\n",
       "\n",
       "<ul>\n",
       "<li> <p><code>user</code> for the user name (default: current user)\n",
       "</p>\n",
       "</li>\n",
       "<li> <p><code>password</code> for the password\n",
       "</p>\n",
       "</li>\n",
       "<li> <p><code>host</code> for the host name (default: local connection)\n",
       "</p>\n",
       "</li>\n",
       "<li> <p><code>port</code> for the port number (default: local connection)\n",
       "</p>\n",
       "</li>\n",
       "<li> <p><code>dbname</code> for the name of the database on the host, or the database file\n",
       "name\n",
       "</p>\n",
       "</li></ul>\n",
       "\n",
       "<p>The defaults should provide reasonable behavior, in particular a\n",
       "local connection for <code>host = NULL</code>.  For some DBMS (e.g., PostgreSQL),\n",
       "this is different to a TCP/IP connection to <code>localhost</code>.\n",
       "</p>\n",
       "\n",
       "\n",
       "<h3>See Also</h3>\n",
       "\n",
       "<p><code>dbDisconnect()</code> to disconnect from a database.\n",
       "</p>\n",
       "<p>Other DBIDriver generics: <code>DBIDriver-class</code>,\n",
       "<code>dbDataType</code>, <code>dbDriver</code>,\n",
       "<code>dbGetInfo</code>, <code>dbIsValid</code>,\n",
       "<code>dbListConnections</code>\n",
       "</p>\n",
       "\n",
       "\n",
       "<h3>Examples</h3>\n",
       "\n",
       "<pre>\n",
       "# SQLite only needs a path to the database. (Here, \":memory:\" is a special\n",
       "# path that creates an in-memory database.) Other database drivers\n",
       "# will require more details (like user, password, host, port, etc.)\n",
       "con &lt;- dbConnect(RSQLite::SQLite(), \":memory:\")\n",
       "con\n",
       "\n",
       "dbListTables(con)\n",
       "\n",
       "dbDisconnect(con)\n",
       "</pre>\n",
       "\n",
       "<hr /><div style=\"text-align: center;\">[Package <em>DBI</em> version 0.8 ]</div>"
      ],
      "text/latex": [
       "\\inputencoding{utf8}\n",
       "\\HeaderA{dbConnect}{Create a connection to a DBMS}{dbConnect}\n",
       "%\n",
       "\\begin{Description}\\relax\n",
       "Connect to a DBMS going through the appropriate authentication procedure.\n",
       "Some implementations may allow you to have multiple connections open, so you\n",
       "may invoke this function repeatedly assigning its output to different\n",
       "objects.\n",
       "The authentication mechanism is left unspecified, so check the\n",
       "documentation of individual drivers for details.\n",
       "\n",
       "%\n",
       "\\begin{SubSection}{Methods in other packages}\n",
       "\n",
       "\\begin{itemize}\n",
       "\n",
       "\\item \\code{\\LinkA{RMySQL::dbConnect(\"MySQLConnection\")}{dbConnect,MySQLConnection.Rdash.method}}\n",
       "\\item \\code{\\LinkA{RMySQL::dbConnect(\"MySQLDriver\")}{dbConnect,MySQLDriver.Rdash.method}}\n",
       "\n",
       "\\end{itemize}\n",
       "\\end{SubSection}\n",
       "\n",
       "\n",
       "\\end{Description}\n",
       "%\n",
       "\\begin{Usage}\n",
       "\\begin{verbatim}\n",
       "dbConnect(drv, ...)\n",
       "\\end{verbatim}\n",
       "\\end{Usage}\n",
       "%\n",
       "\\begin{Arguments}\n",
       "\\begin{ldescription}\n",
       "\\item[\\code{drv}] an object that inherits from \\LinkA{DBIDriver}{DBIDriver.Rdash.class},\n",
       "or an existing \\LinkA{DBIConnection}{DBIConnection.Rdash.class}\n",
       "object (in order to clone an existing connection).\n",
       "\n",
       "\\item[\\code{...}] authentication arguments needed by the DBMS instance; these\n",
       "typically include \\code{user}, \\code{password}, \\code{host}, \\code{port}, \\code{dbname}, etc.\n",
       "For details see the appropriate \\code{DBIDriver}.\n",
       "\\end{ldescription}\n",
       "\\end{Arguments}\n",
       "%\n",
       "\\begin{Value}\n",
       "\\code{dbConnect()} returns an S4 object that inherits from \\LinkA{DBIConnection}{DBIConnection.Rdash.class}.\n",
       "This object is used to communicate with the database engine.\n",
       "\\end{Value}\n",
       "%\n",
       "\\begin{Section}{Specification}\n",
       "\n",
       "\n",
       "DBI recommends using the following argument names for authentication\n",
       "parameters, with \\code{NULL} default:\n",
       "\\begin{itemize}\n",
       "\n",
       "\\item \\code{user} for the user name (default: current user)\n",
       "\\item \\code{password} for the password\n",
       "\\item \\code{host} for the host name (default: local connection)\n",
       "\\item \\code{port} for the port number (default: local connection)\n",
       "\\item \\code{dbname} for the name of the database on the host, or the database file\n",
       "name\n",
       "\n",
       "\\end{itemize}\n",
       "\n",
       "\n",
       "The defaults should provide reasonable behavior, in particular a\n",
       "local connection for \\code{host = NULL}.  For some DBMS (e.g., PostgreSQL),\n",
       "this is different to a TCP/IP connection to \\code{localhost}.\n",
       "\n",
       "\\end{Section}\n",
       "%\n",
       "\\begin{SeeAlso}\\relax\n",
       "\\code{\\LinkA{dbDisconnect()}{dbDisconnect}} to disconnect from a database.\n",
       "\n",
       "Other DBIDriver generics: \\code{\\LinkA{DBIDriver-class}{DBIDriver.Rdash.class}},\n",
       "\\code{\\LinkA{dbDataType}{dbDataType}}, \\code{\\LinkA{dbDriver}{dbDriver}},\n",
       "\\code{\\LinkA{dbGetInfo}{dbGetInfo}}, \\code{\\LinkA{dbIsValid}{dbIsValid}},\n",
       "\\code{\\LinkA{dbListConnections}{dbListConnections}}\n",
       "\\end{SeeAlso}\n",
       "%\n",
       "\\begin{Examples}\n",
       "\\begin{ExampleCode}\n",
       "# SQLite only needs a path to the database. (Here, \":memory:\" is a special\n",
       "# path that creates an in-memory database.) Other database drivers\n",
       "# will require more details (like user, password, host, port, etc.)\n",
       "con <- dbConnect(RSQLite::SQLite(), \":memory:\")\n",
       "con\n",
       "\n",
       "dbListTables(con)\n",
       "\n",
       "dbDisconnect(con)\n",
       "\\end{ExampleCode}\n",
       "\\end{Examples}"
      ],
      "text/plain": [
       "dbConnect                 package:DBI                  R Documentation\n",
       "\n",
       "_\bC_\br_\be_\ba_\bt_\be _\ba _\bc_\bo_\bn_\bn_\be_\bc_\bt_\bi_\bo_\bn _\bt_\bo _\ba _\bD_\bB_\bM_\bS\n",
       "\n",
       "_\bD_\be_\bs_\bc_\br_\bi_\bp_\bt_\bi_\bo_\bn:\n",
       "\n",
       "     Connect to a DBMS going through the appropriate authentication\n",
       "     procedure. Some implementations may allow you to have multiple\n",
       "     connections open, so you may invoke this function repeatedly\n",
       "     assigning its output to different objects. The authentication\n",
       "     mechanism is left unspecified, so check the documentation of\n",
       "     individual drivers for details.\n",
       "\n",
       "  _\bM_\be_\bt_\bh_\bo_\bd_\bs _\bi_\bn _\bo_\bt_\bh_\be_\br _\bp_\ba_\bc_\bk_\ba_\bg_\be_\bs:\n",
       "\n",
       "         • ‘RMySQL::dbConnect(\"MySQLConnection\")’\n",
       "\n",
       "         • ‘RMySQL::dbConnect(\"MySQLDriver\")’\n",
       "\n",
       "\n",
       "_\bU_\bs_\ba_\bg_\be:\n",
       "\n",
       "     dbConnect(drv, ...)\n",
       "     \n",
       "_\bA_\br_\bg_\bu_\bm_\be_\bn_\bt_\bs:\n",
       "\n",
       "     drv: an object that inherits from DBIDriver, or an existing\n",
       "          DBIConnection object (in order to clone an existing\n",
       "          connection).\n",
       "\n",
       "     ...: authentication arguments needed by the DBMS instance; these\n",
       "          typically include ‘user’, ‘password’, ‘host’, ‘port’,\n",
       "          ‘dbname’, etc. For details see the appropriate ‘DBIDriver’.\n",
       "\n",
       "_\bV_\ba_\bl_\bu_\be:\n",
       "\n",
       "     ‘dbConnect()’ returns an S4 object that inherits from\n",
       "     DBIConnection. This object is used to communicate with the\n",
       "     database engine.\n",
       "\n",
       "_\bS_\bp_\be_\bc_\bi_\bf_\bi_\bc_\ba_\bt_\bi_\bo_\bn:\n",
       "\n",
       "     DBI recommends using the following argument names for\n",
       "     authentication parameters, with ‘NULL’ default:\n",
       "\n",
       "        • ‘user’ for the user name (default: current user)\n",
       "\n",
       "        • ‘password’ for the password\n",
       "\n",
       "        • ‘host’ for the host name (default: local connection)\n",
       "\n",
       "        • ‘port’ for the port number (default: local connection)\n",
       "\n",
       "        • ‘dbname’ for the name of the database on the host, or the\n",
       "          database file name\n",
       "\n",
       "     The defaults should provide reasonable behavior, in particular a\n",
       "     local connection for ‘host = NULL’.  For some DBMS (e.g.,\n",
       "     PostgreSQL), this is different to a TCP/IP connection to\n",
       "     ‘localhost’.\n",
       "\n",
       "_\bS_\be_\be _\bA_\bl_\bs_\bo:\n",
       "\n",
       "     ‘dbDisconnect()’ to disconnect from a database.\n",
       "\n",
       "     Other DBIDriver generics: ‘DBIDriver-class’, ‘dbDataType’,\n",
       "     ‘dbDriver’, ‘dbGetInfo’, ‘dbIsValid’, ‘dbListConnections’\n",
       "\n",
       "_\bE_\bx_\ba_\bm_\bp_\bl_\be_\bs:\n",
       "\n",
       "     # SQLite only needs a path to the database. (Here, \":memory:\" is a special\n",
       "     # path that creates an in-memory database.) Other database drivers\n",
       "     # will require more details (like user, password, host, port, etc.)\n",
       "     con <- dbConnect(RSQLite::SQLite(), \":memory:\")\n",
       "     con\n",
       "     \n",
       "     dbListTables(con)\n",
       "     \n",
       "     dbDisconnect(con)\n",
       "     "
      ]
     },
     "metadata": {},
     "output_type": "display_data"
    }
   ],
   "source": [
    "?dbConnect"
   ]
  },
  {
   "cell_type": "code",
   "execution_count": 2,
   "metadata": {},
   "outputs": [],
   "source": [
    "ucscDB <- dbConnect(MySQL(),\n",
    "                   user=\"genome\",\n",
    "                   host=\"genome-mysql.cse.ucsc.edu\")"
   ]
  },
  {
   "cell_type": "code",
   "execution_count": 5,
   "metadata": {},
   "outputs": [
    {
     "data": {
      "text/html": [
       "TRUE"
      ],
      "text/latex": [
       "TRUE"
      ],
      "text/markdown": [
       "TRUE"
      ],
      "text/plain": [
       "[1] TRUE"
      ]
     },
     "metadata": {},
     "output_type": "display_data"
    }
   ],
   "source": [
    "result <- dbGetQuery(ucscDB,\"show databases;\"); dbDisconnect(ucscDB);"
   ]
  },
  {
   "cell_type": "code",
   "execution_count": 6,
   "metadata": {},
   "outputs": [
    {
     "data": {
      "text/html": [
       "<table>\n",
       "<thead><tr><th scope=col>Database</th></tr></thead>\n",
       "<tbody>\n",
       "\t<tr><td>information_schema</td></tr>\n",
       "\t<tr><td>ailMel1           </td></tr>\n",
       "\t<tr><td>allMis1           </td></tr>\n",
       "\t<tr><td>anoCar1           </td></tr>\n",
       "\t<tr><td>anoCar2           </td></tr>\n",
       "\t<tr><td>anoGam1           </td></tr>\n",
       "\t<tr><td>apiMel1           </td></tr>\n",
       "\t<tr><td>apiMel2           </td></tr>\n",
       "\t<tr><td>aplCal1           </td></tr>\n",
       "\t<tr><td>aptMan1           </td></tr>\n",
       "\t<tr><td>aquChr2           </td></tr>\n",
       "\t<tr><td>balAcu1           </td></tr>\n",
       "\t<tr><td>bisBis1           </td></tr>\n",
       "\t<tr><td>bosTau2           </td></tr>\n",
       "\t<tr><td>bosTau3           </td></tr>\n",
       "\t<tr><td>bosTau4           </td></tr>\n",
       "\t<tr><td>bosTau5           </td></tr>\n",
       "\t<tr><td>bosTau6           </td></tr>\n",
       "\t<tr><td>bosTau7           </td></tr>\n",
       "\t<tr><td>bosTau8           </td></tr>\n",
       "\t<tr><td>bosTauMd3         </td></tr>\n",
       "\t<tr><td>braFlo1           </td></tr>\n",
       "\t<tr><td>caeJap1           </td></tr>\n",
       "\t<tr><td>caePb1            </td></tr>\n",
       "\t<tr><td>caePb2            </td></tr>\n",
       "\t<tr><td>caeRem2           </td></tr>\n",
       "\t<tr><td>caeRem3           </td></tr>\n",
       "\t<tr><td>calJac1           </td></tr>\n",
       "\t<tr><td>calJac3           </td></tr>\n",
       "\t<tr><td>calMil1           </td></tr>\n",
       "\t<tr><td>⋮</td></tr>\n",
       "\t<tr><td>sp121210</td></tr>\n",
       "\t<tr><td>sp140122</td></tr>\n",
       "\t<tr><td>sp150225</td></tr>\n",
       "\t<tr><td>sp160229</td></tr>\n",
       "\t<tr><td>speTri2 </td></tr>\n",
       "\t<tr><td>strPur1 </td></tr>\n",
       "\t<tr><td>strPur2 </td></tr>\n",
       "\t<tr><td>susScr11</td></tr>\n",
       "\t<tr><td>susScr2 </td></tr>\n",
       "\t<tr><td>susScr3 </td></tr>\n",
       "\t<tr><td>taeGut1 </td></tr>\n",
       "\t<tr><td>taeGut2 </td></tr>\n",
       "\t<tr><td>tarSyr1 </td></tr>\n",
       "\t<tr><td>tarSyr2 </td></tr>\n",
       "\t<tr><td>test    </td></tr>\n",
       "\t<tr><td>tetNig1 </td></tr>\n",
       "\t<tr><td>tetNig2 </td></tr>\n",
       "\t<tr><td>triMan1 </td></tr>\n",
       "\t<tr><td>tupBel1 </td></tr>\n",
       "\t<tr><td>turTru2 </td></tr>\n",
       "\t<tr><td>uniProt </td></tr>\n",
       "\t<tr><td>vicPac1 </td></tr>\n",
       "\t<tr><td>vicPac2 </td></tr>\n",
       "\t<tr><td>visiGene</td></tr>\n",
       "\t<tr><td>xenLae2 </td></tr>\n",
       "\t<tr><td>xenTro1 </td></tr>\n",
       "\t<tr><td>xenTro2 </td></tr>\n",
       "\t<tr><td>xenTro3 </td></tr>\n",
       "\t<tr><td>xenTro7 </td></tr>\n",
       "\t<tr><td>xenTro9 </td></tr>\n",
       "</tbody>\n",
       "</table>\n"
      ],
      "text/latex": [
       "\\begin{tabular}{r|l}\n",
       " Database\\\\\n",
       "\\hline\n",
       "\t information\\_schema\\\\\n",
       "\t ailMel1           \\\\\n",
       "\t allMis1           \\\\\n",
       "\t anoCar1           \\\\\n",
       "\t anoCar2           \\\\\n",
       "\t anoGam1           \\\\\n",
       "\t apiMel1           \\\\\n",
       "\t apiMel2           \\\\\n",
       "\t aplCal1           \\\\\n",
       "\t aptMan1           \\\\\n",
       "\t aquChr2           \\\\\n",
       "\t balAcu1           \\\\\n",
       "\t bisBis1           \\\\\n",
       "\t bosTau2           \\\\\n",
       "\t bosTau3           \\\\\n",
       "\t bosTau4           \\\\\n",
       "\t bosTau5           \\\\\n",
       "\t bosTau6           \\\\\n",
       "\t bosTau7           \\\\\n",
       "\t bosTau8           \\\\\n",
       "\t bosTauMd3         \\\\\n",
       "\t braFlo1           \\\\\n",
       "\t caeJap1           \\\\\n",
       "\t caePb1            \\\\\n",
       "\t caePb2            \\\\\n",
       "\t caeRem2           \\\\\n",
       "\t caeRem3           \\\\\n",
       "\t calJac1           \\\\\n",
       "\t calJac3           \\\\\n",
       "\t calMil1           \\\\\n",
       "\t ⋮\\\\\n",
       "\t sp121210\\\\\n",
       "\t sp140122\\\\\n",
       "\t sp150225\\\\\n",
       "\t sp160229\\\\\n",
       "\t speTri2 \\\\\n",
       "\t strPur1 \\\\\n",
       "\t strPur2 \\\\\n",
       "\t susScr11\\\\\n",
       "\t susScr2 \\\\\n",
       "\t susScr3 \\\\\n",
       "\t taeGut1 \\\\\n",
       "\t taeGut2 \\\\\n",
       "\t tarSyr1 \\\\\n",
       "\t tarSyr2 \\\\\n",
       "\t test    \\\\\n",
       "\t tetNig1 \\\\\n",
       "\t tetNig2 \\\\\n",
       "\t triMan1 \\\\\n",
       "\t tupBel1 \\\\\n",
       "\t turTru2 \\\\\n",
       "\t uniProt \\\\\n",
       "\t vicPac1 \\\\\n",
       "\t vicPac2 \\\\\n",
       "\t visiGene\\\\\n",
       "\t xenLae2 \\\\\n",
       "\t xenTro1 \\\\\n",
       "\t xenTro2 \\\\\n",
       "\t xenTro3 \\\\\n",
       "\t xenTro7 \\\\\n",
       "\t xenTro9 \\\\\n",
       "\\end{tabular}\n"
      ],
      "text/markdown": [
       "\n",
       "Database | \n",
       "|---|---|---|---|---|---|---|---|---|---|---|---|---|---|---|---|---|---|---|---|---|---|---|---|---|---|---|---|---|---|---|---|---|---|---|---|---|---|---|---|---|---|---|---|---|---|---|---|---|---|---|---|---|---|---|---|---|---|---|---|---|\n",
       "| information_schema | \n",
       "| ailMel1            | \n",
       "| allMis1            | \n",
       "| anoCar1            | \n",
       "| anoCar2            | \n",
       "| anoGam1            | \n",
       "| apiMel1            | \n",
       "| apiMel2            | \n",
       "| aplCal1            | \n",
       "| aptMan1            | \n",
       "| aquChr2            | \n",
       "| balAcu1            | \n",
       "| bisBis1            | \n",
       "| bosTau2            | \n",
       "| bosTau3            | \n",
       "| bosTau4            | \n",
       "| bosTau5            | \n",
       "| bosTau6            | \n",
       "| bosTau7            | \n",
       "| bosTau8            | \n",
       "| bosTauMd3          | \n",
       "| braFlo1            | \n",
       "| caeJap1            | \n",
       "| caePb1             | \n",
       "| caePb2             | \n",
       "| caeRem2            | \n",
       "| caeRem3            | \n",
       "| calJac1            | \n",
       "| calJac3            | \n",
       "| calMil1            | \n",
       "| ⋮ | \n",
       "| sp121210 | \n",
       "| sp140122 | \n",
       "| sp150225 | \n",
       "| sp160229 | \n",
       "| speTri2  | \n",
       "| strPur1  | \n",
       "| strPur2  | \n",
       "| susScr11 | \n",
       "| susScr2  | \n",
       "| susScr3  | \n",
       "| taeGut1  | \n",
       "| taeGut2  | \n",
       "| tarSyr1  | \n",
       "| tarSyr2  | \n",
       "| test     | \n",
       "| tetNig1  | \n",
       "| tetNig2  | \n",
       "| triMan1  | \n",
       "| tupBel1  | \n",
       "| turTru2  | \n",
       "| uniProt  | \n",
       "| vicPac1  | \n",
       "| vicPac2  | \n",
       "| visiGene | \n",
       "| xenLae2  | \n",
       "| xenTro1  | \n",
       "| xenTro2  | \n",
       "| xenTro3  | \n",
       "| xenTro7  | \n",
       "| xenTro9  | \n",
       "\n",
       "\n"
      ],
      "text/plain": [
       "    Database          \n",
       "1   information_schema\n",
       "2   ailMel1           \n",
       "3   allMis1           \n",
       "4   anoCar1           \n",
       "5   anoCar2           \n",
       "6   anoGam1           \n",
       "7   apiMel1           \n",
       "8   apiMel2           \n",
       "9   aplCal1           \n",
       "10  aptMan1           \n",
       "11  aquChr2           \n",
       "12  balAcu1           \n",
       "13  bisBis1           \n",
       "14  bosTau2           \n",
       "15  bosTau3           \n",
       "16  bosTau4           \n",
       "17  bosTau5           \n",
       "18  bosTau6           \n",
       "19  bosTau7           \n",
       "20  bosTau8           \n",
       "21  bosTauMd3         \n",
       "22  braFlo1           \n",
       "23  caeJap1           \n",
       "24  caePb1            \n",
       "25  caePb2            \n",
       "26  caeRem2           \n",
       "27  caeRem3           \n",
       "28  calJac1           \n",
       "29  calJac3           \n",
       "30  calMil1           \n",
       "⋮   ⋮                 \n",
       "202 sp121210          \n",
       "203 sp140122          \n",
       "204 sp150225          \n",
       "205 sp160229          \n",
       "206 speTri2           \n",
       "207 strPur1           \n",
       "208 strPur2           \n",
       "209 susScr11          \n",
       "210 susScr2           \n",
       "211 susScr3           \n",
       "212 taeGut1           \n",
       "213 taeGut2           \n",
       "214 tarSyr1           \n",
       "215 tarSyr2           \n",
       "216 test              \n",
       "217 tetNig1           \n",
       "218 tetNig2           \n",
       "219 triMan1           \n",
       "220 tupBel1           \n",
       "221 turTru2           \n",
       "222 uniProt           \n",
       "223 vicPac1           \n",
       "224 vicPac2           \n",
       "225 visiGene          \n",
       "226 xenLae2           \n",
       "227 xenTro1           \n",
       "228 xenTro2           \n",
       "229 xenTro3           \n",
       "230 xenTro7           \n",
       "231 xenTro9           "
      ]
     },
     "metadata": {},
     "output_type": "display_data"
    }
   ],
   "source": [
    "result"
   ]
  },
  {
   "cell_type": "code",
   "execution_count": 8,
   "metadata": {},
   "outputs": [
    {
     "data": {
      "text/html": [
       "'data.frame'"
      ],
      "text/latex": [
       "'data.frame'"
      ],
      "text/markdown": [
       "'data.frame'"
      ],
      "text/plain": [
       "[1] \"data.frame\""
      ]
     },
     "metadata": {},
     "output_type": "display_data"
    }
   ],
   "source": [
    "class(result)"
   ]
  },
  {
   "cell_type": "markdown",
   "metadata": {},
   "source": [
    "## Connecting to a database and listing tables\n",
    "Above, we've connected to the server and listed the databases available. Let's hook into one and see what's inside."
   ]
  },
  {
   "cell_type": "code",
   "execution_count": 47,
   "metadata": {},
   "outputs": [
    {
     "data": {
      "text/html": [
       "11107"
      ],
      "text/latex": [
       "11107"
      ],
      "text/markdown": [
       "11107"
      ],
      "text/plain": [
       "[1] 11107"
      ]
     },
     "metadata": {},
     "output_type": "display_data"
    }
   ],
   "source": [
    "hg19 <- dbConnect(MySQL(), user=\"genome\", db=\"hg19\",\n",
    "                 host=\"genome-mysql.cse.ucsc.edu\")\n",
    "allTables <- dbListTables(hg19)\n",
    "length(allTables)"
   ]
  },
  {
   "cell_type": "code",
   "execution_count": 48,
   "metadata": {},
   "outputs": [
    {
     "data": {
      "text/html": [
       "<ol class=list-inline>\n",
       "\t<li>'HInv'</li>\n",
       "\t<li>'HInvGeneMrna'</li>\n",
       "\t<li>'acembly'</li>\n",
       "\t<li>'acemblyClass'</li>\n",
       "\t<li>'acemblyPep'</li>\n",
       "</ol>\n"
      ],
      "text/latex": [
       "\\begin{enumerate*}\n",
       "\\item 'HInv'\n",
       "\\item 'HInvGeneMrna'\n",
       "\\item 'acembly'\n",
       "\\item 'acemblyClass'\n",
       "\\item 'acemblyPep'\n",
       "\\end{enumerate*}\n"
      ],
      "text/markdown": [
       "1. 'HInv'\n",
       "2. 'HInvGeneMrna'\n",
       "3. 'acembly'\n",
       "4. 'acemblyClass'\n",
       "5. 'acemblyPep'\n",
       "\n",
       "\n"
      ],
      "text/plain": [
       "[1] \"HInv\"         \"HInvGeneMrna\" \"acembly\"      \"acemblyClass\" \"acemblyPep\"  "
      ]
     },
     "metadata": {},
     "output_type": "display_data"
    }
   ],
   "source": [
    "allTables[1:5]"
   ]
  },
  {
   "cell_type": "markdown",
   "metadata": {},
   "source": [
    "## Pulling information from a single table\n",
    "Having viewed a number of databases, let's choose one and connect to it."
   ]
  },
  {
   "cell_type": "code",
   "execution_count": 50,
   "metadata": {},
   "outputs": [
    {
     "data": {
      "text/html": [
       "<ol class=list-inline>\n",
       "\t<li>'bin'</li>\n",
       "\t<li>'matches'</li>\n",
       "\t<li>'misMatches'</li>\n",
       "\t<li>'repMatches'</li>\n",
       "\t<li>'nCount'</li>\n",
       "\t<li>'qNumInsert'</li>\n",
       "\t<li>'qBaseInsert'</li>\n",
       "\t<li>'tNumInsert'</li>\n",
       "\t<li>'tBaseInsert'</li>\n",
       "\t<li>'strand'</li>\n",
       "\t<li>'qName'</li>\n",
       "\t<li>'qSize'</li>\n",
       "\t<li>'qStart'</li>\n",
       "\t<li>'qEnd'</li>\n",
       "\t<li>'tName'</li>\n",
       "\t<li>'tSize'</li>\n",
       "\t<li>'tStart'</li>\n",
       "\t<li>'tEnd'</li>\n",
       "\t<li>'blockCount'</li>\n",
       "\t<li>'blockSizes'</li>\n",
       "\t<li>'qStarts'</li>\n",
       "\t<li>'tStarts'</li>\n",
       "</ol>\n"
      ],
      "text/latex": [
       "\\begin{enumerate*}\n",
       "\\item 'bin'\n",
       "\\item 'matches'\n",
       "\\item 'misMatches'\n",
       "\\item 'repMatches'\n",
       "\\item 'nCount'\n",
       "\\item 'qNumInsert'\n",
       "\\item 'qBaseInsert'\n",
       "\\item 'tNumInsert'\n",
       "\\item 'tBaseInsert'\n",
       "\\item 'strand'\n",
       "\\item 'qName'\n",
       "\\item 'qSize'\n",
       "\\item 'qStart'\n",
       "\\item 'qEnd'\n",
       "\\item 'tName'\n",
       "\\item 'tSize'\n",
       "\\item 'tStart'\n",
       "\\item 'tEnd'\n",
       "\\item 'blockCount'\n",
       "\\item 'blockSizes'\n",
       "\\item 'qStarts'\n",
       "\\item 'tStarts'\n",
       "\\end{enumerate*}\n"
      ],
      "text/markdown": [
       "1. 'bin'\n",
       "2. 'matches'\n",
       "3. 'misMatches'\n",
       "4. 'repMatches'\n",
       "5. 'nCount'\n",
       "6. 'qNumInsert'\n",
       "7. 'qBaseInsert'\n",
       "8. 'tNumInsert'\n",
       "9. 'tBaseInsert'\n",
       "10. 'strand'\n",
       "11. 'qName'\n",
       "12. 'qSize'\n",
       "13. 'qStart'\n",
       "14. 'qEnd'\n",
       "15. 'tName'\n",
       "16. 'tSize'\n",
       "17. 'tStart'\n",
       "18. 'tEnd'\n",
       "19. 'blockCount'\n",
       "20. 'blockSizes'\n",
       "21. 'qStarts'\n",
       "22. 'tStarts'\n",
       "\n",
       "\n"
      ],
      "text/plain": [
       " [1] \"bin\"         \"matches\"     \"misMatches\"  \"repMatches\"  \"nCount\"     \n",
       " [6] \"qNumInsert\"  \"qBaseInsert\" \"tNumInsert\"  \"tBaseInsert\" \"strand\"     \n",
       "[11] \"qName\"       \"qSize\"       \"qStart\"      \"qEnd\"        \"tName\"      \n",
       "[16] \"tSize\"       \"tStart\"      \"tEnd\"        \"blockCount\"  \"blockSizes\" \n",
       "[21] \"qStarts\"     \"tStarts\"    "
      ]
     },
     "metadata": {},
     "output_type": "display_data"
    }
   ],
   "source": [
    "dbListFields(hg19, \"affyU133Plus2\")"
   ]
  },
  {
   "cell_type": "code",
   "execution_count": 51,
   "metadata": {},
   "outputs": [
    {
     "data": {
      "text/html": [
       "<table>\n",
       "<thead><tr><th scope=col>count(*)</th></tr></thead>\n",
       "<tbody>\n",
       "\t<tr><td>58463</td></tr>\n",
       "</tbody>\n",
       "</table>\n"
      ],
      "text/latex": [
       "\\begin{tabular}{r|l}\n",
       " count(*)\\\\\n",
       "\\hline\n",
       "\t 58463\\\\\n",
       "\\end{tabular}\n"
      ],
      "text/markdown": [
       "\n",
       "count(*) | \n",
       "|---|\n",
       "| 58463 | \n",
       "\n",
       "\n"
      ],
      "text/plain": [
       "  count(*)\n",
       "1 58463   "
      ]
     },
     "metadata": {},
     "output_type": "display_data"
    }
   ],
   "source": [
    "dbGetQuery(hg19, \"select count(*) from affyU133Plus2\")"
   ]
  },
  {
   "cell_type": "code",
   "execution_count": 52,
   "metadata": {},
   "outputs": [
    {
     "data": {
      "text/html": [
       "TRUE"
      ],
      "text/latex": [
       "TRUE"
      ],
      "text/markdown": [
       "TRUE"
      ],
      "text/plain": [
       "[1] TRUE"
      ]
     },
     "metadata": {},
     "output_type": "display_data"
    }
   ],
   "source": [
    "dbClearResult(query)"
   ]
  },
  {
   "cell_type": "markdown",
   "metadata": {},
   "source": [
    "A general routine for getting data:\n",
    "1. Connect to the DB you're interested in.\n",
    "2. Send a DB query to the database - the query is now stored at the database.\n",
    "3. Ask to fetch the data.\n",
    "4. When you're done, clear the result.\n",
    "5. When you're done, disconnect from the DB."
   ]
  },
  {
   "cell_type": "code",
   "execution_count": 61,
   "metadata": {},
   "outputs": [
    {
     "name": "stderr",
     "output_type": "stream",
     "text": [
      "Warning message in .local(conn, statement, ...):\n",
      "“Unsigned INTEGER in col 0 imported as numeric”Warning message in .local(conn, statement, ...):\n",
      "“Unsigned INTEGER in col 1 imported as numeric”Warning message in .local(conn, statement, ...):\n",
      "“Unsigned INTEGER in col 2 imported as numeric”Warning message in .local(conn, statement, ...):\n",
      "“Unsigned INTEGER in col 3 imported as numeric”Warning message in .local(conn, statement, ...):\n",
      "“Unsigned INTEGER in col 4 imported as numeric”Warning message in .local(conn, statement, ...):\n",
      "“Unsigned INTEGER in col 5 imported as numeric”Warning message in .local(conn, statement, ...):\n",
      "“Unsigned INTEGER in col 6 imported as numeric”Warning message in .local(conn, statement, ...):\n",
      "“Unsigned INTEGER in col 7 imported as numeric”Warning message in .local(conn, statement, ...):\n",
      "“Unsigned INTEGER in col 8 imported as numeric”Warning message in .local(conn, statement, ...):\n",
      "“Unsigned INTEGER in col 11 imported as numeric”Warning message in .local(conn, statement, ...):\n",
      "“Unsigned INTEGER in col 12 imported as numeric”Warning message in .local(conn, statement, ...):\n",
      "“Unsigned INTEGER in col 13 imported as numeric”Warning message in .local(conn, statement, ...):\n",
      "“Unsigned INTEGER in col 15 imported as numeric”Warning message in .local(conn, statement, ...):\n",
      "“Unsigned INTEGER in col 16 imported as numeric”Warning message in .local(conn, statement, ...):\n",
      "“Unsigned INTEGER in col 17 imported as numeric”Warning message in .local(conn, statement, ...):\n",
      "“Unsigned INTEGER in col 18 imported as numeric”"
     ]
    },
    {
     "data": {
      "text/html": [
       "TRUE"
      ],
      "text/latex": [
       "TRUE"
      ],
      "text/markdown": [
       "TRUE"
      ],
      "text/plain": [
       "[1] TRUE"
      ]
     },
     "metadata": {},
     "output_type": "display_data"
    }
   ],
   "source": [
    "query <- dbSendQuery(hg19, \"select * from affyU133Plus2 where misMatches between 1 and 3\")\n",
    "affyU133Plus2Mis <- fetch(query)\n",
    "affyU133Plus2MisSmall <- fetch(query,n=10)\n",
    "dbClearResult(query)"
   ]
  },
  {
   "cell_type": "code",
   "execution_count": 64,
   "metadata": {},
   "outputs": [
    {
     "data": {
      "text/html": [
       "<ol class=list-inline>\n",
       "\t<li>500</li>\n",
       "\t<li>22</li>\n",
       "</ol>\n"
      ],
      "text/latex": [
       "\\begin{enumerate*}\n",
       "\\item 500\n",
       "\\item 22\n",
       "\\end{enumerate*}\n"
      ],
      "text/markdown": [
       "1. 500\n",
       "2. 22\n",
       "\n",
       "\n"
      ],
      "text/plain": [
       "[1] 500  22"
      ]
     },
     "metadata": {},
     "output_type": "display_data"
    }
   ],
   "source": [
    "dim(affyU133Plus2Mis)"
   ]
  },
  {
   "cell_type": "code",
   "execution_count": 65,
   "metadata": {},
   "outputs": [
    {
     "data": {
      "text/html": [
       "<ol class=list-inline>\n",
       "\t<li>10</li>\n",
       "\t<li>22</li>\n",
       "</ol>\n"
      ],
      "text/latex": [
       "\\begin{enumerate*}\n",
       "\\item 10\n",
       "\\item 22\n",
       "\\end{enumerate*}\n"
      ],
      "text/markdown": [
       "1. 10\n",
       "2. 22\n",
       "\n",
       "\n"
      ],
      "text/plain": [
       "[1] 10 22"
      ]
     },
     "metadata": {},
     "output_type": "display_data"
    }
   ],
   "source": [
    "dim(affyU133Plus2MisSmall)"
   ]
  },
  {
   "cell_type": "markdown",
   "metadata": {},
   "source": [
    "Goodbye!"
   ]
  },
  {
   "cell_type": "code",
   "execution_count": 66,
   "metadata": {},
   "outputs": [
    {
     "data": {
      "text/html": [
       "TRUE"
      ],
      "text/latex": [
       "TRUE"
      ],
      "text/markdown": [
       "TRUE"
      ],
      "text/plain": [
       "[1] TRUE"
      ]
     },
     "metadata": {},
     "output_type": "display_data"
    }
   ],
   "source": [
    "dbDisconnect(hg19)"
   ]
  },
  {
   "cell_type": "code",
   "execution_count": null,
   "metadata": {},
   "outputs": [],
   "source": []
  }
 ],
 "metadata": {
  "kernelspec": {
   "display_name": "R",
   "language": "R",
   "name": "ir"
  },
  "language_info": {
   "codemirror_mode": "r",
   "file_extension": ".r",
   "mimetype": "text/x-r-source",
   "name": "R",
   "pygments_lexer": "r",
   "version": "3.3.2"
  }
 },
 "nbformat": 4,
 "nbformat_minor": 2
}
