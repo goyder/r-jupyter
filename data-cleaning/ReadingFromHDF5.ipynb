{
 "cells": [
  {
   "cell_type": "markdown",
   "metadata": {},
   "source": [
    "# Reading from HDF5\n",
    "___\n",
    "\n",
    "HDF5 is the **Hierarchical data format**. Each file is composed of:\n",
    "* *groups*, containing zero or more data sets and metadata, i.e.\n",
    "  * a *group header* with group name and list of attributes\n",
    "  * a *group symbol table* with a list of objects in group\n",
    "* *datasets*, or multidimensional arrays of data elements with metadata, composed of\n",
    "  * a *header* with name, datatype, dataspace, and storage layout\n",
    "  * a *data array* with the data\n",
    "  \n",
    "These are used for storing large datasets (like model weights in deep learning libraries!).\n",
    "\n",
    "___\n",
    "\n",
    "Useful links:\n",
    "\n",
    "* [HDF Group](http://www.hdfgroup.org/)\n",
    "* [H5 Vignette](http://www.bioconductor.org/packages/release/bioc/vignettes/rhdf5/inst/doc/rhdf5.pdf)"
   ]
  },
  {
   "cell_type": "code",
   "execution_count": 1,
   "metadata": {},
   "outputs": [],
   "source": [
    "library(rhdf5)"
   ]
  },
  {
   "cell_type": "code",
   "execution_count": 3,
   "metadata": {},
   "outputs": [],
   "source": [
    "created_file = h5createFile(\"example.h5\")"
   ]
  },
  {
   "cell_type": "code",
   "execution_count": 5,
   "metadata": {},
   "outputs": [
    {
     "data": {
      "text/html": [
       "TRUE"
      ],
      "text/latex": [
       "TRUE"
      ],
      "text/markdown": [
       "TRUE"
      ],
      "text/plain": [
       "[1] TRUE"
      ]
     },
     "metadata": {},
     "output_type": "display_data"
    }
   ],
   "source": [
    "created_file"
   ]
  },
  {
   "cell_type": "markdown",
   "metadata": {},
   "source": [
    "Very good."
   ]
  },
  {
   "cell_type": "code",
   "execution_count": 6,
   "metadata": {},
   "outputs": [],
   "source": [
    "created = h5createGroup(\"example.h5\", \"foo\")\n",
    "created = h5createGroup(\"example.h5\", \"bar\")\n",
    "created = h5createGroup(\"example.h5\", \"foo/foobar\")"
   ]
  },
  {
   "cell_type": "markdown",
   "metadata": {},
   "source": [
    "The return value for each of these calls is simply returning either a \"TRUE\" or \"FALSE depending on whether the operation was carried out succesfully or not."
   ]
  },
  {
   "cell_type": "code",
   "execution_count": 7,
   "metadata": {},
   "outputs": [
    {
     "data": {
      "text/html": [
       "\n",
       "<table width=\"100%\" summary=\"page for h5createGroup {rhdf5}\"><tr><td>h5createGroup {rhdf5}</td><td style=\"text-align: right;\">R Documentation</td></tr></table>\n",
       "\n",
       "<h2>Create HDF5 group</h2>\n",
       "\n",
       "<h3>Description</h3>\n",
       "\n",
       "<p>Creates a group within an HDF5 file.\n",
       "</p>\n",
       "\n",
       "\n",
       "<h3>Usage</h3>\n",
       "\n",
       "<pre>\n",
       "h5createGroup (file, group)\n",
       "</pre>\n",
       "\n",
       "\n",
       "<h3>Arguments</h3>\n",
       "\n",
       "<table summary=\"R argblock\">\n",
       "<tr valign=\"top\"><td><code>file</code></td>\n",
       "<td>\n",
       "<p>The filename (character) of the file in which the dataset will be located. For advanced programmers it is possible to provide an object of class <code>H5IdComponent</code> representing a H5 location identifier (file or group). See <code>H5Fcreate</code>, <code>H5Fopen</code>, <code>H5Gcreate</code>, <code>H5Gopen</code> to create an object of this kind.</p>\n",
       "</td></tr>\n",
       "<tr valign=\"top\"><td><code>group</code></td>\n",
       "<td>\n",
       "<p>The name of the new group. The name can contain a hierarchy of groupnames, e.g. 'group1/group2/newgroup', but the function will fail if the top level group do not exists.</p>\n",
       "</td></tr>\n",
       "</table>\n",
       "\n",
       "\n",
       "<h3>Details</h3>\n",
       "\n",
       "<p>Creates a new group within an HDF5 file. \n",
       "</p>\n",
       "\n",
       "\n",
       "<h3>Value</h3>\n",
       "\n",
       "<p>Returns TRUE is group was created successfully and FALSE otherwise.</p>\n",
       "\n",
       "\n",
       "<h3>Author(s)</h3>\n",
       "\n",
       "<p>Bernd Fischer</p>\n",
       "\n",
       "\n",
       "<h3>References</h3>\n",
       "\n",
       "<p><a href=\"http://www.hdfgroup.org/HDF5\">http://www.hdfgroup.org/HDF5</a></p>\n",
       "\n",
       "\n",
       "<h3>See Also</h3>\n",
       "\n",
       "<p><code>h5createFile</code>, <code>h5createDataset</code>, <code>h5read</code>, <code>h5write</code>, rhdf5\n",
       "</p>\n",
       "\n",
       "\n",
       "<h3>Examples</h3>\n",
       "\n",
       "<pre>\n",
       "h5createFile(\"ex_createGroup.h5\")\n",
       "\n",
       "# create groups\n",
       "h5createGroup(\"ex_createGroup.h5\",\"foo\")\n",
       "h5createGroup(\"ex_createGroup.h5\",\"foo/foobaa\")\n",
       "\n",
       "h5ls(\"ex_createGroup.h5\")\n",
       "</pre>\n",
       "\n",
       "<hr /><div style=\"text-align: center;\">[Package <em>rhdf5</em> version 2.16.0 ]</div>"
      ],
      "text/latex": [
       "\\inputencoding{utf8}\n",
       "\\HeaderA{h5createGroup}{Create HDF5 group}{h5createGroup}\n",
       "\\keyword{programming}{h5createGroup}\n",
       "\\keyword{interface}{h5createGroup}\n",
       "\\keyword{IO}{h5createGroup}\n",
       "\\keyword{file}{h5createGroup}\n",
       "%\n",
       "\\begin{Description}\\relax\n",
       "Creates a group within an HDF5 file.\n",
       "\\end{Description}\n",
       "%\n",
       "\\begin{Usage}\n",
       "\\begin{verbatim}\n",
       "h5createGroup (file, group)\n",
       "\\end{verbatim}\n",
       "\\end{Usage}\n",
       "%\n",
       "\\begin{Arguments}\n",
       "\\begin{ldescription}\n",
       "\\item[\\code{file}] The filename (character) of the file in which the dataset will be located. For advanced programmers it is possible to provide an object of class \\code{\\LinkA{H5IdComponent}{H5IdComponent}} representing a H5 location identifier (file or group). See \\code{\\LinkA{H5Fcreate}{H5Fcreate}}, \\code{\\LinkA{H5Fopen}{H5Fopen}}, \\code{\\LinkA{H5Gcreate}{H5Gcreate}}, \\code{\\LinkA{H5Gopen}{H5Gopen}} to create an object of this kind.\n",
       "\\item[\\code{group}] The name of the new group. The name can contain a hierarchy of groupnames, e.g. 'group1/group2/newgroup', but the function will fail if the top level group do not exists.\n",
       "\\end{ldescription}\n",
       "\\end{Arguments}\n",
       "%\n",
       "\\begin{Details}\\relax\n",
       "Creates a new group within an HDF5 file. \n",
       "\\end{Details}\n",
       "%\n",
       "\\begin{Value}\n",
       "Returns TRUE is group was created successfully and FALSE otherwise.\n",
       "\\end{Value}\n",
       "%\n",
       "\\begin{Author}\\relax\n",
       "Bernd Fischer\n",
       "\\end{Author}\n",
       "%\n",
       "\\begin{References}\\relax\n",
       "\\url{http://www.hdfgroup.org/HDF5}\n",
       "\\end{References}\n",
       "%\n",
       "\\begin{SeeAlso}\\relax\n",
       "\\code{\\LinkA{h5createFile}{h5createFile}}, \\code{\\LinkA{h5createDataset}{h5createDataset}}, \\code{\\LinkA{h5read}{h5read}}, \\code{\\LinkA{h5write}{h5write}}, \\LinkA{rhdf5}{rhdf5}\n",
       "\\end{SeeAlso}\n",
       "%\n",
       "\\begin{Examples}\n",
       "\\begin{ExampleCode}\n",
       "h5createFile(\"ex_createGroup.h5\")\n",
       "\n",
       "# create groups\n",
       "h5createGroup(\"ex_createGroup.h5\",\"foo\")\n",
       "h5createGroup(\"ex_createGroup.h5\",\"foo/foobaa\")\n",
       "\n",
       "h5ls(\"ex_createGroup.h5\")\n",
       "\\end{ExampleCode}\n",
       "\\end{Examples}"
      ],
      "text/plain": [
       "h5createGroup              package:rhdf5               R Documentation\n",
       "\n",
       "_\bC_\br_\be_\ba_\bt_\be _\bH_\bD_\bF_\b5 _\bg_\br_\bo_\bu_\bp\n",
       "\n",
       "_\bD_\be_\bs_\bc_\br_\bi_\bp_\bt_\bi_\bo_\bn:\n",
       "\n",
       "     Creates a group within an HDF5 file.\n",
       "\n",
       "_\bU_\bs_\ba_\bg_\be:\n",
       "\n",
       "     h5createGroup (file, group)\n",
       "     \n",
       "_\bA_\br_\bg_\bu_\bm_\be_\bn_\bt_\bs:\n",
       "\n",
       "    file: The filename (character) of the file in which the dataset\n",
       "          will be located. For advanced programmers it is possible to\n",
       "          provide an object of class ‘H5IdComponent’ representing a H5\n",
       "          location identifier (file or group). See ‘H5Fcreate’,\n",
       "          ‘H5Fopen’, ‘H5Gcreate’, ‘H5Gopen’ to create an object of this\n",
       "          kind.\n",
       "\n",
       "   group: The name of the new group. The name can contain a hierarchy\n",
       "          of groupnames, e.g. 'group1/group2/newgroup', but the\n",
       "          function will fail if the top level group do not exists.\n",
       "\n",
       "_\bD_\be_\bt_\ba_\bi_\bl_\bs:\n",
       "\n",
       "     Creates a new group within an HDF5 file.\n",
       "\n",
       "_\bV_\ba_\bl_\bu_\be:\n",
       "\n",
       "     Returns TRUE is group was created successfully and FALSE\n",
       "     otherwise.\n",
       "\n",
       "_\bA_\bu_\bt_\bh_\bo_\br(_\bs):\n",
       "\n",
       "     Bernd Fischer\n",
       "\n",
       "_\bR_\be_\bf_\be_\br_\be_\bn_\bc_\be_\bs:\n",
       "\n",
       "     <URL: http://www.hdfgroup.org/HDF5>\n",
       "\n",
       "_\bS_\be_\be _\bA_\bl_\bs_\bo:\n",
       "\n",
       "     ‘h5createFile’, ‘h5createDataset’, ‘h5read’, ‘h5write’, rhdf5\n",
       "\n",
       "_\bE_\bx_\ba_\bm_\bp_\bl_\be_\bs:\n",
       "\n",
       "     h5createFile(\"ex_createGroup.h5\")\n",
       "     \n",
       "     # create groups\n",
       "     h5createGroup(\"ex_createGroup.h5\",\"foo\")\n",
       "     h5createGroup(\"ex_createGroup.h5\",\"foo/foobaa\")\n",
       "     \n",
       "     h5ls(\"ex_createGroup.h5\")\n",
       "     "
      ]
     },
     "metadata": {},
     "output_type": "display_data"
    }
   ],
   "source": [
    "?h5createGroup"
   ]
  },
  {
   "cell_type": "code",
   "execution_count": 8,
   "metadata": {},
   "outputs": [
    {
     "data": {
      "text/html": [
       "<table>\n",
       "<thead><tr><th></th><th scope=col>group</th><th scope=col>name</th><th scope=col>otype</th><th scope=col>dclass</th><th scope=col>dim</th></tr></thead>\n",
       "<tbody>\n",
       "\t<tr><th scope=row>0</th><td>/        </td><td>bar      </td><td>H5I_GROUP</td><td>         </td><td>         </td></tr>\n",
       "\t<tr><th scope=row>1</th><td>/        </td><td>foo      </td><td>H5I_GROUP</td><td>         </td><td>         </td></tr>\n",
       "\t<tr><th scope=row>2</th><td>/foo     </td><td>foobar   </td><td>H5I_GROUP</td><td>         </td><td>         </td></tr>\n",
       "</tbody>\n",
       "</table>\n"
      ],
      "text/latex": [
       "\\begin{tabular}{r|lllll}\n",
       "  & group & name & otype & dclass & dim\\\\\n",
       "\\hline\n",
       "\t0 & /           & bar         & H5I\\_GROUP &             &            \\\\\n",
       "\t1 & /           & foo         & H5I\\_GROUP &             &            \\\\\n",
       "\t2 & /foo        & foobar      & H5I\\_GROUP &             &            \\\\\n",
       "\\end{tabular}\n"
      ],
      "text/markdown": [
       "\n",
       "| <!--/--> | group | name | otype | dclass | dim | \n",
       "|---|---|---|\n",
       "| 0 | /         | bar       | H5I_GROUP |           |           | \n",
       "| 1 | /         | foo       | H5I_GROUP |           |           | \n",
       "| 2 | /foo      | foobar    | H5I_GROUP |           |           | \n",
       "\n",
       "\n"
      ],
      "text/plain": [
       "  group name   otype     dclass dim\n",
       "0 /     bar    H5I_GROUP           \n",
       "1 /     foo    H5I_GROUP           \n",
       "2 /foo  foobar H5I_GROUP           "
      ]
     },
     "metadata": {},
     "output_type": "display_data"
    }
   ],
   "source": [
    "h5ls(\"example.h5\")"
   ]
  },
  {
   "cell_type": "markdown",
   "metadata": {},
   "source": [
    "## Basic input and output"
   ]
  },
  {
   "cell_type": "code",
   "execution_count": 19,
   "metadata": {},
   "outputs": [
    {
     "name": "stdout",
     "output_type": "stream",
     "text": [
      "     [,1] [,2]\n",
      "[1,]    1    6\n",
      "[2,]    2    7\n",
      "[3,]    3    8\n",
      "[4,]    4    9\n",
      "[5,]    5   10\n"
     ]
    },
    {
     "data": {
      "text/html": [
       "<table>\n",
       "<thead><tr><th></th><th scope=col>group</th><th scope=col>name</th><th scope=col>otype</th><th scope=col>dclass</th><th scope=col>dim</th></tr></thead>\n",
       "<tbody>\n",
       "\t<tr><th scope=row>0</th><td>/          </td><td>bar        </td><td>H5I_GROUP  </td><td>           </td><td>           </td></tr>\n",
       "\t<tr><th scope=row>1</th><td>/          </td><td>df         </td><td>H5I_DATASET</td><td>COMPOUND   </td><td>5          </td></tr>\n",
       "\t<tr><th scope=row>2</th><td>/          </td><td>foo        </td><td>H5I_GROUP  </td><td>           </td><td>           </td></tr>\n",
       "\t<tr><th scope=row>3</th><td>/foo       </td><td>A          </td><td>H5I_DATASET</td><td>INTEGER    </td><td>5 x 2      </td></tr>\n",
       "\t<tr><th scope=row>4</th><td>/foo       </td><td>foobar     </td><td>H5I_GROUP  </td><td>           </td><td>           </td></tr>\n",
       "\t<tr><th scope=row>5</th><td>/foo/foobar</td><td>B          </td><td>H5I_DATASET</td><td>FLOAT      </td><td>5 x 2 x 2  </td></tr>\n",
       "</tbody>\n",
       "</table>\n"
      ],
      "text/latex": [
       "\\begin{tabular}{r|lllll}\n",
       "  & group & name & otype & dclass & dim\\\\\n",
       "\\hline\n",
       "\t0 & /             & bar           & H5I\\_GROUP   &               &              \\\\\n",
       "\t1 & /             & df            & H5I\\_DATASET & COMPOUND      & 5            \\\\\n",
       "\t2 & /             & foo           & H5I\\_GROUP   &               &              \\\\\n",
       "\t3 & /foo          & A             & H5I\\_DATASET & INTEGER       & 5 x 2        \\\\\n",
       "\t4 & /foo          & foobar        & H5I\\_GROUP   &               &              \\\\\n",
       "\t5 & /foo/foobar   & B             & H5I\\_DATASET & FLOAT         & 5 x 2 x 2    \\\\\n",
       "\\end{tabular}\n"
      ],
      "text/markdown": [
       "\n",
       "| <!--/--> | group | name | otype | dclass | dim | \n",
       "|---|---|---|---|---|---|\n",
       "| 0 | /           | bar         | H5I_GROUP   |             |             | \n",
       "| 1 | /           | df          | H5I_DATASET | COMPOUND    | 5           | \n",
       "| 2 | /           | foo         | H5I_GROUP   |             |             | \n",
       "| 3 | /foo        | A           | H5I_DATASET | INTEGER     | 5 x 2       | \n",
       "| 4 | /foo        | foobar      | H5I_GROUP   |             |             | \n",
       "| 5 | /foo/foobar | B           | H5I_DATASET | FLOAT       | 5 x 2 x 2   | \n",
       "\n",
       "\n"
      ],
      "text/plain": [
       "  group       name   otype       dclass   dim      \n",
       "0 /           bar    H5I_GROUP                     \n",
       "1 /           df     H5I_DATASET COMPOUND 5        \n",
       "2 /           foo    H5I_GROUP                     \n",
       "3 /foo        A      H5I_DATASET INTEGER  5 x 2    \n",
       "4 /foo        foobar H5I_GROUP                     \n",
       "5 /foo/foobar B      H5I_DATASET FLOAT    5 x 2 x 2"
      ]
     },
     "metadata": {},
     "output_type": "display_data"
    }
   ],
   "source": [
    "A = matrix(1:10,nr=5,nc=2)\n",
    "h5write(A, \"example.h5\", \"foo/A\")\n",
    "print(A)\n",
    "h5ls(\"example.h5\")"
   ]
  },
  {
   "cell_type": "code",
   "execution_count": 20,
   "metadata": {},
   "outputs": [
    {
     "name": "stdout",
     "output_type": "stream",
     "text": [
      ", , 1\n",
      "\n",
      "     [,1] [,2]\n",
      "[1,]  0.1  0.6\n",
      "[2,]  0.2  0.7\n",
      "[3,]  0.3  0.8\n",
      "[4,]  0.4  0.9\n",
      "[5,]  0.5  1.0\n",
      "\n",
      ", , 2\n",
      "\n",
      "     [,1] [,2]\n",
      "[1,]  1.1  1.6\n",
      "[2,]  1.2  1.7\n",
      "[3,]  1.3  1.8\n",
      "[4,]  1.4  1.9\n",
      "[5,]  1.5  2.0\n",
      "\n",
      "attr(,\"scale\")\n",
      "[1] \"liter\"\n"
     ]
    },
    {
     "data": {
      "text/html": [
       "<table>\n",
       "<thead><tr><th></th><th scope=col>group</th><th scope=col>name</th><th scope=col>otype</th><th scope=col>dclass</th><th scope=col>dim</th></tr></thead>\n",
       "<tbody>\n",
       "\t<tr><th scope=row>0</th><td>/          </td><td>bar        </td><td>H5I_GROUP  </td><td>           </td><td>           </td></tr>\n",
       "\t<tr><th scope=row>1</th><td>/          </td><td>df         </td><td>H5I_DATASET</td><td>COMPOUND   </td><td>5          </td></tr>\n",
       "\t<tr><th scope=row>2</th><td>/          </td><td>foo        </td><td>H5I_GROUP  </td><td>           </td><td>           </td></tr>\n",
       "\t<tr><th scope=row>3</th><td>/foo       </td><td>A          </td><td>H5I_DATASET</td><td>INTEGER    </td><td>5 x 2      </td></tr>\n",
       "\t<tr><th scope=row>4</th><td>/foo       </td><td>foobar     </td><td>H5I_GROUP  </td><td>           </td><td>           </td></tr>\n",
       "\t<tr><th scope=row>5</th><td>/foo/foobar</td><td>B          </td><td>H5I_DATASET</td><td>FLOAT      </td><td>5 x 2 x 2  </td></tr>\n",
       "</tbody>\n",
       "</table>\n"
      ],
      "text/latex": [
       "\\begin{tabular}{r|lllll}\n",
       "  & group & name & otype & dclass & dim\\\\\n",
       "\\hline\n",
       "\t0 & /             & bar           & H5I\\_GROUP   &               &              \\\\\n",
       "\t1 & /             & df            & H5I\\_DATASET & COMPOUND      & 5            \\\\\n",
       "\t2 & /             & foo           & H5I\\_GROUP   &               &              \\\\\n",
       "\t3 & /foo          & A             & H5I\\_DATASET & INTEGER       & 5 x 2        \\\\\n",
       "\t4 & /foo          & foobar        & H5I\\_GROUP   &               &              \\\\\n",
       "\t5 & /foo/foobar   & B             & H5I\\_DATASET & FLOAT         & 5 x 2 x 2    \\\\\n",
       "\\end{tabular}\n"
      ],
      "text/markdown": [
       "\n",
       "| <!--/--> | group | name | otype | dclass | dim | \n",
       "|---|---|---|---|---|---|\n",
       "| 0 | /           | bar         | H5I_GROUP   |             |             | \n",
       "| 1 | /           | df          | H5I_DATASET | COMPOUND    | 5           | \n",
       "| 2 | /           | foo         | H5I_GROUP   |             |             | \n",
       "| 3 | /foo        | A           | H5I_DATASET | INTEGER     | 5 x 2       | \n",
       "| 4 | /foo        | foobar      | H5I_GROUP   |             |             | \n",
       "| 5 | /foo/foobar | B           | H5I_DATASET | FLOAT       | 5 x 2 x 2   | \n",
       "\n",
       "\n"
      ],
      "text/plain": [
       "  group       name   otype       dclass   dim      \n",
       "0 /           bar    H5I_GROUP                     \n",
       "1 /           df     H5I_DATASET COMPOUND 5        \n",
       "2 /           foo    H5I_GROUP                     \n",
       "3 /foo        A      H5I_DATASET INTEGER  5 x 2    \n",
       "4 /foo        foobar H5I_GROUP                     \n",
       "5 /foo/foobar B      H5I_DATASET FLOAT    5 x 2 x 2"
      ]
     },
     "metadata": {},
     "output_type": "display_data"
    }
   ],
   "source": [
    "B = array(seq(0.1,2.0,by=0.1),dim=c(5,2,2))\n",
    "attr(B, \"scale\") <- \"liter\"\n",
    "print(B)\n",
    "h5write(B, \"example.h5\", \"foo/foobar/B\")\n",
    "h5ls(\"example.h5\")"
   ]
  },
  {
   "cell_type": "markdown",
   "metadata": {},
   "source": [
    "Or we can write to the top-level group..."
   ]
  },
  {
   "cell_type": "code",
   "execution_count": 12,
   "metadata": {},
   "outputs": [
    {
     "name": "stdout",
     "output_type": "stream",
     "text": [
      "  X1L.5L seq.0..1..length.out...5. c..ab....cde....fghi....a....s..\n",
      "1      1                      0.00                               ab\n",
      "2      2                      0.25                              cde\n",
      "3      3                      0.50                             fghi\n",
      "4      4                      0.75                                a\n",
      "5      5                      1.00                                s\n"
     ]
    }
   ],
   "source": [
    "df = data.frame(1L:5L, seq(0,1,length.out=5),\n",
    "               c(\"ab\",\"cde\",\"fghi\",\"a\",\"s\"), stringsAsFactors=FALSE)\n",
    "print(df)"
   ]
  },
  {
   "cell_type": "code",
   "execution_count": 13,
   "metadata": {},
   "outputs": [
    {
     "data": {
      "text/html": [
       "<table>\n",
       "<thead><tr><th></th><th scope=col>group</th><th scope=col>name</th><th scope=col>otype</th><th scope=col>dclass</th><th scope=col>dim</th></tr></thead>\n",
       "<tbody>\n",
       "\t<tr><th scope=row>0</th><td>/          </td><td>bar        </td><td>H5I_GROUP  </td><td>           </td><td>           </td></tr>\n",
       "\t<tr><th scope=row>1</th><td>/          </td><td>df         </td><td>H5I_DATASET</td><td>COMPOUND   </td><td>5          </td></tr>\n",
       "\t<tr><th scope=row>2</th><td>/          </td><td>foo        </td><td>H5I_GROUP  </td><td>           </td><td>           </td></tr>\n",
       "\t<tr><th scope=row>3</th><td>/foo       </td><td>A          </td><td>H5I_DATASET</td><td>INTEGER    </td><td>5 x 2      </td></tr>\n",
       "\t<tr><th scope=row>4</th><td>/foo       </td><td>foobar     </td><td>H5I_GROUP  </td><td>           </td><td>           </td></tr>\n",
       "\t<tr><th scope=row>5</th><td>/foo/foobar</td><td>B          </td><td>H5I_DATASET</td><td>FLOAT      </td><td>5 x 2 x 2  </td></tr>\n",
       "</tbody>\n",
       "</table>\n"
      ],
      "text/latex": [
       "\\begin{tabular}{r|lllll}\n",
       "  & group & name & otype & dclass & dim\\\\\n",
       "\\hline\n",
       "\t0 & /             & bar           & H5I\\_GROUP   &               &              \\\\\n",
       "\t1 & /             & df            & H5I\\_DATASET & COMPOUND      & 5            \\\\\n",
       "\t2 & /             & foo           & H5I\\_GROUP   &               &              \\\\\n",
       "\t3 & /foo          & A             & H5I\\_DATASET & INTEGER       & 5 x 2        \\\\\n",
       "\t4 & /foo          & foobar        & H5I\\_GROUP   &               &              \\\\\n",
       "\t5 & /foo/foobar   & B             & H5I\\_DATASET & FLOAT         & 5 x 2 x 2    \\\\\n",
       "\\end{tabular}\n"
      ],
      "text/markdown": [
       "\n",
       "| <!--/--> | group | name | otype | dclass | dim | \n",
       "|---|---|---|---|---|---|\n",
       "| 0 | /           | bar         | H5I_GROUP   |             |             | \n",
       "| 1 | /           | df          | H5I_DATASET | COMPOUND    | 5           | \n",
       "| 2 | /           | foo         | H5I_GROUP   |             |             | \n",
       "| 3 | /foo        | A           | H5I_DATASET | INTEGER     | 5 x 2       | \n",
       "| 4 | /foo        | foobar      | H5I_GROUP   |             |             | \n",
       "| 5 | /foo/foobar | B           | H5I_DATASET | FLOAT       | 5 x 2 x 2   | \n",
       "\n",
       "\n"
      ],
      "text/plain": [
       "  group       name   otype       dclass   dim      \n",
       "0 /           bar    H5I_GROUP                     \n",
       "1 /           df     H5I_DATASET COMPOUND 5        \n",
       "2 /           foo    H5I_GROUP                     \n",
       "3 /foo        A      H5I_DATASET INTEGER  5 x 2    \n",
       "4 /foo        foobar H5I_GROUP                     \n",
       "5 /foo/foobar B      H5I_DATASET FLOAT    5 x 2 x 2"
      ]
     },
     "metadata": {},
     "output_type": "display_data"
    }
   ],
   "source": [
    "h5write(df,\"example.h5\",\"df\")\n",
    "h5ls(\"example.h5\")"
   ]
  },
  {
   "cell_type": "code",
   "execution_count": 14,
   "metadata": {},
   "outputs": [],
   "source": [
    "readA = h5read(\"example.h5\",\"foo/A\")\n",
    "readB = h5read(\"example.h5\",\"foo/foobar/B\")\n",
    "readdf = h5read(\"example.h5\",\"df\")"
   ]
  },
  {
   "cell_type": "markdown",
   "metadata": {},
   "source": [
    "## Writing and Reading Chunks"
   ]
  },
  {
   "cell_type": "code",
   "execution_count": 21,
   "metadata": {},
   "outputs": [
    {
     "name": "stdout",
     "output_type": "stream",
     "text": [
      "     [,1] [,2]\n",
      "[1,]    1    6\n",
      "[2,]    2    7\n",
      "[3,]    3    8\n",
      "[4,]    4    9\n",
      "[5,]    5   10\n"
     ]
    }
   ],
   "source": [
    "print(A)"
   ]
  },
  {
   "cell_type": "code",
   "execution_count": 16,
   "metadata": {},
   "outputs": [
    {
     "data": {
      "text/html": [
       "<table>\n",
       "<tbody>\n",
       "\t<tr><td>12</td><td> 6</td></tr>\n",
       "\t<tr><td>13</td><td> 7</td></tr>\n",
       "\t<tr><td>14</td><td> 8</td></tr>\n",
       "\t<tr><td> 4</td><td> 9</td></tr>\n",
       "\t<tr><td> 5</td><td>10</td></tr>\n",
       "</tbody>\n",
       "</table>\n"
      ],
      "text/latex": [
       "\\begin{tabular}{ll}\n",
       "\t 12 &  6\\\\\n",
       "\t 13 &  7\\\\\n",
       "\t 14 &  8\\\\\n",
       "\t  4 &  9\\\\\n",
       "\t  5 & 10\\\\\n",
       "\\end{tabular}\n"
      ],
      "text/markdown": [
       "\n",
       "| 12 |  6 | \n",
       "| 13 |  7 | \n",
       "| 14 |  8 | \n",
       "|  4 |  9 | \n",
       "|  5 | 10 | \n",
       "\n",
       "\n"
      ],
      "text/plain": [
       "     [,1] [,2]\n",
       "[1,] 12    6  \n",
       "[2,] 13    7  \n",
       "[3,] 14    8  \n",
       "[4,]  4    9  \n",
       "[5,]  5   10  "
      ]
     },
     "metadata": {},
     "output_type": "display_data"
    }
   ],
   "source": [
    "h5write(c(12,13,14),\"example.h5\",\"foo/A\",index=list(1:3,1))\n",
    "h5read(\"example.h5\", \"foo/A\")"
   ]
  },
  {
   "cell_type": "code",
   "execution_count": null,
   "metadata": {},
   "outputs": [],
   "source": [
    "k"
   ]
  }
 ],
 "metadata": {
  "kernelspec": {
   "display_name": "R",
   "language": "R",
   "name": "ir"
  },
  "language_info": {
   "codemirror_mode": "r",
   "file_extension": ".r",
   "mimetype": "text/x-r-source",
   "name": "R",
   "pygments_lexer": "r",
   "version": "3.3.2"
  }
 },
 "nbformat": 4,
 "nbformat_minor": 2
}
