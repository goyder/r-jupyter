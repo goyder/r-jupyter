{
 "cells": [
  {
   "cell_type": "markdown",
   "metadata": {},
   "source": [
    "# Week 4 Quiz\n",
    "___\n"
   ]
  },
  {
   "cell_type": "markdown",
   "metadata": {},
   "source": [
    "## Question 1\n",
    "\n",
    "The American Community Survey distributes downloadable data about United States communities. Download the 2006 microdata survey about housing for the state of Idaho using download.file() from here:\n",
    "\n",
    "https://d396qusza40orc.cloudfront.net/getdata%2Fdata%2Fss06hid.csv\n",
    "\n",
    "and load the data into R. The code book, describing the variable names is here:\n",
    "\n",
    "https://d396qusza40orc.cloudfront.net/getdata%2Fdata%2FPUMSDataDict06.pdf\n",
    "\n",
    "Apply strsplit() to split all the names of the data frame on the characters \"wgtp\". What is the value of the 123 element of the resulting list?"
   ]
  },
  {
   "cell_type": "code",
   "execution_count": 1,
   "metadata": {},
   "outputs": [],
   "source": [
    "if (!file.exists(\"data/idahohousing.csv\")){\n",
    "    download.file(\"https://d396qusza40orc.cloudfront.net/getdata%2Fdata%2Fss06hid.csv\",\n",
    "                 \"data/idahohousing.csv\")\n",
    "}\n",
    "idaho.housing <- read.csv(\"data/idahohousing.csv\")"
   ]
  },
  {
   "cell_type": "code",
   "execution_count": 4,
   "metadata": {},
   "outputs": [],
   "source": [
    "idaho.names <- names(idaho.housing)"
   ]
  },
  {
   "cell_type": "code",
   "execution_count": 8,
   "metadata": {},
   "outputs": [],
   "source": [
    "idaho.names.split <- strsplit(idaho.names, \"wgtp\")"
   ]
  },
  {
   "cell_type": "code",
   "execution_count": 9,
   "metadata": {},
   "outputs": [
    {
     "data": {
      "text/html": [
       "<ol class=list-inline>\n",
       "\t<li>''</li>\n",
       "\t<li>'15'</li>\n",
       "</ol>\n"
      ],
      "text/latex": [
       "\\begin{enumerate*}\n",
       "\\item ''\n",
       "\\item '15'\n",
       "\\end{enumerate*}\n"
      ],
      "text/markdown": [
       "1. ''\n",
       "2. '15'\n",
       "\n",
       "\n"
      ],
      "text/plain": [
       "[1] \"\"   \"15\""
      ]
     },
     "metadata": {},
     "output_type": "display_data"
    }
   ],
   "source": [
    "idaho.names.split[[123]]"
   ]
  },
  {
   "cell_type": "code",
   "execution_count": 10,
   "metadata": {},
   "outputs": [
    {
     "data": {
      "text/html": [
       "'wgtp15'"
      ],
      "text/latex": [
       "'wgtp15'"
      ],
      "text/markdown": [
       "'wgtp15'"
      ],
      "text/plain": [
       "[1] \"wgtp15\""
      ]
     },
     "metadata": {},
     "output_type": "display_data"
    }
   ],
   "source": [
    "idaho.names[[123]]"
   ]
  },
  {
   "cell_type": "markdown",
   "metadata": {},
   "source": [
    "## Question 2\n",
    "Load the Gross Domestic Product data for the 190 ranked countries in this data set:\n",
    "\n",
    "https://d396qusza40orc.cloudfront.net/getdata%2Fdata%2FGDP.csv\n",
    "\n",
    "Remove the commas from the GDP numbers in millions of dollars and average them. What is the average?\n",
    "\n",
    "Original data sources:\n",
    "\n",
    "http://data.worldbank.org/data-catalog/GDP-ranking-table"
   ]
  },
  {
   "cell_type": "code",
   "execution_count": 11,
   "metadata": {},
   "outputs": [],
   "source": [
    "if (!file.exists(\"data/GDP.csv\")) {\n",
    "    download.file(\"https://d396qusza40orc.cloudfront.net/getdata%2Fdata%2FGDP.csv\", \"data/GDP.csv\")\n",
    "}"
   ]
  },
  {
   "cell_type": "code",
   "execution_count": 13,
   "metadata": {},
   "outputs": [
    {
     "data": {
      "text/html": [
       "<ol class=list-inline>\n",
       "\t<li>',Gross domestic product 2012,,,,,,,,'</li>\n",
       "\t<li>',,,,,,,,,'</li>\n",
       "\t<li>',,,,(millions of,,,,,'</li>\n",
       "\t<li>',Ranking,,Economy,US dollars),,,,,'</li>\n",
       "\t<li>',,,,,,,,,'</li>\n",
       "\t<li>'USA,1,,United States,\" 16,244,600 \",,,,,'</li>\n",
       "\t<li>'CHN,2,,China,\" 8,227,103 \",,,,,'</li>\n",
       "\t<li>'JPN,3,,Japan,\" 5,959,718 \",,,,,'</li>\n",
       "\t<li>'DEU,4,,Germany,\" 3,428,131 \",,,,,'</li>\n",
       "\t<li>'FRA,5,,France,\" 2,612,878 \",,,,,'</li>\n",
       "</ol>\n"
      ],
      "text/latex": [
       "\\begin{enumerate*}\n",
       "\\item ',Gross domestic product 2012,,,,,,,,'\n",
       "\\item ',,,,,,,,,'\n",
       "\\item ',,,,(millions of,,,,,'\n",
       "\\item ',Ranking,,Economy,US dollars),,,,,'\n",
       "\\item ',,,,,,,,,'\n",
       "\\item 'USA,1,,United States,\" 16,244,600 \",,,,,'\n",
       "\\item 'CHN,2,,China,\" 8,227,103 \",,,,,'\n",
       "\\item 'JPN,3,,Japan,\" 5,959,718 \",,,,,'\n",
       "\\item 'DEU,4,,Germany,\" 3,428,131 \",,,,,'\n",
       "\\item 'FRA,5,,France,\" 2,612,878 \",,,,,'\n",
       "\\end{enumerate*}\n"
      ],
      "text/markdown": [
       "1. ',Gross domestic product 2012,,,,,,,,'\n",
       "2. ',,,,,,,,,'\n",
       "3. ',,,,(millions of,,,,,'\n",
       "4. ',Ranking,,Economy,US dollars),,,,,'\n",
       "5. ',,,,,,,,,'\n",
       "6. 'USA,1,,United States,\" 16,244,600 \",,,,,'\n",
       "7. 'CHN,2,,China,\" 8,227,103 \",,,,,'\n",
       "8. 'JPN,3,,Japan,\" 5,959,718 \",,,,,'\n",
       "9. 'DEU,4,,Germany,\" 3,428,131 \",,,,,'\n",
       "10. 'FRA,5,,France,\" 2,612,878 \",,,,,'\n",
       "\n",
       "\n"
      ],
      "text/plain": [
       " [1] \",Gross domestic product 2012,,,,,,,,\"      \n",
       " [2] \",,,,,,,,,\"                                 \n",
       " [3] \",,,,(millions of,,,,,\"                     \n",
       " [4] \",Ranking,,Economy,US dollars),,,,,\"        \n",
       " [5] \",,,,,,,,,\"                                 \n",
       " [6] \"USA,1,,United States,\\\" 16,244,600 \\\",,,,,\"\n",
       " [7] \"CHN,2,,China,\\\" 8,227,103 \\\",,,,,\"         \n",
       " [8] \"JPN,3,,Japan,\\\" 5,959,718 \\\",,,,,\"         \n",
       " [9] \"DEU,4,,Germany,\\\" 3,428,131 \\\",,,,,\"       \n",
       "[10] \"FRA,5,,France,\\\" 2,612,878 \\\",,,,,\"        "
      ]
     },
     "metadata": {},
     "output_type": "display_data"
    }
   ],
   "source": [
    "readLines(\"data/GDP.csv\", n=10)"
   ]
  },
  {
   "cell_type": "code",
   "execution_count": 22,
   "metadata": {},
   "outputs": [],
   "source": [
    "gdp <- read.csv(\"data/GDP.csv\", skip=5, header = FALSE)"
   ]
  },
  {
   "cell_type": "code",
   "execution_count": 23,
   "metadata": {},
   "outputs": [
    {
     "data": {
      "text/html": [
       "<ol class=list-inline>\n",
       "\t<li>'V1'</li>\n",
       "\t<li>'V2'</li>\n",
       "\t<li>'V3'</li>\n",
       "\t<li>'V4'</li>\n",
       "\t<li>'V5'</li>\n",
       "\t<li>'V6'</li>\n",
       "\t<li>'V7'</li>\n",
       "\t<li>'V8'</li>\n",
       "\t<li>'V9'</li>\n",
       "\t<li>'V10'</li>\n",
       "</ol>\n"
      ],
      "text/latex": [
       "\\begin{enumerate*}\n",
       "\\item 'V1'\n",
       "\\item 'V2'\n",
       "\\item 'V3'\n",
       "\\item 'V4'\n",
       "\\item 'V5'\n",
       "\\item 'V6'\n",
       "\\item 'V7'\n",
       "\\item 'V8'\n",
       "\\item 'V9'\n",
       "\\item 'V10'\n",
       "\\end{enumerate*}\n"
      ],
      "text/markdown": [
       "1. 'V1'\n",
       "2. 'V2'\n",
       "3. 'V3'\n",
       "4. 'V4'\n",
       "5. 'V5'\n",
       "6. 'V6'\n",
       "7. 'V7'\n",
       "8. 'V8'\n",
       "9. 'V9'\n",
       "10. 'V10'\n",
       "\n",
       "\n"
      ],
      "text/plain": [
       " [1] \"V1\"  \"V2\"  \"V3\"  \"V4\"  \"V5\"  \"V6\"  \"V7\"  \"V8\"  \"V9\"  \"V10\""
      ]
     },
     "metadata": {},
     "output_type": "display_data"
    }
   ],
   "source": [
    "names(gdp)"
   ]
  },
  {
   "cell_type": "code",
   "execution_count": 24,
   "metadata": {},
   "outputs": [
    {
     "data": {
      "text/html": [
       "<table>\n",
       "<thead><tr><th></th><th scope=col>V1</th><th scope=col>V2</th><th scope=col>V3</th><th scope=col>V4</th><th scope=col>V5</th><th scope=col>V6</th><th scope=col>V7</th><th scope=col>V8</th><th scope=col>V9</th><th scope=col>V10</th></tr></thead>\n",
       "<tbody>\n",
       "\t<tr><th scope=row>321</th><td>  </td><td>  </td><td>NA</td><td>  </td><td>  </td><td>  </td><td>NA</td><td>NA</td><td>NA</td><td>NA</td></tr>\n",
       "\t<tr><th scope=row>322</th><td>  </td><td>  </td><td>NA</td><td>  </td><td>  </td><td>  </td><td>NA</td><td>NA</td><td>NA</td><td>NA</td></tr>\n",
       "\t<tr><th scope=row>323</th><td>  </td><td>  </td><td>NA</td><td>  </td><td>  </td><td>  </td><td>NA</td><td>NA</td><td>NA</td><td>NA</td></tr>\n",
       "\t<tr><th scope=row>324</th><td>  </td><td>  </td><td>NA</td><td>  </td><td>  </td><td>  </td><td>NA</td><td>NA</td><td>NA</td><td>NA</td></tr>\n",
       "\t<tr><th scope=row>325</th><td>  </td><td>  </td><td>NA</td><td>  </td><td>  </td><td>  </td><td>NA</td><td>NA</td><td>NA</td><td>NA</td></tr>\n",
       "\t<tr><th scope=row>326</th><td>  </td><td>  </td><td>NA</td><td>  </td><td>  </td><td>  </td><td>NA</td><td>NA</td><td>NA</td><td>NA</td></tr>\n",
       "</tbody>\n",
       "</table>\n"
      ],
      "text/latex": [
       "\\begin{tabular}{r|llllllllll}\n",
       "  & V1 & V2 & V3 & V4 & V5 & V6 & V7 & V8 & V9 & V10\\\\\n",
       "\\hline\n",
       "\t321 &    &    & NA &    &    &    & NA & NA & NA & NA\\\\\n",
       "\t322 &    &    & NA &    &    &    & NA & NA & NA & NA\\\\\n",
       "\t323 &    &    & NA &    &    &    & NA & NA & NA & NA\\\\\n",
       "\t324 &    &    & NA &    &    &    & NA & NA & NA & NA\\\\\n",
       "\t325 &    &    & NA &    &    &    & NA & NA & NA & NA\\\\\n",
       "\t326 &    &    & NA &    &    &    & NA & NA & NA & NA\\\\\n",
       "\\end{tabular}\n"
      ],
      "text/markdown": [
       "\n",
       "| <!--/--> | V1 | V2 | V3 | V4 | V5 | V6 | V7 | V8 | V9 | V10 | \n",
       "|---|---|---|---|---|---|\n",
       "| 321 |    |    | NA |    |    |    | NA | NA | NA | NA | \n",
       "| 322 |    |    | NA |    |    |    | NA | NA | NA | NA | \n",
       "| 323 |    |    | NA |    |    |    | NA | NA | NA | NA | \n",
       "| 324 |    |    | NA |    |    |    | NA | NA | NA | NA | \n",
       "| 325 |    |    | NA |    |    |    | NA | NA | NA | NA | \n",
       "| 326 |    |    | NA |    |    |    | NA | NA | NA | NA | \n",
       "\n",
       "\n"
      ],
      "text/plain": [
       "    V1 V2 V3 V4 V5 V6 V7 V8 V9 V10\n",
       "321       NA          NA NA NA NA \n",
       "322       NA          NA NA NA NA \n",
       "323       NA          NA NA NA NA \n",
       "324       NA          NA NA NA NA \n",
       "325       NA          NA NA NA NA \n",
       "326       NA          NA NA NA NA "
      ]
     },
     "metadata": {},
     "output_type": "display_data"
    }
   ],
   "source": [
    "tail(gdp)"
   ]
  },
  {
   "cell_type": "code",
   "execution_count": 25,
   "metadata": {},
   "outputs": [],
   "source": [
    "gdp <- gdp[1:190,]"
   ]
  },
  {
   "cell_type": "code",
   "execution_count": 26,
   "metadata": {},
   "outputs": [
    {
     "name": "stderr",
     "output_type": "stream",
     "text": [
      "Warning message in FUN(X[[i]], ...):\n",
      "“input string 4 is invalid in this locale”Warning message in FUN(X[[i]], ...):\n",
      "“input string 4 is invalid in this locale”Warning message in FUN(X[[i]], ...):\n",
      "“input string 4 is invalid in this locale”Warning message in FUN(X[[i]], ...):\n",
      "“input string 4 is invalid in this locale”Warning message in FUN(X[[i]], ...):\n",
      "“input string 4 is invalid in this locale”Warning message in FUN(X[[i]], ...):\n",
      "“input string 4 is invalid in this locale”Warning message in FUN(X[[i]], ...):\n",
      "“input string 4 is invalid in this locale”Warning message in FUN(X[[i]], ...):\n",
      "“input string 4 is invalid in this locale”Warning message in FUN(X[[i]], ...):\n",
      "“input string 4 is invalid in this locale”Warning message in FUN(X[[i]], ...):\n",
      "“input string 4 is invalid in this locale”Warning message in FUN(X[[i]], ...):\n",
      "“input string 4 is invalid in this locale”Warning message in FUN(X[[i]], ...):\n",
      "“input string 4 is invalid in this locale”Warning message in FUN(X[[i]], ...):\n",
      "“input string 4 is invalid in this locale”Warning message in FUN(X[[i]], ...):\n",
      "“input string 4 is invalid in this locale”Warning message in FUN(X[[i]], ...):\n",
      "“input string 4 is invalid in this locale”Warning message in FUN(X[[i]], ...):\n",
      "“input string 4 is invalid in this locale”Warning message in grepl(\"<html.*>\", data[[\"text/html\"]], ignore.case = TRUE):\n",
      "“input string 1 is invalid in this locale”"
     ]
    },
    {
     "data": {
      "text/html": [
       "<table>\n",
       "<thead><tr><th></th><th scope=col>V1</th><th scope=col>V2</th><th scope=col>V3</th><th scope=col>V4</th><th scope=col>V5</th><th scope=col>V6</th><th scope=col>V7</th><th scope=col>V8</th><th scope=col>V9</th><th scope=col>V10</th></tr></thead>\n",
       "<tbody>\n",
       "\t<tr><th scope=row>185</th><td>FSM                        </td><td>185                        </td><td>NA                         </td><td>Micronesia, Fed. Sts.      </td><td> 326                       </td><td>                           </td><td>NA                         </td><td>NA                         </td><td>NA                         </td><td>NA                         </td></tr>\n",
       "\t<tr><th scope=row>186</th><td>STP                        </td><td>186                        </td><td>NA                         </td><td>S<e3>o Tom<e9> and Principe</td><td> 263                       </td><td>                           </td><td>NA                         </td><td>NA                         </td><td>NA                         </td><td>NA                         </td></tr>\n",
       "\t<tr><th scope=row>187</th><td>PLW                        </td><td>187                        </td><td>NA                         </td><td>Palau                      </td><td> 228                       </td><td>                           </td><td>NA                         </td><td>NA                         </td><td>NA                         </td><td>NA                         </td></tr>\n",
       "\t<tr><th scope=row>188</th><td>MHL                        </td><td>188                        </td><td>NA                         </td><td>Marshall Islands           </td><td> 182                       </td><td>                           </td><td>NA                         </td><td>NA                         </td><td>NA                         </td><td>NA                         </td></tr>\n",
       "\t<tr><th scope=row>189</th><td>KIR                        </td><td>189                        </td><td>NA                         </td><td>Kiribati                   </td><td> 175                       </td><td>                           </td><td>NA                         </td><td>NA                         </td><td>NA                         </td><td>NA                         </td></tr>\n",
       "\t<tr><th scope=row>190</th><td>TUV                        </td><td>190                        </td><td>NA                         </td><td>Tuvalu                     </td><td> 40                        </td><td>                           </td><td>NA                         </td><td>NA                         </td><td>NA                         </td><td>NA                         </td></tr>\n",
       "</tbody>\n",
       "</table>\n"
      ],
      "text/markdown": [
       "\n",
       "| <!--/--> | V1 | V2 | V3 | V4 | V5 | V6 | V7 | V8 | V9 | V10 | \n",
       "|---|---|---|---|---|---|\n",
       "| 185 | FSM                         | 185                         | NA                          | Micronesia, Fed. Sts.       |  326                        |                             | NA                          | NA                          | NA                          | NA                          | \n",
       "| 186 | STP                         | 186                         | NA                          | S<e3>o Tom<e9> and Principe |  263                        |                             | NA                          | NA                          | NA                          | NA                          | \n",
       "| 187 | PLW                         | 187                         | NA                          | Palau                       |  228                        |                             | NA                          | NA                          | NA                          | NA                          | \n",
       "| 188 | MHL                         | 188                         | NA                          | Marshall Islands            |  182                        |                             | NA                          | NA                          | NA                          | NA                          | \n",
       "| 189 | KIR                         | 189                         | NA                          | Kiribati                    |  175                        |                             | NA                          | NA                          | NA                          | NA                          | \n",
       "| 190 | TUV                         | 190                         | NA                          | Tuvalu                      |  40                         |                             | NA                          | NA                          | NA                          | NA                          | \n",
       "\n",
       "\n"
      ],
      "text/plain": [
       "    V1  V2  V3 V4                          V5    V6 V7 V8 V9 V10\n",
       "185 FSM 185 NA Micronesia, Fed. Sts.        326     NA NA NA NA \n",
       "186 STP 186 NA S\\xe3o Tom\\xe9 and Principe  263     NA NA NA NA \n",
       "187 PLW 187 NA Palau                        228     NA NA NA NA \n",
       "188 MHL 188 NA Marshall Islands             182     NA NA NA NA \n",
       "189 KIR 189 NA Kiribati                     175     NA NA NA NA \n",
       "190 TUV 190 NA Tuvalu                       40      NA NA NA NA "
      ]
     },
     "metadata": {},
     "output_type": "display_data"
    }
   ],
   "source": [
    "tail(gdp)"
   ]
  },
  {
   "cell_type": "code",
   "execution_count": 29,
   "metadata": {},
   "outputs": [],
   "source": [
    "gdp$V5 <- gsub(\",\", \"\", gdp$V5)"
   ]
  },
  {
   "cell_type": "code",
   "execution_count": 31,
   "metadata": {},
   "outputs": [],
   "source": [
    "gdp$V5 <- as.numeric(gdp$V5)"
   ]
  },
  {
   "cell_type": "code",
   "execution_count": 32,
   "metadata": {},
   "outputs": [
    {
     "data": {
      "text/html": [
       "377652.421052632"
      ],
      "text/latex": [
       "377652.421052632"
      ],
      "text/markdown": [
       "377652.421052632"
      ],
      "text/plain": [
       "[1] 377652.4"
      ]
     },
     "metadata": {},
     "output_type": "display_data"
    }
   ],
   "source": [
    "mean(gdp$V5)"
   ]
  },
  {
   "cell_type": "markdown",
   "metadata": {},
   "source": [
    "## Question 3\n",
    "In the data set from Question 2 what is a regular expression that would allow you to count the number of countries whose name begins with \"United\"? Assume that the variable with the country names in it is named countryNames. How many countries begin with United?"
   ]
  },
  {
   "cell_type": "code",
   "execution_count": 33,
   "metadata": {},
   "outputs": [
    {
     "name": "stderr",
     "output_type": "stream",
     "text": [
      "Warning message in grep(\"^United\", gdp$V4):\n",
      "“input string 99 is invalid in this locale”Warning message in grep(\"^United\", gdp$V4):\n",
      "“input string 186 is invalid in this locale”"
     ]
    },
    {
     "data": {
      "text/html": [
       "<ol class=list-inline>\n",
       "\t<li>1</li>\n",
       "\t<li>6</li>\n",
       "\t<li>32</li>\n",
       "</ol>\n"
      ],
      "text/latex": [
       "\\begin{enumerate*}\n",
       "\\item 1\n",
       "\\item 6\n",
       "\\item 32\n",
       "\\end{enumerate*}\n"
      ],
      "text/markdown": [
       "1. 1\n",
       "2. 6\n",
       "3. 32\n",
       "\n",
       "\n"
      ],
      "text/plain": [
       "[1]  1  6 32"
      ]
     },
     "metadata": {},
     "output_type": "display_data"
    }
   ],
   "source": [
    "grep(\"^United\", gdp$V4)"
   ]
  },
  {
   "cell_type": "markdown",
   "metadata": {},
   "source": [
    "Out of curiousity, what's the error about strings 99 and 186 about?"
   ]
  },
  {
   "cell_type": "code",
   "execution_count": 36,
   "metadata": {},
   "outputs": [
    {
     "data": {
      "text/html": [
       "C\\xf4te d'Ivoire"
      ],
      "text/latex": [
       "C\\textbackslash{}xf4te d'Ivoire"
      ],
      "text/markdown": [
       "C\\xf4te d'Ivoire"
      ],
      "text/plain": [
       "[1] C\\xf4te d'Ivoire\n",
       "229 Levels:    East Asia & Pacific   Euro area ... Zimbabwe"
      ]
     },
     "metadata": {},
     "output_type": "display_data"
    }
   ],
   "source": [
    "gdp$V4[99]"
   ]
  },
  {
   "cell_type": "code",
   "execution_count": 37,
   "metadata": {},
   "outputs": [
    {
     "data": {
      "text/html": [
       "S\\xe3o Tom\\xe9 and Principe"
      ],
      "text/latex": [
       "S\\textbackslash{}xe3o Tom\\textbackslash{}xe9 and Principe"
      ],
      "text/markdown": [
       "S\\xe3o Tom\\xe9 and Principe"
      ],
      "text/plain": [
       "[1] S\\xe3o Tom\\xe9 and Principe\n",
       "229 Levels:    East Asia & Pacific   Euro area ... Zimbabwe"
      ]
     },
     "metadata": {},
     "output_type": "display_data"
    }
   ],
   "source": [
    "gdp$V4[186]"
   ]
  },
  {
   "cell_type": "markdown",
   "metadata": {},
   "source": [
    "Accent marks! Typical."
   ]
  },
  {
   "cell_type": "markdown",
   "metadata": {},
   "source": [
    "## Question 4"
   ]
  },
  {
   "cell_type": "markdown",
   "metadata": {},
   "source": [
    "Load the Gross Domestic Product data for the 190 ranked countries in this data set:\n",
    "\n",
    "https://d396qusza40orc.cloudfront.net/getdata%2Fdata%2FGDP.csv\n",
    "\n",
    "Load the educational data from this data set:\n",
    "\n",
    "https://d396qusza40orc.cloudfront.net/getdata%2Fdata%2FEDSTATS_Country.csv\n",
    "\n",
    "Match the data based on the country shortcode. Of the countries for which the end of the fiscal year is available, how many end in June?\n",
    "\n",
    "Original data sources:\n",
    "\n",
    "http://data.worldbank.org/data-catalog/GDP-ranking-table\n",
    "\n",
    "http://data.worldbank.org/data-catalog/ed-stats"
   ]
  },
  {
   "cell_type": "code",
   "execution_count": 39,
   "metadata": {},
   "outputs": [],
   "source": [
    "if (!file.exists(\"data/GDP.csv\")) {\n",
    "    download.file(\"https://d396qusza40orc.cloudfront.net/getdata%2Fdata%2FGDP.csv\", \"data/GDP.csv\")\n",
    "}"
   ]
  },
  {
   "cell_type": "code",
   "execution_count": 41,
   "metadata": {},
   "outputs": [],
   "source": [
    "gdp <- read.csv(\"data/GDP.csv\", skip=5, header = FALSE)\n",
    "gdp <- gdp[1:190,]"
   ]
  },
  {
   "cell_type": "code",
   "execution_count": 44,
   "metadata": {},
   "outputs": [],
   "source": [
    "if (!file.exists(\"data/FEDSTATS.csv\")) {\n",
    "    download.file(\"https://d396qusza40orc.cloudfront.net/getdata%2Fdata%2FEDSTATS_Country.csv\", \"data/FEDSTATS.csv\")\n",
    "}"
   ]
  },
  {
   "cell_type": "code",
   "execution_count": 52,
   "metadata": {},
   "outputs": [
    {
     "name": "stdout",
     "output_type": "stream",
     "text": [
      "'data.frame':\t234 obs. of  31 variables:\n",
      " $ CountryCode                                      : Factor w/ 234 levels \"ABW\",\"ADO\",\"AFG\",..: 1 2 3 4 5 6 7 8 9 10 ...\n",
      " $ Long.Name                                        : Factor w/ 234 levels \"American Samoa\",..: 5 104 57 99 109 226 4 110 1 2 ...\n",
      " $ Income.Group                                     : Factor w/ 6 levels \"\",\"High income: nonOECD\",..: 2 2 4 5 6 2 6 5 6 6 ...\n",
      " $ Region                                           : Factor w/ 8 levels \"\",\"East Asia & Pacific\",..: 4 3 7 8 3 5 4 3 2 4 ...\n",
      " $ Lending.category                                 : Factor w/ 4 levels \"\",\"Blend\",\"IBRD\",..: 1 1 4 4 3 1 3 2 1 3 ...\n",
      " $ Other.groups                                     : Factor w/ 3 levels \"\",\"Euro area\",..: 1 1 3 1 1 1 1 1 1 1 ...\n",
      " $ Currency.Unit                                    : Factor w/ 155 levels \"\",\"Afghan afghani\",..: 8 49 2 5 3 144 6 7 145 44 ...\n",
      " $ Latest.population.census                         : Factor w/ 28 levels \"\",\"1970\",\"1979\",..: 17 28 3 2 18 22 18 18 17 18 ...\n",
      " $ Latest.household.survey                          : Factor w/ 56 levels \"\",\"CPS (monthly)\",..: 1 1 39 38 40 1 1 16 1 1 ...\n",
      " $ Special.Notes                                    : Factor w/ 70 levels \"\",\"A simple multiplier is used to convert the national currencies of EMU members to euros. The following irrevocable euro conversi\"| __truncated__,..: 1 1 27 1 1 1 1 1 1 63 ...\n",
      " $ National.accounts.base.year                      : Factor w/ 44 levels \"\",\"1954\",\"1973\",..: 25 1 38 28 1 25 22 1 1 18 ...\n",
      " $ National.accounts.reference.year                 : int  NA NA NA NA 1996 NA NA 1996 NA NA ...\n",
      " $ System.of.National.Accounts                      : int  NA NA NA NA 1993 NA 1993 1993 NA NA ...\n",
      " $ SNA.price.valuation                              : Factor w/ 3 levels \"\",\"VAB\",\"VAP\": 1 1 2 3 2 2 2 2 1 2 ...\n",
      " $ Alternative.conversion.factor                    : Factor w/ 33 levels \"\",\"1960-85\",\"1965-84\",..: 1 1 1 24 1 1 6 21 1 1 ...\n",
      " $ PPP.survey.year                                  : int  NA NA NA 2005 2005 NA 2005 2005 NA NA ...\n",
      " $ Balance.of.Payments.Manual.in.use                : Factor w/ 3 levels \"\",\"BPM4\",\"BPM5\": 1 1 1 3 3 2 3 3 1 3 ...\n",
      " $ External.debt.Reporting.status                   : Factor w/ 4 levels \"\",\"Actual\",\"Estimate\",..: 1 1 2 2 2 1 2 2 1 1 ...\n",
      " $ System.of.trade                                  : Factor w/ 3 levels \"\",\"General\",\"Special\": 3 2 2 3 2 2 3 3 1 2 ...\n",
      " $ Government.Accounting.concept                    : Factor w/ 3 levels \"\",\"Budgetary\",..: 1 1 3 1 3 3 3 3 1 1 ...\n",
      " $ IMF.data.dissemination.standard                  : Factor w/ 3 levels \"\",\"GDDS\",\"SDDS\": 1 1 2 2 2 2 3 3 1 2 ...\n",
      " $ Source.of.most.recent.Income.and.expenditure.data: Factor w/ 77 levels \"\",\"1-2-3, 2005-06\",..: 1 1 1 35 66 1 45 46 1 1 ...\n",
      " $ Vital.registration.complete                      : Factor w/ 2 levels \"\",\"Yes\": 1 2 1 1 2 1 2 2 2 2 ...\n",
      " $ Latest.agricultural.census                       : Factor w/ 45 levels \"\",\"1960\",\"1964-65\",..: 1 1 1 3 32 32 41 1 1 1 ...\n",
      " $ Latest.industrial.data                           : int  NA NA NA NA 2005 NA 2001 NA NA NA ...\n",
      " $ Latest.trade.data                                : int  2008 2006 2008 1991 2008 2008 2008 2008 NA 2007 ...\n",
      " $ Latest.water.withdrawal.data                     : int  NA NA 2000 2000 2000 2005 2000 2000 NA 1990 ...\n",
      " $ X2.alpha.code                                    : Factor w/ 208 levels \"\",\"AD\",\"AE\",\"AF\",..: 13 2 4 8 6 3 9 7 10 5 ...\n",
      " $ WB.2.code                                        : Factor w/ 209 levels \"\",\"AD\",\"AE\",\"AF\",..: 13 2 4 8 6 3 9 7 10 5 ...\n",
      " $ Table.Name                                       : Factor w/ 234 levels \"Afghanistan\",..: 10 5 1 6 2 220 8 9 4 7 ...\n",
      " $ Short.Name                                       : Factor w/ 234 levels \"Afghanistan\",..: 10 5 1 6 2 220 8 9 4 7 ...\n"
     ]
    }
   ],
   "source": [
    "fedstats <- read.csv(\"data/FEDSTATS.csv\")\n",
    "str(fedstats)"
   ]
  },
  {
   "cell_type": "code",
   "execution_count": 47,
   "metadata": {},
   "outputs": [],
   "source": [
    "merged <- merge(gdp, fedstats, by.x = \"V1\", by.y = \"CountryCode\")"
   ]
  },
  {
   "cell_type": "code",
   "execution_count": 49,
   "metadata": {},
   "outputs": [
    {
     "name": "stdout",
     "output_type": "stream",
     "text": [
      "'data.frame':\t189 obs. of  40 variables:\n",
      " $ V1                                               : Factor w/ 229 levels \"\",\"ABW\",\"ADO\",..: 2 4 5 6 7 8 9 11 12 13 ...\n",
      " $ V2                                               : Factor w/ 194 levels \"\",\".. Not available.  \",..: 72 10 149 32 118 111 41 84 26 112 ...\n",
      " $ V3                                               : logi  NA NA NA NA NA NA ...\n",
      " $ V4                                               : Factor w/ 229 levels \"\",\"  East Asia & Pacific\",..: 20 11 16 12 216 18 19 17 21 22 ...\n",
      " $ V5                                               : Factor w/ 205 levels \"\",\" 1,008 \",\" 1,129 \",..: 65 68 24 26 109 134 186 5 11 118 ...\n",
      " $ V6                                               : Factor w/ 7 levels \"\",\"a\",\"b\",\"c\",..: 1 1 1 1 1 1 1 1 1 1 ...\n",
      " $ V7                                               : logi  NA NA NA NA NA NA ...\n",
      " $ V8                                               : logi  NA NA NA NA NA NA ...\n",
      " $ V9                                               : logi  NA NA NA NA NA NA ...\n",
      " $ V10                                              : logi  NA NA NA NA NA NA ...\n",
      " $ Long.Name                                        : Factor w/ 234 levels \"American Samoa\",..: 5 57 99 109 226 4 110 2 15 111 ...\n",
      " $ Income.Group                                     : Factor w/ 6 levels \"\",\"High income: nonOECD\",..: 2 4 5 6 2 6 5 6 3 3 ...\n",
      " $ Region                                           : Factor w/ 8 levels \"\",\"East Asia & Pacific\",..: 4 7 8 3 5 4 3 4 2 3 ...\n",
      " $ Lending.category                                 : Factor w/ 4 levels \"\",\"Blend\",\"IBRD\",..: 1 4 4 3 1 3 2 3 1 1 ...\n",
      " $ Other.groups                                     : Factor w/ 3 levels \"\",\"Euro area\",..: 1 3 1 1 1 1 1 1 1 2 ...\n",
      " $ Currency.Unit                                    : Factor w/ 155 levels \"\",\"Afghan afghani\",..: 8 2 5 3 144 6 7 44 9 49 ...\n",
      " $ Latest.population.census                         : Factor w/ 28 levels \"\",\"1970\",\"1979\",..: 17 3 2 18 22 18 18 18 23 18 ...\n",
      " $ Latest.household.survey                          : Factor w/ 56 levels \"\",\"CPS (monthly)\",..: 1 39 38 40 1 1 16 1 1 1 ...\n",
      " $ Special.Notes                                    : Factor w/ 70 levels \"\",\"A simple multiplier is used to convert the national currencies of EMU members to euros. The following irrevocable euro conversi\"| __truncated__,..: 1 27 1 1 1 1 1 63 26 7 ...\n",
      " $ National.accounts.base.year                      : Factor w/ 44 levels \"\",\"1954\",\"1973\",..: 25 38 28 1 25 22 1 18 1 33 ...\n",
      " $ National.accounts.reference.year                 : int  NA NA NA 1996 NA NA 1996 NA 2007 NA ...\n",
      " $ System.of.National.Accounts                      : int  NA NA NA 1993 NA 1993 1993 NA 1993 1993 ...\n",
      " $ SNA.price.valuation                              : Factor w/ 3 levels \"\",\"VAB\",\"VAP\": 1 2 3 2 2 2 2 2 2 2 ...\n",
      " $ Alternative.conversion.factor                    : Factor w/ 33 levels \"\",\"1960-85\",\"1965-84\",..: 1 1 24 1 1 6 21 1 1 1 ...\n",
      " $ PPP.survey.year                                  : int  NA NA 2005 2005 NA 2005 2005 NA 2005 2005 ...\n",
      " $ Balance.of.Payments.Manual.in.use                : Factor w/ 3 levels \"\",\"BPM4\",\"BPM5\": 1 1 3 3 2 3 3 3 3 3 ...\n",
      " $ External.debt.Reporting.status                   : Factor w/ 4 levels \"\",\"Actual\",\"Estimate\",..: 1 2 2 2 1 2 2 1 1 1 ...\n",
      " $ System.of.trade                                  : Factor w/ 3 levels \"\",\"General\",\"Special\": 3 2 3 2 2 3 3 2 2 3 ...\n",
      " $ Government.Accounting.concept                    : Factor w/ 3 levels \"\",\"Budgetary\",..: 1 3 1 3 3 3 3 1 3 3 ...\n",
      " $ IMF.data.dissemination.standard                  : Factor w/ 3 levels \"\",\"GDDS\",\"SDDS\": 1 2 2 2 2 3 3 2 3 3 ...\n",
      " $ Source.of.most.recent.Income.and.expenditure.data: Factor w/ 77 levels \"\",\"1-2-3, 2005-06\",..: 1 1 35 66 1 45 46 1 13 48 ...\n",
      " $ Vital.registration.complete                      : Factor w/ 2 levels \"\",\"Yes\": 1 1 1 2 1 2 2 2 2 2 ...\n",
      " $ Latest.agricultural.census                       : Factor w/ 45 levels \"\",\"1960\",\"1964-65\",..: 1 1 3 32 32 41 1 1 39 35 ...\n",
      " $ Latest.industrial.data                           : int  NA NA NA 2005 NA 2001 NA NA 2004 2004 ...\n",
      " $ Latest.trade.data                                : int  2008 2008 1991 2008 2008 2008 2008 2007 2008 2008 ...\n",
      " $ Latest.water.withdrawal.data                     : int  NA 2000 2000 2000 2005 2000 2000 1990 2000 2000 ...\n",
      " $ X2.alpha.code                                    : Factor w/ 208 levels \"\",\"AD\",\"AE\",\"AF\",..: 13 4 8 6 3 9 7 5 12 11 ...\n",
      " $ WB.2.code                                        : Factor w/ 209 levels \"\",\"AD\",\"AE\",\"AF\",..: 13 4 8 6 3 9 7 5 12 11 ...\n",
      " $ Table.Name                                       : Factor w/ 234 levels \"Afghanistan\",..: 10 1 6 2 220 8 9 7 11 12 ...\n",
      " $ Short.Name                                       : Factor w/ 234 levels \"Afghanistan\",..: 10 1 6 2 220 8 9 7 11 12 ...\n"
     ]
    }
   ],
   "source": [
    "str(merged)"
   ]
  },
  {
   "cell_type": "code",
   "execution_count": 50,
   "metadata": {},
   "outputs": [
    {
     "data": {
      "text/html": [
       "<ol class=list-inline>\n",
       "\t<li>'V1'</li>\n",
       "\t<li>'V2'</li>\n",
       "\t<li>'V3'</li>\n",
       "\t<li>'V4'</li>\n",
       "\t<li>'V5'</li>\n",
       "\t<li>'V6'</li>\n",
       "\t<li>'V7'</li>\n",
       "\t<li>'V8'</li>\n",
       "\t<li>'V9'</li>\n",
       "\t<li>'V10'</li>\n",
       "\t<li>'Long.Name'</li>\n",
       "\t<li>'Income.Group'</li>\n",
       "\t<li>'Region'</li>\n",
       "\t<li>'Lending.category'</li>\n",
       "\t<li>'Other.groups'</li>\n",
       "\t<li>'Currency.Unit'</li>\n",
       "\t<li>'Latest.population.census'</li>\n",
       "\t<li>'Latest.household.survey'</li>\n",
       "\t<li>'Special.Notes'</li>\n",
       "\t<li>'National.accounts.base.year'</li>\n",
       "\t<li>'National.accounts.reference.year'</li>\n",
       "\t<li>'System.of.National.Accounts'</li>\n",
       "\t<li>'SNA.price.valuation'</li>\n",
       "\t<li>'Alternative.conversion.factor'</li>\n",
       "\t<li>'PPP.survey.year'</li>\n",
       "\t<li>'Balance.of.Payments.Manual.in.use'</li>\n",
       "\t<li>'External.debt.Reporting.status'</li>\n",
       "\t<li>'System.of.trade'</li>\n",
       "\t<li>'Government.Accounting.concept'</li>\n",
       "\t<li>'IMF.data.dissemination.standard'</li>\n",
       "\t<li>'Source.of.most.recent.Income.and.expenditure.data'</li>\n",
       "\t<li>'Vital.registration.complete'</li>\n",
       "\t<li>'Latest.agricultural.census'</li>\n",
       "\t<li>'Latest.industrial.data'</li>\n",
       "\t<li>'Latest.trade.data'</li>\n",
       "\t<li>'Latest.water.withdrawal.data'</li>\n",
       "\t<li>'X2.alpha.code'</li>\n",
       "\t<li>'WB.2.code'</li>\n",
       "\t<li>'Table.Name'</li>\n",
       "\t<li>'Short.Name'</li>\n",
       "</ol>\n"
      ],
      "text/latex": [
       "\\begin{enumerate*}\n",
       "\\item 'V1'\n",
       "\\item 'V2'\n",
       "\\item 'V3'\n",
       "\\item 'V4'\n",
       "\\item 'V5'\n",
       "\\item 'V6'\n",
       "\\item 'V7'\n",
       "\\item 'V8'\n",
       "\\item 'V9'\n",
       "\\item 'V10'\n",
       "\\item 'Long.Name'\n",
       "\\item 'Income.Group'\n",
       "\\item 'Region'\n",
       "\\item 'Lending.category'\n",
       "\\item 'Other.groups'\n",
       "\\item 'Currency.Unit'\n",
       "\\item 'Latest.population.census'\n",
       "\\item 'Latest.household.survey'\n",
       "\\item 'Special.Notes'\n",
       "\\item 'National.accounts.base.year'\n",
       "\\item 'National.accounts.reference.year'\n",
       "\\item 'System.of.National.Accounts'\n",
       "\\item 'SNA.price.valuation'\n",
       "\\item 'Alternative.conversion.factor'\n",
       "\\item 'PPP.survey.year'\n",
       "\\item 'Balance.of.Payments.Manual.in.use'\n",
       "\\item 'External.debt.Reporting.status'\n",
       "\\item 'System.of.trade'\n",
       "\\item 'Government.Accounting.concept'\n",
       "\\item 'IMF.data.dissemination.standard'\n",
       "\\item 'Source.of.most.recent.Income.and.expenditure.data'\n",
       "\\item 'Vital.registration.complete'\n",
       "\\item 'Latest.agricultural.census'\n",
       "\\item 'Latest.industrial.data'\n",
       "\\item 'Latest.trade.data'\n",
       "\\item 'Latest.water.withdrawal.data'\n",
       "\\item 'X2.alpha.code'\n",
       "\\item 'WB.2.code'\n",
       "\\item 'Table.Name'\n",
       "\\item 'Short.Name'\n",
       "\\end{enumerate*}\n"
      ],
      "text/markdown": [
       "1. 'V1'\n",
       "2. 'V2'\n",
       "3. 'V3'\n",
       "4. 'V4'\n",
       "5. 'V5'\n",
       "6. 'V6'\n",
       "7. 'V7'\n",
       "8. 'V8'\n",
       "9. 'V9'\n",
       "10. 'V10'\n",
       "11. 'Long.Name'\n",
       "12. 'Income.Group'\n",
       "13. 'Region'\n",
       "14. 'Lending.category'\n",
       "15. 'Other.groups'\n",
       "16. 'Currency.Unit'\n",
       "17. 'Latest.population.census'\n",
       "18. 'Latest.household.survey'\n",
       "19. 'Special.Notes'\n",
       "20. 'National.accounts.base.year'\n",
       "21. 'National.accounts.reference.year'\n",
       "22. 'System.of.National.Accounts'\n",
       "23. 'SNA.price.valuation'\n",
       "24. 'Alternative.conversion.factor'\n",
       "25. 'PPP.survey.year'\n",
       "26. 'Balance.of.Payments.Manual.in.use'\n",
       "27. 'External.debt.Reporting.status'\n",
       "28. 'System.of.trade'\n",
       "29. 'Government.Accounting.concept'\n",
       "30. 'IMF.data.dissemination.standard'\n",
       "31. 'Source.of.most.recent.Income.and.expenditure.data'\n",
       "32. 'Vital.registration.complete'\n",
       "33. 'Latest.agricultural.census'\n",
       "34. 'Latest.industrial.data'\n",
       "35. 'Latest.trade.data'\n",
       "36. 'Latest.water.withdrawal.data'\n",
       "37. 'X2.alpha.code'\n",
       "38. 'WB.2.code'\n",
       "39. 'Table.Name'\n",
       "40. 'Short.Name'\n",
       "\n",
       "\n"
      ],
      "text/plain": [
       " [1] \"V1\"                                               \n",
       " [2] \"V2\"                                               \n",
       " [3] \"V3\"                                               \n",
       " [4] \"V4\"                                               \n",
       " [5] \"V5\"                                               \n",
       " [6] \"V6\"                                               \n",
       " [7] \"V7\"                                               \n",
       " [8] \"V8\"                                               \n",
       " [9] \"V9\"                                               \n",
       "[10] \"V10\"                                              \n",
       "[11] \"Long.Name\"                                        \n",
       "[12] \"Income.Group\"                                     \n",
       "[13] \"Region\"                                           \n",
       "[14] \"Lending.category\"                                 \n",
       "[15] \"Other.groups\"                                     \n",
       "[16] \"Currency.Unit\"                                    \n",
       "[17] \"Latest.population.census\"                         \n",
       "[18] \"Latest.household.survey\"                          \n",
       "[19] \"Special.Notes\"                                    \n",
       "[20] \"National.accounts.base.year\"                      \n",
       "[21] \"National.accounts.reference.year\"                 \n",
       "[22] \"System.of.National.Accounts\"                      \n",
       "[23] \"SNA.price.valuation\"                              \n",
       "[24] \"Alternative.conversion.factor\"                    \n",
       "[25] \"PPP.survey.year\"                                  \n",
       "[26] \"Balance.of.Payments.Manual.in.use\"                \n",
       "[27] \"External.debt.Reporting.status\"                   \n",
       "[28] \"System.of.trade\"                                  \n",
       "[29] \"Government.Accounting.concept\"                    \n",
       "[30] \"IMF.data.dissemination.standard\"                  \n",
       "[31] \"Source.of.most.recent.Income.and.expenditure.data\"\n",
       "[32] \"Vital.registration.complete\"                      \n",
       "[33] \"Latest.agricultural.census\"                       \n",
       "[34] \"Latest.industrial.data\"                           \n",
       "[35] \"Latest.trade.data\"                                \n",
       "[36] \"Latest.water.withdrawal.data\"                     \n",
       "[37] \"X2.alpha.code\"                                    \n",
       "[38] \"WB.2.code\"                                        \n",
       "[39] \"Table.Name\"                                       \n",
       "[40] \"Short.Name\"                                       "
      ]
     },
     "metadata": {},
     "output_type": "display_data"
    }
   ],
   "source": [
    "names(merged)"
   ]
  },
  {
   "cell_type": "code",
   "execution_count": 56,
   "metadata": {},
   "outputs": [
    {
     "data": {
      "text/plain": [
       "\n",
       "FALSE  TRUE \n",
       "  176    13 "
      ]
     },
     "metadata": {},
     "output_type": "display_data"
    }
   ],
   "source": [
    "table(grepl(\"^Fiscal year end: June\", merged$Special.Notes))"
   ]
  },
  {
   "cell_type": "markdown",
   "metadata": {},
   "source": [
    "You can use the quantmod (http://www.quantmod.com/) package to get historical stock prices for publicly traded companies on the NASDAQ and NYSE. Use the following code to download data on Amazon's stock price and get the times the data was sampled.\n",
    "\n",
    "```\n",
    "library(quantmod)\n",
    "amzn = getSymbols(\"AMZN\",auto.assign=FALSE)\n",
    "sampleTimes = index(amzn)\n",
    "```\n",
    "How many values were collected in 2012? How many values were collected on Mondays in 2012?"
   ]
  },
  {
   "cell_type": "code",
   "execution_count": 59,
   "metadata": {},
   "outputs": [
    {
     "name": "stderr",
     "output_type": "stream",
     "text": [
      "also installing the dependencies ‘xts’, ‘TTR’\n",
      "\n",
      "Updating HTML index of packages in '.Library'\n",
      "Making 'packages.html' ... done\n"
     ]
    }
   ],
   "source": [
    "install.packages(\"quantmod\")"
   ]
  },
  {
   "cell_type": "code",
   "execution_count": 69,
   "metadata": {},
   "outputs": [
    {
     "name": "stderr",
     "output_type": "stream",
     "text": [
      "\n",
      "Attaching package: ‘lubridate’\n",
      "\n",
      "The following object is masked from ‘package:base’:\n",
      "\n",
      "    date\n",
      "\n"
     ]
    }
   ],
   "source": [
    "library(lubridate)"
   ]
  },
  {
   "cell_type": "code",
   "execution_count": 60,
   "metadata": {},
   "outputs": [
    {
     "name": "stderr",
     "output_type": "stream",
     "text": [
      "Loading required package: xts\n",
      "Loading required package: zoo\n",
      "\n",
      "Attaching package: ‘zoo’\n",
      "\n",
      "The following objects are masked from ‘package:base’:\n",
      "\n",
      "    as.Date, as.Date.numeric\n",
      "\n",
      "Loading required package: TTR\n",
      "Version 0.4-0 included new data defaults. See ?getSymbols.\n"
     ]
    }
   ],
   "source": [
    "library(quantmod)"
   ]
  },
  {
   "cell_type": "code",
   "execution_count": 61,
   "metadata": {},
   "outputs": [
    {
     "name": "stderr",
     "output_type": "stream",
     "text": [
      "‘getSymbols’ currently uses auto.assign=TRUE by default, but will\n",
      "use auto.assign=FALSE in 0.5-0. You will still be able to use\n",
      "‘loadSymbols’ to automatically load data. getOption(\"getSymbols.env\")\n",
      "and getOption(\"getSymbols.auto.assign\") will still be checked for\n",
      "alternate defaults.\n",
      "\n",
      "This message is shown once per session and may be disabled by setting \n",
      "options(\"getSymbols.warning4.0\"=FALSE). See ?getSymbols for details.\n",
      "\n",
      "WARNING: There have been significant changes to Yahoo Finance data.\n",
      "Please see the Warning section of ‘?getSymbols.yahoo’ for details.\n",
      "\n",
      "This message is shown once per session and may be disabled by setting\n",
      "options(\"getSymbols.yahoo.warning\"=FALSE).\n"
     ]
    }
   ],
   "source": [
    "amzn <- getSymbols(\"AMZN\", auto.assign=FALSE)"
   ]
  },
  {
   "cell_type": "code",
   "execution_count": 62,
   "metadata": {},
   "outputs": [],
   "source": [
    "sampleTimes <- index(amzn)"
   ]
  },
  {
   "cell_type": "code",
   "execution_count": 63,
   "metadata": {},
   "outputs": [
    {
     "name": "stdout",
     "output_type": "stream",
     "text": [
      " Date[1:2828], format: \"2007-01-03\" \"2007-01-04\" \"2007-01-05\" \"2007-01-08\" ...\n"
     ]
    }
   ],
   "source": [
    "str(sampleTimes)"
   ]
  },
  {
   "cell_type": "code",
   "execution_count": 85,
   "metadata": {},
   "outputs": [
    {
     "name": "stdout",
     "output_type": "stream",
     "text": [
      " Date[1:2828], format: \"2007-01-03\" \"2007-01-04\" \"2007-01-05\" \"2007-01-08\" ...\n"
     ]
    }
   ],
   "source": [
    "str(sampleTimes)"
   ]
  },
  {
   "cell_type": "code",
   "execution_count": 86,
   "metadata": {},
   "outputs": [
    {
     "data": {
      "text/plain": [
       "\n",
       "FALSE  TRUE \n",
       " 2578   250 "
      ]
     },
     "metadata": {},
     "output_type": "display_data"
    }
   ],
   "source": [
    "table(format(sampleTimes, \"%Y\") == 2012)"
   ]
  },
  {
   "cell_type": "code",
   "execution_count": 87,
   "metadata": {},
   "outputs": [
    {
     "data": {
      "text/plain": [
       "\n",
       "FALSE  TRUE \n",
       " 2781    47 "
      ]
     },
     "metadata": {},
     "output_type": "display_data"
    }
   ],
   "source": [
    "table(format(sampleTimes, \"%a%Y\") == \"Mon2012\")"
   ]
  },
  {
   "cell_type": "code",
   "execution_count": null,
   "metadata": {},
   "outputs": [],
   "source": []
  }
 ],
 "metadata": {
  "kernelspec": {
   "display_name": "R",
   "language": "R",
   "name": "ir"
  },
  "language_info": {
   "codemirror_mode": "r",
   "file_extension": ".r",
   "mimetype": "text/x-r-source",
   "name": "R",
   "pygments_lexer": "r",
   "version": "3.3.2"
  }
 },
 "nbformat": 4,
 "nbformat_minor": 2
}
