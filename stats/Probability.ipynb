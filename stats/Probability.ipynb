{
 "cells": [
  {
   "cell_type": "markdown",
   "metadata": {},
   "source": [
    "# Statistical Inference\n",
    "\n",
    "*A quick note - you can find LaTeX symbols [here](https://oeis.org/wiki/List_of_LaTeX_mathematical_symbols#Set_and.2For_logic_notation).*\n",
    "\n",
    "## What is it?\n",
    "\n",
    "In brief, it's the process of generating conclusions about a population from a noisy sample. We'll collect *data* on a *population*, forming a *sample*.\n",
    "\n",
    "(Note there are a couple of key words here - *population*, and *sample*.)\n",
    "\n",
    "There are two broad schools - Bayesian, and frequentists.\n",
    "\n",
    "### I'm confused. Can you give me an example?\n",
    "\n",
    "Say we want to understand the mean height of all the male adults in Australia. Our *estimand* is therefore \"the mean height of all male adults in Australia\".\n",
    "\n",
    "We're probably not actually going to go and collect the height of this entire population (i.e. every male adult in Australia). Instead, we'll *estimate* the mean by taking a *sample* of, say, 100 male adults in Australia. We can then use this to develop an *estimator* - i.e. some kind of probabilistic model - that will allow us to *estimate* the *estimand*. \n",
    "\n",
    "In this process, we've taken a *sample* and linked it to a *population*.\n",
    "\n",
    "*[The above largely draws from this post.](https://www.quora.com/What-is-an-estimator-and-an-estimands-in-statistical-models-Why-this-is-important)*"
   ]
  },
  {
   "cell_type": "markdown",
   "metadata": {},
   "source": [
    "---"
   ]
  },
  {
   "cell_type": "markdown",
   "metadata": {},
   "source": [
    "## Probabilities"
   ]
  },
  {
   "cell_type": "markdown",
   "metadata": {},
   "source": [
    "### Some basic rules of probabilities"
   ]
  },
  {
   "cell_type": "markdown",
   "metadata": {},
   "source": [
    "* The probability that nothing occurs is 0.\n",
    "* The probability that something occurs is 1.\n",
    "* The probability of something is 1 minus the probability that the opposite occurs.\n",
    "* The probability of at least one of two (or more) mutually exclusive events is the sum of their respective probabilities.\n",
    "* If an event A implies the occurence of event B, then the probability of A occurring is less than the probability that B occurs.\n",
    "* For any two events the probability that at least one occurs is the sum of their probabilities minus their intersection, i.e. $$P(A\\cup B) = P(A) + P(B) - P(A\\cap B)$$"
   ]
  },
  {
   "cell_type": "markdown",
   "metadata": {},
   "source": [
    "### Conditional probabilities\n",
    "\n",
    "Conditional probabilty is \"the measure of the probability of an event [...] given that [...] another event has occurred.\"\n",
    "\n",
    "We can define this as $P(A|B) = \\dfrac{P(A\\cap B)}{P(B)}$. In other words, the probability of event $A$ occurring *given* that event $B$ has occurred is equal to the intersection of events $A$ and $B$ divided by the probability of event $B$ occurring. This sounds really complex, but it is actually incredibly intuitive if you draw this out.\n",
    "\n",
    "*[Obligatory Wikipedia link.](https://en.wikipedia.org/wiki/Conditional_probability)*"
   ]
  },
  {
   "cell_type": "markdown",
   "metadata": {},
   "source": [
    "### Bayes' theorem\n",
    "\n",
    "*Sometimes known as Bayes' law or Bayes' rule~~, or Bae's theorem if you really love Bayes~~*.\n",
    "\n",
    "Building on this, we can build it into Bayes' theorem. \n",
    "\n",
    "The most straightforward expression is: $P(A|B) = \\dfrac{P(B|A)P(A)}{P(B)}$. The key thing here is that we can known swap $P(A|B)$ and $P(B|A)$.\n",
    "\n",
    "*[Obligatory Wikipedia link.](https://en.wikipedia.org/wiki/Bayes%27_theorem)*"
   ]
  },
  {
   "cell_type": "markdown",
   "metadata": {},
   "source": [
    "### A classic example: diagnostic tests\n",
    "\n",
    "Let $+$ and $-$ be the events that the result of a diagnostic test is positive or negative.\n",
    "\n",
    "Let $D$ and $D^C$ be the event that the subject of the test does or does not have the disease being tested for.\n",
    "\n",
    "Therefore, $sensitivity = P(+|D)$ and $specificity = P(- | D^C)$. Both of these values should be high.\n",
    "\n",
    "Conversely, $\\text{positive predictive value} = P(D|+)$ and $\\text{negative predictive value} = P(D^C|-)$.\n",
    "\n",
    "#### Working back and forth\n",
    "\n",
    "So, if we have a situation where a test has a sensitivity of 99.7% and a specificity of 98.5%, this is on the surface a pretty good test.\n",
    "\n",
    "But consider there is a population with a 0.1% prevalence of said disease.\n",
    "\n",
    "What is the positive predictive value?\n",
    "\n",
    "We can test this by applying Bayes' Theorem - we are swapping the conditions. \n",
    "\n",
    "$P(D|+) = \\dfrac{P(+|D)P(D)}{P(+|D)P(D) + P(+|D^C)P(D^C)} = \\dfrac{0.997\\times 0.001}{0.997\\times 0.001 + 0.015\\times 0.999} $"
   ]
  },
  {
   "cell_type": "code",
   "execution_count": 2,
   "metadata": {},
   "outputs": [
    {
     "name": "stdout",
     "output_type": "stream",
     "text": [
      "0.06238268051558003\n"
     ]
    }
   ],
   "source": [
    "pos_predictive_value = (0.997*0.001)/(0.997*0.001 + 0.015*0.999)\n",
    "print(pos_predictive_value)"
   ]
  },
  {
   "cell_type": "markdown",
   "metadata": {},
   "source": [
    "Therefore a positive test result only provides a 6.2% probability that the person actually has the disease."
   ]
  },
  {
   "cell_type": "markdown",
   "metadata": {},
   "source": [
    "We can take this idea further and explore the concept of a $\\text{likelihood ratio}$. The LR is a ratio of the probability that a test result is correct *versus* the probability that that test result is incorrect. It can be calculated for positive and negative cases. In this instance, $LR+ = \\dfrac{sensitivity}{1-specificity}$, and $LR- = \\dfrac{1-sensitivity}{specificity}$. \n",
    "\n",
    "This is typically used to generate *post-test odds* by the following formula:\n",
    "\n",
    "$\\dfrac{P(D|+)}{P(D^C|+)} = \\dfrac{P(D)}{P(D^C)} \\times LR+$."
   ]
  },
  {
   "cell_type": "markdown",
   "metadata": {},
   "source": [
    "#### Another example - pregnancy tests\n",
    "\n",
    "A [web site](www.medicine.ox.ac.uk/bandolier/band64/b64-7.html) for home pregnancy tests cites the following: “When the subjects using the test were women who collected and tested their own samples, the overall sensitivity was 75%. Specificity was also low, in the range 52% to 75%.” Assume the lower value for the specificity. Suppose a subject has a positive test and that 30% of women taking pregnancy tests are actually pregnant. What number is closest to the probability of pregnancy given the positive test?\n",
    "\n"
   ]
  },
  {
   "cell_type": "code",
   "execution_count": 20,
   "metadata": {},
   "outputs": [],
   "source": [
    "specificity = 0.52\n",
    "sensitivity = 0.75\n",
    "p_pregnant = 0.3"
   ]
  },
  {
   "cell_type": "markdown",
   "metadata": {},
   "source": [
    "From above: $$P(D|+) = \\dfrac{P(+|D)P(D)}{P(+|D)P(D) + P(+|D^C)P(D^C)}$$"
   ]
  },
  {
   "cell_type": "code",
   "execution_count": 23,
   "metadata": {},
   "outputs": [],
   "source": [
    "p_pregnant_g_pos = (sensitivity*p_pregnant) / (sensitivity*p_pregnant + (1-specificity)*(1-p_pregnant))"
   ]
  },
  {
   "cell_type": "code",
   "execution_count": 24,
   "metadata": {},
   "outputs": [
    {
     "data": {
      "text/plain": [
       "0.40106951871657753"
      ]
     },
     "execution_count": 24,
     "metadata": {},
     "output_type": "execute_result"
    }
   ],
   "source": [
    "p_pregnant_g_pos"
   ]
  },
  {
   "cell_type": "markdown",
   "metadata": {},
   "source": [
    "---"
   ]
  },
  {
   "cell_type": "markdown",
   "metadata": {},
   "source": [
    "## Distributions\n",
    "\n",
    "*[Obligatory Wikipedia link.](https://en.wikipedia.org/wiki/Probability_distribution)*"
   ]
  },
  {
   "cell_type": "markdown",
   "metadata": {},
   "source": [
    "### Expected value\n",
    "\n",
    "For a given distribution, the 'expected value' can be intuitively described as the long-run average value of repetitions of the experiment it represents. This is more commonly referred as the *mean* or *first moment* but may also be referred to as *expectation* or *mathematical expectation*.\n",
    "\n",
    "#### Discrete values\n",
    "\n",
    "For a discrete value, it's just the combination of the values and their probabilities, i.e. $$E[X] = \\sum_{x} xp(x)$$\n",
    "\n",
    "#### Continuous values\n",
    "\n",
    "For a continuous value, it's similiar - an integration along the **cumulative distribution function**, i.e. $$E[X] = \\int xF(x)dx$$.\n",
    "\n",
    "#### Expected values in the context of inference\n",
    "\n",
    "Consider the following:\n",
    "* The population mean is the center of mass of a population.\n",
    "* The sample mean is the center of mass of the observed data - i.e. of the samples we took.\n",
    "* The sample mean is an estimate of the population mean. (We'll use our sample to *infer* something about the population.)\n",
    "* The sample mean is unbiased.\n",
    "* The more data that goes into the sample mean, the concentrated its density/mass function is around the population mean.\n",
    "\n",
    "*[Obligatory Wikipedia link.](https://en.wikipedia.org/wiki/Expected_value)*"
   ]
  },
  {
   "cell_type": "markdown",
   "metadata": {},
   "source": [
    "---"
   ]
  },
  {
   "cell_type": "markdown",
   "metadata": {},
   "source": [
    "# Variance\n",
    "*[Obligatory Wikipedia link.](https://en.wikipedia.org/wiki/variance)*\n",
    "\n",
    "Variance is essentially a measure of the \"spread\" of a random variable.\n",
    "\n",
    "For a population: $Var(X) = E[(X-\\mu)^2]=E[X^2]-E[X]^2$\n",
    "\n",
    "For a sample variance: $S^2 = \\dfrac{\\Sigma_{i-1}(X_i-\\bar{X})^2}{n-1}$\n",
    "\n",
    "The *variance* is expressed in *units squared*, while the standard deviation is the square root of the variance, and is reported in *units*.\n",
    "\n",
    "Hence, $Var(X) = \\sigma^2$\n",
    "\n",
    "### An application of the formula\n",
    "\n",
    "Consider the rolls of a dice - equal probabilities for values of 1-6.\n",
    "\n",
    "$E[X] = \\frac{1}{6} + \\frac{2}{6} + \\frac{3}{6} + \\frac{4}{6} + \\frac{5}{6} + \\frac{6}{6} = 3.5$\n",
    "\n",
    "$E[X^2] = \\frac{1^2}{6} + \\frac{2^2}{6} + \\frac{3^2}{6} + \\frac{4^2}{6} + \\frac{5^2}{6} + \\frac{6^2}{6} \\approx 2.92$\n",
    "\n",
    "And just to prove this in Python:"
   ]
  },
  {
   "cell_type": "code",
   "execution_count": 6,
   "metadata": {},
   "outputs": [],
   "source": [
    "from scipy.stats import rv_discrete\n",
    "import numpy as np"
   ]
  },
  {
   "cell_type": "code",
   "execution_count": 13,
   "metadata": {},
   "outputs": [
    {
     "data": {
      "text/plain": [
       "array([1, 2, 3, 4, 5, 6])"
      ]
     },
     "execution_count": 13,
     "metadata": {},
     "output_type": "execute_result"
    }
   ],
   "source": [
    "np.array(range(1, 7))"
   ]
  },
  {
   "cell_type": "code",
   "execution_count": 16,
   "metadata": {},
   "outputs": [],
   "source": [
    "dice_rolls = rv_discrete(\n",
    "    values=(np.array(range(1, 7)), np.ones((6,))/6)\n",
    ")"
   ]
  },
  {
   "cell_type": "code",
   "execution_count": 20,
   "metadata": {},
   "outputs": [
    {
     "name": "stdout",
     "output_type": "stream",
     "text": [
      "Expected value: 3.5\n",
      "Variance: 2.916666666666666\n"
     ]
    }
   ],
   "source": [
    "print(\"Expected value: {}\".format(dice_rolls.mean()))\n",
    "print(\"Variance: {}\".format(dice_rolls.var()))\n"
   ]
  },
  {
   "cell_type": "markdown",
   "metadata": {},
   "source": [
    "---"
   ]
  },
  {
   "cell_type": "markdown",
   "metadata": {},
   "source": [
    "# Standard error\n",
    "*[Obligatory Wikipedia link.](https://en.wikipedia.org/wiki/Standard_error)*"
   ]
  },
  {
   "cell_type": "markdown",
   "metadata": {},
   "source": [
    "The **standard error** of a **statistic** is the standard deviation of its sampling distribution, or an estimate of that standard deviation.\n",
    "\n",
    "## An example\n",
    "\n",
    "Consider that we have a population with some mean $\\mu$ and some variance $\\sigma^2$.\n",
    "\n",
    "If we take a sample, it will have a sample variance $S^2$ (which estimates the population variance $\\sigma^2$) and a sample mean $\\bar{x}$ (which estimates the population mean $\\mu$).\n",
    "\n",
    "Now, $S^2$ is itself a distribution, and it is centred around $\\sigma^2$. The more observations are entered into the $S^2$ value, the more concentrated the distribution gets. \n",
    "\n",
    "The variance of the sample mean is $\\frac{\\sigma^2}{n}$. But we can logically estimate this as $\\frac{S^2}{n}$, and consequently, we can estimate the standard error as $\\frac{S}{\\sqrt{n}}$.\n",
    "\n",
    "### In other words\n",
    "\n",
    "When we have more samples, the standard error gets smaller, and our sample mean is a better representation of the population mean.\n",
    "\n",
    "This can be used for calculating confidence intervals, for example.\n",
    "\n",
    "## Another example\n",
    "\n",
    "> Brain volume for adult women is about 1,100 cc for women with a standard deviation of 75 cc. Consider the sample mean of 100 random adult women from this population. What is the 95th percentile of the distribution of that sample mean?\n",
    "\n",
    "In this example, we take the mean of the sample distribution is the same as the population. The standard deviation can be calculated from the formula above. Hence,"
   ]
  },
  {
   "cell_type": "code",
   "execution_count": 17,
   "metadata": {},
   "outputs": [],
   "source": [
    "from scipy.stats import norm"
   ]
  },
  {
   "cell_type": "code",
   "execution_count": 15,
   "metadata": {},
   "outputs": [],
   "source": [
    "S = 75 / (100 ** 0.5)"
   ]
  },
  {
   "cell_type": "code",
   "execution_count": 18,
   "metadata": {},
   "outputs": [
    {
     "data": {
      "text/plain": [
       "1112.336402202136"
      ]
     },
     "execution_count": 18,
     "metadata": {},
     "output_type": "execute_result"
    }
   ],
   "source": [
    "norm.ppf(0.95, loc=1100, scale=S)"
   ]
  },
  {
   "cell_type": "markdown",
   "metadata": {},
   "source": [
    "---\n",
    "# Populations vs Sampling\n",
    "\n",
    "A key distinction to make is that of *populations* versus *sampling*.\n",
    "\n",
    "\n",
    "\n",
    "## Useful links\n",
    "\n",
    "* [An clear explanation.](https://stattrek.com/sampling/populations-and-samples.aspx)"
   ]
  },
  {
   "cell_type": "markdown",
   "metadata": {},
   "source": [
    "---"
   ]
  },
  {
   "cell_type": "markdown",
   "metadata": {},
   "source": [
    "## Continuous Distributions\n",
    "\n",
    "Continous values can take any outcome in a continuum. \n",
    "\n",
    "A useful introduction to these concepts can be found [here](https://docs.scipy.org/doc/scipy/reference/tutorial/stats/continuous.html)."
   ]
  },
  {
   "cell_type": "markdown",
   "metadata": {},
   "source": [
    "#### Probability density function\n",
    "\n",
    "A PDF is a function associated with a continuous random variable.\n",
    "\n",
    "To be a valid PDF, a function $p$, must:\n",
    "* Always be $\\geq 0$;\n",
    "* Have the total area under the function $= 1$.\n",
    "\n",
    "Hence, areas under PDFs correspond to probabilities for that random variable.\n",
    "\n",
    "Examples of probability densities functions include:\n",
    "* The [Normal distribution](https://en.wikipedia.org/wiki/Normal_distribution).\n",
    "\n",
    "\n",
    "#### Useful references\n",
    "\n",
    "<a href=\"https://en.wikipedia.org/wiki/Uniform_distribution_(continuous)\">Wikipedia link.</a>\n",
    "\n",
    "[SciPy implementation.](https://docs.scipy.org/doc/scipy/reference/tutorial/stats/continuous_uniform.html)"
   ]
  },
  {
   "cell_type": "markdown",
   "metadata": {},
   "source": [
    "\n",
    "#### Survival function\n",
    "\n",
    "The survival function is essential $1 - \\text{CDF}$, where $CDF$ is the $\\text{cumulative distribution function}$."
   ]
  },
  {
   "cell_type": "markdown",
   "metadata": {},
   "source": [
    "#### Example of use\n",
    "\n",
    "A random variable, X, is uniform, a box from 0 to 1 of height 1. (So that its density is $f(x)=1$ for $0≤x≤1$.) What is its median expressed to two decimal places? "
   ]
  },
  {
   "cell_type": "code",
   "execution_count": 1,
   "metadata": {},
   "outputs": [],
   "source": [
    "from scipy.stats import uniform"
   ]
  },
  {
   "cell_type": "code",
   "execution_count": 2,
   "metadata": {},
   "outputs": [
    {
     "data": {
      "text/plain": [
       "0.5"
      ]
     },
     "execution_count": 2,
     "metadata": {},
     "output_type": "execute_result"
    }
   ],
   "source": [
    "uniform.median(loc=0, scale=1)"
   ]
  },
  {
   "cell_type": "markdown",
   "metadata": {},
   "source": [
    "## Normal distribution\n",
    "\n",
    "*[Obligatory Wikipedia link.](https://en.wikipedia.org/wiki/Binomial_distribution)*\n",
    "\n",
    "Old faithful.\n",
    "\n",
    "For a normal distribution, $E[X] = \\mu$ and $Var(X) = \\sigma^2$. We map this as $X~N(\\mu, \\sigma^2)$.\n",
    "\n",
    "The *standard normal distribution* is when $\\mu = 0$ and when $\\sigma = \\sigma^2 = 1$.\n",
    "\n",
    "### An example\n",
    "\n",
    "> Suppose that diastolic blood pressures (DBPs) for men aged 35-44 are normally distributed with a mean of 80 (mm Hg) and a standard deviation of 10. About what is the probability that a random 35-44 year old has a DBP less than 70?\n",
    "\n"
   ]
  },
  {
   "cell_type": "code",
   "execution_count": 9,
   "metadata": {},
   "outputs": [],
   "source": [
    "from scipy.stats import norm"
   ]
  },
  {
   "cell_type": "code",
   "execution_count": 12,
   "metadata": {},
   "outputs": [
    {
     "data": {
      "text/plain": [
       "0.15865525393145707"
      ]
     },
     "execution_count": 12,
     "metadata": {},
     "output_type": "execute_result"
    }
   ],
   "source": [
    "norm.cdf(70, loc=80, scale=10)"
   ]
  },
  {
   "cell_type": "markdown",
   "metadata": {},
   "source": [
    "### Another example\n",
    "\n",
    "> Brain volume for adult women is normally distributed with a mean of about 1,100 cc for women with a standard deviation of 75 cc. What brain volume represents the 95th percentile?\n",
    "\n"
   ]
  },
  {
   "cell_type": "code",
   "execution_count": 13,
   "metadata": {},
   "outputs": [
    {
     "data": {
      "text/plain": [
       "1223.3640220213604"
      ]
     },
     "execution_count": 13,
     "metadata": {},
     "output_type": "execute_result"
    }
   ],
   "source": [
    "norm.ppf(.95, loc=1100, scale=75)"
   ]
  },
  {
   "cell_type": "markdown",
   "metadata": {},
   "source": [
    "---"
   ]
  },
  {
   "cell_type": "markdown",
   "metadata": {},
   "source": [
    "## Discrete Distributions\n",
    "\n",
    "You could broadly describe discrete outcomes as things you can \"count\" - they have finite values."
   ]
  },
  {
   "cell_type": "markdown",
   "metadata": {},
   "source": [
    "### An interesting example: rolling dice in Settlers of Catan"
   ]
  },
  {
   "cell_type": "markdown",
   "metadata": {},
   "source": [
    "The rolling of dice in Settlers of Catan is an interesting use case of probability mass functions for a few reasons:\n",
    "* The underlying mechanics are very simple (two dice are rolled per turn)\n",
    "* There is a great deal to be learnt about expected distributions\n",
    "* There are cases of the dice rolls being skewed - and it is of course interesting to tell how people suss this out.\n",
    "\n",
    "#### Basic mechanics\n",
    "\n",
    "A [gentle introduction to the mechanics in Settlers of Catan](http://dicehateme.com/2011/09/these-dice-are-driving-me-crazy-a-guest-blog/) is available. Moreso, this introduction covers one of the initial challenges of sussing out whether your dice are broken or rigged: sample sizes!\n",
    "\n",
    "#### Rigged dice in the app\n",
    "\n",
    "It is strongly suspected that the dice rolls in the Android/iPhone app (Classic Catan) is rigged. Fortunately, this app also tracks your dice rolls!\n",
    "\n",
    "A Reddit thread exploring this issue is available [online](https://www.reddit.com/r/Catan/comments/7pmk8u/die_roll_distribution_test/). Within this thread are two pieces of damning evidence - one, a [die roll distribution](https://imgur.com/nhqwyn4) for over 10,000 rolls, and a [summary of 637 games](https://imgur.com/bZmheT6). In these instances, it appears that the app deliberately under-rolls 7s."
   ]
  },
  {
   "cell_type": "markdown",
   "metadata": {},
   "source": [
    "#### Probability mass function\n",
    "\n",
    "A probability mass function at a value corresponds to a probability that a random variable takes that value.\n",
    "\n",
    "To be a valid pmf, a function, $p$, must:\n",
    "* Always be $\\geq 0$;\n",
    "* Have the sum of possible variables that the function can take sum to one.\n",
    "\n",
    "Examples of probability mass functions include:\n",
    "* The [Poisson distribution](https://en.wikipedia.org/wiki/Poisson_distribution);\n",
    "* The [Bernoulli distribution](https://en.wikipedia.org/wiki/Bernoulli_distribution) (used for binary outcomes - the most common example being coin flips).\n",
    "\n",
    "[Wikipedia link](https://en.wikipedia.org/wiki/Probability_mass_function).\n",
    "\n",
    "[SciPy implementation](https://docs.scipy.org/doc/scipy/reference/generated/scipy.stats.rv_discrete.pmf.html)"
   ]
  },
  {
   "cell_type": "markdown",
   "metadata": {},
   "source": [
    "#### Example of use\n",
    "A random variable takes the value -4 with probability .2 and 1 with probability .8. What is the variance of this random variable?"
   ]
  },
  {
   "cell_type": "code",
   "execution_count": 4,
   "metadata": {},
   "outputs": [],
   "source": [
    "import numpy as np\n",
    "from scipy.stats import rv_discrete"
   ]
  },
  {
   "cell_type": "code",
   "execution_count": 4,
   "metadata": {},
   "outputs": [],
   "source": [
    "example_pmf = rv_discrete(values=((-4, 1), (0.2, 0.8)))"
   ]
  },
  {
   "cell_type": "code",
   "execution_count": 5,
   "metadata": {},
   "outputs": [
    {
     "data": {
      "text/plain": [
       "0.0"
      ]
     },
     "execution_count": 5,
     "metadata": {},
     "output_type": "execute_result"
    }
   ],
   "source": [
    "example_pmf.mean()"
   ]
  },
  {
   "cell_type": "code",
   "execution_count": 6,
   "metadata": {},
   "outputs": [
    {
     "data": {
      "text/plain": [
       "4.0"
      ]
     },
     "execution_count": 6,
     "metadata": {},
     "output_type": "execute_result"
    }
   ],
   "source": [
    "example_pmf.var()"
   ]
  },
  {
   "cell_type": "markdown",
   "metadata": {},
   "source": [
    "#### Another example\n",
    "Consider the following PMF:"
   ]
  },
  {
   "cell_type": "code",
   "execution_count": 18,
   "metadata": {},
   "outputs": [],
   "source": [
    "values = np.array(range(1,5))\n",
    "example_pmf_2 = rv_discrete(values=(values, values/values.sum()))"
   ]
  },
  {
   "cell_type": "code",
   "execution_count": 19,
   "metadata": {},
   "outputs": [
    {
     "data": {
      "text/plain": [
       "3.0"
      ]
     },
     "execution_count": 19,
     "metadata": {},
     "output_type": "execute_result"
    }
   ],
   "source": [
    "example_pmf_2.mean()"
   ]
  },
  {
   "cell_type": "markdown",
   "metadata": {},
   "source": [
    "## Bernoulli distribution\n",
    "\n",
    "*[Obligatory Wikipedia link](https://en.wikipedia.org/wiki/Bernoulli_distribution)*.\n",
    "\n",
    "The Bernoulli distribution maps a binary outcome, where outcome 1 occurs with probability $p$ and outcome $0$ occurs with probability $(1-p)$.\n",
    "\n",
    "Hence,\n",
    "$P(X = x) = p^x(1-p)^{1-x}$. We typically call $x=1$ a 'success' and $x=0$ a 'failure', regardless of the context.\n",
    "\n",
    "## Binomial distribution\n",
    "*[Obligatory Wikipedia link](https://en.wikipedia.org/wiki/Binomial_distribution)*.\n",
    "\n",
    "*[Discussion on the differences with the Bernoulli distribution.](https://math.stackexchange.com/questions/838107/what-is-the-difference-and-relationship-between-the-binomial-and-bernoulli-distr/838122)*\n",
    "\n",
    "Now, consider a series of Bernoulli trials.\n",
    "\n",
    "Let $X_1,...,X_n$ be iid $Bernoulli(p);$ then $X=\\Sigma^{n}_{i=1}X_i$ is a binomial random variable. \n",
    "\n",
    "Hence,\n",
    "$P(X=x) = {n \\choose x}p^x(1-p)^{n-x}$.\n",
    "\n",
    "### An example\n",
    "\n",
    ">You flip a fair coin 5 times, about what's the probability of getting 4 or 5 heads?\n"
   ]
  },
  {
   "cell_type": "code",
   "execution_count": 22,
   "metadata": {},
   "outputs": [],
   "source": [
    "from scipy.special import comb"
   ]
  },
  {
   "cell_type": "code",
   "execution_count": 19,
   "metadata": {},
   "outputs": [],
   "source": [
    "p = 0.5"
   ]
  },
  {
   "cell_type": "code",
   "execution_count": 34,
   "metadata": {},
   "outputs": [],
   "source": [
    "def binomial_dist(p, n, x):\n",
    "    return comb(n, x)*p**x * (1-p)**(n-x)"
   ]
  },
  {
   "cell_type": "code",
   "execution_count": 35,
   "metadata": {},
   "outputs": [
    {
     "data": {
      "text/plain": [
       "0.1875"
      ]
     },
     "execution_count": 35,
     "metadata": {},
     "output_type": "execute_result"
    }
   ],
   "source": [
    "binomial_dist(p, 5, 5) + binomial_dist(p, 5, 4)"
   ]
  },
  {
   "cell_type": "markdown",
   "metadata": {},
   "source": [
    "## Poisson distribution\n",
    "\n",
    "*[Obligatory Wikipedia link.](https://en.wikipedia.org/wiki/Poisson_distribution)*\n",
    "\n",
    "A Poisson distribution is used to model the 'counts' of something.\n",
    "\n",
    "$P(X=x; \\lambda)=\\dfrac{\\lambda^xe^{-\\lambda}}{x!}$\n",
    "\n",
    "$\\lambda$ or $k$ is typically used as the measure of the number of times an event occurs over a period of time. For the Poisson distribution to be valid, the following assumptions must hold:\n",
    "\n",
    "* $k$ is the number of times an event occurs in an interval;\n",
    "* The events occur independently;\n",
    "* The rate at which events occur is constant - the rate can't vary over different intervals.\n",
    "\n",
    "### Fun stats\n",
    "\n",
    "The mean of the distribution is $\\lambda$. The variance of the distribution is $\\lambda$. These are verifiable assumption."
   ]
  },
  {
   "cell_type": "markdown",
   "metadata": {},
   "source": [
    "### An example\n",
    "\n",
    "> The number of people showing up at a bus-stop is assumed to be Poisson with a mean of 5 people per hour. You watch the stop for three hours. What's the probability of viewing 10 or fewer people?"
   ]
  },
  {
   "cell_type": "code",
   "execution_count": 40,
   "metadata": {},
   "outputs": [],
   "source": [
    "from scipy.stats import poisson"
   ]
  },
  {
   "cell_type": "code",
   "execution_count": 42,
   "metadata": {},
   "outputs": [
    {
     "data": {
      "text/plain": [
       "0.11846441152901499"
      ]
     },
     "execution_count": 42,
     "metadata": {},
     "output_type": "execute_result"
    }
   ],
   "source": [
    "poisson.cdf(10, mu=5*3)"
   ]
  },
  {
   "cell_type": "code",
   "execution_count": null,
   "metadata": {},
   "outputs": [],
   "source": [
    "k"
   ]
  }
 ],
 "metadata": {
  "kernelspec": {
   "display_name": "Python 3",
   "language": "python",
   "name": "python3"
  },
  "language_info": {
   "codemirror_mode": {
    "name": "ipython",
    "version": 3
   },
   "file_extension": ".py",
   "mimetype": "text/x-python",
   "name": "python",
   "nbconvert_exporter": "python",
   "pygments_lexer": "ipython3",
   "version": "3.6.3"
  }
 },
 "nbformat": 4,
 "nbformat_minor": 2
}
