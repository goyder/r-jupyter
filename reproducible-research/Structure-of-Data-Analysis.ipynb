{
 "cells": [
  {
   "cell_type": "markdown",
   "metadata": {},
   "source": [
    "# Data Analysis\n",
    "\n",
    "Broadly speaking, the steps involved in a data anlysis could be defined as:\n",
    "* Define the question\n",
    "* Define the ideal data set\n",
    "* Determine what data you can access\n",
    "* Obtain the data\n",
    "* Clean the data\n",
    "* Exploratory data analysis\n",
    "* Statistical prediction/modelling\n",
    "* Interpret results\n",
    "* Challenge results\n",
    "* Synthesise / write-up results\n",
    "* Create reproducible code"
   ]
  },
  {
   "cell_type": "markdown",
   "metadata": {},
   "source": [
    "## Defining the question\n",
    "Defining the question is the most powerful dimensional reduction tool you have. Depending on what you know what you're doing, you can filter out huge amounts of data.\n",
    "\n",
    "**Be specific**: Rather than \"can I classify email as SPAM\", ask \"Can I use quantitative characteristics of email as HAM?\""
   ]
  },
  {
   "cell_type": "markdown",
   "metadata": {},
   "source": [
    "## Define the ideal data set\n",
    "\n",
    "This will depend on your goal. Will it be descriptive, exploratory, inferential, predictive, causal, or mechanistic?\n"
   ]
  },
  {
   "cell_type": "markdown",
   "metadata": {},
   "source": [
    "## Depend on what data you can access\n",
    "Let reality play a role."
   ]
  },
  {
   "cell_type": "markdown",
   "metadata": {},
   "source": [
    "## Obtain the data\n",
    "* Try to get raw data.\n",
    "* Reference the source.\n",
    "* Be polite.\n",
    "* If it's from the internet, track the URL and time."
   ]
  },
  {
   "cell_type": "markdown",
   "metadata": {},
   "source": [
    "## Clean the data\n",
    "\n",
    "If it is pre-processed, make sure you understand how.\n",
    "\n",
    "No matter what, you must always understand the source of the standard.\n",
    "\n",
    "**Record whatever you are doing**."
   ]
  },
  {
   "cell_type": "markdown",
   "metadata": {},
   "source": [
    "## Exploratory data analysis"
   ]
  },
  {
   "cell_type": "markdown",
   "metadata": {},
   "source": [
    "## Statistical prediction/modelling"
   ]
  },
  {
   "cell_type": "markdown",
   "metadata": {},
   "source": [
    "## Interpret results\n",
    "\n",
    "Use the appropriate languages - things like \"describes\", \"correlates with/associated with\", \"leads to/causes\", \"predicts\", etc.\n",
    "\n",
    "Give an explanation.\n",
    "\n",
    "Interpet coefficients, and the measures of uncertainty."
   ]
  },
  {
   "cell_type": "markdown",
   "metadata": {},
   "source": [
    "## Challenge results\n",
    "Always be suspicious, and challenge all the steps of the process.\n",
    "* Question\n",
    "* Data source\n",
    "* Processing\n",
    "* Analysis\n",
    "* Conclusions\n",
    "\n",
    "Challenge the measures of uncertainty.\n",
    "\n",
    "Challenge the choices of terms to include in models.\n",
    "\n",
    "Think of potential alternative analyses that could be undertaken."
   ]
  },
  {
   "cell_type": "markdown",
   "metadata": {},
   "source": [
    "## Synthesis / write-up results\n",
    "\n",
    "* Lead with the question.\n",
    "* Summarise the analyses into the story.\n",
    "* Include an analysis if it's needed for the story, or needed to address a challenge.\n",
    "* Order analyses according to the story.\n",
    "* Include \"pretty\" figures that contribute to the story."
   ]
  },
  {
   "cell_type": "markdown",
   "metadata": {},
   "source": [
    "## Create reproducible code\n",
    "\n",
    "Keep things organised and reproducible, my dude.\n",
    "\n",
    "Part of this might be to keep things well structured, by grouping by content or part the project:\n",
    "* Data\n",
    "  * Raw data\n",
    "  * Processed data\n",
    "* Figures\n",
    "  * Exploratory figures\n",
    "  * Final figures\n",
    "* Code\n",
    "  * Raw / unused scripts\n",
    "  * FInal scripts\n",
    "  * R Markdown files\n",
    "* Text\n",
    "  * README files\n",
    "  * Final analysis / report\n",
    " "
   ]
  },
  {
   "cell_type": "code",
   "execution_count": null,
   "metadata": {},
   "outputs": [],
   "source": []
  }
 ],
 "metadata": {
  "kernelspec": {
   "display_name": "R",
   "language": "R",
   "name": "ir"
  },
  "language_info": {
   "codemirror_mode": "r",
   "file_extension": ".r",
   "mimetype": "text/x-r-source",
   "name": "R",
   "pygments_lexer": "r",
   "version": "3.3.2"
  }
 },
 "nbformat": 4,
 "nbformat_minor": 2
}
